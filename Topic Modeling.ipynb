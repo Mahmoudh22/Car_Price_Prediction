{
 "cells": [
  {
   "cell_type": "code",
   "execution_count": 3,
   "metadata": {
    "scrolled": true
   },
   "outputs": [
    {
     "name": "stderr",
     "output_type": "stream",
     "text": [
      "[nltk_data] Downloading package omw-1.4 to /Users/mahmoud/nltk_data...\n"
     ]
    },
    {
     "data": {
      "text/plain": [
       "True"
      ]
     },
     "execution_count": 3,
     "metadata": {},
     "output_type": "execute_result"
    }
   ],
   "source": [
    "import nltk\n",
    "nltk.download('omw-1.4')"
   ]
  },
  {
   "cell_type": "code",
   "execution_count": 5,
   "metadata": {
    "scrolled": true
   },
   "outputs": [
    {
     "name": "stdout",
     "output_type": "stream",
     "text": [
      "Collecting wordcloud\n",
      "  Downloading wordcloud-1.9.2-cp38-cp38-macosx_10_9_x86_64.whl (159 kB)\n",
      "\u001b[K     |████████████████████████████████| 159 kB 2.8 MB/s eta 0:00:01\n",
      "\u001b[?25hRequirement already satisfied: pillow in /Users/mahmoud/anaconda3/envs/learn-env/lib/python3.8/site-packages (from wordcloud) (7.2.0)\n",
      "Requirement already satisfied: matplotlib in /Users/mahmoud/anaconda3/envs/learn-env/lib/python3.8/site-packages (from wordcloud) (3.3.1)\n",
      "Requirement already satisfied: numpy>=1.6.1 in /Users/mahmoud/anaconda3/envs/learn-env/lib/python3.8/site-packages (from wordcloud) (1.23.5)\n",
      "Requirement already satisfied: kiwisolver>=1.0.1 in /Users/mahmoud/anaconda3/envs/learn-env/lib/python3.8/site-packages (from matplotlib->wordcloud) (1.2.0)\n",
      "Requirement already satisfied: certifi>=2020.06.20 in /Users/mahmoud/anaconda3/envs/learn-env/lib/python3.8/site-packages (from matplotlib->wordcloud) (2023.5.7)\n",
      "Requirement already satisfied: python-dateutil>=2.1 in /Users/mahmoud/anaconda3/envs/learn-env/lib/python3.8/site-packages (from matplotlib->wordcloud) (2.8.1)\n",
      "Requirement already satisfied: cycler>=0.10 in /Users/mahmoud/anaconda3/envs/learn-env/lib/python3.8/site-packages (from matplotlib->wordcloud) (0.10.0)\n",
      "Requirement already satisfied: pyparsing!=2.0.4,!=2.1.2,!=2.1.6,>=2.0.3 in /Users/mahmoud/anaconda3/envs/learn-env/lib/python3.8/site-packages (from matplotlib->wordcloud) (2.4.7)\n",
      "Requirement already satisfied: six>=1.5 in /Users/mahmoud/anaconda3/envs/learn-env/lib/python3.8/site-packages (from python-dateutil>=2.1->matplotlib->wordcloud) (1.15.0)\n",
      "Installing collected packages: wordcloud\n",
      "Successfully installed wordcloud-1.9.2\n",
      "Note: you may need to restart the kernel to use updated packages.\n"
     ]
    }
   ],
   "source": [
    "pip install wordcloud"
   ]
  },
  {
   "cell_type": "code",
   "execution_count": 20,
   "metadata": {},
   "outputs": [],
   "source": [
    "import pandas as pd\n",
    "from nltk.tokenize import word_tokenize\n",
    "from nltk.corpus import stopwords\n",
    "from nltk import WordNetLemmatizer\n",
    "from nltk.corpus import wordnet\n",
    "from nltk import pos_tag\n",
    "import plotly.express as px\n",
    "import seaborn as sns\n",
    "import numpy as np\n",
    "from PIL import Image\n",
    "import os\n",
    "import matplotlib.pyplot as plt\n",
    "from wordcloud import WordCloud\n",
    "import matplotlib.pyplot as plt\n",
    "import nltk"
   ]
  },
  {
   "cell_type": "code",
   "execution_count": 21,
   "metadata": {},
   "outputs": [],
   "source": [
    "df = pd.read_csv('/Users/mahmoud/Car_Price_Prediction/modeling_update.csv')"
   ]
  },
  {
   "cell_type": "code",
   "execution_count": 22,
   "metadata": {
    "scrolled": true
   },
   "outputs": [
    {
     "data": {
      "text/html": [
       "<div>\n",
       "<style scoped>\n",
       "    .dataframe tbody tr th:only-of-type {\n",
       "        vertical-align: middle;\n",
       "    }\n",
       "\n",
       "    .dataframe tbody tr th {\n",
       "        vertical-align: top;\n",
       "    }\n",
       "\n",
       "    .dataframe thead th {\n",
       "        text-align: right;\n",
       "    }\n",
       "</style>\n",
       "<table border=\"1\" class=\"dataframe\">\n",
       "  <thead>\n",
       "    <tr style=\"text-align: right;\">\n",
       "      <th></th>\n",
       "      <th>Mileage</th>\n",
       "      <th>Dealer Rating</th>\n",
       "      <th>Review Count</th>\n",
       "      <th>Price</th>\n",
       "      <th>Badge Label</th>\n",
       "      <th>Car Rating</th>\n",
       "      <th>Accidents or damage</th>\n",
       "      <th>1-owner vehicle</th>\n",
       "      <th>Personal use only</th>\n",
       "      <th>Open recall</th>\n",
       "      <th>...</th>\n",
       "      <th>Type_xDrive30i</th>\n",
       "      <th>Type_xDrive35d</th>\n",
       "      <th>Type_xDrive35i</th>\n",
       "      <th>Type_xDrive35i Premium</th>\n",
       "      <th>Type_xDrive50i</th>\n",
       "      <th>Type_xi</th>\n",
       "      <th>Processed_Reviews</th>\n",
       "      <th>Review_Length</th>\n",
       "      <th>Num_Exclamation_Marks</th>\n",
       "      <th>Age</th>\n",
       "    </tr>\n",
       "  </thead>\n",
       "  <tbody>\n",
       "    <tr>\n",
       "      <th>0</th>\n",
       "      <td>92124.0</td>\n",
       "      <td>4.200000</td>\n",
       "      <td>672.0</td>\n",
       "      <td>14359.0</td>\n",
       "      <td>3</td>\n",
       "      <td>4.2</td>\n",
       "      <td>0</td>\n",
       "      <td>0.0</td>\n",
       "      <td>1.0</td>\n",
       "      <td>0</td>\n",
       "      <td>...</td>\n",
       "      <td>0</td>\n",
       "      <td>0</td>\n",
       "      <td>0</td>\n",
       "      <td>0</td>\n",
       "      <td>0</td>\n",
       "      <td>0</td>\n",
       "      <td>tommy san antonio car car way rat transmission...</td>\n",
       "      <td>328</td>\n",
       "      <td>0</td>\n",
       "      <td>7</td>\n",
       "    </tr>\n",
       "    <tr>\n",
       "      <th>1</th>\n",
       "      <td>111488.0</td>\n",
       "      <td>4.200000</td>\n",
       "      <td>672.0</td>\n",
       "      <td>13517.0</td>\n",
       "      <td>2</td>\n",
       "      <td>4.2</td>\n",
       "      <td>1</td>\n",
       "      <td>1.0</td>\n",
       "      <td>1.0</td>\n",
       "      <td>1</td>\n",
       "      <td>...</td>\n",
       "      <td>0</td>\n",
       "      <td>0</td>\n",
       "      <td>0</td>\n",
       "      <td>0</td>\n",
       "      <td>0</td>\n",
       "      <td>0</td>\n",
       "      <td>leo appreciate great ride usa car enclave grea...</td>\n",
       "      <td>469</td>\n",
       "      <td>0</td>\n",
       "      <td>8</td>\n",
       "    </tr>\n",
       "    <tr>\n",
       "      <th>2</th>\n",
       "      <td>133821.0</td>\n",
       "      <td>3.849628</td>\n",
       "      <td>77.0</td>\n",
       "      <td>9995.0</td>\n",
       "      <td>4</td>\n",
       "      <td>4.5</td>\n",
       "      <td>0</td>\n",
       "      <td>0.0</td>\n",
       "      <td>0.0</td>\n",
       "      <td>0</td>\n",
       "      <td>...</td>\n",
       "      <td>0</td>\n",
       "      <td>0</td>\n",
       "      <td>0</td>\n",
       "      <td>0</td>\n",
       "      <td>0</td>\n",
       "      <td>0</td>\n",
       "      <td>cattayl chatsworth car suv last week new jgc m...</td>\n",
       "      <td>739</td>\n",
       "      <td>0</td>\n",
       "      <td>11</td>\n",
       "    </tr>\n",
       "    <tr>\n",
       "      <th>3</th>\n",
       "      <td>116643.0</td>\n",
       "      <td>4.800000</td>\n",
       "      <td>220.0</td>\n",
       "      <td>9999.0</td>\n",
       "      <td>3</td>\n",
       "      <td>5.0</td>\n",
       "      <td>1</td>\n",
       "      <td>1.0</td>\n",
       "      <td>1.0</td>\n",
       "      <td>0</td>\n",
       "      <td>...</td>\n",
       "      <td>0</td>\n",
       "      <td>0</td>\n",
       "      <td>0</td>\n",
       "      <td>0</td>\n",
       "      <td>0</td>\n",
       "      <td>0</td>\n",
       "      <td>pauline st bernard car wish get toyota camry g...</td>\n",
       "      <td>937</td>\n",
       "      <td>0</td>\n",
       "      <td>13</td>\n",
       "    </tr>\n",
       "    <tr>\n",
       "      <th>4</th>\n",
       "      <td>111588.0</td>\n",
       "      <td>4.800000</td>\n",
       "      <td>220.0</td>\n",
       "      <td>13499.0</td>\n",
       "      <td>3</td>\n",
       "      <td>5.0</td>\n",
       "      <td>1</td>\n",
       "      <td>0.0</td>\n",
       "      <td>1.0</td>\n",
       "      <td>0</td>\n",
       "      <td>...</td>\n",
       "      <td>0</td>\n",
       "      <td>0</td>\n",
       "      <td>0</td>\n",
       "      <td>0</td>\n",
       "      <td>0</td>\n",
       "      <td>0</td>\n",
       "      <td>la vegas car feel proud wheel mazda sport driv...</td>\n",
       "      <td>1046</td>\n",
       "      <td>0</td>\n",
       "      <td>7</td>\n",
       "    </tr>\n",
       "    <tr>\n",
       "      <th>...</th>\n",
       "      <td>...</td>\n",
       "      <td>...</td>\n",
       "      <td>...</td>\n",
       "      <td>...</td>\n",
       "      <td>...</td>\n",
       "      <td>...</td>\n",
       "      <td>...</td>\n",
       "      <td>...</td>\n",
       "      <td>...</td>\n",
       "      <td>...</td>\n",
       "      <td>...</td>\n",
       "      <td>...</td>\n",
       "      <td>...</td>\n",
       "      <td>...</td>\n",
       "      <td>...</td>\n",
       "      <td>...</td>\n",
       "      <td>...</td>\n",
       "      <td>...</td>\n",
       "      <td>...</td>\n",
       "      <td>...</td>\n",
       "      <td>...</td>\n",
       "    </tr>\n",
       "    <tr>\n",
       "      <th>9705</th>\n",
       "      <td>15035.0</td>\n",
       "      <td>3.849628</td>\n",
       "      <td>0.0</td>\n",
       "      <td>13999.0</td>\n",
       "      <td>2</td>\n",
       "      <td>4.9</td>\n",
       "      <td>1</td>\n",
       "      <td>0.0</td>\n",
       "      <td>0.0</td>\n",
       "      <td>0</td>\n",
       "      <td>...</td>\n",
       "      <td>0</td>\n",
       "      <td>0</td>\n",
       "      <td>0</td>\n",
       "      <td>0</td>\n",
       "      <td>0</td>\n",
       "      <td>0</td>\n",
       "      <td>lackeymo neosho car please new car struggle an...</td>\n",
       "      <td>133</td>\n",
       "      <td>0</td>\n",
       "      <td>2</td>\n",
       "    </tr>\n",
       "    <tr>\n",
       "      <th>9706</th>\n",
       "      <td>154352.0</td>\n",
       "      <td>3.849628</td>\n",
       "      <td>0.0</td>\n",
       "      <td>6524.0</td>\n",
       "      <td>4</td>\n",
       "      <td>5.0</td>\n",
       "      <td>1</td>\n",
       "      <td>0.0</td>\n",
       "      <td>1.0</td>\n",
       "      <td>0</td>\n",
       "      <td>...</td>\n",
       "      <td>0</td>\n",
       "      <td>0</td>\n",
       "      <td>0</td>\n",
       "      <td>0</td>\n",
       "      <td>0</td>\n",
       "      <td>0</td>\n",
       "      <td>kc whittier car long distance driver well shor...</td>\n",
       "      <td>464</td>\n",
       "      <td>0</td>\n",
       "      <td>17</td>\n",
       "    </tr>\n",
       "    <tr>\n",
       "      <th>9707</th>\n",
       "      <td>46460.0</td>\n",
       "      <td>3.849628</td>\n",
       "      <td>0.0</td>\n",
       "      <td>8924.0</td>\n",
       "      <td>4</td>\n",
       "      <td>4.9</td>\n",
       "      <td>0</td>\n",
       "      <td>0.0</td>\n",
       "      <td>1.0</td>\n",
       "      <td>0</td>\n",
       "      <td>...</td>\n",
       "      <td>0</td>\n",
       "      <td>0</td>\n",
       "      <td>0</td>\n",
       "      <td>0</td>\n",
       "      <td>0</td>\n",
       "      <td>0</td>\n",
       "      <td>lee dayton ohio car say wonderful vehicle get ...</td>\n",
       "      <td>497</td>\n",
       "      <td>0</td>\n",
       "      <td>15</td>\n",
       "    </tr>\n",
       "    <tr>\n",
       "      <th>9708</th>\n",
       "      <td>152296.0</td>\n",
       "      <td>3.849628</td>\n",
       "      <td>0.0</td>\n",
       "      <td>8643.0</td>\n",
       "      <td>3</td>\n",
       "      <td>5.0</td>\n",
       "      <td>1</td>\n",
       "      <td>0.0</td>\n",
       "      <td>1.0</td>\n",
       "      <td>0</td>\n",
       "      <td>...</td>\n",
       "      <td>0</td>\n",
       "      <td>0</td>\n",
       "      <td>0</td>\n",
       "      <td>0</td>\n",
       "      <td>0</td>\n",
       "      <td>0</td>\n",
       "      <td>adelaide car love car interior exterior design...</td>\n",
       "      <td>318</td>\n",
       "      <td>0</td>\n",
       "      <td>9</td>\n",
       "    </tr>\n",
       "    <tr>\n",
       "      <th>9709</th>\n",
       "      <td>124233.0</td>\n",
       "      <td>3.849628</td>\n",
       "      <td>0.0</td>\n",
       "      <td>14994.0</td>\n",
       "      <td>2</td>\n",
       "      <td>5.0</td>\n",
       "      <td>1</td>\n",
       "      <td>1.0</td>\n",
       "      <td>1.0</td>\n",
       "      <td>0</td>\n",
       "      <td>...</td>\n",
       "      <td>0</td>\n",
       "      <td>0</td>\n",
       "      <td>0</td>\n",
       "      <td>0</td>\n",
       "      <td>0</td>\n",
       "      <td>0</td>\n",
       "      <td>mark lotz shawnee car piston ring require over...</td>\n",
       "      <td>566</td>\n",
       "      <td>0</td>\n",
       "      <td>9</td>\n",
       "    </tr>\n",
       "  </tbody>\n",
       "</table>\n",
       "<p>9710 rows × 2139 columns</p>\n",
       "</div>"
      ],
      "text/plain": [
       "       Mileage  Dealer Rating  Review Count    Price  Badge Label  Car Rating  \\\n",
       "0      92124.0       4.200000         672.0  14359.0            3         4.2   \n",
       "1     111488.0       4.200000         672.0  13517.0            2         4.2   \n",
       "2     133821.0       3.849628          77.0   9995.0            4         4.5   \n",
       "3     116643.0       4.800000         220.0   9999.0            3         5.0   \n",
       "4     111588.0       4.800000         220.0  13499.0            3         5.0   \n",
       "...        ...            ...           ...      ...          ...         ...   \n",
       "9705   15035.0       3.849628           0.0  13999.0            2         4.9   \n",
       "9706  154352.0       3.849628           0.0   6524.0            4         5.0   \n",
       "9707   46460.0       3.849628           0.0   8924.0            4         4.9   \n",
       "9708  152296.0       3.849628           0.0   8643.0            3         5.0   \n",
       "9709  124233.0       3.849628           0.0  14994.0            2         5.0   \n",
       "\n",
       "      Accidents or damage  1-owner vehicle  Personal use only  Open recall  \\\n",
       "0                       0              0.0                1.0            0   \n",
       "1                       1              1.0                1.0            1   \n",
       "2                       0              0.0                0.0            0   \n",
       "3                       1              1.0                1.0            0   \n",
       "4                       1              0.0                1.0            0   \n",
       "...                   ...              ...                ...          ...   \n",
       "9705                    1              0.0                0.0            0   \n",
       "9706                    1              0.0                1.0            0   \n",
       "9707                    0              0.0                1.0            0   \n",
       "9708                    1              0.0                1.0            0   \n",
       "9709                    1              1.0                1.0            0   \n",
       "\n",
       "      ...  Type_xDrive30i  Type_xDrive35d  Type_xDrive35i  \\\n",
       "0     ...               0               0               0   \n",
       "1     ...               0               0               0   \n",
       "2     ...               0               0               0   \n",
       "3     ...               0               0               0   \n",
       "4     ...               0               0               0   \n",
       "...   ...             ...             ...             ...   \n",
       "9705  ...               0               0               0   \n",
       "9706  ...               0               0               0   \n",
       "9707  ...               0               0               0   \n",
       "9708  ...               0               0               0   \n",
       "9709  ...               0               0               0   \n",
       "\n",
       "      Type_xDrive35i Premium  Type_xDrive50i  Type_xi  \\\n",
       "0                          0               0        0   \n",
       "1                          0               0        0   \n",
       "2                          0               0        0   \n",
       "3                          0               0        0   \n",
       "4                          0               0        0   \n",
       "...                      ...             ...      ...   \n",
       "9705                       0               0        0   \n",
       "9706                       0               0        0   \n",
       "9707                       0               0        0   \n",
       "9708                       0               0        0   \n",
       "9709                       0               0        0   \n",
       "\n",
       "                                      Processed_Reviews  Review_Length  \\\n",
       "0     tommy san antonio car car way rat transmission...            328   \n",
       "1     leo appreciate great ride usa car enclave grea...            469   \n",
       "2     cattayl chatsworth car suv last week new jgc m...            739   \n",
       "3     pauline st bernard car wish get toyota camry g...            937   \n",
       "4     la vegas car feel proud wheel mazda sport driv...           1046   \n",
       "...                                                 ...            ...   \n",
       "9705  lackeymo neosho car please new car struggle an...            133   \n",
       "9706  kc whittier car long distance driver well shor...            464   \n",
       "9707  lee dayton ohio car say wonderful vehicle get ...            497   \n",
       "9708  adelaide car love car interior exterior design...            318   \n",
       "9709  mark lotz shawnee car piston ring require over...            566   \n",
       "\n",
       "      Num_Exclamation_Marks  Age  \n",
       "0                         0    7  \n",
       "1                         0    8  \n",
       "2                         0   11  \n",
       "3                         0   13  \n",
       "4                         0    7  \n",
       "...                     ...  ...  \n",
       "9705                      0    2  \n",
       "9706                      0   17  \n",
       "9707                      0   15  \n",
       "9708                      0    9  \n",
       "9709                      0    9  \n",
       "\n",
       "[9710 rows x 2139 columns]"
      ]
     },
     "execution_count": 22,
     "metadata": {},
     "output_type": "execute_result"
    }
   ],
   "source": [
    "df = df.drop(columns=['Unnamed: 0'])\n",
    "df"
   ]
  },
  {
   "cell_type": "code",
   "execution_count": null,
   "metadata": {},
   "outputs": [],
   "source": []
  },
  {
   "cell_type": "code",
   "execution_count": 13,
   "metadata": {},
   "outputs": [],
   "source": [
    "def process_doc(doc):\n",
    "\n",
    "        #initialize lemmatizer\n",
    "        wnl = WordNetLemmatizer()\n",
    "        stop_words = stopwords.words('english')\n",
    "        \n",
    "        # helper function to change nltk's part of speech tagging to a wordnet format.\n",
    "        def pos_tagger(nltk_tag):\n",
    "            if nltk_tag.startswith('J'):\n",
    "                return wordnet.ADJ\n",
    "            elif nltk_tag.startswith('V'):\n",
    "                return wordnet.VERB\n",
    "            elif nltk_tag.startswith('N'):\n",
    "                return wordnet.NOUN\n",
    "            elif nltk_tag.startswith('R'):\n",
    "                return wordnet.ADV\n",
    "            else:         \n",
    "                return None\n",
    "\n",
    "\n",
    "        # remove stop words and punctuations, then lower case\n",
    "        doc_norm = [tok.lower() for tok in word_tokenize(doc) if ((tok.isalpha()) & (tok.lower() not in stop_words)) ]\n",
    "\n",
    "        #  POS detection on the result will be important in telling Wordnet's lemmatizer how to lemmatize\n",
    "\n",
    "        # creates list of tuples with tokens and POS tags in wordnet format\n",
    "        wordnet_tagged = list(map(lambda x: (x[0], pos_tagger(x[1])), pos_tag(doc_norm))) \n",
    "        doc_norm = [wnl.lemmatize(token, pos) for token, pos in wordnet_tagged if pos is not None]\n",
    "\n",
    "        return \" \".join(doc_norm)"
   ]
  },
  {
   "cell_type": "code",
   "execution_count": 14,
   "metadata": {},
   "outputs": [],
   "source": [
    "df['Processed_Reviews'] = df['Processed_Reviews'].apply(process_doc)"
   ]
  },
  {
   "cell_type": "code",
   "execution_count": 15,
   "metadata": {},
   "outputs": [
    {
     "data": {
      "text/plain": [
       "'tommy san antonio car car way rat transmission sluggish delay satisfy hidden finance charge total sixteen customer service worse service ever car buy car year ago problem drive mile comfortable ride nice performance highway definitely recommend car great look fun drive glad instead screen block view lovely interior great sound'"
      ]
     },
     "execution_count": 15,
     "metadata": {},
     "output_type": "execute_result"
    }
   ],
   "source": [
    "df['Processed_Reviews'][0]"
   ]
  },
  {
   "cell_type": "code",
   "execution_count": null,
   "metadata": {},
   "outputs": [],
   "source": []
  },
  {
   "cell_type": "code",
   "execution_count": null,
   "metadata": {},
   "outputs": [],
   "source": []
  },
  {
   "cell_type": "code",
   "execution_count": 30,
   "metadata": {},
   "outputs": [],
   "source": [
    "from sklearn.decomposition import NMF\n",
    "from sklearn.manifold import TSNE\n",
    "from sklearn.feature_extraction.text import TfidfVectorizer"
   ]
  },
  {
   "cell_type": "code",
   "execution_count": 31,
   "metadata": {},
   "outputs": [],
   "source": [
    "corpus = df['Processed_Reviews']"
   ]
  },
  {
   "cell_type": "code",
   "execution_count": 32,
   "metadata": {},
   "outputs": [
    {
     "data": {
      "text/plain": [
       "<9710x12596 sparse matrix of type '<class 'numpy.float64'>'\n",
       "\twith 760486 stored elements in Compressed Sparse Row format>"
      ]
     },
     "execution_count": 32,
     "metadata": {},
     "output_type": "execute_result"
    }
   ],
   "source": [
    "vec = TfidfVectorizer()\n",
    "X_train = vec.fit_transform(corpus)\n",
    "X_train"
   ]
  },
  {
   "cell_type": "code",
   "execution_count": 33,
   "metadata": {},
   "outputs": [
    {
     "data": {
      "text/plain": [
       "NMF(max_iter=1000, n_components=5)"
      ]
     },
     "execution_count": 33,
     "metadata": {},
     "output_type": "execute_result"
    }
   ],
   "source": [
    "topic_model = NMF(n_components=5,max_iter=1000)\n",
    "topic_model.fit(X_train)"
   ]
  },
  {
   "cell_type": "code",
   "execution_count": 34,
   "metadata": {},
   "outputs": [
    {
     "name": "stdout",
     "output_type": "stream",
     "text": [
      "Shape of W is (5, 12596)\n",
      "Shape of H is (9710, 5)\n",
      "Shape of X_train (9710, 12596)\n"
     ]
    }
   ],
   "source": [
    "H = topic_model.transform(X_train)\n",
    "\n",
    "W = topic_model.components_\n",
    "\n",
    "print(f'Shape of W is {W.shape}')\n",
    "print(f'Shape of H is {H.shape}')\n",
    "print(f'Shape of X_train {X_train.shape}')"
   ]
  },
  {
   "cell_type": "code",
   "execution_count": 37,
   "metadata": {},
   "outputs": [
    {
     "name": "stdout",
     "output_type": "stream",
     "text": [
      "The top 10 words for topic #0\n",
      "['fuel', 'seat', 'year', 'come', 'never', 'see', 'little', 'make', 'well', 'suzuki', 'need', 'snow', 'gas', 'buy', 'ive', 'problem', 'change', 'reliable', 'look', 'oil', 'love', 'bmw', 'good', 'handle', 'drive', 'vehicle', 'great', 'get', 'mile', 'car']\n",
      "\n",
      "\n",
      "The top 10 words for topic #1\n",
      "['negotiate', 'overhaul', 'toyotas', 'mccarthy', 'shawnee', 'lotz', 'princeville', 'frostedbarrys', 'use', 'love', 'price', 'get', 'fix', 'need', 'dealership', 'bump', 'fusion', 'repair', 'mechanic', 'gear', 'poor', 'forward', 'burn', 'service', 'horrible', 'screw', 'pay', 'car', 'honda', 'ford']\n",
      "\n",
      "\n",
      "The top 10 words for topic #2\n",
      "['seal', 'liter', 'sonata', 'dry', 'heard', 'competitor', 'turner', 'idle', 'particularly', 'develop', 'prestige', 'ahmad', 'perrigan', 'christiansburg', 'haysi', 'ferrell', 'awad', 'amman', 'shutting', 'take', 'consumption', 'transmission', 'power', 'leak', 'car', 'eco', 'boost', 'engine', 'ruth', 'fluid']\n",
      "\n",
      "\n",
      "The top 10 words for topic #3\n",
      "['become', 'touch', 'pit', 'bob', 'penny', 'thankfully', 'lynnwood', 'greta', 'hchurchwell', 'adelaide', 'work', 'design', 'suzuki', 'new', 'car', 'please', 'thank', 'guy', 'awesome', 'struggle', 'anymore', 'transportation', 'gary', 'missouri', 'joplin', 'lackeymo', 'mishler', 'neosho', 'kia', 'roper']\n",
      "\n",
      "\n",
      "The top 10 words for topic #4\n",
      "['headrest', 'barbara', 'andrew', 'kc', 'whittier', 'fogelsville', 'ce', 'travel', 'buy', 'year', 'next', 'well', 'mile', 'best', 'certify', 'benz', 'last', 'one', 'replace', 'go', 'nothing', 'driver', 'engine', 'mercedes', 'car', 'fail', 'mb', 'toyota', 'corolla', 'coil']\n",
      "\n",
      "\n"
     ]
    }
   ],
   "source": [
    "from sklearn.feature_extraction.text import TfidfVectorizer\n",
    "for index, topic in enumerate(W):\n",
    "    print(f'The top 10 words for topic #{index}')\n",
    "    print([vec.get_feature_names()[i] for i in topic.argsort()[-30:]])\n",
    "    print('\\n')"
   ]
  },
  {
   "cell_type": "code",
   "execution_count": 38,
   "metadata": {},
   "outputs": [],
   "source": [
    "topic_name_dict = {0: \"Low Importance\", 1: \"Medium Importance\", 2: \"High Importance\", \n",
    "                   3: \"Very High Importance\", 4: \"Critical Importance\"}"
   ]
  },
  {
   "cell_type": "code",
   "execution_count": 42,
   "metadata": {},
   "outputs": [
    {
     "data": {
      "image/png": "[encoded data removed]",
      "text/plain": [
       "<Figure size 1080x576 with 5 Axes>"
      ]
     },
     "metadata": {
      "needs_background": "light"
     },
     "output_type": "display_data"
    }
   ],
   "source": [
    "def plot_top_words(W, feature_names, n_top_words, title, topic_names):\n",
    "    fig, axes = plt.subplots(1, 5, figsize=(15, 8), sharex=True)\n",
    "    axes = axes.flatten()\n",
    "    for topic_idx, topic in enumerate(W):\n",
    "        top_features_ind = topic.argsort()[: -n_top_words - 1 : -1]\n",
    "        top_features = [feature_names[i] for i in top_features_ind]\n",
    "        weights = topic[top_features_ind]\n",
    "\n",
    "        ax = axes[topic_idx]\n",
    "        ax.barh(top_features, weights, height=0.7)\n",
    "        ax.set_title(topic_names[topic_idx], fontdict={\"fontsize\": 20})\n",
    "        ax.invert_yaxis()\n",
    "        ax.tick_params(axis=\"both\", which=\"major\", labelsize=15)\n",
    "        for i in \"top right left\".split():\n",
    "            ax.spines[i].set_visible(False)\n",
    "        fig.suptitle(title, fontsize=25)\n",
    "\n",
    "    plt.subplots_adjust(top=0.90, bottom=0.05, wspace=0.90, hspace=0.3)\n",
    "    plt.show()\n",
    "\n",
    "n_top_words = 20\n",
    "tfidf_feature_names = vec.get_feature_names()  \n",
    "topic_name_dict = {0: \"Low Importance\", 1: \"Medium Importance\", 2: \"High Importance\", \n",
    "                   3: \"Very High Importance\", 4: \"Critical Importance\"}\n",
    "\n",
    "plot_top_words(W, tfidf_feature_names, n_top_words, \"Topics in NMF model\", topic_name_dict)\n"
   ]
  },
  {
   "cell_type": "code",
   "execution_count": 48,
   "metadata": {},
   "outputs": [
    {
     "name": "stdout",
     "output_type": "stream",
     "text": [
      "Topic 1: car mile great buy drive year handle get well work\n",
      "Topic 2: car get ive good change love great use time vehicle\n",
      "Topic 3: car mile vehicle drive coil get engine first make well\n",
      "Topic 4: car engine power fluid great problem eco take leak recommend\n",
      "Topic 5: car mile get ford go transmission buy drive pay love\n"
     ]
    }
   ],
   "source": [
    "from gensim import corpora, models\n",
    "\n",
    "tokenized_docs = df['Processed_Reviews'].apply(lambda x: x.split())\n",
    "dictionary = corpora.Dictionary(tokenized_docs)\n",
    "\n",
    "corpus = [dictionary.doc2bow(doc) for doc in tokenized_docs]\n",
    "\n",
    "# Create an LDA model with 5 topics\n",
    "num_topics = 5\n",
    "lda_model = models.LdaModel(corpus, num_topics=num_topics, id2word=dictionary, passes=10)\n",
    "\n",
    "for topic_num, words in lda_model.show_topics(num_topics=num_topics, num_words=10, formatted=False):\n",
    "    print(f\"Topic {topic_num + 1}: {' '.join(word for word, _ in words)}\")\n"
   ]
  },
  {
   "cell_type": "code",
   "execution_count": 50,
   "metadata": {},
   "outputs": [
    {
     "data": {
      "image/png": "[encoded data removed]",
      "text/plain": [
       "<Figure size 720x432 with 1 Axes>"
      ]
     },
     "metadata": {
      "needs_background": "light"
     },
     "output_type": "display_data"
    }
   ],
   "source": [
    "import matplotlib.pyplot as plt\n",
    "import pandas as pd\n",
    "\n",
    "# Assuming you have already obtained the topic distributions in the variable 'H'\n",
    "# H contains the topic proportions for each review\n",
    "\n",
    "# Convert the topic proportions into a DataFrame\n",
    "topic_proportions_df = pd.DataFrame(H, columns=[f\"Topic {i+1}\" for i in range(H.shape[1])])\n",
    "\n",
    "# Assuming your original DataFrame is named 'df' and it contains the reviews and other information\n",
    "# Add the topic proportions DataFrame to the original DataFrame\n",
    "df_with_topics = pd.concat([df, topic_proportions_df], axis=1)\n",
    "\n",
    "# Visualize the topic proportions for each review\n",
    "num_topics = H.shape[1]\n",
    "review_indices = df_with_topics.index\n",
    "\n",
    "# Plot the stacked bar chart for each review\n",
    "plt.figure(figsize=(10, 6))\n",
    "bottom = [0] * len(df_with_topics)\n",
    "for i in range(num_topics):\n",
    "    plt.bar(review_indices, df_with_topics[f\"Topic {i+1}\"], bottom=bottom, label=f\"Topic {i+1}\", alpha=0.7)\n",
    "    bottom += df_with_topics[f\"Topic {i+1}\"]\n",
    "\n",
    "plt.xlabel(\"Review Index\")\n",
    "plt.ylabel(\"Topic Proportion\")\n",
    "plt.title(\"Topic Proportions for Each Review\")\n",
    "plt.legend()\n",
    "plt.xticks(rotation=90)\n",
    "plt.show()\n"
   ]
  },
  {
   "cell_type": "code",
   "execution_count": null,
   "metadata": {},
   "outputs": [],
   "source": []
  }
 ],
 "metadata": {
  "kernelspec": {
   "display_name": "Python 3",
   "language": "python",
   "name": "python3"
  },
  "language_info": {
   "codemirror_mode": {
    "name": "ipython",
    "version": 3
   },
   "file_extension": ".py",
   "mimetype": "text/x-python",
   "name": "python",
   "nbconvert_exporter": "python",
   "pygments_lexer": "ipython3",
   "version": "3.8.5"
  }
 },
 "nbformat": 4,
 "nbformat_minor": 4
}
