{
 "cells": [
  {
   "cell_type": "code",
   "execution_count": 280,
   "metadata": {},
   "outputs": [],
   "source": [
    "import pandas as pd\n",
    "import numpy as np\n",
    "import nltk\n",
    "from nltk.tokenize import word_tokenize\n",
    "from nltk.corpus import stopwords\n",
    "from nltk import WordNetLemmatizer\n",
    "from nltk.corpus import wordnet\n",
    "from nltk import pos_tag\n",
    "from sklearn.preprocessing import LabelEncoder\n",
    "from sklearn.base import BaseEstimator, TransformerMixin\n",
    "from imblearn.pipeline import Pipeline\n",
    "from imblearn.over_sampling import SMOTE\n",
    "from sklearn import set_config\n",
    "set_config(display=\"diagram\")\n",
    "from sklearn.naive_bayes import ComplementNB\n",
    "from sklearn.metrics import classification_report\n",
    "from sklearn.metrics import plot_roc_curve, roc_auc_score,plot_confusion_matrix\n",
    "from sklearn.model_selection import train_test_split\n",
    "from sklearn.feature_extraction.text import TfidfVectorizer, CountVectorizer\n",
    "from nltk.sentiment.vader import SentimentIntensityAnalyzer\n",
    "from sklearn.model_selection import GridSearchCV\n",
    "from sklearn.metrics import confusion_matrix, ConfusionMatrixDisplay\n",
    "from sklearn.metrics import accuracy_score, classification_report\n",
    "from sklearn.metrics import plot_roc_curve, auc,roc_curve,roc_auc_score\n",
    "from sklearn.naive_bayes import MultinomialNB\n",
    "from sklearn.svm import SVC\n",
    "from sklearn.ensemble import RandomForestRegressor\n",
    "from sklearn.ensemble import GradientBoostingRegressor\n",
    "from sklearn.svm import SVR\n",
    "import xgboost as xgb\n",
    "from sklearn.impute import SimpleImputer\n"
   ]
  },
  {
   "cell_type": "code",
   "execution_count": null,
   "metadata": {},
   "outputs": [],
   "source": []
  },
  {
   "cell_type": "code",
   "execution_count": 281,
   "metadata": {},
   "outputs": [],
   "source": [
    "df = pd.read_csv('/Users/mahmoud/Car_Price_Prediction/merged_official_data.csv')"
   ]
  },
  {
   "cell_type": "code",
   "execution_count": 282,
   "metadata": {},
   "outputs": [
    {
     "data": {
      "text/html": [
       "<div>\n",
       "<style scoped>\n",
       "    .dataframe tbody tr th:only-of-type {\n",
       "        vertical-align: middle;\n",
       "    }\n",
       "\n",
       "    .dataframe tbody tr th {\n",
       "        vertical-align: top;\n",
       "    }\n",
       "\n",
       "    .dataframe thead th {\n",
       "        text-align: right;\n",
       "    }\n",
       "</style>\n",
       "<table border=\"1\" class=\"dataframe\">\n",
       "  <thead>\n",
       "    <tr style=\"text-align: right;\">\n",
       "      <th></th>\n",
       "      <th>Car Name</th>\n",
       "      <th>Car Rating</th>\n",
       "      <th>Reviews</th>\n",
       "      <th>Year</th>\n",
       "      <th>Mileage</th>\n",
       "      <th>Dealer Name</th>\n",
       "      <th>Dealer Rating</th>\n",
       "      <th>Review Count</th>\n",
       "      <th>Price</th>\n",
       "    </tr>\n",
       "  </thead>\n",
       "  <tbody>\n",
       "    <tr>\n",
       "      <th>0</th>\n",
       "      <td>2013 Nissan Xterra PRO-4X</td>\n",
       "      <td>4.5</td>\n",
       "      <td>['March 15, 2021\\nBy Tony from Detroit\\nOwns t...</td>\n",
       "      <td>2013</td>\n",
       "      <td>163000.0</td>\n",
       "      <td>Priced Right Auto</td>\n",
       "      <td>0.0</td>\n",
       "      <td>19.0</td>\n",
       "      <td>9500.0</td>\n",
       "    </tr>\n",
       "    <tr>\n",
       "      <th>1</th>\n",
       "      <td>2014 Hyundai Elantra SE</td>\n",
       "      <td>4.5</td>\n",
       "      <td>['May  7, 2022\\nBy Talessa from Tulsa, ok\\nOwn...</td>\n",
       "      <td>2014</td>\n",
       "      <td>95747.0</td>\n",
       "      <td>Blasius Pre-Owned Auto</td>\n",
       "      <td>4.4</td>\n",
       "      <td>75.0</td>\n",
       "      <td>8994.0</td>\n",
       "    </tr>\n",
       "    <tr>\n",
       "      <th>2</th>\n",
       "      <td>2014 Hyundai Elantra SE</td>\n",
       "      <td>4.5</td>\n",
       "      <td>['May  7, 2022\\nBy Talessa from Tulsa, ok\\nOwn...</td>\n",
       "      <td>2014</td>\n",
       "      <td>159177.0</td>\n",
       "      <td>Metro Motors LLC</td>\n",
       "      <td>0.0</td>\n",
       "      <td>1.0</td>\n",
       "      <td>8900.0</td>\n",
       "    </tr>\n",
       "    <tr>\n",
       "      <th>3</th>\n",
       "      <td>2014 Hyundai Elantra SE</td>\n",
       "      <td>4.5</td>\n",
       "      <td>['May  7, 2022\\nBy Talessa from Tulsa, ok\\nOwn...</td>\n",
       "      <td>2014</td>\n",
       "      <td>79055.0</td>\n",
       "      <td>Oakbrook Toyota in Westmont</td>\n",
       "      <td>4.5</td>\n",
       "      <td>2527.0</td>\n",
       "      <td>10304.0</td>\n",
       "    </tr>\n",
       "    <tr>\n",
       "      <th>4</th>\n",
       "      <td>2014 Hyundai Elantra SE</td>\n",
       "      <td>4.5</td>\n",
       "      <td>['May  7, 2022\\nBy Talessa from Tulsa, ok\\nOwn...</td>\n",
       "      <td>2014</td>\n",
       "      <td>102894.0</td>\n",
       "      <td>Sawari Automotive Group</td>\n",
       "      <td>4.7</td>\n",
       "      <td>31.0</td>\n",
       "      <td>9599.0</td>\n",
       "    </tr>\n",
       "    <tr>\n",
       "      <th>...</th>\n",
       "      <td>...</td>\n",
       "      <td>...</td>\n",
       "      <td>...</td>\n",
       "      <td>...</td>\n",
       "      <td>...</td>\n",
       "      <td>...</td>\n",
       "      <td>...</td>\n",
       "      <td>...</td>\n",
       "      <td>...</td>\n",
       "    </tr>\n",
       "    <tr>\n",
       "      <th>13691</th>\n",
       "      <td>2005 Dodge Ram 1500 SLT/Laramie Quad Cab</td>\n",
       "      <td>5.0</td>\n",
       "      <td>['May  8, 2023\\nBy Michael  from Nashville \\nO...</td>\n",
       "      <td>2005</td>\n",
       "      <td>171430.0</td>\n",
       "      <td>Broadway Auto Mall</td>\n",
       "      <td>0.0</td>\n",
       "      <td>16.0</td>\n",
       "      <td>5980.0</td>\n",
       "    </tr>\n",
       "    <tr>\n",
       "      <th>13692</th>\n",
       "      <td>2005 Dodge Ram 1500 SLT/Laramie Quad Cab</td>\n",
       "      <td>5.0</td>\n",
       "      <td>['May  8, 2023\\nBy Michael  from Nashville \\nO...</td>\n",
       "      <td>2005</td>\n",
       "      <td>153560.0</td>\n",
       "      <td>Trucks Plus Idaho</td>\n",
       "      <td>0.0</td>\n",
       "      <td>2.0</td>\n",
       "      <td>9988.0</td>\n",
       "    </tr>\n",
       "    <tr>\n",
       "      <th>13693</th>\n",
       "      <td>2014 Audi A4 Premium Plus</td>\n",
       "      <td>4.4</td>\n",
       "      <td>['September  7, 2022\\nBy SInce59 from Napa, Ca...</td>\n",
       "      <td>2014</td>\n",
       "      <td>138173.0</td>\n",
       "      <td>Your Choice Auto Sales of Elgin</td>\n",
       "      <td>4.4</td>\n",
       "      <td>57.0</td>\n",
       "      <td>12999.0</td>\n",
       "    </tr>\n",
       "    <tr>\n",
       "      <th>13694</th>\n",
       "      <td>2011 BMW 535 xDrive</td>\n",
       "      <td>4.5</td>\n",
       "      <td>['June  2, 2022\\nBy Manuel from Liberal Ks\\nOw...</td>\n",
       "      <td>2011</td>\n",
       "      <td>146541.0</td>\n",
       "      <td>Best Choice Auto Sales</td>\n",
       "      <td>0.0</td>\n",
       "      <td>37.0</td>\n",
       "      <td>9990.0</td>\n",
       "    </tr>\n",
       "    <tr>\n",
       "      <th>13695</th>\n",
       "      <td>2011 BMW 535 xDrive</td>\n",
       "      <td>4.5</td>\n",
       "      <td>['June  2, 2022\\nBy Manuel from Liberal Ks\\nOw...</td>\n",
       "      <td>2011</td>\n",
       "      <td>103001.0</td>\n",
       "      <td>MC Auto Mart LLC</td>\n",
       "      <td>0.0</td>\n",
       "      <td>0.0</td>\n",
       "      <td>13999.0</td>\n",
       "    </tr>\n",
       "  </tbody>\n",
       "</table>\n",
       "<p>13696 rows × 9 columns</p>\n",
       "</div>"
      ],
      "text/plain": [
       "                                       Car Name  Car Rating  \\\n",
       "0                     2013 Nissan Xterra PRO-4X         4.5   \n",
       "1                       2014 Hyundai Elantra SE         4.5   \n",
       "2                       2014 Hyundai Elantra SE         4.5   \n",
       "3                       2014 Hyundai Elantra SE         4.5   \n",
       "4                       2014 Hyundai Elantra SE         4.5   \n",
       "...                                         ...         ...   \n",
       "13691  2005 Dodge Ram 1500 SLT/Laramie Quad Cab         5.0   \n",
       "13692  2005 Dodge Ram 1500 SLT/Laramie Quad Cab         5.0   \n",
       "13693                 2014 Audi A4 Premium Plus         4.4   \n",
       "13694                       2011 BMW 535 xDrive         4.5   \n",
       "13695                       2011 BMW 535 xDrive         4.5   \n",
       "\n",
       "                                                 Reviews  Year   Mileage  \\\n",
       "0      ['March 15, 2021\\nBy Tony from Detroit\\nOwns t...  2013  163000.0   \n",
       "1      ['May  7, 2022\\nBy Talessa from Tulsa, ok\\nOwn...  2014   95747.0   \n",
       "2      ['May  7, 2022\\nBy Talessa from Tulsa, ok\\nOwn...  2014  159177.0   \n",
       "3      ['May  7, 2022\\nBy Talessa from Tulsa, ok\\nOwn...  2014   79055.0   \n",
       "4      ['May  7, 2022\\nBy Talessa from Tulsa, ok\\nOwn...  2014  102894.0   \n",
       "...                                                  ...   ...       ...   \n",
       "13691  ['May  8, 2023\\nBy Michael  from Nashville \\nO...  2005  171430.0   \n",
       "13692  ['May  8, 2023\\nBy Michael  from Nashville \\nO...  2005  153560.0   \n",
       "13693  ['September  7, 2022\\nBy SInce59 from Napa, Ca...  2014  138173.0   \n",
       "13694  ['June  2, 2022\\nBy Manuel from Liberal Ks\\nOw...  2011  146541.0   \n",
       "13695  ['June  2, 2022\\nBy Manuel from Liberal Ks\\nOw...  2011  103001.0   \n",
       "\n",
       "                           Dealer Name  Dealer Rating  Review Count    Price  \n",
       "0                    Priced Right Auto            0.0          19.0   9500.0  \n",
       "1               Blasius Pre-Owned Auto            4.4          75.0   8994.0  \n",
       "2                     Metro Motors LLC            0.0           1.0   8900.0  \n",
       "3          Oakbrook Toyota in Westmont            4.5        2527.0  10304.0  \n",
       "4              Sawari Automotive Group            4.7          31.0   9599.0  \n",
       "...                                ...            ...           ...      ...  \n",
       "13691               Broadway Auto Mall            0.0          16.0   5980.0  \n",
       "13692                Trucks Plus Idaho            0.0           2.0   9988.0  \n",
       "13693  Your Choice Auto Sales of Elgin            4.4          57.0  12999.0  \n",
       "13694           Best Choice Auto Sales            0.0          37.0   9990.0  \n",
       "13695                 MC Auto Mart LLC            0.0           0.0  13999.0  \n",
       "\n",
       "[13696 rows x 9 columns]"
      ]
     },
     "execution_count": 282,
     "metadata": {},
     "output_type": "execute_result"
    }
   ],
   "source": [
    "df = df.drop(columns=['Unnamed: 0'])\n",
    "df"
   ]
  },
  {
   "cell_type": "code",
   "execution_count": 283,
   "metadata": {},
   "outputs": [
    {
     "name": "stdout",
     "output_type": "stream",
     "text": [
      "<class 'pandas.core.frame.DataFrame'>\n",
      "RangeIndex: 13696 entries, 0 to 13695\n",
      "Data columns (total 9 columns):\n",
      " #   Column         Non-Null Count  Dtype  \n",
      "---  ------         --------------  -----  \n",
      " 0   Car Name       13696 non-null  object \n",
      " 1   Car Rating     13696 non-null  float64\n",
      " 2   Reviews        13696 non-null  object \n",
      " 3   Year           13696 non-null  int64  \n",
      " 4   Mileage        13696 non-null  float64\n",
      " 5   Dealer Name    13696 non-null  object \n",
      " 6   Dealer Rating  13696 non-null  float64\n",
      " 7   Review Count   13696 non-null  float64\n",
      " 8   Price          13696 non-null  float64\n",
      "dtypes: float64(5), int64(1), object(3)\n",
      "memory usage: 963.1+ KB\n"
     ]
    }
   ],
   "source": [
    "df.info()"
   ]
  },
  {
   "cell_type": "code",
   "execution_count": 284,
   "metadata": {},
   "outputs": [],
   "source": [
    "class TextPreprocessor(BaseEstimator, TransformerMixin):\n",
    "    def __init__(self):\n",
    "        self.wnl = WordNetLemmatizer()\n",
    "        self.stop_words = set(stopwords.words('english'))\n",
    "\n",
    "    def fit(self, X, y=None):\n",
    "        return self\n",
    "\n",
    "    def transform(self, X):\n",
    "        X_norm = X.apply(self.process_doc)\n",
    "        return X_norm\n",
    "\n",
    "    def process_doc(self, doc):\n",
    "        def pos_tagger(nltk_tag):\n",
    "            if nltk_tag.startswith('J'):\n",
    "                return wordnet.ADJ\n",
    "            elif nltk_tag.startswith('V'):\n",
    "                return wordnet.VERB\n",
    "            elif nltk_tag.startswith('N'):\n",
    "                return wordnet.NOUN\n",
    "            elif nltk_tag.startswith('R'):\n",
    "                return wordnet.ADV\n",
    "            else:\n",
    "                return None\n",
    "            \n",
    "        # remove stop words and punctuations, then lower case\n",
    "        doc_norm = [tok.lower() for tok in word_tokenize(doc) if tok.isalpha() and tok.lower() not in self.stop_words]\n",
    "        \n",
    "        #  POS detection on the result will be important in telling Wordnet's lemmatizer how to lemmatize\n",
    "        \n",
    "        # creates list of tuples with tokens and POS tags in wordnet format\n",
    "        wordnet_tagged = list(map(lambda x: (x[0], pos_tagger(x[1])), pos_tag(doc_norm)))\n",
    "        doc_norm = [self.wnl.lemmatize(token, pos) for token, pos in wordnet_tagged if pos is not None]\n",
    "        return \" \".join(doc_norm)\n"
   ]
  },
  {
   "cell_type": "code",
   "execution_count": 285,
   "metadata": {},
   "outputs": [],
   "source": [
    "# This is for the Processed_Reviews; which gets rid of the Reviews column\n",
    "class AddProcessedReviews(BaseEstimator, TransformerMixin):\n",
    "    def __init__(self, nlp_preprocessor):\n",
    "        self.nlp_preprocessor = nlp_preprocessor\n",
    "\n",
    "    def fit(self, X, y=None):\n",
    "        return self\n",
    "\n",
    "    def transform(self, X):\n",
    "        X['Processed_Reviews'] = self.nlp_preprocessor.transform(X['Reviews'])\n",
    "        return X"
   ]
  },
  {
   "cell_type": "code",
   "execution_count": 286,
   "metadata": {},
   "outputs": [],
   "source": [
    "nlp_preprocessor = TextPreprocessor()\n",
    "add_processed_reviews = AddProcessedReviews(nlp_preprocessor)\n",
    "data_with_processed_reviews = add_processed_reviews.transform(df)"
   ]
  },
  {
   "cell_type": "code",
   "execution_count": 288,
   "metadata": {
    "scrolled": true
   },
   "outputs": [
    {
     "data": {
      "text/html": [
       "<div>\n",
       "<style scoped>\n",
       "    .dataframe tbody tr th:only-of-type {\n",
       "        vertical-align: middle;\n",
       "    }\n",
       "\n",
       "    .dataframe tbody tr th {\n",
       "        vertical-align: top;\n",
       "    }\n",
       "\n",
       "    .dataframe thead th {\n",
       "        text-align: right;\n",
       "    }\n",
       "</style>\n",
       "<table border=\"1\" class=\"dataframe\">\n",
       "  <thead>\n",
       "    <tr style=\"text-align: right;\">\n",
       "      <th></th>\n",
       "      <th>Car Name</th>\n",
       "      <th>Car Rating</th>\n",
       "      <th>Reviews</th>\n",
       "      <th>Year</th>\n",
       "      <th>Mileage</th>\n",
       "      <th>Dealer Name</th>\n",
       "      <th>Dealer Rating</th>\n",
       "      <th>Review Count</th>\n",
       "      <th>Price</th>\n",
       "      <th>Processed_Reviews</th>\n",
       "    </tr>\n",
       "  </thead>\n",
       "  <tbody>\n",
       "    <tr>\n",
       "      <th>0</th>\n",
       "      <td>2013 Nissan Xterra PRO-4X</td>\n",
       "      <td>4.5</td>\n",
       "      <td>['March 15, 2021\\nBy Tony from Detroit\\nOwns t...</td>\n",
       "      <td>2013</td>\n",
       "      <td>163000.0</td>\n",
       "      <td>Priced Right Auto</td>\n",
       "      <td>0.0</td>\n",
       "      <td>19.0</td>\n",
       "      <td>9500.0</td>\n",
       "      <td>tony car love xterra car look amazing drive am...</td>\n",
       "    </tr>\n",
       "    <tr>\n",
       "      <th>1</th>\n",
       "      <td>2014 Hyundai Elantra SE</td>\n",
       "      <td>4.5</td>\n",
       "      <td>['May  7, 2022\\nBy Talessa from Tulsa, ok\\nOwn...</td>\n",
       "      <td>2014</td>\n",
       "      <td>95747.0</td>\n",
       "      <td>Blasius Pre-Owned Auto</td>\n",
       "      <td>4.4</td>\n",
       "      <td>75.0</td>\n",
       "      <td>8994.0</td>\n",
       "      <td>talessa tulsa car buy car use say best car eve...</td>\n",
       "    </tr>\n",
       "    <tr>\n",
       "      <th>2</th>\n",
       "      <td>2014 Hyundai Elantra SE</td>\n",
       "      <td>4.5</td>\n",
       "      <td>['May  7, 2022\\nBy Talessa from Tulsa, ok\\nOwn...</td>\n",
       "      <td>2014</td>\n",
       "      <td>159177.0</td>\n",
       "      <td>Metro Motors LLC</td>\n",
       "      <td>0.0</td>\n",
       "      <td>1.0</td>\n",
       "      <td>8900.0</td>\n",
       "      <td>talessa tulsa car buy car use say best car eve...</td>\n",
       "    </tr>\n",
       "    <tr>\n",
       "      <th>3</th>\n",
       "      <td>2014 Hyundai Elantra SE</td>\n",
       "      <td>4.5</td>\n",
       "      <td>['May  7, 2022\\nBy Talessa from Tulsa, ok\\nOwn...</td>\n",
       "      <td>2014</td>\n",
       "      <td>79055.0</td>\n",
       "      <td>Oakbrook Toyota in Westmont</td>\n",
       "      <td>4.5</td>\n",
       "      <td>2527.0</td>\n",
       "      <td>10304.0</td>\n",
       "      <td>talessa tulsa car buy car use say best car eve...</td>\n",
       "    </tr>\n",
       "    <tr>\n",
       "      <th>4</th>\n",
       "      <td>2014 Hyundai Elantra SE</td>\n",
       "      <td>4.5</td>\n",
       "      <td>['May  7, 2022\\nBy Talessa from Tulsa, ok\\nOwn...</td>\n",
       "      <td>2014</td>\n",
       "      <td>102894.0</td>\n",
       "      <td>Sawari Automotive Group</td>\n",
       "      <td>4.7</td>\n",
       "      <td>31.0</td>\n",
       "      <td>9599.0</td>\n",
       "      <td>talessa tulsa car buy car use say best car eve...</td>\n",
       "    </tr>\n",
       "    <tr>\n",
       "      <th>...</th>\n",
       "      <td>...</td>\n",
       "      <td>...</td>\n",
       "      <td>...</td>\n",
       "      <td>...</td>\n",
       "      <td>...</td>\n",
       "      <td>...</td>\n",
       "      <td>...</td>\n",
       "      <td>...</td>\n",
       "      <td>...</td>\n",
       "      <td>...</td>\n",
       "    </tr>\n",
       "    <tr>\n",
       "      <th>13691</th>\n",
       "      <td>2005 Dodge Ram 1500 SLT/Laramie Quad Cab</td>\n",
       "      <td>5.0</td>\n",
       "      <td>['May  8, 2023\\nBy Michael  from Nashville \\nO...</td>\n",
       "      <td>2005</td>\n",
       "      <td>171430.0</td>\n",
       "      <td>Broadway Auto Mall</td>\n",
       "      <td>0.0</td>\n",
       "      <td>16.0</td>\n",
       "      <td>5980.0</td>\n",
       "      <td>michael nashville car hemi love growl hit gas ...</td>\n",
       "    </tr>\n",
       "    <tr>\n",
       "      <th>13692</th>\n",
       "      <td>2005 Dodge Ram 1500 SLT/Laramie Quad Cab</td>\n",
       "      <td>5.0</td>\n",
       "      <td>['May  8, 2023\\nBy Michael  from Nashville \\nO...</td>\n",
       "      <td>2005</td>\n",
       "      <td>153560.0</td>\n",
       "      <td>Trucks Plus Idaho</td>\n",
       "      <td>0.0</td>\n",
       "      <td>2.0</td>\n",
       "      <td>9988.0</td>\n",
       "      <td>michael nashville car hemi love growl hit gas ...</td>\n",
       "    </tr>\n",
       "    <tr>\n",
       "      <th>13693</th>\n",
       "      <td>2014 Audi A4 Premium Plus</td>\n",
       "      <td>4.4</td>\n",
       "      <td>['September  7, 2022\\nBy SInce59 from Napa, Ca...</td>\n",
       "      <td>2014</td>\n",
       "      <td>138173.0</td>\n",
       "      <td>Your Choice Auto Sales of Elgin</td>\n",
       "      <td>4.4</td>\n",
       "      <td>57.0</td>\n",
       "      <td>12999.0</td>\n",
       "      <td>napa car read review bit flummoxed comment gre...</td>\n",
       "    </tr>\n",
       "    <tr>\n",
       "      <th>13694</th>\n",
       "      <td>2011 BMW 535 xDrive</td>\n",
       "      <td>4.5</td>\n",
       "      <td>['June  2, 2022\\nBy Manuel from Liberal Ks\\nOw...</td>\n",
       "      <td>2011</td>\n",
       "      <td>146541.0</td>\n",
       "      <td>Best Choice Auto Sales</td>\n",
       "      <td>0.0</td>\n",
       "      <td>37.0</td>\n",
       "      <td>9990.0</td>\n",
       "      <td>manuel liberal car minor repair vehicle year m...</td>\n",
       "    </tr>\n",
       "    <tr>\n",
       "      <th>13695</th>\n",
       "      <td>2011 BMW 535 xDrive</td>\n",
       "      <td>4.5</td>\n",
       "      <td>['June  2, 2022\\nBy Manuel from Liberal Ks\\nOw...</td>\n",
       "      <td>2011</td>\n",
       "      <td>103001.0</td>\n",
       "      <td>MC Auto Mart LLC</td>\n",
       "      <td>0.0</td>\n",
       "      <td>0.0</td>\n",
       "      <td>13999.0</td>\n",
       "      <td>manuel liberal car minor repair vehicle year m...</td>\n",
       "    </tr>\n",
       "  </tbody>\n",
       "</table>\n",
       "<p>13696 rows × 10 columns</p>\n",
       "</div>"
      ],
      "text/plain": [
       "                                       Car Name  Car Rating  \\\n",
       "0                     2013 Nissan Xterra PRO-4X         4.5   \n",
       "1                       2014 Hyundai Elantra SE         4.5   \n",
       "2                       2014 Hyundai Elantra SE         4.5   \n",
       "3                       2014 Hyundai Elantra SE         4.5   \n",
       "4                       2014 Hyundai Elantra SE         4.5   \n",
       "...                                         ...         ...   \n",
       "13691  2005 Dodge Ram 1500 SLT/Laramie Quad Cab         5.0   \n",
       "13692  2005 Dodge Ram 1500 SLT/Laramie Quad Cab         5.0   \n",
       "13693                 2014 Audi A4 Premium Plus         4.4   \n",
       "13694                       2011 BMW 535 xDrive         4.5   \n",
       "13695                       2011 BMW 535 xDrive         4.5   \n",
       "\n",
       "                                                 Reviews  Year   Mileage  \\\n",
       "0      ['March 15, 2021\\nBy Tony from Detroit\\nOwns t...  2013  163000.0   \n",
       "1      ['May  7, 2022\\nBy Talessa from Tulsa, ok\\nOwn...  2014   95747.0   \n",
       "2      ['May  7, 2022\\nBy Talessa from Tulsa, ok\\nOwn...  2014  159177.0   \n",
       "3      ['May  7, 2022\\nBy Talessa from Tulsa, ok\\nOwn...  2014   79055.0   \n",
       "4      ['May  7, 2022\\nBy Talessa from Tulsa, ok\\nOwn...  2014  102894.0   \n",
       "...                                                  ...   ...       ...   \n",
       "13691  ['May  8, 2023\\nBy Michael  from Nashville \\nO...  2005  171430.0   \n",
       "13692  ['May  8, 2023\\nBy Michael  from Nashville \\nO...  2005  153560.0   \n",
       "13693  ['September  7, 2022\\nBy SInce59 from Napa, Ca...  2014  138173.0   \n",
       "13694  ['June  2, 2022\\nBy Manuel from Liberal Ks\\nOw...  2011  146541.0   \n",
       "13695  ['June  2, 2022\\nBy Manuel from Liberal Ks\\nOw...  2011  103001.0   \n",
       "\n",
       "                           Dealer Name  Dealer Rating  Review Count    Price  \\\n",
       "0                    Priced Right Auto            0.0          19.0   9500.0   \n",
       "1               Blasius Pre-Owned Auto            4.4          75.0   8994.0   \n",
       "2                     Metro Motors LLC            0.0           1.0   8900.0   \n",
       "3          Oakbrook Toyota in Westmont            4.5        2527.0  10304.0   \n",
       "4              Sawari Automotive Group            4.7          31.0   9599.0   \n",
       "...                                ...            ...           ...      ...   \n",
       "13691               Broadway Auto Mall            0.0          16.0   5980.0   \n",
       "13692                Trucks Plus Idaho            0.0           2.0   9988.0   \n",
       "13693  Your Choice Auto Sales of Elgin            4.4          57.0  12999.0   \n",
       "13694           Best Choice Auto Sales            0.0          37.0   9990.0   \n",
       "13695                 MC Auto Mart LLC            0.0           0.0  13999.0   \n",
       "\n",
       "                                       Processed_Reviews  \n",
       "0      tony car love xterra car look amazing drive am...  \n",
       "1      talessa tulsa car buy car use say best car eve...  \n",
       "2      talessa tulsa car buy car use say best car eve...  \n",
       "3      talessa tulsa car buy car use say best car eve...  \n",
       "4      talessa tulsa car buy car use say best car eve...  \n",
       "...                                                  ...  \n",
       "13691  michael nashville car hemi love growl hit gas ...  \n",
       "13692  michael nashville car hemi love growl hit gas ...  \n",
       "13693  napa car read review bit flummoxed comment gre...  \n",
       "13694  manuel liberal car minor repair vehicle year m...  \n",
       "13695  manuel liberal car minor repair vehicle year m...  \n",
       "\n",
       "[13696 rows x 10 columns]"
      ]
     },
     "execution_count": 288,
     "metadata": {},
     "output_type": "execute_result"
    }
   ],
   "source": [
    "df"
   ]
  },
  {
   "cell_type": "markdown",
   "metadata": {},
   "source": [
    "# Making sure model works by using just Processed_Reviews"
   ]
  },
  {
   "cell_type": "code",
   "execution_count": 124,
   "metadata": {
    "scrolled": true
   },
   "outputs": [
    {
     "name": "stdout",
     "output_type": "stream",
     "text": [
      "RMSE: 2163.2402436268876\n"
     ]
    }
   ],
   "source": [
    "X = df['Processed_Reviews']\n",
    "y = df['Price']\n",
    "X_train, X_test, y_train, y_test = train_test_split(X, y, test_size=0.2, random_state=42)"
   ]
  },
  {
   "cell_type": "code",
   "execution_count": null,
   "metadata": {},
   "outputs": [],
   "source": [
    "text_pipeline = Pipeline([\n",
    "    ('tfidf', TfidfVectorizer()),   # Using TF-IDF vectorizer for text representation\n",
    "    ('model', LinearRegression())   # Linear Regression model\n",
    "])"
   ]
  },
  {
   "cell_type": "code",
   "execution_count": null,
   "metadata": {},
   "outputs": [],
   "source": [
    "text_pipeline.fit(X_train, y_train)"
   ]
  },
  {
   "cell_type": "code",
   "execution_count": null,
   "metadata": {},
   "outputs": [],
   "source": [
    "y_pred = text_pipeline.predict(X_test)\n",
    "mse = mean_squared_error(y_test, y_pred)\n",
    "rmse = np.sqrt(mse)\n",
    "print(\"RMSE:\", rmse)"
   ]
  },
  {
   "cell_type": "markdown",
   "metadata": {},
   "source": [
    "# Random Forest"
   ]
  },
  {
   "cell_type": "code",
   "execution_count": 129,
   "metadata": {},
   "outputs": [],
   "source": [
    "X = df.drop(['Price'], axis=1)\n",
    "y = df['Price']\n",
    "X_train, X_test, y_train, y_test = train_test_split(X, y, test_size=0.2, random_state=42)"
   ]
  },
  {
   "cell_type": "code",
   "execution_count": 130,
   "metadata": {},
   "outputs": [],
   "source": [
    "text_pipeline = Pipeline([\n",
    "    ('tfidf', TfidfVectorizer()),   \n",
    "])\n",
    "\n",
    "numerical_pipeline = Pipeline([\n",
    "    ('scaler', StandardScaler()),  \n",
    "])"
   ]
  },
  {
   "cell_type": "code",
   "execution_count": 131,
   "metadata": {},
   "outputs": [],
   "source": [
    "preprocessor = ColumnTransformer([\n",
    "    ('text', text_pipeline, 'Processed_Reviews'),    \n",
    "    ('numerical', numerical_pipeline, ['Car Rating', 'Year', 'Mileage', 'Dealer Rating', 'Review Count']), \n",
    "])"
   ]
  },
  {
   "cell_type": "code",
   "execution_count": 132,
   "metadata": {},
   "outputs": [
    {
     "name": "stdout",
     "output_type": "stream",
     "text": [
      "R_Squared: 0.7923216716471226\n",
      "Root Mean Squared Error: 1184.8805139606172\n"
     ]
    }
   ],
   "source": [
    "model = Pipeline([\n",
    "    ('preprocessor', preprocessor),\n",
    "    ('model', RandomForestRegressor(random_state=42)) \n",
    "])\n",
    "model.fit(X_train, y_train)\n",
    "\n",
    "y_pred = model.predict(X_test)\n",
    "mse = mean_squared_error(y_test, y_pred)\n",
    "rmse = np.sqrt(mse)\n",
    "r2 = r2_score(y_test, y_pred)\n",
    "print(\"R_Squared:\", r2)\n",
    "print(\"Root Mean Squared Error:\", rmse)"
   ]
  },
  {
   "cell_type": "code",
   "execution_count": null,
   "metadata": {},
   "outputs": [],
   "source": []
  },
  {
   "cell_type": "markdown",
   "metadata": {},
   "source": [
    "# Gradient Boost"
   ]
  },
  {
   "cell_type": "code",
   "execution_count": 134,
   "metadata": {},
   "outputs": [],
   "source": [
    "X = df.drop(['Price'], axis=1)\n",
    "y = df['Price']\n",
    "X_train, X_test, y_train, y_test = train_test_split(X, y, test_size=0.2, random_state=42)"
   ]
  },
  {
   "cell_type": "code",
   "execution_count": 135,
   "metadata": {},
   "outputs": [],
   "source": [
    "text_pipeline = Pipeline([\n",
    "    ('tfidf', TfidfVectorizer()),   \n",
    "])\n",
    "\n",
    "numerical_pipeline = Pipeline([\n",
    "    ('scaler', StandardScaler()),  \n",
    "])"
   ]
  },
  {
   "cell_type": "code",
   "execution_count": 136,
   "metadata": {},
   "outputs": [],
   "source": [
    "preprocessor = ColumnTransformer([\n",
    "    ('text', text_pipeline, 'Processed_Reviews'),    \n",
    "    ('numerical', numerical_pipeline, ['Car Rating', 'Year', 'Mileage', 'Dealer Rating', 'Review Count']), \n",
    "])"
   ]
  },
  {
   "cell_type": "code",
   "execution_count": 137,
   "metadata": {},
   "outputs": [
    {
     "name": "stdout",
     "output_type": "stream",
     "text": [
      "R_Squared: 0.48476364515977877\n",
      "Root Mean Squared Error: 1866.303270577574\n"
     ]
    }
   ],
   "source": [
    "model = Pipeline([\n",
    "    ('preprocessor', preprocessor),\n",
    "    ('model', GradientBoostingRegressor(random_state=42))   \n",
    "])\n",
    "model.fit(X_train, y_train)\n",
    "\n",
    "y_pred = model.predict(X_test)\n",
    "mse = mean_squared_error(y_test, y_pred)\n",
    "rmse = np.sqrt(mse)\n",
    "r2 = r2_score(y_test, y_pred)\n",
    "print(\"R_Squared:\", r2)\n",
    "print(\"Root Mean Squared Error:\", rmse)"
   ]
  },
  {
   "cell_type": "markdown",
   "metadata": {},
   "source": [
    "# XGBoost "
   ]
  },
  {
   "cell_type": "code",
   "execution_count": 177,
   "metadata": {},
   "outputs": [],
   "source": [
    "X = df.drop(['Price'], axis=1)\n",
    "y = df['Price']\n",
    "X_train, X_test, y_train, y_test = train_test_split(X, y, test_size=0.2, random_state=42)"
   ]
  },
  {
   "cell_type": "code",
   "execution_count": 178,
   "metadata": {},
   "outputs": [],
   "source": [
    "text_pipeline = Pipeline([\n",
    "    ('tfidf', TfidfVectorizer()),   \n",
    "])\n",
    "\n",
    "numerical_pipeline = Pipeline([\n",
    "    ('scaler', StandardScaler()),  \n",
    "])"
   ]
  },
  {
   "cell_type": "code",
   "execution_count": 179,
   "metadata": {},
   "outputs": [],
   "source": [
    "preprocessor = ColumnTransformer([\n",
    "    ('text', text_pipeline, 'Processed_Reviews'),    \n",
    "    ('numerical', numerical_pipeline, ['Car Rating', 'Year', 'Mileage', 'Dealer Rating', 'Review Count']), \n",
    "])"
   ]
  },
  {
   "cell_type": "code",
   "execution_count": 180,
   "metadata": {
    "scrolled": true
   },
   "outputs": [
    {
     "name": "stdout",
     "output_type": "stream",
     "text": [
      "R_Squared: 0.6719201648596869\n",
      "Root Mean Squared Error: 1489.2538675886217\n"
     ]
    }
   ],
   "source": [
    "model = xgb.XGBRegressor()\n",
    "pipeline = Pipeline([\n",
    "    ('preprocessor', preprocessor),\n",
    "    ('model', model),\n",
    "])\n",
    "\n",
    "pipeline.fit(X_train, y_train)\n",
    "y_pred = pipeline.predict(X_test)\n",
    "mse = mean_squared_error(y_test, y_pred)\n",
    "rmse = np.sqrt(mse)\n",
    "r2 = r2_score(y_test, y_pred)\n",
    "print(\"R_Squared:\", r2)\n",
    "print(\"Root Mean Squared Error:\", rmse)"
   ]
  },
  {
   "cell_type": "markdown",
   "metadata": {},
   "source": [
    "# Neural Network"
   ]
  },
  {
   "cell_type": "code",
   "execution_count": 181,
   "metadata": {},
   "outputs": [],
   "source": [
    "X = df.drop('Price', axis=1)\n",
    "y = df['Price']\n",
    "X_train, X_test, y_train, y_test = train_test_split(X, y, test_size=0.2, random_state=42)\n"
   ]
  },
  {
   "cell_type": "code",
   "execution_count": 182,
   "metadata": {},
   "outputs": [],
   "source": [
    "numeric_features = ['Car Rating', 'Year', 'Mileage', 'Dealer Rating', 'Review Count']\n",
    "\n",
    "numeric_pipeline = Pipeline([\n",
    "    ('scaler', StandardScaler())\n",
    "])\n",
    "\n",
    "X_train_scaled = numeric_pipeline.fit_transform(X_train[numeric_features])\n",
    "X_test_scaled = numeric_pipeline.transform(X_test[numeric_features])"
   ]
  },
  {
   "cell_type": "code",
   "execution_count": 183,
   "metadata": {},
   "outputs": [
    {
     "name": "stdout",
     "output_type": "stream",
     "text": [
      "R_Squared: 0.6719201648596869\n",
      "Neural Network RMSE: 2228.8358324177734\n"
     ]
    }
   ],
   "source": [
    "pipeline_nn = Pipeline([\n",
    "    ('regressor', MLPRegressor(hidden_layer_sizes=(100, 50), random_state=42, max_iter=500))\n",
    "])\n",
    "\n",
    "pipeline_nn.fit(X_train_scaled, y_train)\n",
    "\n",
    "y_pred_nn = pipeline_nn.predict(X_test_scaled)\n",
    "\n",
    "rmse_nn = mean_squared_error(y_test, y_pred_nn, squared=False)\n",
    "r2 = r2_score(y_test, y_pred)\n",
    "print(\"R_Squared:\", r2)\n",
    "print(\"Neural Network RMSE:\", rmse_nn)\n"
   ]
  },
  {
   "cell_type": "markdown",
   "metadata": {},
   "source": [
    "# KNN "
   ]
  },
  {
   "cell_type": "code",
   "execution_count": 184,
   "metadata": {},
   "outputs": [],
   "source": [
    "X = df.drop('Price', axis=1)\n",
    "y = df['Price']\n",
    "X_train, X_test, y_train, y_test = train_test_split(X, y, test_size=0.2, random_state=42)\n"
   ]
  },
  {
   "cell_type": "code",
   "execution_count": 185,
   "metadata": {},
   "outputs": [],
   "source": [
    "numeric_features = ['Car Rating', 'Year', 'Mileage', 'Dealer Rating', 'Review Count']\n",
    "\n",
    "numeric_pipeline = Pipeline([\n",
    "    ('scaler', StandardScaler())\n",
    "])\n",
    "\n",
    "X_train_scaled = numeric_pipeline.fit_transform(X_train[numeric_features])\n",
    "X_test_scaled = numeric_pipeline.transform(X_test[numeric_features])\n"
   ]
  },
  {
   "cell_type": "code",
   "execution_count": 186,
   "metadata": {},
   "outputs": [
    {
     "name": "stdout",
     "output_type": "stream",
     "text": [
      "R_Squared: 0.6719201648596869\n",
      "KNN RMSE: 2301.956363798436\n"
     ]
    }
   ],
   "source": [
    "pipeline_knn = Pipeline([\n",
    "    ('regressor', KNeighborsRegressor(n_neighbors=5))\n",
    "])\n",
    "pipeline_knn.fit(X_train_scaled, y_train)\n",
    "\n",
    "y_pred_knn = pipeline_knn.predict(X_test_scaled)\n",
    "\n",
    "rmse_knn = mean_squared_error(y_test, y_pred_knn, squared=False)\n",
    "r2 = r2_score(y_test, y_pred)\n",
    "print(\"R_Squared:\", r2)\n",
    "print(\"KNN RMSE:\", rmse_knn)"
   ]
  },
  {
   "cell_type": "markdown",
   "metadata": {},
   "source": [
    "- so best model is Random Forest. Lets tune it"
   ]
  },
  {
   "cell_type": "code",
   "execution_count": 189,
   "metadata": {},
   "outputs": [
    {
     "name": "stdout",
     "output_type": "stream",
     "text": [
      "R_Squared: 0.729889480445979\n",
      "Random Forest Regressor RMSE: 1351.2935903078742\n"
     ]
    }
   ],
   "source": [
    "X = df.drop('Price', axis=1)\n",
    "y = df['Price']\n",
    "\n",
    "numeric_features = ['Car Rating', 'Year', 'Mileage', 'Dealer Rating', 'Review Count']\n",
    "categorical_features = ['Car Name', 'Reviews', 'Dealer Name', 'Processed_Reviews']\n",
    "\n",
    "numeric_transformer = Pipeline(steps=[\n",
    "    ('scaler', StandardScaler())\n",
    "])\n",
    "\n",
    "categorical_transformer = Pipeline(steps=[\n",
    "    ('onehot', OneHotEncoder(handle_unknown='ignore'))\n",
    "])\n",
    "\n",
    "preprocessor = ColumnTransformer(transformers=[\n",
    "    ('num', numeric_transformer, numeric_features),\n",
    "    ('cat', categorical_transformer, categorical_features)\n",
    "])\n",
    "\n",
    "rf = RandomForestRegressor(random_state=42)\n",
    "\n",
    "pipeline_rf = Pipeline(steps=[\n",
    "    ('preprocessor', preprocessor),\n",
    "    ('regressor', rf)\n",
    "])\n",
    "\n",
    "rf_params = {\n",
    "    'regressor__n_estimators': [100, 200, 300],\n",
    "    'regressor__max_depth': [None, 10, 20, 30],\n",
    "    'regressor__min_samples_split': [2, 5, 10],\n",
    "    'regressor__min_samples_leaf': [1, 2, 4]\n",
    "}\n",
    "\n",
    "rf_random_search = RandomizedSearchCV(pipeline_rf, param_distributions=rf_params, n_iter=10, scoring='neg_root_mean_squared_error', cv=5, random_state=42)\n",
    "\n",
    "X_train, X_test, y_train, y_test = train_test_split(X, y, test_size=0.2, random_state=42)\n",
    "\n",
    "rf_random_search.fit(X_train, y_train)\n",
    "\n",
    "best_rf = rf_random_search.best_estimator_\n",
    "\n",
    "y_pred_rf = best_rf.predict(X_test)\n",
    "\n",
    "rmse_rf = mean_squared_error(y_test, y_pred_rf, squared=False)\n",
    "r2 = r2_score(y_test, y_pred_rf)\n",
    "print(\"R_Squared:\", r2)\n",
    "print(\"Random Forest Regressor RMSE:\", rmse_rf)\n"
   ]
  },
  {
   "cell_type": "code",
   "execution_count": null,
   "metadata": {},
   "outputs": [],
   "source": []
  },
  {
   "cell_type": "code",
   "execution_count": 206,
   "metadata": {},
   "outputs": [],
   "source": [
    "X = df.drop('Price', axis=1)\n",
    "y = df['Price']\n",
    "X_train, X_test, y_train, y_test = train_test_split(X, y, test_size=0.2, random_state=42)"
   ]
  },
  {
   "cell_type": "markdown",
   "metadata": {},
   "source": [
    "# Random Forest Tuned"
   ]
  },
  {
   "cell_type": "code",
   "execution_count": 202,
   "metadata": {},
   "outputs": [
    {
     "name": "stdout",
     "output_type": "stream",
     "text": [
      "Fitting 5 folds for each of 162 candidates, totalling 810 fits\n"
     ]
    },
    {
     "name": "stderr",
     "output_type": "stream",
     "text": [
      "[Parallel(n_jobs=-1)]: Using backend LokyBackend with 8 concurrent workers.\n",
      "[Parallel(n_jobs=-1)]: Done  25 tasks      | elapsed: 27.7min\n",
      "[Parallel(n_jobs=-1)]: Done 146 tasks      | elapsed: 129.3min\n",
      "[Parallel(n_jobs=-1)]: Done 349 tasks      | elapsed: 217.5min\n",
      "[Parallel(n_jobs=-1)]: Done 632 tasks      | elapsed: 447.7min\n",
      "[Parallel(n_jobs=-1)]: Done 810 out of 810 | elapsed: 582.0min finished\n"
     ]
    },
    {
     "name": "stdout",
     "output_type": "stream",
     "text": [
      "Best Hyperparameters: {'rf__bootstrap': True, 'rf__max_depth': None, 'rf__min_samples_leaf': 1, 'rf__min_samples_split': 2, 'rf__n_estimators': 300}\n",
      "Random Forest Regressor RMSE: 1181.995214290282\n",
      "R-squared: 0.7933318741658443\n"
     ]
    }
   ],
   "source": [
    "preprocessor = ColumnTransformer(\n",
    "    transformers=[\n",
    "        ('text', TfidfVectorizer(), 'Processed_Reviews'),\n",
    "        ('num', 'passthrough', ['Car Rating', 'Year', 'Mileage', 'Dealer Rating', 'Review Count'])\n",
    "    ])\n",
    "\n",
    "rf = RandomForestRegressor(random_state=42)\n",
    "\n",
    "pipeline_rf = Pipeline(steps=[('preprocessor', preprocessor),\n",
    "                               ('rf', rf)])\n",
    "\n",
    "X_train, X_test, y_train, y_test = train_test_split(X, y, test_size=0.2, random_state=42)\n",
    "param_grid = {\n",
    "    'rf__n_estimators': [100, 200, 300],\n",
    "    'rf__max_depth': [None, 10, 20],\n",
    "    'rf__min_samples_split': [2, 5, 10],\n",
    "    'rf__min_samples_leaf': [1, 2, 4],\n",
    "    'rf__bootstrap': [True, False]\n",
    "}\n",
    "\n",
    "grid_search = GridSearchCV(estimator=pipeline_rf, param_grid=param_grid, cv=5, n_jobs=-1, verbose=2)\n",
    "\n",
    "grid_search.fit(X_train, y_train)\n",
    "\n",
    "best_params = grid_search.best_params_\n",
    "best_rf_model = grid_search.best_estimator_\n",
    "\n",
    "y_pred = best_rf_model.predict(X_test)\n",
    "mse = mean_squared_error(y_test, y_pred)\n",
    "rmse = np.sqrt(mse)\n",
    "r_squared = best_rf_model.score(X_test, y_test)\n",
    "\n",
    "print(\"Best Hyperparameters:\", best_params)\n",
    "print(\"Random Forest Regressor RMSE:\", rmse)\n",
    "print(\"R-squared:\", r_squared)"
   ]
  },
  {
   "cell_type": "markdown",
   "metadata": {},
   "source": [
    "- $1184 RMSE for this tuned one with a .79 R-squared; extremly similiar to the non-tuned."
   ]
  },
  {
   "cell_type": "markdown",
   "metadata": {},
   "source": [
    "# Gradient Boost tuned"
   ]
  },
  {
   "cell_type": "code",
   "execution_count": 190,
   "metadata": {},
   "outputs": [],
   "source": [
    "X = df.drop('Price', axis=1)\n",
    "y = df['Price']\n",
    "X_train, X_test, y_train, y_test = train_test_split(X, y, test_size=0.2, random_state=42)"
   ]
  },
  {
   "cell_type": "code",
   "execution_count": 191,
   "metadata": {},
   "outputs": [],
   "source": [
    "numeric_features = ['Car Rating', 'Year', 'Mileage', 'Dealer Rating', 'Review Count']\n",
    "categorical_features = ['Car Name', 'Reviews', 'Dealer Name', 'Processed_Reviews']\n",
    "\n",
    "# Create preprocessor for numeric features\n",
    "numeric_transformer = Pipeline(steps=[\n",
    "    ('scaler', StandardScaler())\n",
    "])\n",
    "\n",
    "# Create preprocessor for categorical features\n",
    "categorical_transformer = Pipeline(steps=[\n",
    "    ('onehot', OneHotEncoder(handle_unknown='ignore'))\n",
    "])\n",
    "\n",
    "# Combine numeric and categorical transformers using ColumnTransformer\n",
    "preprocessor = ColumnTransformer(transformers=[\n",
    "    ('num', numeric_transformer, numeric_features),\n",
    "    ('cat', categorical_transformer, categorical_features)\n",
    "])"
   ]
  },
  {
   "cell_type": "code",
   "execution_count": 192,
   "metadata": {},
   "outputs": [
    {
     "name": "stdout",
     "output_type": "stream",
     "text": [
      "R_Squared: 0.631847634920814\n",
      "XGBoost Regressor RMSE: 1577.5849882281725\n"
     ]
    }
   ],
   "source": [
    "xgb = XGBRegressor(random_state=42)\n",
    "\n",
    "# Create the pipeline\n",
    "pipeline_xgb = Pipeline(steps=[\n",
    "    ('preprocessor', preprocessor),\n",
    "    ('regressor', xgb)\n",
    "])\n",
    "\n",
    "# XGBoost hyperparameters to tune\n",
    "xgb_params = {\n",
    "    'regressor__n_estimators': [100, 200, 300],\n",
    "    'regressor__learning_rate': [0.05, 0.1, 0.2],\n",
    "    'regressor__max_depth': [3, 5, 7],\n",
    "    'regressor__subsample': [0.8, 0.9, 1.0],\n",
    "    'regressor__colsample_bytree': [0.8, 0.9, 1.0],\n",
    "    'regressor__gamma': [0, 0.1, 0.2],\n",
    "    'regressor__min_child_weight': [1, 2, 3]\n",
    "}\n",
    "xgb_random_search = RandomizedSearchCV(pipeline_xgb, param_distributions=xgb_params, n_iter=10, scoring='neg_root_mean_squared_error', cv=5, random_state=42)\n",
    "xgb_random_search.fit(X_train, y_train)\n",
    "best_xgb = xgb_random_search.best_estimator_\n",
    "y_pred_xgb = best_xgb.predict(X_test)\n",
    "rmse_xgb = mean_squared_error(y_test, y_pred_xgb, squared=False)\n",
    "r2_xgb = r2_score(y_test, y_pred_xgb)\n",
    "print(\"R_Squared:\", r2_xgb)\n",
    "print(\"XGBoost Regressor RMSE:\", rmse_xgb)\n",
    "\n"
   ]
  },
  {
   "cell_type": "code",
   "execution_count": null,
   "metadata": {},
   "outputs": [],
   "source": []
  },
  {
   "cell_type": "code",
   "execution_count": null,
   "metadata": {},
   "outputs": [],
   "source": []
  },
  {
   "cell_type": "code",
   "execution_count": null,
   "metadata": {},
   "outputs": [],
   "source": []
  }
 ],
 "metadata": {
  "kernelspec": {
   "display_name": "Python 3",
   "language": "python",
   "name": "python3"
  },
  "language_info": {
   "codemirror_mode": {
    "name": "ipython",
    "version": 3
   },
   "file_extension": ".py",
   "mimetype": "text/x-python",
   "name": "python",
   "nbconvert_exporter": "python",
   "pygments_lexer": "ipython3",
   "version": "3.8.5"
  }
 },
 "nbformat": 4,
 "nbformat_minor": 4
}
