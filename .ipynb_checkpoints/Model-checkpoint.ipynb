{
 "cells": [
  {
   "cell_type": "code",
   "execution_count": 142,
   "metadata": {},
   "outputs": [],
   "source": [
    "import pandas as pd\n",
    "from sklearn.model_selection import train_test_split, GridSearchCV\n",
    "from sklearn.pipeline import Pipeline\n",
    "from sklearn.preprocessing import StandardScaler\n",
    "from sklearn.ensemble import GradientBoostingRegressor\n",
    "from sklearn.linear_model import LinearRegression\n",
    "from sklearn.metrics import mean_squared_error, r2_score\n",
    "from math import sqrt\n",
    "from sklearn.ensemble import RandomForestRegressor"
   ]
  },
  {
   "cell_type": "code",
   "execution_count": 74,
   "metadata": {},
   "outputs": [],
   "source": [
    "df = pd.read_csv('/Users/mahmoud/Car_Price_Prediction/car_data_cleaned.csv')"
   ]
  },
  {
   "cell_type": "code",
   "execution_count": 75,
   "metadata": {
    "scrolled": true
   },
   "outputs": [
    {
     "data": {
      "text/html": [
       "<div>\n",
       "<style scoped>\n",
       "    .dataframe tbody tr th:only-of-type {\n",
       "        vertical-align: middle;\n",
       "    }\n",
       "\n",
       "    .dataframe tbody tr th {\n",
       "        vertical-align: top;\n",
       "    }\n",
       "\n",
       "    .dataframe thead th {\n",
       "        text-align: right;\n",
       "    }\n",
       "</style>\n",
       "<table border=\"1\" class=\"dataframe\">\n",
       "  <thead>\n",
       "    <tr style=\"text-align: right;\">\n",
       "      <th></th>\n",
       "      <th>Unnamed: 0</th>\n",
       "      <th>Name</th>\n",
       "      <th>Mileage</th>\n",
       "      <th>Dealer Name</th>\n",
       "      <th>Rating</th>\n",
       "      <th>Review Count</th>\n",
       "      <th>Price</th>\n",
       "      <th>Year</th>\n",
       "      <th>Make</th>\n",
       "      <th>Model</th>\n",
       "      <th>Type</th>\n",
       "    </tr>\n",
       "  </thead>\n",
       "  <tbody>\n",
       "    <tr>\n",
       "      <th>0</th>\n",
       "      <td>0</td>\n",
       "      <td>2015 Ford C-Max Hybrid SEL</td>\n",
       "      <td>88,380 mi.</td>\n",
       "      <td>Capitol Kia</td>\n",
       "      <td>3.8</td>\n",
       "      <td>(180 reviews)</td>\n",
       "      <td>10998.0</td>\n",
       "      <td>2015</td>\n",
       "      <td>Ford C</td>\n",
       "      <td>SEL</td>\n",
       "      <td>Hybrid SEL</td>\n",
       "    </tr>\n",
       "    <tr>\n",
       "      <th>1</th>\n",
       "      <td>1</td>\n",
       "      <td>2016 Kia Sorento LX</td>\n",
       "      <td>100,837 mi.</td>\n",
       "      <td>Napleton Mazda of Naperville</td>\n",
       "      <td>3.9</td>\n",
       "      <td>(115 reviews)</td>\n",
       "      <td>12577.0</td>\n",
       "      <td>2016</td>\n",
       "      <td>Kia Sorento LX</td>\n",
       "      <td>LX</td>\n",
       "      <td>LX</td>\n",
       "    </tr>\n",
       "    <tr>\n",
       "      <th>2</th>\n",
       "      <td>2</td>\n",
       "      <td>2016 Mitsubishi Lancer ES</td>\n",
       "      <td>133,750 mi.</td>\n",
       "      <td>AVA Auto Sales</td>\n",
       "      <td>0.0</td>\n",
       "      <td>(8 reviews)</td>\n",
       "      <td>8495.0</td>\n",
       "      <td>2016</td>\n",
       "      <td>Mitsubishi Lancer ES</td>\n",
       "      <td>ES</td>\n",
       "      <td>ES</td>\n",
       "    </tr>\n",
       "    <tr>\n",
       "      <th>3</th>\n",
       "      <td>3</td>\n",
       "      <td>2011 Ford Escape XLT</td>\n",
       "      <td>110,862 mi.</td>\n",
       "      <td>94 Nissan Of South Holland</td>\n",
       "      <td>4.7</td>\n",
       "      <td>(2,682 reviews)</td>\n",
       "      <td>7869.0</td>\n",
       "      <td>2011</td>\n",
       "      <td>Ford Escape XLT</td>\n",
       "      <td>XLT</td>\n",
       "      <td>XLT</td>\n",
       "    </tr>\n",
       "    <tr>\n",
       "      <th>4</th>\n",
       "      <td>4</td>\n",
       "      <td>2017 Dodge Journey SXT</td>\n",
       "      <td>58,595 mi.</td>\n",
       "      <td>Lithia Chrysler Jeep Dodge Ram of Wasilla</td>\n",
       "      <td>4.6</td>\n",
       "      <td>(543 reviews)</td>\n",
       "      <td>14888.0</td>\n",
       "      <td>2017</td>\n",
       "      <td>Dodge Journey SXT</td>\n",
       "      <td>SXT</td>\n",
       "      <td>SXT</td>\n",
       "    </tr>\n",
       "    <tr>\n",
       "      <th>...</th>\n",
       "      <td>...</td>\n",
       "      <td>...</td>\n",
       "      <td>...</td>\n",
       "      <td>...</td>\n",
       "      <td>...</td>\n",
       "      <td>...</td>\n",
       "      <td>...</td>\n",
       "      <td>...</td>\n",
       "      <td>...</td>\n",
       "      <td>...</td>\n",
       "      <td>...</td>\n",
       "    </tr>\n",
       "    <tr>\n",
       "      <th>10033</th>\n",
       "      <td>10035</td>\n",
       "      <td>2014 Chevrolet Silverado 1500 LT</td>\n",
       "      <td>158,598 mi.</td>\n",
       "      <td>City Auto Sales Corp</td>\n",
       "      <td>0.0</td>\n",
       "      <td>(1 review)</td>\n",
       "      <td>13995.0</td>\n",
       "      <td>2014</td>\n",
       "      <td>Chevrolet Silverado</td>\n",
       "      <td>LT</td>\n",
       "      <td>1500 LT</td>\n",
       "    </tr>\n",
       "    <tr>\n",
       "      <th>10034</th>\n",
       "      <td>10036</td>\n",
       "      <td>2019 Hyundai Sonata SE</td>\n",
       "      <td>113,581 mi.</td>\n",
       "      <td>Auto Boutique</td>\n",
       "      <td>4.8</td>\n",
       "      <td>(1,074 reviews)</td>\n",
       "      <td>13500.0</td>\n",
       "      <td>2019</td>\n",
       "      <td>Hyundai Sonata SE</td>\n",
       "      <td>SE</td>\n",
       "      <td>SE</td>\n",
       "    </tr>\n",
       "    <tr>\n",
       "      <th>10035</th>\n",
       "      <td>10037</td>\n",
       "      <td>2013 Dodge Journey SXT</td>\n",
       "      <td>197,496 mi.</td>\n",
       "      <td>Ryan Auto Mall Chrysler Dodge Jeep Ram Of Mont...</td>\n",
       "      <td>0.0</td>\n",
       "      <td>(29 reviews)</td>\n",
       "      <td>7425.0</td>\n",
       "      <td>2013</td>\n",
       "      <td>Dodge Journey SXT</td>\n",
       "      <td>SXT</td>\n",
       "      <td>SXT</td>\n",
       "    </tr>\n",
       "    <tr>\n",
       "      <th>10036</th>\n",
       "      <td>10038</td>\n",
       "      <td>2007 Lexus ES 350</td>\n",
       "      <td>85,384 mi.</td>\n",
       "      <td>Mountain Motors, Inc</td>\n",
       "      <td>0.0</td>\n",
       "      <td>(7 reviews)</td>\n",
       "      <td>11995.0</td>\n",
       "      <td>2007</td>\n",
       "      <td>Lexus ES</td>\n",
       "      <td>NaN</td>\n",
       "      <td>350</td>\n",
       "    </tr>\n",
       "    <tr>\n",
       "      <th>10037</th>\n",
       "      <td>10039</td>\n",
       "      <td>2013 Jeep Patriot Latitude</td>\n",
       "      <td>133,800 mi.</td>\n",
       "      <td>A Plus Auto Sales GB LLC</td>\n",
       "      <td>4.7</td>\n",
       "      <td>(25 reviews)</td>\n",
       "      <td>8995.0</td>\n",
       "      <td>2013</td>\n",
       "      <td>Jeep Patriot Latitude</td>\n",
       "      <td>Latitude</td>\n",
       "      <td>Latitude</td>\n",
       "    </tr>\n",
       "  </tbody>\n",
       "</table>\n",
       "<p>10038 rows × 11 columns</p>\n",
       "</div>"
      ],
      "text/plain": [
       "       Unnamed: 0                              Name      Mileage  \\\n",
       "0               0        2015 Ford C-Max Hybrid SEL   88,380 mi.   \n",
       "1               1               2016 Kia Sorento LX  100,837 mi.   \n",
       "2               2         2016 Mitsubishi Lancer ES  133,750 mi.   \n",
       "3               3              2011 Ford Escape XLT  110,862 mi.   \n",
       "4               4            2017 Dodge Journey SXT   58,595 mi.   \n",
       "...           ...                               ...          ...   \n",
       "10033       10035  2014 Chevrolet Silverado 1500 LT  158,598 mi.   \n",
       "10034       10036            2019 Hyundai Sonata SE  113,581 mi.   \n",
       "10035       10037            2013 Dodge Journey SXT  197,496 mi.   \n",
       "10036       10038                2007 Lexus ES 350    85,384 mi.   \n",
       "10037       10039        2013 Jeep Patriot Latitude  133,800 mi.   \n",
       "\n",
       "                                             Dealer Name  Rating  \\\n",
       "0                                            Capitol Kia     3.8   \n",
       "1                           Napleton Mazda of Naperville     3.9   \n",
       "2                                         AVA Auto Sales     0.0   \n",
       "3                             94 Nissan Of South Holland     4.7   \n",
       "4              Lithia Chrysler Jeep Dodge Ram of Wasilla     4.6   \n",
       "...                                                  ...     ...   \n",
       "10033                               City Auto Sales Corp     0.0   \n",
       "10034                                      Auto Boutique     4.8   \n",
       "10035  Ryan Auto Mall Chrysler Dodge Jeep Ram Of Mont...     0.0   \n",
       "10036                               Mountain Motors, Inc     0.0   \n",
       "10037                           A Plus Auto Sales GB LLC     4.7   \n",
       "\n",
       "          Review Count    Price  Year                    Make     Model  \\\n",
       "0        (180 reviews)  10998.0  2015                  Ford C       SEL   \n",
       "1        (115 reviews)  12577.0  2016          Kia Sorento LX        LX   \n",
       "2          (8 reviews)   8495.0  2016    Mitsubishi Lancer ES        ES   \n",
       "3      (2,682 reviews)   7869.0  2011         Ford Escape XLT       XLT   \n",
       "4        (543 reviews)  14888.0  2017       Dodge Journey SXT       SXT   \n",
       "...                ...      ...   ...                     ...       ...   \n",
       "10033       (1 review)  13995.0  2014    Chevrolet Silverado         LT   \n",
       "10034  (1,074 reviews)  13500.0  2019       Hyundai Sonata SE        SE   \n",
       "10035     (29 reviews)   7425.0  2013       Dodge Journey SXT       SXT   \n",
       "10036      (7 reviews)  11995.0  2007               Lexus ES        NaN   \n",
       "10037     (25 reviews)   8995.0  2013   Jeep Patriot Latitude  Latitude   \n",
       "\n",
       "             Type  \n",
       "0      Hybrid SEL  \n",
       "1              LX  \n",
       "2              ES  \n",
       "3             XLT  \n",
       "4             SXT  \n",
       "...           ...  \n",
       "10033     1500 LT  \n",
       "10034          SE  \n",
       "10035         SXT  \n",
       "10036        350   \n",
       "10037    Latitude  \n",
       "\n",
       "[10038 rows x 11 columns]"
      ]
     },
     "execution_count": 75,
     "metadata": {},
     "output_type": "execute_result"
    }
   ],
   "source": [
    "df"
   ]
  },
  {
   "cell_type": "code",
   "execution_count": 76,
   "metadata": {},
   "outputs": [],
   "source": [
    "df = df.drop(columns=['Unnamed: 0'])"
   ]
  },
  {
   "cell_type": "code",
   "execution_count": 77,
   "metadata": {
    "scrolled": true
   },
   "outputs": [
    {
     "data": {
      "text/html": [
       "<div>\n",
       "<style scoped>\n",
       "    .dataframe tbody tr th:only-of-type {\n",
       "        vertical-align: middle;\n",
       "    }\n",
       "\n",
       "    .dataframe tbody tr th {\n",
       "        vertical-align: top;\n",
       "    }\n",
       "\n",
       "    .dataframe thead th {\n",
       "        text-align: right;\n",
       "    }\n",
       "</style>\n",
       "<table border=\"1\" class=\"dataframe\">\n",
       "  <thead>\n",
       "    <tr style=\"text-align: right;\">\n",
       "      <th></th>\n",
       "      <th>Name</th>\n",
       "      <th>Mileage</th>\n",
       "      <th>Dealer Name</th>\n",
       "      <th>Rating</th>\n",
       "      <th>Review Count</th>\n",
       "      <th>Price</th>\n",
       "      <th>Year</th>\n",
       "      <th>Make</th>\n",
       "      <th>Model</th>\n",
       "      <th>Type</th>\n",
       "    </tr>\n",
       "  </thead>\n",
       "  <tbody>\n",
       "    <tr>\n",
       "      <th>0</th>\n",
       "      <td>2015 Ford C-Max Hybrid SEL</td>\n",
       "      <td>88,380 mi.</td>\n",
       "      <td>Capitol Kia</td>\n",
       "      <td>3.8</td>\n",
       "      <td>(180 reviews)</td>\n",
       "      <td>10998.0</td>\n",
       "      <td>2015</td>\n",
       "      <td>Ford C</td>\n",
       "      <td>SEL</td>\n",
       "      <td>Hybrid SEL</td>\n",
       "    </tr>\n",
       "    <tr>\n",
       "      <th>1</th>\n",
       "      <td>2016 Kia Sorento LX</td>\n",
       "      <td>100,837 mi.</td>\n",
       "      <td>Napleton Mazda of Naperville</td>\n",
       "      <td>3.9</td>\n",
       "      <td>(115 reviews)</td>\n",
       "      <td>12577.0</td>\n",
       "      <td>2016</td>\n",
       "      <td>Kia Sorento LX</td>\n",
       "      <td>LX</td>\n",
       "      <td>LX</td>\n",
       "    </tr>\n",
       "    <tr>\n",
       "      <th>2</th>\n",
       "      <td>2016 Mitsubishi Lancer ES</td>\n",
       "      <td>133,750 mi.</td>\n",
       "      <td>AVA Auto Sales</td>\n",
       "      <td>0.0</td>\n",
       "      <td>(8 reviews)</td>\n",
       "      <td>8495.0</td>\n",
       "      <td>2016</td>\n",
       "      <td>Mitsubishi Lancer ES</td>\n",
       "      <td>ES</td>\n",
       "      <td>ES</td>\n",
       "    </tr>\n",
       "    <tr>\n",
       "      <th>3</th>\n",
       "      <td>2011 Ford Escape XLT</td>\n",
       "      <td>110,862 mi.</td>\n",
       "      <td>94 Nissan Of South Holland</td>\n",
       "      <td>4.7</td>\n",
       "      <td>(2,682 reviews)</td>\n",
       "      <td>7869.0</td>\n",
       "      <td>2011</td>\n",
       "      <td>Ford Escape XLT</td>\n",
       "      <td>XLT</td>\n",
       "      <td>XLT</td>\n",
       "    </tr>\n",
       "    <tr>\n",
       "      <th>4</th>\n",
       "      <td>2017 Dodge Journey SXT</td>\n",
       "      <td>58,595 mi.</td>\n",
       "      <td>Lithia Chrysler Jeep Dodge Ram of Wasilla</td>\n",
       "      <td>4.6</td>\n",
       "      <td>(543 reviews)</td>\n",
       "      <td>14888.0</td>\n",
       "      <td>2017</td>\n",
       "      <td>Dodge Journey SXT</td>\n",
       "      <td>SXT</td>\n",
       "      <td>SXT</td>\n",
       "    </tr>\n",
       "    <tr>\n",
       "      <th>...</th>\n",
       "      <td>...</td>\n",
       "      <td>...</td>\n",
       "      <td>...</td>\n",
       "      <td>...</td>\n",
       "      <td>...</td>\n",
       "      <td>...</td>\n",
       "      <td>...</td>\n",
       "      <td>...</td>\n",
       "      <td>...</td>\n",
       "      <td>...</td>\n",
       "    </tr>\n",
       "    <tr>\n",
       "      <th>10033</th>\n",
       "      <td>2014 Chevrolet Silverado 1500 LT</td>\n",
       "      <td>158,598 mi.</td>\n",
       "      <td>City Auto Sales Corp</td>\n",
       "      <td>0.0</td>\n",
       "      <td>(1 review)</td>\n",
       "      <td>13995.0</td>\n",
       "      <td>2014</td>\n",
       "      <td>Chevrolet Silverado</td>\n",
       "      <td>LT</td>\n",
       "      <td>1500 LT</td>\n",
       "    </tr>\n",
       "    <tr>\n",
       "      <th>10034</th>\n",
       "      <td>2019 Hyundai Sonata SE</td>\n",
       "      <td>113,581 mi.</td>\n",
       "      <td>Auto Boutique</td>\n",
       "      <td>4.8</td>\n",
       "      <td>(1,074 reviews)</td>\n",
       "      <td>13500.0</td>\n",
       "      <td>2019</td>\n",
       "      <td>Hyundai Sonata SE</td>\n",
       "      <td>SE</td>\n",
       "      <td>SE</td>\n",
       "    </tr>\n",
       "    <tr>\n",
       "      <th>10035</th>\n",
       "      <td>2013 Dodge Journey SXT</td>\n",
       "      <td>197,496 mi.</td>\n",
       "      <td>Ryan Auto Mall Chrysler Dodge Jeep Ram Of Mont...</td>\n",
       "      <td>0.0</td>\n",
       "      <td>(29 reviews)</td>\n",
       "      <td>7425.0</td>\n",
       "      <td>2013</td>\n",
       "      <td>Dodge Journey SXT</td>\n",
       "      <td>SXT</td>\n",
       "      <td>SXT</td>\n",
       "    </tr>\n",
       "    <tr>\n",
       "      <th>10036</th>\n",
       "      <td>2007 Lexus ES 350</td>\n",
       "      <td>85,384 mi.</td>\n",
       "      <td>Mountain Motors, Inc</td>\n",
       "      <td>0.0</td>\n",
       "      <td>(7 reviews)</td>\n",
       "      <td>11995.0</td>\n",
       "      <td>2007</td>\n",
       "      <td>Lexus ES</td>\n",
       "      <td>NaN</td>\n",
       "      <td>350</td>\n",
       "    </tr>\n",
       "    <tr>\n",
       "      <th>10037</th>\n",
       "      <td>2013 Jeep Patriot Latitude</td>\n",
       "      <td>133,800 mi.</td>\n",
       "      <td>A Plus Auto Sales GB LLC</td>\n",
       "      <td>4.7</td>\n",
       "      <td>(25 reviews)</td>\n",
       "      <td>8995.0</td>\n",
       "      <td>2013</td>\n",
       "      <td>Jeep Patriot Latitude</td>\n",
       "      <td>Latitude</td>\n",
       "      <td>Latitude</td>\n",
       "    </tr>\n",
       "  </tbody>\n",
       "</table>\n",
       "<p>10038 rows × 10 columns</p>\n",
       "</div>"
      ],
      "text/plain": [
       "                                   Name      Mileage  \\\n",
       "0            2015 Ford C-Max Hybrid SEL   88,380 mi.   \n",
       "1                   2016 Kia Sorento LX  100,837 mi.   \n",
       "2             2016 Mitsubishi Lancer ES  133,750 mi.   \n",
       "3                  2011 Ford Escape XLT  110,862 mi.   \n",
       "4                2017 Dodge Journey SXT   58,595 mi.   \n",
       "...                                 ...          ...   \n",
       "10033  2014 Chevrolet Silverado 1500 LT  158,598 mi.   \n",
       "10034            2019 Hyundai Sonata SE  113,581 mi.   \n",
       "10035            2013 Dodge Journey SXT  197,496 mi.   \n",
       "10036                2007 Lexus ES 350    85,384 mi.   \n",
       "10037        2013 Jeep Patriot Latitude  133,800 mi.   \n",
       "\n",
       "                                             Dealer Name  Rating  \\\n",
       "0                                            Capitol Kia     3.8   \n",
       "1                           Napleton Mazda of Naperville     3.9   \n",
       "2                                         AVA Auto Sales     0.0   \n",
       "3                             94 Nissan Of South Holland     4.7   \n",
       "4              Lithia Chrysler Jeep Dodge Ram of Wasilla     4.6   \n",
       "...                                                  ...     ...   \n",
       "10033                               City Auto Sales Corp     0.0   \n",
       "10034                                      Auto Boutique     4.8   \n",
       "10035  Ryan Auto Mall Chrysler Dodge Jeep Ram Of Mont...     0.0   \n",
       "10036                               Mountain Motors, Inc     0.0   \n",
       "10037                           A Plus Auto Sales GB LLC     4.7   \n",
       "\n",
       "          Review Count    Price  Year                    Make     Model  \\\n",
       "0        (180 reviews)  10998.0  2015                  Ford C       SEL   \n",
       "1        (115 reviews)  12577.0  2016          Kia Sorento LX        LX   \n",
       "2          (8 reviews)   8495.0  2016    Mitsubishi Lancer ES        ES   \n",
       "3      (2,682 reviews)   7869.0  2011         Ford Escape XLT       XLT   \n",
       "4        (543 reviews)  14888.0  2017       Dodge Journey SXT       SXT   \n",
       "...                ...      ...   ...                     ...       ...   \n",
       "10033       (1 review)  13995.0  2014    Chevrolet Silverado         LT   \n",
       "10034  (1,074 reviews)  13500.0  2019       Hyundai Sonata SE        SE   \n",
       "10035     (29 reviews)   7425.0  2013       Dodge Journey SXT       SXT   \n",
       "10036      (7 reviews)  11995.0  2007               Lexus ES        NaN   \n",
       "10037     (25 reviews)   8995.0  2013   Jeep Patriot Latitude  Latitude   \n",
       "\n",
       "             Type  \n",
       "0      Hybrid SEL  \n",
       "1              LX  \n",
       "2              ES  \n",
       "3             XLT  \n",
       "4             SXT  \n",
       "...           ...  \n",
       "10033     1500 LT  \n",
       "10034          SE  \n",
       "10035         SXT  \n",
       "10036        350   \n",
       "10037    Latitude  \n",
       "\n",
       "[10038 rows x 10 columns]"
      ]
     },
     "execution_count": 77,
     "metadata": {},
     "output_type": "execute_result"
    }
   ],
   "source": [
    "df"
   ]
  },
  {
   "cell_type": "code",
   "execution_count": null,
   "metadata": {},
   "outputs": [],
   "source": []
  },
  {
   "cell_type": "code",
   "execution_count": null,
   "metadata": {},
   "outputs": [],
   "source": []
  },
  {
   "cell_type": "code",
   "execution_count": null,
   "metadata": {},
   "outputs": [],
   "source": []
  },
  {
   "cell_type": "code",
   "execution_count": null,
   "metadata": {},
   "outputs": [],
   "source": []
  },
  {
   "cell_type": "code",
   "execution_count": null,
   "metadata": {},
   "outputs": [],
   "source": []
  },
  {
   "cell_type": "code",
   "execution_count": 81,
   "metadata": {},
   "outputs": [
    {
     "name": "stdout",
     "output_type": "stream",
     "text": [
      "0         88380\n",
      "1        100837\n",
      "2        133750\n",
      "3        110862\n",
      "4         58595\n",
      "          ...  \n",
      "10033    158598\n",
      "10034    113581\n",
      "10035    197496\n",
      "10036     85384\n",
      "10037    133800\n",
      "Name: Mileage, Length: 10038, dtype: int64\n"
     ]
    }
   ],
   "source": [
    "# Having the mileage column in float rather than string\n",
    "\n",
    "df['Mileage'] = df['Mileage'].str.replace(' mi.', '').str.replace(',', '')\n",
    "df['Mileage'] = pd.to_numeric(df['Mileage'], errors='coerce')\n",
    "print(df['Mileage'])"
   ]
  },
  {
   "cell_type": "code",
   "execution_count": 82,
   "metadata": {
    "scrolled": true
   },
   "outputs": [
    {
     "data": {
      "text/html": [
       "<div>\n",
       "<style scoped>\n",
       "    .dataframe tbody tr th:only-of-type {\n",
       "        vertical-align: middle;\n",
       "    }\n",
       "\n",
       "    .dataframe tbody tr th {\n",
       "        vertical-align: top;\n",
       "    }\n",
       "\n",
       "    .dataframe thead th {\n",
       "        text-align: right;\n",
       "    }\n",
       "</style>\n",
       "<table border=\"1\" class=\"dataframe\">\n",
       "  <thead>\n",
       "    <tr style=\"text-align: right;\">\n",
       "      <th></th>\n",
       "      <th>Name</th>\n",
       "      <th>Mileage</th>\n",
       "      <th>Dealer Name</th>\n",
       "      <th>Rating</th>\n",
       "      <th>Review Count</th>\n",
       "      <th>Price</th>\n",
       "      <th>Year</th>\n",
       "      <th>Make</th>\n",
       "      <th>Model</th>\n",
       "      <th>Type</th>\n",
       "    </tr>\n",
       "  </thead>\n",
       "  <tbody>\n",
       "    <tr>\n",
       "      <th>0</th>\n",
       "      <td>2015 Ford C-Max Hybrid SEL</td>\n",
       "      <td>88380</td>\n",
       "      <td>Capitol Kia</td>\n",
       "      <td>3.8</td>\n",
       "      <td>180.0</td>\n",
       "      <td>10998.0</td>\n",
       "      <td>2015</td>\n",
       "      <td>Ford C</td>\n",
       "      <td>SEL</td>\n",
       "      <td>Hybrid SEL</td>\n",
       "    </tr>\n",
       "    <tr>\n",
       "      <th>1</th>\n",
       "      <td>2016 Kia Sorento LX</td>\n",
       "      <td>100837</td>\n",
       "      <td>Napleton Mazda of Naperville</td>\n",
       "      <td>3.9</td>\n",
       "      <td>115.0</td>\n",
       "      <td>12577.0</td>\n",
       "      <td>2016</td>\n",
       "      <td>Kia Sorento LX</td>\n",
       "      <td>LX</td>\n",
       "      <td>LX</td>\n",
       "    </tr>\n",
       "    <tr>\n",
       "      <th>2</th>\n",
       "      <td>2016 Mitsubishi Lancer ES</td>\n",
       "      <td>133750</td>\n",
       "      <td>AVA Auto Sales</td>\n",
       "      <td>0.0</td>\n",
       "      <td>8.0</td>\n",
       "      <td>8495.0</td>\n",
       "      <td>2016</td>\n",
       "      <td>Mitsubishi Lancer ES</td>\n",
       "      <td>ES</td>\n",
       "      <td>ES</td>\n",
       "    </tr>\n",
       "    <tr>\n",
       "      <th>3</th>\n",
       "      <td>2011 Ford Escape XLT</td>\n",
       "      <td>110862</td>\n",
       "      <td>94 Nissan Of South Holland</td>\n",
       "      <td>4.7</td>\n",
       "      <td>2682.0</td>\n",
       "      <td>7869.0</td>\n",
       "      <td>2011</td>\n",
       "      <td>Ford Escape XLT</td>\n",
       "      <td>XLT</td>\n",
       "      <td>XLT</td>\n",
       "    </tr>\n",
       "    <tr>\n",
       "      <th>4</th>\n",
       "      <td>2017 Dodge Journey SXT</td>\n",
       "      <td>58595</td>\n",
       "      <td>Lithia Chrysler Jeep Dodge Ram of Wasilla</td>\n",
       "      <td>4.6</td>\n",
       "      <td>543.0</td>\n",
       "      <td>14888.0</td>\n",
       "      <td>2017</td>\n",
       "      <td>Dodge Journey SXT</td>\n",
       "      <td>SXT</td>\n",
       "      <td>SXT</td>\n",
       "    </tr>\n",
       "    <tr>\n",
       "      <th>...</th>\n",
       "      <td>...</td>\n",
       "      <td>...</td>\n",
       "      <td>...</td>\n",
       "      <td>...</td>\n",
       "      <td>...</td>\n",
       "      <td>...</td>\n",
       "      <td>...</td>\n",
       "      <td>...</td>\n",
       "      <td>...</td>\n",
       "      <td>...</td>\n",
       "    </tr>\n",
       "    <tr>\n",
       "      <th>10033</th>\n",
       "      <td>2014 Chevrolet Silverado 1500 LT</td>\n",
       "      <td>158598</td>\n",
       "      <td>City Auto Sales Corp</td>\n",
       "      <td>0.0</td>\n",
       "      <td>1.0</td>\n",
       "      <td>13995.0</td>\n",
       "      <td>2014</td>\n",
       "      <td>Chevrolet Silverado</td>\n",
       "      <td>LT</td>\n",
       "      <td>1500 LT</td>\n",
       "    </tr>\n",
       "    <tr>\n",
       "      <th>10034</th>\n",
       "      <td>2019 Hyundai Sonata SE</td>\n",
       "      <td>113581</td>\n",
       "      <td>Auto Boutique</td>\n",
       "      <td>4.8</td>\n",
       "      <td>1074.0</td>\n",
       "      <td>13500.0</td>\n",
       "      <td>2019</td>\n",
       "      <td>Hyundai Sonata SE</td>\n",
       "      <td>SE</td>\n",
       "      <td>SE</td>\n",
       "    </tr>\n",
       "    <tr>\n",
       "      <th>10035</th>\n",
       "      <td>2013 Dodge Journey SXT</td>\n",
       "      <td>197496</td>\n",
       "      <td>Ryan Auto Mall Chrysler Dodge Jeep Ram Of Mont...</td>\n",
       "      <td>0.0</td>\n",
       "      <td>29.0</td>\n",
       "      <td>7425.0</td>\n",
       "      <td>2013</td>\n",
       "      <td>Dodge Journey SXT</td>\n",
       "      <td>SXT</td>\n",
       "      <td>SXT</td>\n",
       "    </tr>\n",
       "    <tr>\n",
       "      <th>10036</th>\n",
       "      <td>2007 Lexus ES 350</td>\n",
       "      <td>85384</td>\n",
       "      <td>Mountain Motors, Inc</td>\n",
       "      <td>0.0</td>\n",
       "      <td>7.0</td>\n",
       "      <td>11995.0</td>\n",
       "      <td>2007</td>\n",
       "      <td>Lexus ES</td>\n",
       "      <td>NaN</td>\n",
       "      <td>350</td>\n",
       "    </tr>\n",
       "    <tr>\n",
       "      <th>10037</th>\n",
       "      <td>2013 Jeep Patriot Latitude</td>\n",
       "      <td>133800</td>\n",
       "      <td>A Plus Auto Sales GB LLC</td>\n",
       "      <td>4.7</td>\n",
       "      <td>25.0</td>\n",
       "      <td>8995.0</td>\n",
       "      <td>2013</td>\n",
       "      <td>Jeep Patriot Latitude</td>\n",
       "      <td>Latitude</td>\n",
       "      <td>Latitude</td>\n",
       "    </tr>\n",
       "  </tbody>\n",
       "</table>\n",
       "<p>10038 rows × 10 columns</p>\n",
       "</div>"
      ],
      "text/plain": [
       "                                   Name  Mileage  \\\n",
       "0            2015 Ford C-Max Hybrid SEL    88380   \n",
       "1                   2016 Kia Sorento LX   100837   \n",
       "2             2016 Mitsubishi Lancer ES   133750   \n",
       "3                  2011 Ford Escape XLT   110862   \n",
       "4                2017 Dodge Journey SXT    58595   \n",
       "...                                 ...      ...   \n",
       "10033  2014 Chevrolet Silverado 1500 LT   158598   \n",
       "10034            2019 Hyundai Sonata SE   113581   \n",
       "10035            2013 Dodge Journey SXT   197496   \n",
       "10036                2007 Lexus ES 350     85384   \n",
       "10037        2013 Jeep Patriot Latitude   133800   \n",
       "\n",
       "                                             Dealer Name  Rating  \\\n",
       "0                                            Capitol Kia     3.8   \n",
       "1                           Napleton Mazda of Naperville     3.9   \n",
       "2                                         AVA Auto Sales     0.0   \n",
       "3                             94 Nissan Of South Holland     4.7   \n",
       "4              Lithia Chrysler Jeep Dodge Ram of Wasilla     4.6   \n",
       "...                                                  ...     ...   \n",
       "10033                               City Auto Sales Corp     0.0   \n",
       "10034                                      Auto Boutique     4.8   \n",
       "10035  Ryan Auto Mall Chrysler Dodge Jeep Ram Of Mont...     0.0   \n",
       "10036                               Mountain Motors, Inc     0.0   \n",
       "10037                           A Plus Auto Sales GB LLC     4.7   \n",
       "\n",
       "       Review Count    Price  Year                    Make     Model  \\\n",
       "0             180.0  10998.0  2015                  Ford C       SEL   \n",
       "1             115.0  12577.0  2016          Kia Sorento LX        LX   \n",
       "2               8.0   8495.0  2016    Mitsubishi Lancer ES        ES   \n",
       "3            2682.0   7869.0  2011         Ford Escape XLT       XLT   \n",
       "4             543.0  14888.0  2017       Dodge Journey SXT       SXT   \n",
       "...             ...      ...   ...                     ...       ...   \n",
       "10033           1.0  13995.0  2014    Chevrolet Silverado         LT   \n",
       "10034        1074.0  13500.0  2019       Hyundai Sonata SE        SE   \n",
       "10035          29.0   7425.0  2013       Dodge Journey SXT       SXT   \n",
       "10036           7.0  11995.0  2007               Lexus ES        NaN   \n",
       "10037          25.0   8995.0  2013   Jeep Patriot Latitude  Latitude   \n",
       "\n",
       "             Type  \n",
       "0      Hybrid SEL  \n",
       "1              LX  \n",
       "2              ES  \n",
       "3             XLT  \n",
       "4             SXT  \n",
       "...           ...  \n",
       "10033     1500 LT  \n",
       "10034          SE  \n",
       "10035         SXT  \n",
       "10036        350   \n",
       "10037    Latitude  \n",
       "\n",
       "[10038 rows x 10 columns]"
      ]
     },
     "execution_count": 82,
     "metadata": {},
     "output_type": "execute_result"
    }
   ],
   "source": [
    "df"
   ]
  },
  {
   "cell_type": "code",
   "execution_count": 79,
   "metadata": {},
   "outputs": [
    {
     "name": "stdout",
     "output_type": "stream",
     "text": [
      "0         180.0\n",
      "1         115.0\n",
      "2           8.0\n",
      "3        2682.0\n",
      "4         543.0\n",
      "          ...  \n",
      "10033       1.0\n",
      "10034    1074.0\n",
      "10035      29.0\n",
      "10036       7.0\n",
      "10037      25.0\n",
      "Name: Review Count, Length: 10038, dtype: float64\n"
     ]
    }
   ],
   "source": [
    "# Having Review count to float\n",
    "df['Review Count'] = df['Review Count'].str.replace(r'\\D', '', regex=True).astype(float)\n",
    "print(df['Review Count'])"
   ]
  },
  {
   "cell_type": "markdown",
   "metadata": {},
   "source": [
    "# Linear Regression Model on just Mileage & Price"
   ]
  },
  {
   "cell_type": "code",
   "execution_count": 28,
   "metadata": {},
   "outputs": [],
   "source": [
    "X = df[['Mileage']]\n",
    "y = df['Price']\n",
    "X_train, X_test, y_train, y_test = train_test_split(X, y, test_size=0.2, random_state=42)"
   ]
  },
  {
   "cell_type": "code",
   "execution_count": 29,
   "metadata": {},
   "outputs": [
    {
     "data": {
      "text/plain": [
       "Pipeline(steps=[('scaler', StandardScaler()), ('model', LinearRegression())])"
      ]
     },
     "execution_count": 29,
     "metadata": {},
     "output_type": "execute_result"
    }
   ],
   "source": [
    "linear_reg_pipeline = Pipeline(steps=[('scaler', StandardScaler()), ('model', LinearRegression())])\n",
    "linear_reg_pipeline.fit(X_train, y_train)"
   ]
  },
  {
   "cell_type": "code",
   "execution_count": 30,
   "metadata": {},
   "outputs": [],
   "source": [
    "y_pred_linear = linear_reg_pipeline.predict(X_test)"
   ]
  },
  {
   "cell_type": "code",
   "execution_count": 34,
   "metadata": {},
   "outputs": [
    {
     "name": "stdout",
     "output_type": "stream",
     "text": [
      "2669.585677267203\n",
      "0.149793515809722\n"
     ]
    }
   ],
   "source": [
    "rmse_linear = mean_squared_error(y_test, y_pred_linear, squared=False)\n",
    "r2_linear = r2_score(y_test, y_pred_linear)\n",
    "print(rmse_linear)\n",
    "print(r2_linear)"
   ]
  },
  {
   "cell_type": "code",
   "execution_count": null,
   "metadata": {},
   "outputs": [],
   "source": []
  },
  {
   "cell_type": "code",
   "execution_count": null,
   "metadata": {},
   "outputs": [],
   "source": []
  },
  {
   "cell_type": "markdown",
   "metadata": {},
   "source": [
    "# Linear Regression Model using all columns"
   ]
  },
  {
   "cell_type": "code",
   "execution_count": 35,
   "metadata": {},
   "outputs": [],
   "source": [
    "# X = df[['Mileage', 'Rating', 'Review Count', 'Year']]\n",
    "# y = df['Price']\n",
    "\n",
    "# X_train, X_test, y_train, y_test = train_test_split(X, y, test_size=0.2, random_state=42)"
   ]
  },
  {
   "cell_type": "code",
   "execution_count": null,
   "metadata": {},
   "outputs": [],
   "source": [
    "linear_reg_pipeline = Pipeline(steps=[('scaler', StandardScaler()), ('model', LinearRegression())])\n",
    "linear_reg_pipeline.fit(X_train, y_train)"
   ]
  },
  {
   "cell_type": "code",
   "execution_count": 37,
   "metadata": {},
   "outputs": [],
   "source": [
    "y_pred_linears = linear_reg_pipeline.predict(X_test)"
   ]
  },
  {
   "cell_type": "code",
   "execution_count": 38,
   "metadata": {},
   "outputs": [
    {
     "name": "stdout",
     "output_type": "stream",
     "text": [
      "2558.871058409426\n",
      "0.21885170298259604\n"
     ]
    }
   ],
   "source": [
    "rmse_linears = mean_squared_error(y_test, y_pred_linears, squared=False)\n",
    "r2_linears = r2_score(y_test, y_pred_linears)\n",
    "print(rmse_linears)\n",
    "print(r2_linears)"
   ]
  },
  {
   "cell_type": "code",
   "execution_count": null,
   "metadata": {},
   "outputs": [],
   "source": []
  },
  {
   "cell_type": "code",
   "execution_count": null,
   "metadata": {},
   "outputs": [],
   "source": []
  },
  {
   "cell_type": "markdown",
   "metadata": {},
   "source": [
    "# Decision Tree"
   ]
  },
  {
   "cell_type": "code",
   "execution_count": 89,
   "metadata": {},
   "outputs": [],
   "source": [
    "X = df[['Mileage', 'Rating', 'Review Count', 'Year']]\n",
    "y = df['Price']\n",
    "\n",
    "X_train, X_test, y_train, y_test = train_test_split(X, y, test_size=0.2, random_state=42)"
   ]
  },
  {
   "cell_type": "code",
   "execution_count": 90,
   "metadata": {},
   "outputs": [
    {
     "data": {
      "text/plain": [
       "Pipeline(steps=[('scaler', StandardScaler()),\n",
       "                ('model', DecisionTreeRegressor())])"
      ]
     },
     "execution_count": 90,
     "metadata": {},
     "output_type": "execute_result"
    }
   ],
   "source": [
    "dt_reg_pipeline = Pipeline(steps=[('scaler', StandardScaler()), ('model', DecisionTreeRegressor())])\n",
    "dt_reg_pipeline.fit(X_train, y_train)"
   ]
  },
  {
   "cell_type": "code",
   "execution_count": 91,
   "metadata": {},
   "outputs": [],
   "source": [
    "y_pred_dt = dt_reg_pipeline.predict(X_test)"
   ]
  },
  {
   "cell_type": "code",
   "execution_count": 92,
   "metadata": {},
   "outputs": [
    {
     "name": "stdout",
     "output_type": "stream",
     "text": [
      "3443.5902998740216\n",
      "-0.41468463692726276\n"
     ]
    }
   ],
   "source": [
    "rmse_dt = mean_squared_error(y_test, y_pred_dt, squared=False)\n",
    "r2_dt = r2_score(y_test, y_pred_dt)\n",
    "print(rmse_dt)\n",
    "print(r2_dt)"
   ]
  },
  {
   "cell_type": "code",
   "execution_count": null,
   "metadata": {},
   "outputs": [],
   "source": []
  },
  {
   "cell_type": "code",
   "execution_count": null,
   "metadata": {},
   "outputs": [],
   "source": []
  },
  {
   "cell_type": "markdown",
   "metadata": {},
   "source": [
    "# Random Forest"
   ]
  },
  {
   "cell_type": "code",
   "execution_count": 45,
   "metadata": {},
   "outputs": [],
   "source": [
    "X = df[['Mileage', 'Rating', 'Review Count', 'Year']]\n",
    "y = df['Price']\n",
    "\n",
    "X_train, X_test, y_train, y_test = train_test_split(X, y, test_size=0.2, random_state=42)"
   ]
  },
  {
   "cell_type": "code",
   "execution_count": 46,
   "metadata": {},
   "outputs": [
    {
     "data": {
      "text/plain": [
       "Pipeline(steps=[('scaler', StandardScaler()),\n",
       "                ('model', RandomForestRegressor())])"
      ]
     },
     "execution_count": 46,
     "metadata": {},
     "output_type": "execute_result"
    }
   ],
   "source": [
    "rf_reg_pipeline = Pipeline(steps=[('scaler', StandardScaler()), ('model', RandomForestRegressor())])\n",
    "rf_reg_pipeline.fit(X_train, y_train)"
   ]
  },
  {
   "cell_type": "code",
   "execution_count": 47,
   "metadata": {},
   "outputs": [],
   "source": [
    "y_pred_rf = rf_reg_pipeline.predict(X_test)"
   ]
  },
  {
   "cell_type": "code",
   "execution_count": 49,
   "metadata": {},
   "outputs": [
    {
     "name": "stdout",
     "output_type": "stream",
     "text": [
      "2546.399420067465\n",
      "0.22644759793819902\n"
     ]
    }
   ],
   "source": [
    "rmse_rf = mean_squared_error(y_test, y_pred_rf, squared=False)\n",
    "r2_rf = r2_score(y_test, y_pred_rf)\n",
    "print(rmse_rf)\n",
    "print(r2_rf)"
   ]
  },
  {
   "cell_type": "code",
   "execution_count": null,
   "metadata": {},
   "outputs": [],
   "source": []
  },
  {
   "cell_type": "code",
   "execution_count": null,
   "metadata": {},
   "outputs": [],
   "source": []
  },
  {
   "cell_type": "code",
   "execution_count": null,
   "metadata": {},
   "outputs": [],
   "source": []
  },
  {
   "cell_type": "code",
   "execution_count": null,
   "metadata": {},
   "outputs": [],
   "source": []
  },
  {
   "cell_type": "markdown",
   "metadata": {},
   "source": [
    "# Tuned model on Random Forest "
   ]
  },
  {
   "cell_type": "code",
   "execution_count": 83,
   "metadata": {},
   "outputs": [],
   "source": [
    "X = df[['Mileage', 'Rating', 'Review Count', 'Year']]\n",
    "y = df['Price']\n",
    "\n",
    "X_train, X_test, y_train, y_test = train_test_split(X, y, test_size=0.2, random_state=42)"
   ]
  },
  {
   "cell_type": "code",
   "execution_count": 84,
   "metadata": {},
   "outputs": [],
   "source": [
    "rf_reg_pipeline = Pipeline(steps=[('scaler', StandardScaler()), ('model', RandomForestRegressor())])\n",
    "\n",
    "param_dist = {\n",
    "    'model__n_estimators': [100, 200, 300, 400, 500],\n",
    "    'model__max_features': ['auto', 'sqrt'],\n",
    "    'model__max_depth': [None, 10, 20, 30, 40, 50],  \n",
    "    'model__min_samples_split': [2, 5, 10],  \n",
    "    'model__min_samples_leaf': [1, 2, 4]  \n",
    "}"
   ]
  },
  {
   "cell_type": "code",
   "execution_count": 85,
   "metadata": {},
   "outputs": [
    {
     "data": {
      "text/plain": [
       "RandomizedSearchCV(cv=5,\n",
       "                   estimator=Pipeline(steps=[('scaler', StandardScaler()),\n",
       "                                             ('model',\n",
       "                                              RandomForestRegressor())]),\n",
       "                   param_distributions={'model__max_depth': [None, 10, 20, 30,\n",
       "                                                             40, 50],\n",
       "                                        'model__max_features': ['auto', 'sqrt'],\n",
       "                                        'model__min_samples_leaf': [1, 2, 4],\n",
       "                                        'model__min_samples_split': [2, 5, 10],\n",
       "                                        'model__n_estimators': [100, 200, 300,\n",
       "                                                                400, 500]},\n",
       "                   random_state=42)"
      ]
     },
     "execution_count": 85,
     "metadata": {},
     "output_type": "execute_result"
    }
   ],
   "source": [
    "# Perform Randomized Search Cross-Validation\n",
    "random_search = RandomizedSearchCV(rf_reg_pipeline, param_distributions=param_dist, n_iter=10, cv=5, random_state=42)\n",
    "random_search.fit(X_train, y_train)"
   ]
  },
  {
   "cell_type": "code",
   "execution_count": 86,
   "metadata": {},
   "outputs": [
    {
     "name": "stdout",
     "output_type": "stream",
     "text": [
      "Best Hyperparameters: {'model__n_estimators': 200, 'model__min_samples_split': 10, 'model__min_samples_leaf': 4, 'model__max_features': 'sqrt', 'model__max_depth': None}\n"
     ]
    }
   ],
   "source": [
    "best_params = random_search.best_params_\n",
    "print(\"Best Hyperparameters:\", best_params)"
   ]
  },
  {
   "cell_type": "code",
   "execution_count": 87,
   "metadata": {},
   "outputs": [],
   "source": [
    "best_model = random_search.best_estimator_\n",
    "y_pred_rf = best_model.predict(X_test)"
   ]
  },
  {
   "cell_type": "code",
   "execution_count": 88,
   "metadata": {},
   "outputs": [
    {
     "name": "stdout",
     "output_type": "stream",
     "text": [
      "Random Forest Regressor (with Hyperparameter Tuning):\n",
      "Root Mean Squared Error: 2454.6955968549228\n",
      "R-squared: 0.2811604348190099\n"
     ]
    }
   ],
   "source": [
    "rmse_rf = mean_squared_error(y_test, y_pred_rf, squared=False)\n",
    "r2_rf = r2_score(y_test, y_pred_rf)\n",
    "print(\"RMSE:\", rmse_rf)\n",
    "print(\"R-squared:\", r2_rf)"
   ]
  },
  {
   "cell_type": "markdown",
   "metadata": {},
   "source": [
    "- slightly better, barely by much"
   ]
  },
  {
   "cell_type": "code",
   "execution_count": null,
   "metadata": {},
   "outputs": [],
   "source": []
  },
  {
   "cell_type": "code",
   "execution_count": null,
   "metadata": {},
   "outputs": [],
   "source": []
  },
  {
   "cell_type": "markdown",
   "metadata": {},
   "source": [
    "# Gradient Boost"
   ]
  },
  {
   "cell_type": "code",
   "execution_count": 94,
   "metadata": {},
   "outputs": [],
   "source": [
    "X = df[['Mileage', 'Rating', 'Review Count', 'Year']]\n",
    "y = df['Price']\n",
    "\n",
    "X_train, X_test, y_train, y_test = train_test_split(X, y, test_size=0.2, random_state=42)"
   ]
  },
  {
   "cell_type": "code",
   "execution_count": 95,
   "metadata": {},
   "outputs": [],
   "source": [
    "gb_reg_pipeline = Pipeline(steps=[('scaler', StandardScaler()), ('model', GradientBoostingRegressor())])\n",
    "param_grid = {\n",
    "    'model__n_estimators': [100, 200, 300, 400, 500],  \n",
    "    'model__learning_rate': [0.01, 0.05, 0.1, 0.2], \n",
    "    'model__max_depth': [3, 4, 5, 6],  \n",
    "}"
   ]
  },
  {
   "cell_type": "code",
   "execution_count": 96,
   "metadata": {},
   "outputs": [
    {
     "data": {
      "text/plain": [
       "GridSearchCV(cv=5,\n",
       "             estimator=Pipeline(steps=[('scaler', StandardScaler()),\n",
       "                                       ('model', GradientBoostingRegressor())]),\n",
       "             param_grid={'model__learning_rate': [0.01, 0.05, 0.1, 0.2],\n",
       "                         'model__max_depth': [3, 4, 5, 6],\n",
       "                         'model__n_estimators': [100, 200, 300, 400, 500]})"
      ]
     },
     "execution_count": 96,
     "metadata": {},
     "output_type": "execute_result"
    }
   ],
   "source": [
    "grid_search = GridSearchCV(gb_reg_pipeline, param_grid=param_grid, cv=5)\n",
    "grid_search.fit(X_train, y_train)"
   ]
  },
  {
   "cell_type": "code",
   "execution_count": 97,
   "metadata": {},
   "outputs": [
    {
     "name": "stdout",
     "output_type": "stream",
     "text": [
      "Best Hyperparameters (Gradient Boosting): {'model__learning_rate': 0.05, 'model__max_depth': 3, 'model__n_estimators': 300}\n"
     ]
    }
   ],
   "source": [
    "best_params_gb = grid_search.best_params_\n",
    "print(\"Best Hyperparameters (Gradient Boosting):\", best_params_gb)"
   ]
  },
  {
   "cell_type": "code",
   "execution_count": 98,
   "metadata": {},
   "outputs": [],
   "source": [
    "best_model_gb = grid_search.best_estimator_\n",
    "y_pred_gb = best_model_gb.predict(X_test)"
   ]
  },
  {
   "cell_type": "code",
   "execution_count": 99,
   "metadata": {},
   "outputs": [
    {
     "name": "stdout",
     "output_type": "stream",
     "text": [
      "Gradient Boosting Regressor (with Hyperparameter Tuning):\n",
      "Root Mean Squared Error: 2449.437422552688\n",
      "R-squared: 0.2842367717945361\n"
     ]
    }
   ],
   "source": [
    "rmse_gb = mean_squared_error(y_test, y_pred_gb, squared=False)\n",
    "r2_gb = r2_score(y_test, y_pred_gb)\n",
    "\n",
    "print(\"Gradient Boosting Regressor (with Hyperparameter Tuning):\")\n",
    "print(\"Root Mean Squared Error:\", rmse_gb)\n",
    "print(\"R-squared:\", r2_gb)"
   ]
  },
  {
   "cell_type": "code",
   "execution_count": null,
   "metadata": {},
   "outputs": [],
   "source": []
  },
  {
   "cell_type": "code",
   "execution_count": null,
   "metadata": {},
   "outputs": [],
   "source": []
  },
  {
   "cell_type": "code",
   "execution_count": null,
   "metadata": {},
   "outputs": [],
   "source": []
  },
  {
   "cell_type": "code",
   "execution_count": null,
   "metadata": {},
   "outputs": [],
   "source": []
  },
  {
   "cell_type": "code",
   "execution_count": 109,
   "metadata": {},
   "outputs": [
    {
     "name": "stdout",
     "output_type": "stream",
     "text": [
      "MLP RMSE: 2650.464405855152\n",
      "MLP R-squared: 0.16192933709855384\n"
     ]
    }
   ],
   "source": [
    "mlp = MLPRegressor()\n",
    "mlp.fit(X_train, y_train)\n",
    "y_pred_mlp = mlp.predict(X_test)\n",
    "\n",
    "rmse_mlp = sqrt(mean_squared_error(y_test, y_pred_mlp))\n",
    "r_squared_mlp = r2_score(y_test, y_pred_mlp)\n",
    "\n",
    "print(\"MLP RMSE:\", rmse_mlp)\n",
    "print(\"MLP R-squared:\", r_squared_mlp)\n"
   ]
  },
  {
   "cell_type": "code",
   "execution_count": null,
   "metadata": {},
   "outputs": [],
   "source": []
  },
  {
   "cell_type": "code",
   "execution_count": null,
   "metadata": {},
   "outputs": [],
   "source": []
  },
  {
   "cell_type": "code",
   "execution_count": 124,
   "metadata": {},
   "outputs": [
    {
     "data": {
      "text/html": [
       "<div>\n",
       "<style scoped>\n",
       "    .dataframe tbody tr th:only-of-type {\n",
       "        vertical-align: middle;\n",
       "    }\n",
       "\n",
       "    .dataframe tbody tr th {\n",
       "        vertical-align: top;\n",
       "    }\n",
       "\n",
       "    .dataframe thead th {\n",
       "        text-align: right;\n",
       "    }\n",
       "</style>\n",
       "<table border=\"1\" class=\"dataframe\">\n",
       "  <thead>\n",
       "    <tr style=\"text-align: right;\">\n",
       "      <th></th>\n",
       "      <th>Name</th>\n",
       "      <th>Mileage</th>\n",
       "      <th>Dealer Name</th>\n",
       "      <th>Rating</th>\n",
       "      <th>Review Count</th>\n",
       "      <th>Price</th>\n",
       "      <th>Year</th>\n",
       "      <th>Type</th>\n",
       "      <th>Make_ Acura ILX</th>\n",
       "      <th>Make_ Acura ILX AcuraWatch Plus Package</th>\n",
       "      <th>...</th>\n",
       "      <th>Model_trans</th>\n",
       "      <th>Model_x</th>\n",
       "      <th>Model_xDrive</th>\n",
       "      <th>Model_xDrive28i</th>\n",
       "      <th>Model_xDrive30i</th>\n",
       "      <th>Model_xDrive35d</th>\n",
       "      <th>Model_xDrive35i</th>\n",
       "      <th>Model_xDrive48i</th>\n",
       "      <th>Model_xDrive50i</th>\n",
       "      <th>Model_xi</th>\n",
       "    </tr>\n",
       "  </thead>\n",
       "  <tbody>\n",
       "    <tr>\n",
       "      <th>0</th>\n",
       "      <td>2015 Ford C-Max Hybrid SEL</td>\n",
       "      <td>88380</td>\n",
       "      <td>Capitol Kia</td>\n",
       "      <td>3.8</td>\n",
       "      <td>180.0</td>\n",
       "      <td>10998.0</td>\n",
       "      <td>2015</td>\n",
       "      <td>Hybrid SEL</td>\n",
       "      <td>0</td>\n",
       "      <td>0</td>\n",
       "      <td>...</td>\n",
       "      <td>0</td>\n",
       "      <td>0</td>\n",
       "      <td>0</td>\n",
       "      <td>0</td>\n",
       "      <td>0</td>\n",
       "      <td>0</td>\n",
       "      <td>0</td>\n",
       "      <td>0</td>\n",
       "      <td>0</td>\n",
       "      <td>0</td>\n",
       "    </tr>\n",
       "    <tr>\n",
       "      <th>1</th>\n",
       "      <td>2016 Kia Sorento LX</td>\n",
       "      <td>100837</td>\n",
       "      <td>Napleton Mazda of Naperville</td>\n",
       "      <td>3.9</td>\n",
       "      <td>115.0</td>\n",
       "      <td>12577.0</td>\n",
       "      <td>2016</td>\n",
       "      <td>LX</td>\n",
       "      <td>0</td>\n",
       "      <td>0</td>\n",
       "      <td>...</td>\n",
       "      <td>0</td>\n",
       "      <td>0</td>\n",
       "      <td>0</td>\n",
       "      <td>0</td>\n",
       "      <td>0</td>\n",
       "      <td>0</td>\n",
       "      <td>0</td>\n",
       "      <td>0</td>\n",
       "      <td>0</td>\n",
       "      <td>0</td>\n",
       "    </tr>\n",
       "    <tr>\n",
       "      <th>2</th>\n",
       "      <td>2016 Mitsubishi Lancer ES</td>\n",
       "      <td>133750</td>\n",
       "      <td>AVA Auto Sales</td>\n",
       "      <td>0.0</td>\n",
       "      <td>8.0</td>\n",
       "      <td>8495.0</td>\n",
       "      <td>2016</td>\n",
       "      <td>ES</td>\n",
       "      <td>0</td>\n",
       "      <td>0</td>\n",
       "      <td>...</td>\n",
       "      <td>0</td>\n",
       "      <td>0</td>\n",
       "      <td>0</td>\n",
       "      <td>0</td>\n",
       "      <td>0</td>\n",
       "      <td>0</td>\n",
       "      <td>0</td>\n",
       "      <td>0</td>\n",
       "      <td>0</td>\n",
       "      <td>0</td>\n",
       "    </tr>\n",
       "    <tr>\n",
       "      <th>3</th>\n",
       "      <td>2011 Ford Escape XLT</td>\n",
       "      <td>110862</td>\n",
       "      <td>94 Nissan Of South Holland</td>\n",
       "      <td>4.7</td>\n",
       "      <td>2682.0</td>\n",
       "      <td>7869.0</td>\n",
       "      <td>2011</td>\n",
       "      <td>XLT</td>\n",
       "      <td>0</td>\n",
       "      <td>0</td>\n",
       "      <td>...</td>\n",
       "      <td>0</td>\n",
       "      <td>0</td>\n",
       "      <td>0</td>\n",
       "      <td>0</td>\n",
       "      <td>0</td>\n",
       "      <td>0</td>\n",
       "      <td>0</td>\n",
       "      <td>0</td>\n",
       "      <td>0</td>\n",
       "      <td>0</td>\n",
       "    </tr>\n",
       "    <tr>\n",
       "      <th>4</th>\n",
       "      <td>2017 Dodge Journey SXT</td>\n",
       "      <td>58595</td>\n",
       "      <td>Lithia Chrysler Jeep Dodge Ram of Wasilla</td>\n",
       "      <td>4.6</td>\n",
       "      <td>543.0</td>\n",
       "      <td>14888.0</td>\n",
       "      <td>2017</td>\n",
       "      <td>SXT</td>\n",
       "      <td>0</td>\n",
       "      <td>0</td>\n",
       "      <td>...</td>\n",
       "      <td>0</td>\n",
       "      <td>0</td>\n",
       "      <td>0</td>\n",
       "      <td>0</td>\n",
       "      <td>0</td>\n",
       "      <td>0</td>\n",
       "      <td>0</td>\n",
       "      <td>0</td>\n",
       "      <td>0</td>\n",
       "      <td>0</td>\n",
       "    </tr>\n",
       "  </tbody>\n",
       "</table>\n",
       "<p>5 rows × 1839 columns</p>\n",
       "</div>"
      ],
      "text/plain": [
       "                         Name  Mileage  \\\n",
       "0  2015 Ford C-Max Hybrid SEL    88380   \n",
       "1         2016 Kia Sorento LX   100837   \n",
       "2   2016 Mitsubishi Lancer ES   133750   \n",
       "3        2011 Ford Escape XLT   110862   \n",
       "4      2017 Dodge Journey SXT    58595   \n",
       "\n",
       "                                 Dealer Name  Rating  Review Count    Price  \\\n",
       "0                                Capitol Kia     3.8         180.0  10998.0   \n",
       "1               Napleton Mazda of Naperville     3.9         115.0  12577.0   \n",
       "2                             AVA Auto Sales     0.0           8.0   8495.0   \n",
       "3                 94 Nissan Of South Holland     4.7        2682.0   7869.0   \n",
       "4  Lithia Chrysler Jeep Dodge Ram of Wasilla     4.6         543.0  14888.0   \n",
       "\n",
       "   Year        Type  Make_ Acura ILX   \\\n",
       "0  2015  Hybrid SEL                 0   \n",
       "1  2016          LX                 0   \n",
       "2  2016          ES                 0   \n",
       "3  2011         XLT                 0   \n",
       "4  2017         SXT                 0   \n",
       "\n",
       "   Make_ Acura ILX AcuraWatch Plus Package  ...  Model_trans  Model_x  \\\n",
       "0                                        0  ...            0        0   \n",
       "1                                        0  ...            0        0   \n",
       "2                                        0  ...            0        0   \n",
       "3                                        0  ...            0        0   \n",
       "4                                        0  ...            0        0   \n",
       "\n",
       "   Model_xDrive  Model_xDrive28i  Model_xDrive30i  Model_xDrive35d  \\\n",
       "0             0                0                0                0   \n",
       "1             0                0                0                0   \n",
       "2             0                0                0                0   \n",
       "3             0                0                0                0   \n",
       "4             0                0                0                0   \n",
       "\n",
       "   Model_xDrive35i  Model_xDrive48i  Model_xDrive50i  Model_xi  \n",
       "0                0                0                0         0  \n",
       "1                0                0                0         0  \n",
       "2                0                0                0         0  \n",
       "3                0                0                0         0  \n",
       "4                0                0                0         0  \n",
       "\n",
       "[5 rows x 1839 columns]"
      ]
     },
     "execution_count": 124,
     "metadata": {},
     "output_type": "execute_result"
    }
   ],
   "source": [
    "df.head()"
   ]
  },
  {
   "cell_type": "code",
   "execution_count": 137,
   "metadata": {},
   "outputs": [
    {
     "name": "stdout",
     "output_type": "stream",
     "text": [
      "Index(['Type'], dtype='object')\n"
     ]
    }
   ],
   "source": [
    "# Check for columns with non-numeric data types\n",
    "non_numeric_columns = df.select_dtypes(exclude=['int64', 'float64', 'uint8']).columns\n",
    "print(non_numeric_columns)\n"
   ]
  },
  {
   "cell_type": "code",
   "execution_count": 138,
   "metadata": {},
   "outputs": [
    {
     "name": "stdout",
     "output_type": "stream",
     "text": [
      "Index([], dtype='object')\n"
     ]
    }
   ],
   "source": [
    "# One-hot encode the 'Type' column\n",
    "df_encoded = pd.get_dummies(df, columns=['Type'], drop_first=True)\n",
    "\n",
    "# Check for any remaining non-numeric columns\n",
    "non_numeric_columns = df_encoded.select_dtypes(exclude=['int64', 'float64', 'uint8']).columns\n",
    "print(non_numeric_columns)\n"
   ]
  },
  {
   "cell_type": "code",
   "execution_count": 139,
   "metadata": {},
   "outputs": [
    {
     "name": "stdout",
     "output_type": "stream",
     "text": [
      "Fitting 5 folds for each of 162 candidates, totalling 810 fits\n"
     ]
    },
    {
     "name": "stderr",
     "output_type": "stream",
     "text": [
      "[Parallel(n_jobs=-1)]: Using backend LokyBackend with 8 concurrent workers.\n",
      "[Parallel(n_jobs=-1)]: Done  25 tasks      | elapsed:  1.7min\n",
      "[Parallel(n_jobs=-1)]: Done 146 tasks      | elapsed:  7.9min\n",
      "[Parallel(n_jobs=-1)]: Done 349 tasks      | elapsed: 15.4min\n",
      "[Parallel(n_jobs=-1)]: Done 632 tasks      | elapsed: 30.8min\n",
      "[Parallel(n_jobs=-1)]: Done 810 out of 810 | elapsed: 36.1min finished\n"
     ]
    },
    {
     "name": "stdout",
     "output_type": "stream",
     "text": [
      "Best Hyperparameters: {'max_depth': 15, 'max_features': 'auto', 'min_samples_leaf': 1, 'min_samples_split': 5, 'n_estimators': 300}\n",
      "Root Mean Squared Error: 2233.7917995450757\n",
      "R-squared: 0.4047189327124795\n"
     ]
    }
   ],
   "source": [
    "X = df_encoded.drop('Price', axis=1)\n",
    "y = df_encoded['Price']\n",
    "X_train, X_test, y_train, y_test = train_test_split(X, y, test_size=0.2, random_state=42)\n",
    "\n",
    "param_grid = {\n",
    "    'n_estimators': [100, 200, 300],\n",
    "    'max_depth': [5, 10, 15],\n",
    "    'min_samples_split': [2, 5, 10],\n",
    "    'min_samples_leaf': [1, 2, 4],\n",
    "    'max_features': ['auto', 'sqrt']\n",
    "}\n",
    "\n",
    "rf_reg = RandomForestRegressor(random_state=42)\n",
    "\n",
    "grid_search = GridSearchCV(estimator=rf_reg, param_grid=param_grid, cv=5, n_jobs=-1, verbose=2)\n",
    "\n",
    "grid_search.fit(X_train, y_train)\n",
    "best_rf_model = grid_search.best_estimator_\n",
    "y_pred = best_rf_model.predict(X_test)\n",
    "\n",
    "rmse = np.sqrt(mean_squared_error(y_test, y_pred))\n",
    "r2 = r2_score(y_test, y_pred)\n",
    "\n",
    "print(\"Root Mean Squared Error:\", rmse)\n",
    "print(\"R-squared:\", r2)\n"
   ]
  },
  {
   "cell_type": "code",
   "execution_count": null,
   "metadata": {},
   "outputs": [],
   "source": []
  },
  {
   "cell_type": "code",
   "execution_count": 145,
   "metadata": {},
   "outputs": [
    {
     "name": "stdout",
     "output_type": "stream",
     "text": [
      "           Feature  Importance\n",
      "3             Year    0.326597\n",
      "0          Mileage    0.243123\n",
      "2     Review Count    0.042139\n",
      "1           Rating    0.019752\n",
      "1713      Model_SE    0.012610\n",
      "433   Make_ Ford F    0.010526\n",
      "1521     Model_Cab    0.008125\n",
      "381    Make_ FIAT     0.007245\n",
      "1708       Model_S    0.006630\n",
      "2849       Type_SE    0.005582\n"
     ]
    }
   ],
   "source": [
    "importances_rf = best_rf_model.feature_importances_\n",
    "feature_importance_df_rf = pd.DataFrame({'Feature': X_train.columns, 'Importance': importances_rf})\n",
    "feature_importance_df_rf = feature_importance_df_rf.sort_values(by='Importance', ascending=False)\n",
    "print(feature_importance_df_rf.head(10))"
   ]
  },
  {
   "cell_type": "code",
   "execution_count": 149,
   "metadata": {},
   "outputs": [
    {
     "data": {
      "image/png": "[encoded data removed]",
      "text/plain": [
       "<Figure size 720x432 with 1 Axes>"
      ]
     },
     "metadata": {
      "needs_background": "light"
     },
     "output_type": "display_data"
    }
   ],
   "source": [
    "import matplotlib.pyplot as plt\n",
    "\n",
    "plt.figure(figsize=(10, 6))\n",
    "plt.bar(feature_importance_df_rf['Feature'][:5], feature_importance_df_rf['Importance'][:5])\n",
    "plt.xlabel('Feature')\n",
    "plt.ylabel('Significance')\n",
    "plt.title('Top 5 Features - Random Forest')\n",
    "plt.xticks(rotation=45, ha='right')\n",
    "plt.tight_layout()\n",
    "plt.show()\n"
   ]
  },
  {
   "cell_type": "code",
   "execution_count": null,
   "metadata": {},
   "outputs": [],
   "source": []
  },
  {
   "cell_type": "code",
   "execution_count": null,
   "metadata": {},
   "outputs": [],
   "source": []
  },
  {
   "cell_type": "code",
   "execution_count": null,
   "metadata": {},
   "outputs": [],
   "source": []
  },
  {
   "cell_type": "code",
   "execution_count": null,
   "metadata": {},
   "outputs": [],
   "source": []
  },
  {
   "cell_type": "markdown",
   "metadata": {},
   "source": [
    "# XG Boost "
   ]
  },
  {
   "cell_type": "code",
   "execution_count": 150,
   "metadata": {},
   "outputs": [
    {
     "name": "stdout",
     "output_type": "stream",
     "text": [
      "Fitting 5 folds for each of 27 candidates, totalling 135 fits\n"
     ]
    },
    {
     "name": "stderr",
     "output_type": "stream",
     "text": [
      "[Parallel(n_jobs=-1)]: Using backend LokyBackend with 8 concurrent workers.\n",
      "[Parallel(n_jobs=-1)]: Done  25 tasks      | elapsed: 12.4min\n",
      "[Parallel(n_jobs=-1)]: Done 135 out of 135 | elapsed: 94.2min finished\n"
     ]
    },
    {
     "name": "stdout",
     "output_type": "stream",
     "text": [
      "Best Hyperparameters for XGBoost: {'learning_rate': 0.2, 'max_depth': 10, 'n_estimators': 300}\n",
      "Root Mean Squared Error for XGBoost: 1984.258745738237\n",
      "R-squared for XGBoost: 0.5302862300690967\n"
     ]
    }
   ],
   "source": [
    "X = df_encoded.drop('Price', axis=1)\n",
    "y = df_encoded['Price']\n",
    "X_train, X_test, y_train, y_test = train_test_split(X, y, test_size=0.2, random_state=42)\n",
    "\n",
    "xgb_reg = xgb.XGBRegressor(random_state=42)\n",
    "param_grid_xgb = {\n",
    "    'n_estimators': [100, 200, 300],\n",
    "    'max_depth': [5, 10, 15],\n",
    "    'learning_rate': [0.01, 0.1, 0.2]\n",
    "}\n",
    "\n",
    "grid_search_xgb = GridSearchCV(estimator=xgb_reg, param_grid=param_grid_xgb, cv=5, n_jobs=-1, verbose=2)\n",
    "\n",
    "grid_search_xgb.fit(X_train, y_train)\n",
    "\n",
    "best_xgb_model = grid_search_xgb.best_estimator_\n",
    "\n",
    "y_pred_xgb = best_xgb_model.predict(X_test)\n",
    "\n",
    "rmse_xgb = np.sqrt(mean_squared_error(y_test, y_pred_xgb))\n",
    "r2_xgb = r2_score(y_test, y_pred_xgb)\n",
    "\n",
    "print(\"RMSE:\", rmse_xgb)\n",
    "print(\"R-squared for XGBoost:\", r2_xgb)"
   ]
  },
  {
   "cell_type": "code",
   "execution_count": 153,
   "metadata": {},
   "outputs": [
    {
     "name": "stdout",
     "output_type": "stream",
     "text": [
      "                         Feature  Importance\n",
      "916   Make_ Mitsubishi Lancer DE    0.005870\n",
      "3121                    Type_XLT    0.005789\n",
      "2849                     Type_SE    0.005230\n",
      "1886                Type_1500 LT    0.005085\n",
      "1713                    Model_SE    0.005071\n",
      "1636                   Model_LTZ    0.004894\n",
      "1684               Model_Premier    0.004890\n",
      "1597                   Model_GLS    0.004781\n",
      "1785                    Model_V6    0.004326\n",
      "2636                     Type_LE    0.004230\n"
     ]
    }
   ],
   "source": [
    "# Feature Importance for XGBoost\n",
    "importances_xgb = best_xgb_model.feature_importances_\n",
    "feature_importance_df_xgb = pd.DataFrame({'Feature': X_train.columns, 'Importance': importances_xgb})\n",
    "feature_importance_df_xgb = feature_importance_df_xgb.sort_values(by='Importance', ascending=False)\n",
    "print(feature_importance_df_xgb.head(10))"
   ]
  },
  {
   "cell_type": "code",
   "execution_count": 155,
   "metadata": {},
   "outputs": [],
   "source": [
    "df.to_csv('/Users/mahmoud/Car_Price_Prediction/car_encoded_best_basic_model.csv')"
   ]
  },
  {
   "cell_type": "code",
   "execution_count": null,
   "metadata": {},
   "outputs": [],
   "source": []
  },
  {
   "cell_type": "code",
   "execution_count": null,
   "metadata": {},
   "outputs": [],
   "source": []
  },
  {
   "cell_type": "code",
   "execution_count": null,
   "metadata": {},
   "outputs": [],
   "source": []
  },
  {
   "cell_type": "code",
   "execution_count": null,
   "metadata": {},
   "outputs": [],
   "source": []
  },
  {
   "cell_type": "code",
   "execution_count": null,
   "metadata": {},
   "outputs": [],
   "source": []
  },
  {
   "cell_type": "code",
   "execution_count": null,
   "metadata": {},
   "outputs": [],
   "source": []
  },
  {
   "cell_type": "code",
   "execution_count": 136,
   "metadata": {},
   "outputs": [
    {
     "data": {
      "text/html": [
       "<div>\n",
       "<style scoped>\n",
       "    .dataframe tbody tr th:only-of-type {\n",
       "        vertical-align: middle;\n",
       "    }\n",
       "\n",
       "    .dataframe tbody tr th {\n",
       "        vertical-align: top;\n",
       "    }\n",
       "\n",
       "    .dataframe thead th {\n",
       "        text-align: right;\n",
       "    }\n",
       "</style>\n",
       "<table border=\"1\" class=\"dataframe\">\n",
       "  <thead>\n",
       "    <tr style=\"text-align: right;\">\n",
       "      <th></th>\n",
       "      <th>Mileage</th>\n",
       "      <th>Rating</th>\n",
       "      <th>Review Count</th>\n",
       "      <th>Price</th>\n",
       "      <th>Year</th>\n",
       "      <th>Type</th>\n",
       "      <th>Make_ Acura ILX</th>\n",
       "      <th>Make_ Acura ILX AcuraWatch Plus Package</th>\n",
       "      <th>Make_ Acura ILX Base</th>\n",
       "      <th>Make_ Acura ILX Hybrid</th>\n",
       "      <th>...</th>\n",
       "      <th>Model_trans</th>\n",
       "      <th>Model_x</th>\n",
       "      <th>Model_xDrive</th>\n",
       "      <th>Model_xDrive28i</th>\n",
       "      <th>Model_xDrive30i</th>\n",
       "      <th>Model_xDrive35d</th>\n",
       "      <th>Model_xDrive35i</th>\n",
       "      <th>Model_xDrive48i</th>\n",
       "      <th>Model_xDrive50i</th>\n",
       "      <th>Model_xi</th>\n",
       "    </tr>\n",
       "  </thead>\n",
       "  <tbody>\n",
       "    <tr>\n",
       "      <th>0</th>\n",
       "      <td>88380</td>\n",
       "      <td>3.8</td>\n",
       "      <td>180.0</td>\n",
       "      <td>10998.0</td>\n",
       "      <td>2015</td>\n",
       "      <td>Hybrid SEL</td>\n",
       "      <td>0</td>\n",
       "      <td>0</td>\n",
       "      <td>0</td>\n",
       "      <td>0</td>\n",
       "      <td>...</td>\n",
       "      <td>0</td>\n",
       "      <td>0</td>\n",
       "      <td>0</td>\n",
       "      <td>0</td>\n",
       "      <td>0</td>\n",
       "      <td>0</td>\n",
       "      <td>0</td>\n",
       "      <td>0</td>\n",
       "      <td>0</td>\n",
       "      <td>0</td>\n",
       "    </tr>\n",
       "    <tr>\n",
       "      <th>1</th>\n",
       "      <td>100837</td>\n",
       "      <td>3.9</td>\n",
       "      <td>115.0</td>\n",
       "      <td>12577.0</td>\n",
       "      <td>2016</td>\n",
       "      <td>LX</td>\n",
       "      <td>0</td>\n",
       "      <td>0</td>\n",
       "      <td>0</td>\n",
       "      <td>0</td>\n",
       "      <td>...</td>\n",
       "      <td>0</td>\n",
       "      <td>0</td>\n",
       "      <td>0</td>\n",
       "      <td>0</td>\n",
       "      <td>0</td>\n",
       "      <td>0</td>\n",
       "      <td>0</td>\n",
       "      <td>0</td>\n",
       "      <td>0</td>\n",
       "      <td>0</td>\n",
       "    </tr>\n",
       "    <tr>\n",
       "      <th>2</th>\n",
       "      <td>133750</td>\n",
       "      <td>0.0</td>\n",
       "      <td>8.0</td>\n",
       "      <td>8495.0</td>\n",
       "      <td>2016</td>\n",
       "      <td>ES</td>\n",
       "      <td>0</td>\n",
       "      <td>0</td>\n",
       "      <td>0</td>\n",
       "      <td>0</td>\n",
       "      <td>...</td>\n",
       "      <td>0</td>\n",
       "      <td>0</td>\n",
       "      <td>0</td>\n",
       "      <td>0</td>\n",
       "      <td>0</td>\n",
       "      <td>0</td>\n",
       "      <td>0</td>\n",
       "      <td>0</td>\n",
       "      <td>0</td>\n",
       "      <td>0</td>\n",
       "    </tr>\n",
       "    <tr>\n",
       "      <th>3</th>\n",
       "      <td>110862</td>\n",
       "      <td>4.7</td>\n",
       "      <td>2682.0</td>\n",
       "      <td>7869.0</td>\n",
       "      <td>2011</td>\n",
       "      <td>XLT</td>\n",
       "      <td>0</td>\n",
       "      <td>0</td>\n",
       "      <td>0</td>\n",
       "      <td>0</td>\n",
       "      <td>...</td>\n",
       "      <td>0</td>\n",
       "      <td>0</td>\n",
       "      <td>0</td>\n",
       "      <td>0</td>\n",
       "      <td>0</td>\n",
       "      <td>0</td>\n",
       "      <td>0</td>\n",
       "      <td>0</td>\n",
       "      <td>0</td>\n",
       "      <td>0</td>\n",
       "    </tr>\n",
       "    <tr>\n",
       "      <th>4</th>\n",
       "      <td>58595</td>\n",
       "      <td>4.6</td>\n",
       "      <td>543.0</td>\n",
       "      <td>14888.0</td>\n",
       "      <td>2017</td>\n",
       "      <td>SXT</td>\n",
       "      <td>0</td>\n",
       "      <td>0</td>\n",
       "      <td>0</td>\n",
       "      <td>0</td>\n",
       "      <td>...</td>\n",
       "      <td>0</td>\n",
       "      <td>0</td>\n",
       "      <td>0</td>\n",
       "      <td>0</td>\n",
       "      <td>0</td>\n",
       "      <td>0</td>\n",
       "      <td>0</td>\n",
       "      <td>0</td>\n",
       "      <td>0</td>\n",
       "      <td>0</td>\n",
       "    </tr>\n",
       "  </tbody>\n",
       "</table>\n",
       "<p>5 rows × 1837 columns</p>\n",
       "</div>"
      ],
      "text/plain": [
       "   Mileage  Rating  Review Count    Price  Year        Type  Make_ Acura ILX   \\\n",
       "0    88380     3.8         180.0  10998.0  2015  Hybrid SEL                 0   \n",
       "1   100837     3.9         115.0  12577.0  2016          LX                 0   \n",
       "2   133750     0.0           8.0   8495.0  2016          ES                 0   \n",
       "3   110862     4.7        2682.0   7869.0  2011         XLT                 0   \n",
       "4    58595     4.6         543.0  14888.0  2017         SXT                 0   \n",
       "\n",
       "   Make_ Acura ILX AcuraWatch Plus Package  Make_ Acura ILX Base  \\\n",
       "0                                        0                     0   \n",
       "1                                        0                     0   \n",
       "2                                        0                     0   \n",
       "3                                        0                     0   \n",
       "4                                        0                     0   \n",
       "\n",
       "   Make_ Acura ILX Hybrid   ...  Model_trans  Model_x  Model_xDrive  \\\n",
       "0                        0  ...            0        0             0   \n",
       "1                        0  ...            0        0             0   \n",
       "2                        0  ...            0        0             0   \n",
       "3                        0  ...            0        0             0   \n",
       "4                        0  ...            0        0             0   \n",
       "\n",
       "   Model_xDrive28i  Model_xDrive30i  Model_xDrive35d  Model_xDrive35i  \\\n",
       "0                0                0                0                0   \n",
       "1                0                0                0                0   \n",
       "2                0                0                0                0   \n",
       "3                0                0                0                0   \n",
       "4                0                0                0                0   \n",
       "\n",
       "   Model_xDrive48i  Model_xDrive50i  Model_xi  \n",
       "0                0                0         0  \n",
       "1                0                0         0  \n",
       "2                0                0         0  \n",
       "3                0                0         0  \n",
       "4                0                0         0  \n",
       "\n",
       "[5 rows x 1837 columns]"
      ]
     },
     "execution_count": 136,
     "metadata": {},
     "output_type": "execute_result"
    }
   ],
   "source": [
    "df.head()"
   ]
  },
  {
   "cell_type": "code",
   "execution_count": null,
   "metadata": {},
   "outputs": [],
   "source": []
  }
 ],
 "metadata": {
  "kernelspec": {
   "display_name": "Python (learn-env)",
   "language": "python",
   "name": "learn-env"
  },
  "language_info": {
   "codemirror_mode": {
    "name": "ipython",
    "version": 3
   },
   "file_extension": ".py",
   "mimetype": "text/x-python",
   "name": "python",
   "nbconvert_exporter": "python",
   "pygments_lexer": "ipython3",
   "version": "3.8.5"
  }
 },
 "nbformat": 4,
 "nbformat_minor": 4
}
