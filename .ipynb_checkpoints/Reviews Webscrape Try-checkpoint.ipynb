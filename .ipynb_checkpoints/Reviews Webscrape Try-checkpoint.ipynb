{
 "cells": [
  {
   "cell_type": "code",
   "execution_count": 80,
   "metadata": {},
   "outputs": [],
   "source": [
    "from bs4 import BeautifulSoup\n",
    "import requests\n",
    "from urllib.parse import urljoin\n",
    "import pandas as pd"
   ]
  },
  {
   "cell_type": "code",
   "execution_count": 4,
   "metadata": {},
   "outputs": [],
   "source": [
    "for i in range (1,501):\n",
    "    \n",
    "    # website in variable\n",
    "    df = 'https://www.cars.com/shopping/results/?dealer_id=&keyword=&list_price_max=15000&list_price_min=&makes[]=&maximum_distance=20&mileage_max=&monthly_payment=256&page='+ str(i) +'&page_size=20&sort=best_match_desc&stock_type=all&year_max=&year_min=&zip='    \n",
    "    # request to website\n",
    "    r = requests.get(df)\n",
    "    \n",
    "    # soup object\n",
    "    soup = BeautifulSoup(r.content, 'html.parser')\n",
    "    \n",
    "    # results\n",
    "    results = soup.find(\"a\",{\"class\":\"vehicle-card-link js-gallery-click-link\"}).get(\"href\")"
   ]
  },
  {
   "cell_type": "code",
   "execution_count": 45,
   "metadata": {},
   "outputs": [
    {
     "name": "stdout",
     "output_type": "stream",
     "text": [
      "[<a class=\"vehicle-card-link js-gallery-click-link\" data-activity-rule-type=\"page-over-page\" data-linkname=\"vehicle-listing\" href=\"/vehicledetail/ceab6da8-a044-4b8f-abd2-84df7aab8277/\" rel=\"nofollow\" target=\"\">\n",
      "<h2 class=\"title\">2011 Lincoln MKX Base</h2>\n",
      "</a>, <a class=\"vehicle-card-link js-gallery-click-link\" data-activity-rule-type=\"page-over-page\" data-linkname=\"vehicle-listing\" href=\"/vehicledetail/90a58ed9-b31f-4e1b-bc4e-5589d648b9d3/\" rel=\"nofollow\" target=\"\">\n",
      "<h2 class=\"title\">2013 Nissan Altima 2.5 SV</h2>\n",
      "</a>, <a class=\"vehicle-card-link js-gallery-click-link\" data-activity-rule-type=\"page-over-page\" data-linkname=\"vehicle-listing\" href=\"/vehicledetail/2c106622-c518-406c-a579-c5ed566268f0/\" rel=\"nofollow\" target=\"\">\n",
      "<h2 class=\"title\">2003 Ford Ranger XLT SuperCab</h2>\n",
      "</a>, <a class=\"vehicle-card-link js-gallery-click-link\" data-activity-rule-type=\"page-over-page\" data-linkname=\"vehicle-listing\" href=\"/vehicledetail/068a8273-4faa-4936-8112-dcd4fedae7d7/\" rel=\"nofollow\" target=\"\">\n",
      "<h2 class=\"title\">2014 Kia Sportage EX</h2>\n",
      "</a>, <a class=\"vehicle-card-link js-gallery-click-link\" data-activity-rule-type=\"page-over-page\" data-linkname=\"vehicle-listing\" href=\"/vehicledetail/af56c477-ac98-4733-b51b-95d1b515ed05/\" rel=\"nofollow\" target=\"\">\n",
      "<h2 class=\"title\">2012 Audi A4 2.0T Premium Plus quattro</h2>\n",
      "</a>, <a class=\"vehicle-card-link js-gallery-click-link\" data-activity-rule-type=\"page-over-page\" data-linkname=\"vehicle-listing\" href=\"/vehicledetail/b5e43a77-0b8e-4ccc-ab1e-33ad96575f47/\" rel=\"nofollow\" target=\"\">\n",
      "<h2 class=\"title\">2015 BMW 320 i</h2>\n",
      "</a>, <a class=\"vehicle-card-link js-gallery-click-link\" data-activity-rule-type=\"page-over-page\" data-linkname=\"vehicle-listing\" href=\"/vehicledetail/7ac5df39-4c6a-4c12-9d40-4152b61e5c7d/\" rel=\"nofollow\" target=\"\">\n",
      "<h2 class=\"title\">2016 Ford Taurus SEL</h2>\n",
      "</a>, <a class=\"vehicle-card-link js-gallery-click-link\" data-activity-rule-type=\"page-over-page\" data-linkname=\"vehicle-listing\" href=\"/vehicledetail/a69aed9e-82ad-4260-9d1f-fa95147574d6/\" rel=\"nofollow\" target=\"\">\n",
      "<h2 class=\"title\">2013 Mercedes-Benz C-Class C 250</h2>\n",
      "</a>, <a class=\"vehicle-card-link js-gallery-click-link\" data-activity-rule-type=\"page-over-page\" data-linkname=\"vehicle-listing\" href=\"/vehicledetail/5961f936-3cd6-42db-9b55-233d69f983d7/\" rel=\"nofollow\" target=\"\">\n",
      "<h2 class=\"title\">2013 Audi A4 2.0T Premium Plus quattro</h2>\n",
      "</a>, <a class=\"vehicle-card-link js-gallery-click-link\" data-activity-rule-type=\"page-over-page\" data-linkname=\"vehicle-listing\" href=\"/vehicledetail/3efe5613-bbf3-41c6-817e-538cfd143e9b/\" rel=\"nofollow\" target=\"\">\n",
      "<h2 class=\"title\">2014 Kia Cadenza Premium</h2>\n",
      "</a>, <a class=\"vehicle-card-link js-gallery-click-link\" data-activity-rule-type=\"page-over-page\" data-linkname=\"vehicle-listing\" href=\"/vehicledetail/e63ce18a-6079-4de0-8f23-176f822885fc/\" rel=\"nofollow\" target=\"\">\n",
      "<h2 class=\"title\">2014 Ford Focus SE</h2>\n",
      "</a>, <a class=\"vehicle-card-link js-gallery-click-link\" data-activity-rule-type=\"page-over-page\" data-linkname=\"vehicle-listing\" href=\"/vehicledetail/182c6b7a-6ce1-4287-97dc-6304358cd04e/\" rel=\"nofollow\" target=\"\">\n",
      "<h2 class=\"title\">2013 Land Rover LR2 HSE</h2>\n",
      "</a>, <a class=\"vehicle-card-link js-gallery-click-link\" data-activity-rule-type=\"page-over-page\" data-linkname=\"vehicle-listing\" href=\"/vehicledetail/2b23d2a7-90db-46a5-8b53-e7727f0b6fed/\" rel=\"nofollow\" target=\"\">\n",
      "<h2 class=\"title\">2014 Mercedes-Benz E-Class E 350</h2>\n",
      "</a>, <a class=\"vehicle-card-link js-gallery-click-link\" data-activity-rule-type=\"page-over-page\" data-linkname=\"vehicle-listing\" href=\"/vehicledetail/23ecb12c-85b3-4dd4-adc8-986aef8cf551/\" rel=\"nofollow\" target=\"\">\n",
      "<h2 class=\"title\">2011 Toyota RAV4 Base</h2>\n",
      "</a>, <a class=\"vehicle-card-link js-gallery-click-link\" data-activity-rule-type=\"page-over-page\" data-linkname=\"vehicle-listing\" href=\"/vehicledetail/0a84bdc1-81d1-4919-b27a-0a069acce8ac/\" rel=\"nofollow\" target=\"\">\n",
      "<h2 class=\"title\">2017 Hyundai Santa Fe Sport 2.4L</h2>\n",
      "</a>, <a class=\"vehicle-card-link js-gallery-click-link\" data-activity-rule-type=\"page-over-page\" data-linkname=\"vehicle-listing\" href=\"/vehicledetail/1c264f61-e32c-45e0-b34c-9f785879fc7d/\" rel=\"nofollow\" target=\"\">\n",
      "<h2 class=\"title\">2015 Nissan Rogue Select S</h2>\n",
      "</a>, <a class=\"vehicle-card-link js-gallery-click-link\" data-activity-rule-type=\"page-over-page\" data-linkname=\"vehicle-listing\" href=\"/vehicledetail/285f0298-85ae-4136-b76c-c1f2ccc610fd/\" rel=\"nofollow\" target=\"\">\n",
      "<h2 class=\"title\">2012 Kia Sportage LX</h2>\n",
      "</a>, <a class=\"vehicle-card-link js-gallery-click-link\" data-activity-rule-type=\"page-over-page\" data-linkname=\"vehicle-listing\" href=\"/vehicledetail/55151245-7e62-4854-8a07-46e6eb8736b9/\" rel=\"nofollow\" target=\"\">\n",
      "<h2 class=\"title\">2007 Jeep Liberty Sport</h2>\n",
      "</a>, <a class=\"vehicle-card-link js-gallery-click-link\" data-activity-rule-type=\"page-over-page\" data-linkname=\"vehicle-listing\" href=\"/vehicledetail/e64b429a-4b4c-459d-861b-b98a8f18fc1e/\" rel=\"nofollow\" target=\"\">\n",
      "<h2 class=\"title\">2012 Jeep Liberty Jet</h2>\n",
      "</a>, <a class=\"vehicle-card-link js-gallery-click-link\" data-activity-rule-type=\"page-over-page\" data-linkname=\"vehicle-listing\" href=\"/vehicledetail/4fd82c5c-a5e3-47cd-956c-554c53a20649/\" rel=\"nofollow\" target=\"\">\n",
      "<h2 class=\"title\">2008 Ford Escape XLT</h2>\n",
      "</a>]\n"
     ]
    }
   ],
   "source": [
    "\n",
    "'https://www.cars.com/shopping/results/vehicledetail/ceab6da8-a044-4b8f-abd2-84df7aab8277\n",
    "# website in variable\n",
    "df = 'https://www.cars.com/shopping/results/?dealer_id=&keyword=&list_price_max=15000&list_price_min=&makes[]=&maximum_distance=20&mileage_max=&monthly_payment=256&page=100&page_size=20&sort=best_match_desc&stock_type=all&year_max=&year_min=&zip='\n",
    "# request to website\n",
    "r = requests.get(df)\n",
    "\n",
    "# soup object\n",
    "soup = BeautifulSoup(r.content, 'html.parser')\n",
    "\n",
    "# results\n",
    "#results = soup.find(\"a\",{\"class\":\"vehicle-card-link js-gallery-click-link\"}).get(\"href\")\n",
    "#print(soup.find_all('div', class_ = 'vehicle-card'))\n",
    "print(soup.find_all(\"a\",{\"class\":\"vehicle-card-link js-gallery-click-link\"}))\n",
    "#print(results)"
   ]
  },
  {
   "cell_type": "code",
   "execution_count": null,
   "metadata": {},
   "outputs": [],
   "source": [
    "for i in range (1,501):\n",
    "    \n",
    "    # website in variable\n",
    "    df = 'https://www.cars.com/vehicledetail/'+ str(i) +'/'\n",
    "    # request to website\n",
    "    r = requests.get(df)\n",
    "    \n",
    "    # soup object\n",
    "    soup = BeautifulSoup(r.content, 'html.parser')\n",
    "    \n",
    "    # results\n",
    "    results = soup.find(\"a\",{\"class\":\"vehicle-card-link js-gallery-click-link\"}).get(\"href\")"
   ]
  },
  {
   "cell_type": "code",
   "execution_count": 27,
   "metadata": {},
   "outputs": [
    {
     "ename": "AttributeError",
     "evalue": "'NoneType' object has no attribute 'get'",
     "output_type": "error",
     "traceback": [
      "\u001b[0;31m---------------------------------------------------------------------------\u001b[0m",
      "\u001b[0;31mAttributeError\u001b[0m                            Traceback (most recent call last)",
      "\u001b[0;32m<ipython-input-27-02ff0bcc90f1>\u001b[0m in \u001b[0;36m<module>\u001b[0;34m\u001b[0m\n\u001b[1;32m     10\u001b[0m \u001b[0;34m\u001b[0m\u001b[0m\n\u001b[1;32m     11\u001b[0m     \u001b[0;31m# results\u001b[0m\u001b[0;34m\u001b[0m\u001b[0;34m\u001b[0m\u001b[0;34m\u001b[0m\u001b[0m\n\u001b[0;32m---> 12\u001b[0;31m     \u001b[0mresults\u001b[0m \u001b[0;34m=\u001b[0m \u001b[0msoup\u001b[0m\u001b[0;34m.\u001b[0m\u001b[0mfind\u001b[0m\u001b[0;34m(\u001b[0m\u001b[0;34m\"a\"\u001b[0m\u001b[0;34m,\u001b[0m\u001b[0;34m{\u001b[0m\u001b[0;34m\"class\"\u001b[0m\u001b[0;34m:\u001b[0m\u001b[0;34m\"vehicle-card-link js-gallery-click-link\"\u001b[0m\u001b[0;34m}\u001b[0m\u001b[0;34m)\u001b[0m\u001b[0;34m.\u001b[0m\u001b[0mget\u001b[0m\u001b[0;34m(\u001b[0m\u001b[0;34m\"href\"\u001b[0m\u001b[0;34m)\u001b[0m\u001b[0;34m\u001b[0m\u001b[0;34m\u001b[0m\u001b[0m\n\u001b[0m",
      "\u001b[0;31mAttributeError\u001b[0m: 'NoneType' object has no attribute 'get'"
     ]
    }
   ],
   "source": [
    "for i in range (1,501):\n",
    "    \n",
    "    # website in variable\n",
    "    df = 'https://www.cars.com/vehicledetail/'+ str(i) +'/'\n",
    "    # request to website\n",
    "    r = requests.get(df)\n",
    "    \n",
    "    # soup object\n",
    "    soup = BeautifulSoup(r.content, 'html.parser')\n",
    "    \n",
    "    # results\n",
    "    results = soup.find(\"a\",{\"class\":\"vehicle-card-link js-gallery-click-link\"}).get(\"href\")"
   ]
  },
  {
   "cell_type": "code",
   "execution_count": null,
   "metadata": {},
   "outputs": [],
   "source": []
  },
  {
   "cell_type": "code",
   "execution_count": 5,
   "metadata": {},
   "outputs": [],
   "source": [
    "consumer_rating = []\n",
    "# consumer_review_count = []\n",
    "recommenders = []\n",
    "breakdown = []\n",
    "recent_reviews = []\n",
    "\n",
    "for result in results:\n",
    "    # consumer_rating\n",
    "    try:\n",
    "        consumer_rating.append(result.find('div', {'class':'sds-rating sds-rating--big'}).get_text())\n",
    "    except:\n",
    "        consumer_rating.append('n/a')\n",
    "        \n",
    "    # recommenders aka how many % of customers recommend     \n",
    "    try:\n",
    "        recommenders.append(result.find('div', {'class':'reviews-recommended'}).get_text())\n",
    "    except:\n",
    "        recommenders.append('n/a')\n",
    "        \n",
    "    # breakdown of reviews    \n",
    "    try:\n",
    "        breakdown.append(result.find('div', {'class':'review-breakdown'}).get_text())\n",
    "    except:\n",
    "        breakdown.append('n/a')\n",
    "    # recent reviews    \n",
    "    try:\n",
    "        recent_reviews.append(result.find('div', {'class':'reviews-collection'}).get_text())\n",
    "    except:\n",
    "        recent_reviews.append('n/a')\n",
    "        "
   ]
  },
  {
   "cell_type": "code",
   "execution_count": 28,
   "metadata": {
    "scrolled": true
   },
   "outputs": [
    {
     "data": {
      "text/plain": [
       "['n/a',\n",
       " 'n/a',\n",
       " 'n/a',\n",
       " 'n/a',\n",
       " 'n/a',\n",
       " 'n/a',\n",
       " 'n/a',\n",
       " 'n/a',\n",
       " 'n/a',\n",
       " 'n/a',\n",
       " 'n/a',\n",
       " 'n/a',\n",
       " 'n/a',\n",
       " 'n/a',\n",
       " 'n/a',\n",
       " 'n/a',\n",
       " 'n/a',\n",
       " 'n/a',\n",
       " 'n/a',\n",
       " 'n/a',\n",
       " 'n/a',\n",
       " 'n/a',\n",
       " 'n/a',\n",
       " 'n/a',\n",
       " 'n/a',\n",
       " 'n/a',\n",
       " 'n/a',\n",
       " 'n/a',\n",
       " 'n/a',\n",
       " 'n/a',\n",
       " 'n/a',\n",
       " 'n/a',\n",
       " 'n/a',\n",
       " 'n/a',\n",
       " 'n/a',\n",
       " 'n/a',\n",
       " 'n/a',\n",
       " 'n/a',\n",
       " 'n/a',\n",
       " 'n/a',\n",
       " 'n/a',\n",
       " 'n/a',\n",
       " 'n/a',\n",
       " 'n/a',\n",
       " 'n/a',\n",
       " 'n/a',\n",
       " 'n/a',\n",
       " 'n/a',\n",
       " 'n/a',\n",
       " 'n/a',\n",
       " 'n/a',\n",
       " 'n/a']"
      ]
     },
     "execution_count": 28,
     "metadata": {},
     "output_type": "execute_result"
    }
   ],
   "source": [
    "recent_reviews"
   ]
  },
  {
   "cell_type": "code",
   "execution_count": null,
   "metadata": {},
   "outputs": [],
   "source": []
  },
  {
   "cell_type": "code",
   "execution_count": null,
   "metadata": {},
   "outputs": [],
   "source": []
  },
  {
   "cell_type": "code",
   "execution_count": 13,
   "metadata": {},
   "outputs": [],
   "source": [
    "consumer_rating = []\n",
    "# consumer_review_count = []\n",
    "recommenders = []\n",
    "breakdown = []\n",
    "recent_reviews = []\n",
    "\n",
    "for i in range (1,501):\n",
    "    \n",
    "    # website in variable\n",
    "    df = 'https://www.cars.com/shopping/results/?dealer_id=&keyword=&list_price_max=15000&list_price_min=&makes[]=&maximum_distance=20&mileage_max=&monthly_payment=256&page='+ str(i) +'&page_size=20&sort=best_match_desc&stock_type=all&year_max=&year_min=&zip='    \n",
    "    # request to website\n",
    "    r = requests.get(df)\n",
    "    \n",
    "    # soup object\n",
    "    soup = BeautifulSoup(r.content, 'html.parser')\n",
    "    \n",
    "    # results\n",
    "    results = soup.find(\"a\",{\"class\":\"vehicle-card-link js-gallery-click-link\"}).get(\"href\")\n",
    "    \n",
    "for result in results:\n",
    "    # consumer_rating\n",
    "    try:\n",
    "        consumer_rating.append(result.find('div', {'class':'sds-rating sds-rating--big'}).get_text())\n",
    "    except:\n",
    "        consumer_rating.append('n/a')\n",
    "        \n",
    "    # recommenders aka how many % of customers recommend     \n",
    "    try:\n",
    "        recommenders.append(result.find('div', {'class':'reviews-recommended'}).get_text())\n",
    "    except:\n",
    "        recommenders.append('n/a')\n",
    "        \n",
    "    # breakdown of reviews    \n",
    "    try:\n",
    "        breakdown.append(result.find('div', {'class':'review-breakdown'}).get_text())\n",
    "    except:\n",
    "        breakdown.append('n/a')\n",
    "    # recent reviews    \n",
    "    try:\n",
    "        recent_reviews.append(result.find('div', {'class':'reviews-collection'}).get_text())\n",
    "    except:\n",
    "        recent_reviews.append('n/a')"
   ]
  },
  {
   "cell_type": "code",
   "execution_count": 14,
   "metadata": {},
   "outputs": [
    {
     "data": {
      "text/plain": [
       "'n/a'"
      ]
     },
     "execution_count": 14,
     "metadata": {},
     "output_type": "execute_result"
    }
   ],
   "source": [
    "recent_reviews[2]"
   ]
  },
  {
   "cell_type": "code",
   "execution_count": null,
   "metadata": {},
   "outputs": [],
   "source": [
    "'https://www.cars.com/vehicledetail/'+ str(i) +'/'\n",
    "https://www.cars.com/vehicledetail/7b65632c-0013-4eb9-a685-69493ea0c1ba/"
   ]
  },
  {
   "cell_type": "code",
   "execution_count": null,
   "metadata": {},
   "outputs": [],
   "source": []
  },
  {
   "cell_type": "code",
   "execution_count": null,
   "metadata": {},
   "outputs": [],
   "source": []
  },
  {
   "cell_type": "code",
   "execution_count": null,
   "metadata": {},
   "outputs": [],
   "source": []
  },
  {
   "cell_type": "code",
   "execution_count": 48,
   "metadata": {},
   "outputs": [],
   "source": [
    "def get_car_reviews(car_url):\n",
    "    response = requests.get(car_url)\n",
    "    soup = BeautifulSoup(response.content, 'html.parser')\n",
    "    review_section = soup.find('div', {'class': 'vehicle-reviews'})\n",
    "    if review_section:\n",
    "        reviews = review_section.find_all('div', {'class': 'review-section'})\n",
    "        review_texts = [review.get_text().strip() for review in reviews]\n",
    "        return review_texts\n",
    "    return []"
   ]
  },
  {
   "cell_type": "markdown",
   "metadata": {},
   "source": [
    "car_reviews_dict = {}\n",
    "\n",
    "for page_number in range(1, 501):\n",
    "       url = 'https://www.cars.com/shopping/results/?dealer_id=&keyword=&list_price_max=15000&list_price_min=&makes[]=&maximum_distance=20&mileage_max=&monthly_payment=256&page='+ str(i) +'&page_size=20&sort=best_match_desc&stock_type=all&year_max=&year_min=&zip='    \n",
    "\n",
    "    response = requests.get(url)\n",
    "    soup = BeautifulSoup(response.content, 'html.parser')\n",
    "    car_links = soup.find_all(\"a\", {\"class\": \"vehicle-card-link js-gallery-click-link\"})\n",
    "\n",
    "    for car_link in car_links:\n",
    "        car_url = urljoin(url, car_link.get('href'))  # Resolve the full URL\n",
    "        car_name = car_link.find('h2', {'class': 'title'}).get_text().strip()\n",
    "        car_reviews = get_car_reviews(car_url)\n",
    "\n",
    "        if car_name in car_reviews_dict:\n",
    "            car_reviews_dict[car_name].extend(car_reviews)\n",
    "        else:\n",
    "            car_reviews_dict[car_name] = car_reviews"
   ]
  },
  {
   "cell_type": "code",
   "execution_count": null,
   "metadata": {},
   "outputs": [],
   "source": []
  },
  {
   "cell_type": "code",
   "execution_count": null,
   "metadata": {},
   "outputs": [],
   "source": []
  },
  {
   "cell_type": "code",
   "execution_count": null,
   "metadata": {},
   "outputs": [],
   "source": []
  },
  {
   "cell_type": "code",
   "execution_count": null,
   "metadata": {},
   "outputs": [],
   "source": []
  },
  {
   "cell_type": "code",
   "execution_count": null,
   "metadata": {},
   "outputs": [],
   "source": []
  },
  {
   "cell_type": "code",
   "execution_count": null,
   "metadata": {},
   "outputs": [],
   "source": []
  },
  {
   "cell_type": "code",
   "execution_count": null,
   "metadata": {},
   "outputs": [],
   "source": []
  },
  {
   "cell_type": "code",
   "execution_count": 49,
   "metadata": {},
   "outputs": [],
   "source": [
    "def get_car_data(car_url):\n",
    "    response = requests.get(car_url)\n",
    "    soup = BeautifulSoup(response.content, 'html.parser')\n",
    "    review_section = soup.find('div', {'class': 'vehicle-reviews'})\n",
    "    if review_section:\n",
    "        reviews = review_section.find_all('div', {'class': 'review-section'})\n",
    "        review_texts = [review.get_text().strip() for review in reviews]\n",
    "    else:\n",
    "        review_texts = []\n",
    "\n",
    "    rating_element = soup.find('span', {'class': 'sds-rating__item'})\n",
    "    rating = rating_element.get_text() if rating_element else 'No rating available'\n",
    "\n",
    "    return review_texts, rating"
   ]
  },
  {
   "cell_type": "code",
   "execution_count": 50,
   "metadata": {},
   "outputs": [],
   "source": [
    "car_reviews_data = []\n",
    "\n",
    "for page_number in range(2, 3):\n",
    "    url = f'https://www.cars.com/shopping/results/?dealer_id=&keyword=&list_price_max=15000&list_price_min=&makes[]=&maximum_distance=20&mileage_max=&monthly_payment=256&page='+str(page_number)+'&page_size=20&sort=best_match_desc&stock_type=all&year_max=&year_min=&zip='\n",
    "\n",
    "    response = requests.get(url)\n",
    "    soup = BeautifulSoup(response.content, 'html.parser')\n",
    "    car_links = soup.find_all(\"a\", {\"class\": \"vehicle-card-link js-gallery-click-link\"})\n",
    "\n",
    "    for car_link in car_links:\n",
    "        car_url = urljoin(url, car_link.get('href'))  # Resolve the full URL\n",
    "        car_name = car_link.find('h2', {'class': 'title'}).get_text().strip()\n",
    "        car_reviews, car_rating = get_car_data(car_url)\n",
    "\n",
    "        car_reviews_data.append({'Car Name': car_name, 'Rating': car_rating, 'Reviews': car_reviews})"
   ]
  },
  {
   "cell_type": "code",
   "execution_count": 51,
   "metadata": {},
   "outputs": [],
   "source": [
    "reviews_df = pd.DataFrame(car_reviews_data)"
   ]
  },
  {
   "cell_type": "code",
   "execution_count": 52,
   "metadata": {},
   "outputs": [
    {
     "data": {
      "text/html": [
       "<div>\n",
       "<style scoped>\n",
       "    .dataframe tbody tr th:only-of-type {\n",
       "        vertical-align: middle;\n",
       "    }\n",
       "\n",
       "    .dataframe tbody tr th {\n",
       "        vertical-align: top;\n",
       "    }\n",
       "\n",
       "    .dataframe thead th {\n",
       "        text-align: right;\n",
       "    }\n",
       "</style>\n",
       "<table border=\"1\" class=\"dataframe\">\n",
       "  <thead>\n",
       "    <tr style=\"text-align: right;\">\n",
       "      <th></th>\n",
       "      <th>Car Name</th>\n",
       "      <th>Rating</th>\n",
       "      <th>Reviews</th>\n",
       "    </tr>\n",
       "  </thead>\n",
       "  <tbody>\n",
       "    <tr>\n",
       "      <th>0</th>\n",
       "      <td>2014 BMW i3 Base</td>\n",
       "      <td>\\n\\n\\n\\n</td>\n",
       "      <td>[April  7, 2021\\nBy Gabriel FK from San Antoni...</td>\n",
       "    </tr>\n",
       "    <tr>\n",
       "      <th>1</th>\n",
       "      <td>2008 Pontiac G8 Base</td>\n",
       "      <td>\\n\\n\\n\\n</td>\n",
       "      <td>[April 10, 2023\\nBy I love Pontiacs, German Sh...</td>\n",
       "    </tr>\n",
       "    <tr>\n",
       "      <th>2</th>\n",
       "      <td>1998 Lexus GS 300 Base</td>\n",
       "      <td>\\n\\n\\n\\n</td>\n",
       "      <td>[April 22, 2020\\nBy Rob from Eagle, ID\\nOwns t...</td>\n",
       "    </tr>\n",
       "    <tr>\n",
       "      <th>3</th>\n",
       "      <td>2013 Ford Explorer Limited</td>\n",
       "      <td>\\n\\n\\n\\n</td>\n",
       "      <td>[June 16, 2023\\nBy TAMMY CURRAN  from STREETSB...</td>\n",
       "    </tr>\n",
       "    <tr>\n",
       "      <th>4</th>\n",
       "      <td>2014 Ford Focus ST Base</td>\n",
       "      <td>\\n\\n\\n\\n</td>\n",
       "      <td>[November 16, 2022\\nBy Chirs Gessling  from Ne...</td>\n",
       "    </tr>\n",
       "  </tbody>\n",
       "</table>\n",
       "</div>"
      ],
      "text/plain": [
       "                     Car Name    Rating  \\\n",
       "0            2014 BMW i3 Base  \\n\\n\\n\\n   \n",
       "1        2008 Pontiac G8 Base  \\n\\n\\n\\n   \n",
       "2      1998 Lexus GS 300 Base  \\n\\n\\n\\n   \n",
       "3  2013 Ford Explorer Limited  \\n\\n\\n\\n   \n",
       "4     2014 Ford Focus ST Base  \\n\\n\\n\\n   \n",
       "\n",
       "                                             Reviews  \n",
       "0  [April  7, 2021\\nBy Gabriel FK from San Antoni...  \n",
       "1  [April 10, 2023\\nBy I love Pontiacs, German Sh...  \n",
       "2  [April 22, 2020\\nBy Rob from Eagle, ID\\nOwns t...  \n",
       "3  [June 16, 2023\\nBy TAMMY CURRAN  from STREETSB...  \n",
       "4  [November 16, 2022\\nBy Chirs Gessling  from Ne...  "
      ]
     },
     "execution_count": 52,
     "metadata": {},
     "output_type": "execute_result"
    }
   ],
   "source": [
    "reviews_df.head()"
   ]
  },
  {
   "cell_type": "code",
   "execution_count": 53,
   "metadata": {},
   "outputs": [
    {
     "data": {
      "text/plain": [
       "[{'Car Name': '2014 BMW i3 Base',\n",
       "  'Rating': '\\n\\n\\n\\n',\n",
       "  'Reviews': ['April  7, 2021\\nBy Gabriel FK from San Antonio\\nOwns this car',\n",
       "   \"I bought this 15K miles base model (Electric engine only) for 10K. A steal. \\nPros: \\n3 Driving modes for different conditions.\\nFree public ev charging stations, usually charges 26 miles per hour or more, and that means free rides.\\nEasy connectivity\\nStylish look (people actually have that what heck is that look)\\nNice cargo space once back seats are down. \\n\\nCons:\\nInconsistent mile range readings.\\nRange anxiety.\\nOriginal Charger is a joke. 40 miles highway travel takes 12+ to recharge. 2-3 miles per hour recovery. Bmw either thinks people will bleed 50k (originally) for a substitute car, or people will always have 12-16 hours time to move between errands.\\nDoors design is unusual. Still not as ridiculous as a coupe door design. \\nCargo space is so tiny with backseats up. \\nCarseats for infants are difficult to place without sacrificing significant space for either the driver or the front passenger. \\n\\nMy final verdict. \\nIf you purchase a 24amp or a more capable charger than you can manage. \\nIf you're soccer mom, or switch your hats often, this base model may not be for you. Still, if you really really a planner it may work out beautifully.\\nIf you're purchasing this as second car for the family, then you can save tons in cost. \\nIf you spot a free ev charging station you can literally run your range to close to empty then leave it at the charging station and picked it up after couple of hours.\",\n",
       "   'December  5, 2020\\nBy Bill M from San Diego, California\\nOwns this car',\n",
       "   \"It was everything I expected.  We love the styling and comfort.  It's our everyday car now  for around town. No gas usage. The car has entered of zip when needed. No maintenance needed. I bought a 6 year, 100k miles extended warranty with this car.\",\n",
       "   'October 13, 2020\\nBy Matt F from NY, NY\\nOwns this car',\n",
       "   'Great car.  Handles like nothing I have ever driven.  A lot of space inside..quiet and comfortable...quick...and no more paying for gas\\ntinted windows are a plus']},\n",
       " {'Car Name': '2008 Pontiac G8 Base',\n",
       "  'Rating': '\\n\\n\\n\\n',\n",
       "  'Reviews': [\"April 10, 2023\\nBy I love Pontiacs, German Shepards , good music, and cigars and women. Out of the 5 things mentioned, I've two divorces but my Pontiac g8, cigars, and good music are still here. I had to give my dog up , moving into a condo. from Union City , ga.\\nOwns this car\",\n",
       "   \"I have a 2008 Pontiac g8 v6 ( tuned ) . I'm a James Dean fan and his Porsche was named the little xxxxxxx, so mine is called the little xxxxx. Its gray trimmed in yellow, the funny thing is, people in Mustangs, Chargers, all ways rev their engines when they see me. I'm 61 and let them fly by.\\r\\n\\r\\nShe is intimidating, but that's as far as it goes, lol I spend more money and time on the little xxxxx, you updating it, guess that's why I'm getting divorce.\",\n",
       "   'January 28, 2020\\nBy Kardog from GA\\nOwns this car',\n",
       "   'The car has excellent performance, durability, and style. I have owned mine for 11 years and driven 217,000 miles on the engine. Still purrs like a kitten!',\n",
       "   'July  7, 2019\\nBy Jacob from Westlake Village\\nOwns this car',\n",
       "   \"Best car I've ever owned.  Served me well for 7 years and 100k+ miles. It has a spacious interior and a visually appealing exterior.   Highly recommend to anyone looking for a used car.\"]},\n",
       " {'Car Name': '1998 Lexus GS 300 Base',\n",
       "  'Rating': '\\n\\n\\n\\n',\n",
       "  'Reviews': ['April 22, 2020\\nBy Rob from Eagle, ID\\nOwns this car',\n",
       "   'This 22 year old Lexus GS has been my hangar car for the last 12 years. Concurrently and since then, I have owned many cars, all top of the line models. Including my current 2020 auto, my 1998 Lexus is the best overall car I have ever owned. Comfort and handling are exceptional. It handles well at 60 on curves or 120 on a superhighway if you want to drive that fast (governor regulated at 136 MPH, I believe). Mileage is 24 MPG, pretty much no matter how you drive. Sound system is the best of any car I have had. Repair bills total $0.00 other than tires and a few batteries. I would still be driving this car primarily if it were not for the fact that there is no decent upgrade for the navigation, Bluetooth system, etc.',\n",
       "   'June 28, 2018\\nBy Irvine from California\\nOwns this car',\n",
       "   'I always have lexus all models but this 1 and ls430 are the best of all I had all lexus models but this gs 300 is best after 20 years still good I get compliments',\n",
       "   'October 24, 2017\\nBy DavilaFam408 from San Jose, Ca\\nUsed to own this car',\n",
       "   'This car is very reliable. Has room for a tall family like mine. Would buy again. Made me feel like a V.I.P while I drove it.']},\n",
       " {'Car Name': '2013 Ford Explorer Limited',\n",
       "  'Rating': '\\n\\n\\n\\n',\n",
       "  'Reviews': ['June 16, 2023\\nBy TAMMY CURRAN  from STREETSBORO OHIO \\nOwns this car',\n",
       "   'OUR EXPLORER LEAKS WATER DAMAGING SUNROOF CAR SMELLS CARPETS MILDEWING ALL DUE TO A SMALL DRAIN WHICH GETS CLOGGED THE REVIEWS ARE OUTRAGEOUS SOMETHING NEEDS TO BE DONE',\n",
       "   'June 20, 2022\\nBy Hump from Sundance Wyoming \\nOwns this car',\n",
       "   'Has an interior water pump that is expected to make it 100,000 miles, it goes out it is around 9 hours of labor and will cost 2,100 to 3,000 bucks. Another horrible design by Ford, The vehicle is comfortable though.',\n",
       "   'June  3, 2021\\nBy AriesQueenJackie from Atlanta, Ga\\nUsed to own this car',\n",
       "   'This car was gorgeous, royal blue. It exceeded every expectation i had as far as style and comfort are concerned. We have a big family so the third row was convenient and folded so nicely when unneeded. Sunroof and moonroof. Heated and cooled seats. Heated steering wheel. It costed entirely too much in gas and had a lot of computer glitches (in display screen not performance). Transmission acted a little funny one day so I decided to upgrade. Granted It was a 2013 not brand new, but if Ford isn’t built to last more than 8 years, I’m moving on.']},\n",
       " {'Car Name': '2014 Ford Focus ST Base',\n",
       "  'Rating': '\\n\\n\\n\\n',\n",
       "  'Reviews': ['November 16, 2022\\nBy Chirs Gessling  from New Jersey\\nOwns this car',\n",
       "   \"If you are looking for an all around daily driver that can have fun and also hold thing's this is it. I have a 2014 ST1 with 237,000 miles on the clock  the car is an overall fun experience it is not NC Miata fun but it's 75% of the way and you can still do daily driver things like have trunk space. It is a little more performance-oriented than something like a golf GTi  if you enjoy a nice interior cabin more then a little more hoon factor then I would go with the Golf.  I have Pirelli p zeros all around and the car is not the best in rain or snow to be expected it's front-wheel drive the nanny State traction control makes it worse. When you get this car in it's ideal state a B-road it does well the torque vectoring really helps and it's a blast at speed's that won't have you taking a trip to jail.  If you are driving like a normal civilized person on the highway it also does fairly well it will do your average highway speed no problem in 6th Gear at a low RPM getting  somewhere in the range of 26.5 to 34 miles to the gallon depending on where you are (my record is 35.2mpg downhill 55mpg 6th gear.).  While it can accelerate and has power on the highway this is not a rocket ship it has enough power to be competent but it is not fast cabin space is not terrible there is a little bit of noise but that's really not bad considering it's an Econo box with a turbo.  As for maintenance it hasn't really been any issues a couple plastic hoses here and there because high mileage  these cars like a lot of front wheel drive cars tend to eat motor mounts as well as front brakes but both are to be expected with a front wheel drive car I would also recommend a catch-can.  The interior depending on what's trim level you have will feel a certain level of cheap that's fine it's a cheap car even the base cloth ST1 seats are decent.  Overall it's a fun all-around decent daily driver\",\n",
       "   'May  4, 2020\\nBy 702GT from Las Vegas, NV\\nOwns this car',\n",
       "   \"The Focus ST is a compact hatchback so if you're a larger person, it's not going to be comfortable with the performance seats. The Recaro seats can be uncomfortable on long road trips. Otherwise, it's a great car for the money. The hot hatch performance is second to none, it will give most of the stock modern muscle cars a run for their money, or better.  And it still gets great fuel economy on the daily work commute.\",\n",
       "   'December  5, 2019\\nBy BenH from Greenville, SC\\nOwns this car',\n",
       "   'Extremely fun to drive, great acceleration with the turbo, takes a turn at speed and STICKS  to the road. Very reliable, no issues in the five years I’ve owned it as the original owner. Comfortable even for a tall guy (6’3”), have done two trips of 4 to 5 hours each way and not at all uncomfortable.']},\n",
       " {'Car Name': '2012 Toyota Corolla LE',\n",
       "  'Rating': '\\n\\n\\n\\n',\n",
       "  'Reviews': ['May 26, 2023\\nBy Al from Washington \\nOwns this car',\n",
       "   'The 1.8 liter Toyota engine is one of the most durable engines in history. The transmission is not that great since it is only 4 speed with no over drive. The gas millage is excellent. Visibility is fine. Rear breaks are weak (new ones have 4 disc brakes). Noise level inside the cabin is very quiet. No back-up camera and no navigation means less distraction. Change the engine oil at 3k or so intervals and it will last you decades. Must upgrade to ceramic brake pads if non installed already. Best thing of all it is not that attractive which means less gold diggers and  criminals (thieves) are less interested in stealing it. BTW if you do not know the 2012 Corolla has the least complaints and no recalls which is a major plus. Price is affordable to almost any person.',\n",
       "   'June  6, 2021\\nBy Loverboytrini from Tampa, FL\\nOwns this car',\n",
       "   \"If you're looking for a fast car... This is not it. It's a comfortable car just for getting around and it's very reliable. It takes very long to accelerate however.\",\n",
       "   'January  5, 2021\\nBy Sampath from West Chester, PA\\nOwns this car',\n",
       "   'Car is in Excellent Condition and has BRAND NEW TIRES.\\n\\nHas Bluetooth, USB, Power Windows and Mirrors, Wireless Phone Connectivity, Dash Board Mounted Phone Call Pickup Button, AM/FM Radio, Steering Wheel Mounted Audio Controls, CD Player.']},\n",
       " {'Car Name': '2014 Kia Forte LX',\n",
       "  'Rating': '\\n\\n\\n\\n',\n",
       "  'Reviews': ['April 26, 2023\\nBy bonnie lass  from elyria ohio \\nOwns this car',\n",
       "   'bought car last year stuff started going wrong need pcm module car is stalling  pricey part they shuld cover. no more kias for me unless new.',\n",
       "   'March 12, 2022\\nBy Briana Couch from Canton GA\\nOwns this car',\n",
       "   'For buying a used car a manual 6speed at that, I would recommend this car if it has been taken care of like mine. Most definitely.',\n",
       "   'January 22, 2021\\nBy KAM from Dewey\\nOwns this car',\n",
       "   'This car has plenty of legroom for passengers in the front seat and the backseat. This car can travel long distances a pills and in town very well. This vehicle has excellent gas mileage.']},\n",
       " {'Car Name': '2012 Nissan Xterra PRO-4X',\n",
       "  'Rating': '\\n\\n\\n\\n',\n",
       "  'Reviews': ['May  4, 2023\\nBy Dj from Summerville, SC\\nOwns this car',\n",
       "   'I have had two xterras and have never found a better SUV for camping and going to the home stores to haul lumber and household goods for my home projects... they are hardy and reliable to own and are 20 year vehicles.',\n",
       "   'December 15, 2020\\nBy Sleeknight from Harlingen, Tx\\nOwns this car',\n",
       "   'This vehicle meets all my needs.  I had a truck for 19 years and bought this one with only 7300 miles on it in 2015.  Meets my purpose hauling my dog, groceries, home repairs, trips, tv\\'s, etc.  I\\'m a single senior female that does a lot of home repairs and it hauls everything I\\'ve put in it including a 70\"TV.  I have all oil changes made every 6 months and today 12-2020 only has 25,000 miles on it.  Replaced 2 tires due to nails but it drives beautifully.  Added outside black vinyl strips and black window guards and whitewall tires all for looks.  Love the power getting on and off freeways. Always had a standard transmission before but do love the automatic transmission on this one.  Seats could have been more comfortable, but at my 5\\'9\" frame, they will do.  Not looking for frills, just regular car use for a senior that goes only to Bingo and shopping.  Love it.',\n",
       "   'July 30, 2020\\nBy Dan G. from Garden City, New York\\nUsed to own this car',\n",
       "   'Better car than the Jeep Wrangler and the Toyota FJ Cruiser.  The Pro-4X is the top of the line Xterra and is available with leather seats, premium stereo, trailer hitch, skid plates, Bilstein gas-filled shocks, locking rear differential, hill descent assist, side bars, a cargo cover, roof mounted off-road lights, and other features.']},\n",
       " {'Car Name': '2013 Mercedes-Benz GLK-Class GLK 350 4MATIC',\n",
       "  'Rating': '\\n\\n\\n\\n',\n",
       "  'Reviews': ['December  8, 2022\\nBy Clint from Atlanta, GA\\nOwns this car',\n",
       "   'i am the recent second owner from a family member that purchased new in 2013 and put 47k miles over 9 years. it is a comfortable& powerful. it has an attractive muscular design unlike all its competitors of its age as well as most now. not everyone wants a vehicle that is so similarly rounded as most the others. no wonder MB designed a boxier suv in the GLB. though the GLB is a turbo 4cyl fwd, making it less desirable imo.',\n",
       "   'May  3, 2021\\nBy BENZ from NEW ENGLAND\\nOwns this car',\n",
       "   'Love it, handles well. Great looking style;  not like any other car on the road.\\nDid get snow tires though  The GLK 4 matic is the way to go!',\n",
       "   'February 20, 2021\\nBy Mercedes Mechanic from Houston, Texas\\nOwns this car',\n",
       "   'The issue with GLK’s is that the front CAM Sensors leak oil and will get worse with time.  This is because as the oil level drops the sensors become brittle and start leaking due to lengthy in between oil changes.\\n\\nEasy to spot, open the hood, undo the clips to plastic cover in front of motor and check for oil leaks! \\n\\nIn Houston we look at 31 GLKs before we found one with no leaks.']},\n",
       " {'Car Name': '2016 GMC Terrain Denali',\n",
       "  'Rating': '\\n\\n\\n\\n',\n",
       "  'Reviews': ['May  3, 2021\\nBy Traci P from Anadarko\\nOwns this car',\n",
       "   'Satisfied with my vehicle. This vehicle is just right for my family of 5. The interior is really nice. I would recommend this car to anyone.',\n",
       "   'April 21, 2021\\nBy Unhappy Customer from Plant City Florida,\\nOwns this car',\n",
       "   'Infotainment system will periodically stop working and start again.  It also has stopped and did not start again until the next day.  Took vehicle in for repair and after a 2 ½ wait the Service Advisor told me that the mechanic could not determine what the problem is.  He also told me that he couldn’t justify replacing the Infotainment system because it would cost the dealership.',\n",
       "   'February 12, 2021\\nBy Chris & Don from Hayward, WI\\nOwns this car',\n",
       "   'This car meet all our needs needed more room for our grandkids & their car seats, this vehicle has plenty of room! Looking forward to getting it out on the highway & taking a road trip!']},\n",
       " {'Car Name': '2017 Nissan Armada SV',\n",
       "  'Rating': '\\n\\n\\n\\n',\n",
       "  'Reviews': ['May  8, 2022\\nBy Caroline Belvin  from Alexandria, Louisiana \\nUsed to own this car',\n",
       "   'I really liked the car when I initially bought the car. It’s my smaller version of the infinity, I enjoy an Infinity and loved the service it provided. However,my car is a 2017 with only 40,234 miles and we’re experiencing transmission issues like it hesitates for awhile before it changes gears, device for while and repeats the same process with the gears. We had is at 13,000 miles with tapping the brakes for the start on the car. Otherwise, it’s ok.',\n",
       "   'May  9, 2021\\nBy Pcbjr2001 from San antonio, tx.\\nOwns this car',\n",
       "   \"Love this car, everything I thought it would be. This will probably my last car and I couldn't have made a better choice. You should test drive one today.\",\n",
       "   'April 24, 2021\\nBy Joe from Clarksville, TN\\nOwns this car',\n",
       "   'Amazing ride and very roomy. The platinum Armada is a great family car. We are very happy with our purchase and Heritage Nissan. We love it!!']},\n",
       " {'Car Name': '2011 Chevrolet Impala LTZ',\n",
       "  'Rating': '\\n\\n\\n\\n',\n",
       "  'Reviews': ['April 24, 2023\\nBy Tim from Michigan\\nOwns this car',\n",
       "   'This has honestly been a reliable car and im not one to leave reviews. Bought this car for $1000 at 208k miles. Yes, the mileage scared me as well. It currently just hit 230k Miles and Still runs like a dream. I had to replace my Rack & pinion eventually which is a known issue on these vehicles, other then that just regular maintenance scheduled oil changes, new tires alignments i really haven’t dumped a ton of money into this car like i have past vehicles and i expect it to reach 250k-300k the way this is driving. Impressed is an understatement.',\n",
       "   'March 16, 2023\\nBy Patsy Thomas  from Spencer, Indiana \\nOwns this car',\n",
       "   'My poor car has had a lot of problems but as far as driving it, I love it.  I would recommend buying a 2011 Impala.',\n",
       "   'January 17, 2023\\nBy Kathy  from Bergen, N.Y.\\nOwns this car',\n",
       "   \"Absolute xxx, even GM wouldn't honor the extended warranty, they just gave me money I paid for the warranty. Leaking sunroof destroyed the car. Car is worthless now.\"]},\n",
       " {'Car Name': '2011 Nissan Altima 2.5 SL',\n",
       "  'Rating': '\\n\\n\\n\\n',\n",
       "  'Reviews': ['December 31, 2022\\nBy Al from Kansas City MO\\nOwns this car',\n",
       "   'The front seats are comfortable and supportive. The 4 cyl  has pep, gets 20 mph in the city at 165,000 miles and has been very reliable. When first moving in cold weather, the CVT transmission has to warm up for a couple of minutes before it smoothly shifts gears or manually shift it. It starts every time with a 5 year old battery in 0 degree weather. All in all, a good purchase.a',\n",
       "   'March 10, 2021\\nBy Brylee from Oak Grove\\nTest drove this car',\n",
       "   'The vehicle I purchased is the perfect car for me! I never leave reviews, like ever so if I am spending time to write this please know it is because I am more than happy with the services provided to me! Buying a car can be easy if you go to Mericars Auto NW!!',\n",
       "   'November 16, 2020\\nBy Altama Lover from Lake Elsinore, Ca.\\nOwns this car',\n",
       "   'Excellent Ride and comfort. Blows away the Accord both in ride, comfort and torque. Handles excellent and love the CVT transmission. Great Car for reliabilty.']},\n",
       " {'Car Name': '1990 Volkswagen Corrado Base',\n",
       "  'Rating': '\\n\\n\\n\\n',\n",
       "  'Reviews': ['May 24, 2018\\nBy jeffsgolife from franklin\\nOwns this car',\n",
       "   'I love it but it needs a new loving home. Here is your chance to own a car that is becoming a little more rare every year.']},\n",
       " {'Car Name': '2013 Honda Pilot EX-L',\n",
       "  'Rating': '\\n\\n\\n\\n',\n",
       "  'Reviews': ['April  9, 2021\\nBy Unhappy Honda owner from Williamston sc\\nOwns this car',\n",
       "   \"My Honda Pilot won't connect to my phone for hands free link. And no way to fix it. One of the reasons I bought the car is so I dont have to touch my phone while driving.  And with a honda this isn't possible unless you can purchase an outdated phone that is compatible. \\n The inside has cheap plastic in areas.  Passenger door won't unlock automatic when the car is placed in park like the rest of the doors. Just not pleased after so many people raved how great Honda is. Well I disagree. Not a fan of Honda. Maybe they will improve something technology wise and interior wise. Can't wait to get rid of this pilot of junk. ( pile of junk)\\nIf you want a good car buy a Toyota. Toyota is compatible with any phone for hands free. Toyota dont have cheap plastic and isn't cheaply made. I wish I would have bought another Toyota!\",\n",
       "   'February 19, 2021\\nBy Chrokeeco from Littleton, CO\\nOwns this car',\n",
       "   'Bought car used in NC and had great years in warm humid flat conditions .  Moved to CO and have enjoyed in Mountains, snow, ice.  Performs well and is reliable.',\n",
       "   'February  7, 2021\\nBy Jim from Dublin, VA\\nOwns this car',\n",
       "   'I have a specific set of needs as I use a power wheelchair to get around: \\n\\n1. Must have fuel fill on driver’s side.\\n2. Must have a towing receiver for my wheelchair lift.\\n3. Must have rear glass that opens independently of the hatch.\\n\\nThe Honda Pilot checked these boxes and many more. Drives nice, gets good gas mileage, is comfortable, seats 8. I haven’t had it long, but I’m already in love with it.']},\n",
       " {'Car Name': '2001 Pontiac Firebird Formula',\n",
       "  'Rating': '\\n\\n\\n\\n',\n",
       "  'Reviews': ['February 20, 2020\\nBy Beachbabe from Mesquite, TX\\nUsed to own this car',\n",
       "   'Only required regular maintenance. Never broke down. Drove from 20k miles to 190k miles. Took long trips in it. Very smooth on road. Has power and excellent steering. Hold the road. the vehicle is hard to drive in snow and rain. It sits very low to ground so must be careful.',\n",
       "   'January 12, 2020\\nBy Hotrod RN from Williamsport, MD\\nOwns this car',\n",
       "   \"I've owned this car for 11 years, kept the oil changed, brand new set of tires, body style is still in good shape & great car if you're looking to purchase this Firebird to turn it into an upgrade!\",\n",
       "   'June  6, 2019\\nBy Firebird Sandy from Fords, New Jersey\\nOwns this car',\n",
       "   \"Car is still in good shape for it's age and has low mileage. Has been a great car over the years and still is awesome.\"]},\n",
       " {'Car Name': '2013 Audi Q5 3.0T Prestige quattro',\n",
       "  'Rating': '\\n\\n\\n\\n',\n",
       "  'Reviews': ['May 20, 2021\\nBy AndreaWantsValue from Toledo, Ohio\\nOwns this car',\n",
       "   \"Very responsive handling, which makes it fun to drive. You'll get a sport feel in an SUV. The panoramic sunroof is great for summer evening cruising. Seats are a bit stiff, but you almost don't notice because you're too busy enjoying the interior design.\",\n",
       "   'April 17, 2021\\nBy Audi Convert from Mill Valley, CA\\nOwns this car',\n",
       "   \"Owned various BMW's for several decades and now am an Audi convert.   The Q5 is luxurious, has multitude of electronic features, good gas mileage yet powerful, and can fit my bike in back.\",\n",
       "   'September 24, 2020\\nBy LvnFree from Bloomington\\nOwns this car',\n",
       "   'I owned Cadillacs when they were focused on comfort and ride before they decided to copy european interiors.\\nThis Audi has been a pleasent surprise. Very quiet cabin, full options and a comfortable ride. I took it to my mechanic after I bought it. No surprises.']},\n",
       " {'Car Name': '2009 Acura TL Technology',\n",
       "  'Rating': '\\n\\n\\n\\n',\n",
       "  'Reviews': ['June 30, 2023\\nBy Julio from New York \\nUsed to own this car',\n",
       "   'Is a good car to go to work is really comfortable is good in the snow I never had an issue I will buy another one',\n",
       "   'November 17, 2020\\nBy Barry Goodwin from Bridgeport\\nTest drove this car',\n",
       "   'Absolutely one-of-a-kind I will recommend anyone to drive it or buy one beautiful car comfortable and Spacey roomy I like the car myself I recommend anyone to have one',\n",
       "   'July 30, 2020\\nBy Hueyca444 from Los Angeles, CA\\nTest drove this car',\n",
       "   'Lot of used cars out there,\\nthis one for the money safe, and reliable \\ntell family and friends to use and try\\nAcura for the money very good car']},\n",
       " {'Car Name': '2013 Ford Expedition EL Limited',\n",
       "  'Rating': '\\n\\n\\n\\n',\n",
       "  'Reviews': ['April 13, 2022\\nBy Bill  from Hedgesville, WV\\nOwns this car',\n",
       "   'I purchased it used 6 months ago with very high mileage. I am still in shock of how good this vehicle is. For starters, not having to do specifically or exclusively with Expeditions, this vehicle is very clean in an out and all around. The paint still shines like new and I believe it to be original, 9/10. The interior shows very light ware. Some leather conditioner and she’ll be a 10/10.  The reality is that vehicles like these are usually purchased by very large families with kids so the interiors are usually bad news. Having said that, the previous owner of this vehicle REALLY LOVED this truck as I do. 200k miles on the clock and this thing rides like a dream. I have all the same features and options as the unit used for this article, with the addition of video player with dual monitors on the headrests. The gas mileage is not great but I work from home and we have a multi vehicle household so the gas mileage was not as much a concern for me as it may be for others. In all honesty, I spend my time driving it around on weekends trying to find things to do or cargo to fill it up with just because I can. I am not a handy guy so projects around the house are handled by payed handymen, but I am literally always trying to think about what I can put in it. I am considering purchasing a small travel trailer for some camping adventures. The one thing I am tempted to do, but won’t, is to take a very long road trip in it. I won’t because it does have the previously mentioned 200k on the odometer and because I am not handy, I don’t want to have something go wrong 1k miles from home, but it is so tempting. This is truly one of, if not THE BEST vehicle I’ve ever owned. If you want to look trendy or like to attract attention with a flashy car, this is not the one for you. It looks very dated. My last piece of advice, DO NOT BE OVER CONFIDENT WITH YOUR DRIVING ABILITIES. If you are intimidated by driving a VERY LARGE vehicle in tight spaces or don’t like to use your mirrors to back up because, “I got this,” with your backup camera, this vehicle is not for you. You should be skilled behind the wheel to own this vehicle. \\r\\n\\r\\nI would most certainly recommend this vehicle to anyone in the market for this type of vehicle.',\n",
       "   'May 19, 2021\\nBy Manuel Fuertes from Tampa\\nOwns this car',\n",
       "   'My suv was above and beyond what I was looking for super clean not a scratch on the paint it looked brand new. The engine super clean low miles and runs and performs 100% perfect.',\n",
       "   'November 11, 2020\\nBy tltponto from red wing\\nOwns this car',\n",
       "   'The truck can hold the whole family while  pulling are camper on a nice long road trip across the country with few stops for gas.']},\n",
       " {'Car Name': '2009 BMW 328 xDrive',\n",
       "  'Rating': '\\n\\n\\n\\n',\n",
       "  'Reviews': ['July 14, 2023\\nBy James Boyd from Chicago, Illinois\\nOwns this car',\n",
       "   \"I purchased a new 2009 328I 14 years ago, it had less than one mile on the engine. Today I have 210,000. I have replaced the radiator, starter and a few batteries and brake jobs. I have to say its been a very dependable car, its garage kept. \\r\\n\\r\\nMy only complaint is BMW needs to replace the headlights that fog up after time and the melting door handles. This is clearly a manufacture defect. Apart from that the money was well spent. I'm going to drive it till the motor blows up.\",\n",
       "   'December  1, 2022\\nBy Olivia from Ct\\nUsed to own this car',\n",
       "   'Biggest money pit. I guess having luxury cars makes you look rich because you can afford spending thousands in repairs every year. I’ve had this car for 2.5 years and it breaks every few months. 4 different oil leaks, radiator blew, coils have gone bad, windshield wipers have stopped working, water started coming in car, blower stopped working and so much more! Don’t waste your time. If you want luxury get a Lexus.',\n",
       "   'November  1, 2022\\nBy Shane from Az Gilbert\\nOwns this car',\n",
       "   '328i Conv. Is a great car reliable yes. maintenance is a little expensive but I love the car. Inline six is so smooth and performs like a german sports car should. Handles, brakes and brings a smile to my face daily.']}]"
      ]
     },
     "execution_count": 53,
     "metadata": {},
     "output_type": "execute_result"
    }
   ],
   "source": [
    "car_reviews_data"
   ]
  },
  {
   "cell_type": "markdown",
   "metadata": {},
   "source": [
    "# Doesn't give rating even though there is "
   ]
  },
  {
   "cell_type": "code",
   "execution_count": null,
   "metadata": {},
   "outputs": [],
   "source": []
  },
  {
   "cell_type": "code",
   "execution_count": null,
   "metadata": {},
   "outputs": [],
   "source": []
  },
  {
   "cell_type": "code",
   "execution_count": null,
   "metadata": {},
   "outputs": [],
   "source": []
  },
  {
   "cell_type": "code",
   "execution_count": null,
   "metadata": {},
   "outputs": [],
   "source": []
  },
  {
   "cell_type": "code",
   "execution_count": null,
   "metadata": {},
   "outputs": [],
   "source": []
  },
  {
   "cell_type": "code",
   "execution_count": null,
   "metadata": {},
   "outputs": [],
   "source": []
  },
  {
   "cell_type": "code",
   "execution_count": null,
   "metadata": {},
   "outputs": [],
   "source": []
  },
  {
   "cell_type": "code",
   "execution_count": null,
   "metadata": {},
   "outputs": [],
   "source": []
  },
  {
   "cell_type": "code",
   "execution_count": null,
   "metadata": {},
   "outputs": [],
   "source": []
  },
  {
   "cell_type": "code",
   "execution_count": null,
   "metadata": {},
   "outputs": [],
   "source": []
  },
  {
   "cell_type": "code",
   "execution_count": null,
   "metadata": {},
   "outputs": [],
   "source": []
  },
  {
   "cell_type": "code",
   "execution_count": null,
   "metadata": {},
   "outputs": [],
   "source": []
  },
  {
   "cell_type": "code",
   "execution_count": 64,
   "metadata": {},
   "outputs": [],
   "source": [
    "def get_car_data(car_url):\n",
    "    response = requests.get(car_url)\n",
    "    soup = BeautifulSoup(response.content, 'html.parser')\n",
    "    review_section = soup.find('div', {'class': 'vehicle-reviews'})\n",
    "    if review_section:\n",
    "        reviews = review_section.find_all('div', {'class': 'review-section'})\n",
    "        review_texts = [review.get_text().strip() for review in reviews]\n",
    "    else:\n",
    "        review_texts = []\n",
    "\n",
    "    rating_element = soup.find('span', {'class': 'sds-rating__count'})\n",
    "    car_rating = rating_element.get_text() if rating_element else 'No rating available'\n",
    "\n",
    "    return review_texts, car_rating\n",
    "\n",
    "car_reviews_data = []\n"
   ]
  },
  {
   "cell_type": "code",
   "execution_count": 67,
   "metadata": {},
   "outputs": [],
   "source": [
    "for i in range(2, 3):\n",
    "    url = f'https://www.cars.com/shopping/results/?dealer_id=&keyword=&list_price_max=15000&list_price_min=&makes[]=&maximum_distance=20&mileage_max=&monthly_payment=256&page='+str(i)+'&page_size=20&sort=best_match_desc&stock_type=all&year_max=&year_min=&zip='\n",
    "\n",
    "    response = requests.get(url)\n",
    "    soup = BeautifulSoup(response.content, 'html.parser')\n",
    "    car_links_detailed = soup.find_all(\"a\", {\"class\": \"vehicle-card-link js-gallery-click-link\"})\n",
    "\n",
    "    for car_link in car_links_detailed:\n",
    "        car_url = urljoin(url, car_link.get('href'))  # Resolve the full URL\n",
    "        car_name = car_link.find('h2', {'class': 'title'}).get_text().strip()\n",
    "        car_reviews, car_rating = get_car_data(car_url)\n",
    "\n",
    "        car_reviews_data.append({'Car Name': car_name, 'Rating': car_rating, 'Reviews': car_reviews})\n"
   ]
  },
  {
   "cell_type": "code",
   "execution_count": 66,
   "metadata": {},
   "outputs": [
    {
     "data": {
      "text/html": [
       "<div>\n",
       "<style scoped>\n",
       "    .dataframe tbody tr th:only-of-type {\n",
       "        vertical-align: middle;\n",
       "    }\n",
       "\n",
       "    .dataframe tbody tr th {\n",
       "        vertical-align: top;\n",
       "    }\n",
       "\n",
       "    .dataframe thead th {\n",
       "        text-align: right;\n",
       "    }\n",
       "</style>\n",
       "<table border=\"1\" class=\"dataframe\">\n",
       "  <thead>\n",
       "    <tr style=\"text-align: right;\">\n",
       "      <th></th>\n",
       "      <th>Car Name</th>\n",
       "      <th>Rating</th>\n",
       "      <th>Reviews</th>\n",
       "    </tr>\n",
       "  </thead>\n",
       "  <tbody>\n",
       "    <tr>\n",
       "      <th>0</th>\n",
       "      <td>2008 Ford Ranger XL</td>\n",
       "      <td>3.9</td>\n",
       "      <td>[November 22, 2022\\nBy Mike from Ottawa Ontari...</td>\n",
       "    </tr>\n",
       "    <tr>\n",
       "      <th>1</th>\n",
       "      <td>2017 Hyundai Elantra Limited</td>\n",
       "      <td>4.7</td>\n",
       "      <td>[March  8, 2023\\nBy Christopher bergen from  P...</td>\n",
       "    </tr>\n",
       "    <tr>\n",
       "      <th>2</th>\n",
       "      <td>2008 BMW 528 4dr Sdn 528i RWD</td>\n",
       "      <td>4.7</td>\n",
       "      <td>[May 26, 2021\\nBy Sam1truck from Clearwater, F...</td>\n",
       "    </tr>\n",
       "    <tr>\n",
       "      <th>3</th>\n",
       "      <td>2013 Dodge Durango SXT</td>\n",
       "      <td>1.9</td>\n",
       "      <td>[April  3, 2023\\nBy Gabriel brewer from Richar...</td>\n",
       "    </tr>\n",
       "    <tr>\n",
       "      <th>4</th>\n",
       "      <td>2008 Toyota Matrix STD</td>\n",
       "      <td>4.2</td>\n",
       "      <td>[October  3, 2022\\nBy Retired Factory Worker f...</td>\n",
       "    </tr>\n",
       "  </tbody>\n",
       "</table>\n",
       "</div>"
      ],
      "text/plain": [
       "                        Car Name Rating  \\\n",
       "0            2008 Ford Ranger XL    3.9   \n",
       "1   2017 Hyundai Elantra Limited    4.7   \n",
       "2  2008 BMW 528 4dr Sdn 528i RWD    4.7   \n",
       "3         2013 Dodge Durango SXT    1.9   \n",
       "4         2008 Toyota Matrix STD    4.2   \n",
       "\n",
       "                                             Reviews  \n",
       "0  [November 22, 2022\\nBy Mike from Ottawa Ontari...  \n",
       "1  [March  8, 2023\\nBy Christopher bergen from  P...  \n",
       "2  [May 26, 2021\\nBy Sam1truck from Clearwater, F...  \n",
       "3  [April  3, 2023\\nBy Gabriel brewer from Richar...  \n",
       "4  [October  3, 2022\\nBy Retired Factory Worker f...  "
      ]
     },
     "execution_count": 66,
     "metadata": {},
     "output_type": "execute_result"
    }
   ],
   "source": [
    "reviews_df = pd.DataFrame(car_reviews_data)\n",
    "reviews_df.head()"
   ]
  },
  {
   "cell_type": "code",
   "execution_count": 61,
   "metadata": {},
   "outputs": [
    {
     "data": {
      "text/plain": [
       "[{'Car Name': '2001 Pontiac Firebird Formula',\n",
       "  'Rating': '4.8',\n",
       "  'Reviews': ['February 20, 2020\\nBy Beachbabe from Mesquite, TX\\nUsed to own this car',\n",
       "   'Only required regular maintenance. Never broke down. Drove from 20k miles to 190k miles. Took long trips in it. Very smooth on road. Has power and excellent steering. Hold the road. the vehicle is hard to drive in snow and rain. It sits very low to ground so must be careful.',\n",
       "   'January 12, 2020\\nBy Hotrod RN from Williamsport, MD\\nOwns this car',\n",
       "   \"I've owned this car for 11 years, kept the oil changed, brand new set of tires, body style is still in good shape & great car if you're looking to purchase this Firebird to turn it into an upgrade!\",\n",
       "   'June  6, 2019\\nBy Firebird Sandy from Fords, New Jersey\\nOwns this car',\n",
       "   \"Car is still in good shape for it's age and has low mileage. Has been a great car over the years and still is awesome.\"]},\n",
       " {'Car Name': '2001 Porsche Boxster',\n",
       "  'Rating': '4.6',\n",
       "  'Reviews': ['June 28, 2022\\nBy Rodney from Palmerton, PA\\nOwns this car',\n",
       "   \"I've dreamed of owning a 911 Turbo since I was in my teens. I'm now 63 years old and don't need to drive 150mph anymore. Last year my wife and I decided to look for a convertible to recapture the days of when we first started dating in 1987 when she had a 1982 Fiat Spyder 2000 convertible. We traded that in 2004 on a BMW 330Xi. We had a pretty sweet deal lined up on a 2008 BMW Z4 until the day before we went to pick it up and found out the dealer sold it from under us. What could have really sucked turned into a golden opportunity: we chanced upon a 2001 Boxster S with 59,000 original miles. We have not regretted the decision one bit. Yes, the ergonomics are somewhat dated compared to today and it's not the latest and greatest technology, but we bought it to drive, not to be distracted with all sorts of gizmos. (I'm employed as a Sales representative at a local Chrysler/Dodge/Jeep Dealer for over 35 years. I'm exposed to all the technology). This little Bavarian bomber is an absolute blast to drive; comfortable, quick, sticks to the road like burnt eggs to a cast iron frying pan, and turns heads everywhere. It's capable of 160+ mph, but the right road at 55 mph brings grins all the time. We just went for a weekend trip with it and had no problem with room for our luggage, a tote bag, and a small soft-sided cooler. And as an added bonus, we took it through the famed Hawk's Nest Highway on Route 97 north of Port Jervis, NY.  Wonderful to drive, comfortable even after a couple hours, fuel-efficient (except when I play with the Tiptronic on a twisty road), and so far, dead-bolt reliable. So I didn't get my 911 Turbo; the Boxster S is a more than welcome consolation prize. You owe it to yourself. \\r\\nP.S- My wife drives it more than I do!\",\n",
       "   'October  5, 2020\\nBy E.Vince from Rochester, MN\\nOwns this car',\n",
       "   'Fast and fun sports car, superb handling, performance, and styling. Mid-engine balance allows incredible G-forces, engine seems to develop peak-torque in the higher range of RPMs.',\n",
       "   'July  7, 2020\\nBy Alvaro1985 from dunellen nj\\nOwns this car',\n",
       "   'this car is one of my dream cars until i actually owned one. i enjoyed many adventures and really cold feel the difference between other European cars.']},\n",
       " {'Car Name': '2012 Honda Odyssey EX-L',\n",
       "  'Rating': '3.6',\n",
       "  'Reviews': ['November 17, 2020\\nBy KateOrtiz from Stafford Springs\\nOwns this car',\n",
       "   \"It's comfortable and reliable. The body is in great conditions. I enjoy driving it and my kids enjoy the space a perks. They can watch TV charge their devices and/or play their video games on the TV. Everything they've wanted in a car and silence for me!\",\n",
       "   'August 18, 2020\\nBy Rebecca from Baltimore\\nOwns this car',\n",
       "   'This car is wider than other minivans, providing more space and legroom for the kids.  It drives ultra smooth and is super comfortable.  Only complaint is that there is only 1 built in USB port and is located in the glove compartment.',\n",
       "   'July 18, 2020\\nBy Jennyg from Surprise, AZ\\nOwns this car',\n",
       "   'This car has met my family needs for 8 years. The next owner will be happy to purchase the car. It is a very good for family with kids.']},\n",
       " {'Car Name': '2017 Hyundai Santa Fe Sport 2.0L Turbo Ultimate',\n",
       "  'Rating': '5.0',\n",
       "  'Reviews': ['June 22, 2023\\nBy Mario from Ottawa\\nOwns this car',\n",
       "   \"we have a 2017 Santa Fe sport 2.4 engine. The engine now has a drop valve and piston #3 50 PSI. Engine needs replacement. We had an extended warranty that expired on April 6 2023. Call Hyundai to see if we qualify for the 10 year 200,000 KM warranty but because it the upper part of the motor it is not included. to replace the engine I'm quoted $ 9500. to fix it I'm quoted over $ 5500. How is this possible that we need to replace an engine after 6 years??? this should not happen. the car is not reliable.\",\n",
       "   'June  3, 2023\\nBy Clayton cooper  from Johnstown pa\\nOwns this car',\n",
       "   \"Not a bad vehicle the 2.4 liter motor is junk but Hyundai will replace it with a better motor the interior is nice overall its a sharp looking vehicle. But I will not buy another Hyundai with the garbage 2.4 liter gdi motor in it. The replacement motor is better.  It's a good suv for the snow. Very reliable SUV.\",\n",
       "   'April 13, 2023\\nBy Kristine Dela Cruz from Chicago, IL\\nOwns this car',\n",
       "   \"The first time I got this car as a lease was great. Then I opted to buy the car. My kids are growing taller that this car is not that comfortable for them. Now I'm having trouble with oil consumption on this car. Been topping the oil from my local oil change center a quart every week. I was told that's the engine will not last if this oil consumption will not be fixed. Been to hyundai ohare, il they did a thorough check and tried to con us for the amount due for a work done- transmission fluids. The replaced the recalls. No mention about fluid leaking from the engine. They don't have a loaner car there so I waited before going through the 1st stage in oil consumption test. Since we got con there, we opted to go to another hyundai dealer in glenview- napleton hyundai. There we went through 2 stages of the oil consumption test, had oil change before the start of the oil consumption test as directed. No oil leak mentioned from there. We didn't finish the 3rd stage coz now the guy in service we dealt with is not working there anymore as we were told. All of a sudden their manager told us that there's oil leak now he noted from the engine. Nothings been mentioned all these time, even from mechanics from the said dealership. So I pulled out our car from there . So I'm left with this unreliable car and I'm afraid of my safety driving in the highway everyday to work as a first responder and to do of my kids to school as well. I've checked my Vin # unfortunately its not one of the list for engine recall but I'm having this problem that need to be addressed. We're so frustrated and angry about this problem without any solution. My previous car I had it for 18 years- Toyota Camry and don't have this problem. I thought this would be a great car but proved me wrong.\"]},\n",
       " {'Car Name': '2006 Chevrolet Silverado 1500 LT Crew Cab',\n",
       "  'Rating': '4.2',\n",
       "  'Reviews': ['January 10, 2023\\nBy Kevin  from South Bend Indiana \\nOwns this car',\n",
       "   'Bought it October 2007. 33,800. In 2009  with 36,450 on it. Transmission failed. 2010 replaced  the whole front suspension at 37,200. 39,000 replaced the rear differential. At 38.900 replaced the steering box and upper and lower shafts. 43,200 replaced the steering column. 45,289 replaced the power steering unit. I’ve got over $19,000 in repairs on this non reliable truck. I’ve replaced or repaired so much on it. I can’t afford to get rid of it.  It’s like a new truck almost. I will never buy another Chevrolet ever again. I will get a Tundra or an F-250. I’ve got more money in this Silverado than all my previous vehicles I’ve had the last 50 years. The only item I’ve had no problem with is the 5.3 motor. I’ve replaced or repaired everything else. I’m done with Chevrolets forever. It has 59,687 miles on it now',\n",
       "   'May 31, 2021\\nBy Charlotte\"Web\" from Iva,South Carolina\\nOwns this car',\n",
       "   \"This truck meets all our needs.. It runs @ drives like a new one. It also looks new inside @ out. Not sure about mpg but seems like 15 around town.Haven't taken a trip yet but will be soon.... I would recommend a Chev. Silverado to anyone looking for a truck@ We've had a lot of trucks in our 48 yrs. if marriage.. This is my favorite of  all we've had\",\n",
       "   'September 26, 2020\\nBy Ejk from Columbia, SC\\nOwns this car',\n",
       "   '275,000 on original engine. No major repairs. Dependable. Smooth ride. Used for everything. Towing boats and trailers. Developed intermittent lifter knock @ 250,000. Still running good.']},\n",
       " {'Car Name': '2004 Dodge Neon SRT-4',\n",
       "  'Rating': '3.8',\n",
       "  'Reviews': ['March  8, 2022\\nBy Cara from Dallas, TX\\nOwns this car',\n",
       "   'Here we are in 2022, and I still drive a 2004 Dodge Neon. This thing just will not quit (yet). People ask why I don\\'t get a new car...why would I want the monthly payment when I can keep driving this thing around? Interior looks almost as good as it did new if you keep up with it. (I get it detailed or do it myself maybe once every 2 years). You\\'ll want to stretch a black towel or blanket across the back seat headrests if you park outside, you\\'ll get a lot of fading and sun damage to those seats if you don\\'t. This thing has made it across the country multiple times and I commute to work in it every day. There is a small oil leak that\\'s been there forever, but it\\'s almost 20 years old so I wouldn\\'t expect anything less. The front control arms had to be replaced a couple years ago which only cost about $300 since my dad was able to install them himself. Another review mentioned the durability. Let me tell you, my dad has a 2002 Neon that got sandwiched between a Honda sedan and a Lexus. Guess who still drove home after that accident? My dad with his Neon of course. The other 2 cars were deemed \"totaled\". Keep up with the oil changes and you\\'ll be good.',\n",
       "   'October  4, 2020\\nBy goodcall13 from Verona, VA\\nUsed to own this car',\n",
       "   'I wanted to keep it for a show car but the electric system failed so the car is good until about a hundred 50000 MI I had for 16 years original I did all the belts plugs and make this work on it and it was a good reliable car about every three years the cam sensor went bad the other than that it was fun to drive it was fast they had a good pick up speed and its really a fun little car people talk about Comfort but I was always comfortable using it. I think people should keep these little cars as long as it runs good but once they start acting up, everything starts to go ...quick.. but I do miss my little neon I do recommended it.',\n",
       "   'June 24, 2020\\nBy Sophie Winet from Carson City, NV\\nTest drove this car',\n",
       "   'This car is really just a ton of fun to drive, especially the manual trans. The Neon is dependable, economical and you can pretty much drive it on any type of road. I\\'m still looking for \"the\" one. Great car, nice styling and fun.']},\n",
       " {'Car Name': '2012 Lexus ES 350 Base',\n",
       "  'Rating': '4.9',\n",
       "  'Reviews': ['April 20, 2021\\nBy Jim from Carlise, Pa\\nOwns this car',\n",
       "   'Very nice car. A real sense of dependability,reliability, smooth. I only wish it were another color. Should go well into the hundreds of thousand miles range.',\n",
       "   'March 28, 2021\\nBy Jack from Wexford from Wexford, PA\\nOwns this car',\n",
       "   'I had a Lexus Es350 2007.  I knew what I wanted and the car was everything we were told low mileage with hardly any defects.',\n",
       "   'October 10, 2020\\nBy David from Scottsdale\\nOwns this car',\n",
       "   'Need an USB plug so I can use my Samsung Galaxy phone and other devices.  Window tinting works have been nice to have installed before purchase.']},\n",
       " {'Car Name': '2014 Ford Edge SEL',\n",
       "  'Rating': '4.6',\n",
       "  'Reviews': ['September  8, 2022\\nBy Kristen from Knoxville, TN\\nOwns this car',\n",
       "   'I purchased a 2014 Ford Edge SE new, and I still have it 8 years later. It has been an incredibly reliable and comfortable vehicle for me and my family. Would highly recommend!',\n",
       "   'March 31, 2022\\nBy Chris from Union, KY\\nOwns this car',\n",
       "   'One of the best cars I have owned. I have the 2014 Edge Sport model.  I still have it. Traded in a Mercedes for it!  It handles like a sports car with the 22 inch rims, is has great pickup and all the amenities I could want like the Mercedes. Also, no mechanical problems to date 2022! Highly recommend.',\n",
       "   'May 15, 2021\\nBy Kathy from east palestine, oh\\nOwns this car',\n",
       "   'After owning my previous vehicle for 16 years, I am hoping this Edge meets all my likes. So far, I am very pleased with it.']},\n",
       " {'Car Name': '2013 Audi Q5 3.0T Prestige quattro',\n",
       "  'Rating': '4.9',\n",
       "  'Reviews': ['May 20, 2021\\nBy AndreaWantsValue from Toledo, Ohio\\nOwns this car',\n",
       "   \"Very responsive handling, which makes it fun to drive. You'll get a sport feel in an SUV. The panoramic sunroof is great for summer evening cruising. Seats are a bit stiff, but you almost don't notice because you're too busy enjoying the interior design.\",\n",
       "   'April 17, 2021\\nBy Audi Convert from Mill Valley, CA\\nOwns this car',\n",
       "   \"Owned various BMW's for several decades and now am an Audi convert.   The Q5 is luxurious, has multitude of electronic features, good gas mileage yet powerful, and can fit my bike in back.\",\n",
       "   'September 24, 2020\\nBy LvnFree from Bloomington\\nOwns this car',\n",
       "   'I owned Cadillacs when they were focused on comfort and ride before they decided to copy european interiors.\\nThis Audi has been a pleasent surprise. Very quiet cabin, full options and a comfortable ride. I took it to my mechanic after I bought it. No surprises.']},\n",
       " {'Car Name': '2009 Acura TL Technology',\n",
       "  'Rating': '5.0',\n",
       "  'Reviews': ['June 30, 2023\\nBy Julio from New York \\nUsed to own this car',\n",
       "   'Is a good car to go to work is really comfortable is good in the snow I never had an issue I will buy another one',\n",
       "   'November 17, 2020\\nBy Barry Goodwin from Bridgeport\\nTest drove this car',\n",
       "   'Absolutely one-of-a-kind I will recommend anyone to drive it or buy one beautiful car comfortable and Spacey roomy I like the car myself I recommend anyone to have one',\n",
       "   'July 30, 2020\\nBy Hueyca444 from Los Angeles, CA\\nTest drove this car',\n",
       "   'Lot of used cars out there,\\nthis one for the money safe, and reliable \\ntell family and friends to use and try\\nAcura for the money very good car']},\n",
       " {'Car Name': '2013 Ford Expedition EL Limited',\n",
       "  'Rating': '3.2',\n",
       "  'Reviews': ['April 13, 2022\\nBy Bill  from Hedgesville, WV\\nOwns this car',\n",
       "   'I purchased it used 6 months ago with very high mileage. I am still in shock of how good this vehicle is. For starters, not having to do specifically or exclusively with Expeditions, this vehicle is very clean in an out and all around. The paint still shines like new and I believe it to be original, 9/10. The interior shows very light ware. Some leather conditioner and she’ll be a 10/10.  The reality is that vehicles like these are usually purchased by very large families with kids so the interiors are usually bad news. Having said that, the previous owner of this vehicle REALLY LOVED this truck as I do. 200k miles on the clock and this thing rides like a dream. I have all the same features and options as the unit used for this article, with the addition of video player with dual monitors on the headrests. The gas mileage is not great but I work from home and we have a multi vehicle household so the gas mileage was not as much a concern for me as it may be for others. In all honesty, I spend my time driving it around on weekends trying to find things to do or cargo to fill it up with just because I can. I am not a handy guy so projects around the house are handled by payed handymen, but I am literally always trying to think about what I can put in it. I am considering purchasing a small travel trailer for some camping adventures. The one thing I am tempted to do, but won’t, is to take a very long road trip in it. I won’t because it does have the previously mentioned 200k on the odometer and because I am not handy, I don’t want to have something go wrong 1k miles from home, but it is so tempting. This is truly one of, if not THE BEST vehicle I’ve ever owned. If you want to look trendy or like to attract attention with a flashy car, this is not the one for you. It looks very dated. My last piece of advice, DO NOT BE OVER CONFIDENT WITH YOUR DRIVING ABILITIES. If you are intimidated by driving a VERY LARGE vehicle in tight spaces or don’t like to use your mirrors to back up because, “I got this,” with your backup camera, this vehicle is not for you. You should be skilled behind the wheel to own this vehicle. \\r\\n\\r\\nI would most certainly recommend this vehicle to anyone in the market for this type of vehicle.',\n",
       "   'May 19, 2021\\nBy Manuel Fuertes from Tampa\\nOwns this car',\n",
       "   'My suv was above and beyond what I was looking for super clean not a scratch on the paint it looked brand new. The engine super clean low miles and runs and performs 100% perfect.',\n",
       "   'November 11, 2020\\nBy tltponto from red wing\\nOwns this car',\n",
       "   'The truck can hold the whole family while  pulling are camper on a nice long road trip across the country with few stops for gas.']},\n",
       " {'Car Name': '2013 Mercedes-Benz M-Class ML 350 BlueTEC 4MATIC',\n",
       "  'Rating': '4.6',\n",
       "  'Reviews': ['November  2, 2022\\nBy AS from London\\nOwns this car',\n",
       "   'Very comfortable car, good for all uses, i own the ML-350 AMG Sport and its got very good acceleration for a heavier suv, the diesel engine is quite pokey but smooth at the same time, its very capable of cruising at high speeds comfortably but still manages to handle well in comfort mode, the gear changes arent the fastest but still fairly quick, i assume they would be for the ML63, had a issue with the rear suspension, one of the better equipped cars on the road if you own one with a high spec of optional extras, amazing styling and interior center console is a bit of a pain when you drop anything small on it such as crumbs, the gaps are quite big so alot fall in them and is hard to clean out, good car would definitely recommend buying if your looking at one',\n",
       "   'March 19, 2021\\nBy GIER from Walden\\nOwns this car',\n",
       "   'Smooth ride, very luxurious interior interior, intelligent headlight system, spacious inside and the exterior looks best with daytime running lights. Very Proud to own this vehicle.',\n",
       "   'February 19, 2021\\nBy Jp from Miami\\nUsed to own this car',\n",
       "   \"It look really nice. Days after it started dropping oiled. \\nTook it to the Mercedes Benz for a check and they said the car's engine was really bad.\"]},\n",
       " {'Car Name': '2009 BMW 328 xDrive',\n",
       "  'Rating': '4.6',\n",
       "  'Reviews': ['July 14, 2023\\nBy James Boyd from Chicago, Illinois\\nOwns this car',\n",
       "   \"I purchased a new 2009 328I 14 years ago, it had less than one mile on the engine. Today I have 210,000. I have replaced the radiator, starter and a few batteries and brake jobs. I have to say its been a very dependable car, its garage kept. \\r\\n\\r\\nMy only complaint is BMW needs to replace the headlights that fog up after time and the melting door handles. This is clearly a manufacture defect. Apart from that the money was well spent. I'm going to drive it till the motor blows up.\",\n",
       "   'December  1, 2022\\nBy Olivia from Ct\\nUsed to own this car',\n",
       "   'Biggest money pit. I guess having luxury cars makes you look rich because you can afford spending thousands in repairs every year. I’ve had this car for 2.5 years and it breaks every few months. 4 different oil leaks, radiator blew, coils have gone bad, windshield wipers have stopped working, water started coming in car, blower stopped working and so much more! Don’t waste your time. If you want luxury get a Lexus.',\n",
       "   'November  1, 2022\\nBy Shane from Az Gilbert\\nOwns this car',\n",
       "   '328i Conv. Is a great car reliable yes. maintenance is a little expensive but I love the car. Inline six is so smooth and performs like a german sports car should. Handles, brakes and brings a smile to my face daily.']},\n",
       " {'Car Name': '2012 Honda Accord LX Premium',\n",
       "  'Rating': '2.4',\n",
       "  'Reviews': ['September 20, 2022\\nBy Manny from Milford, CT\\nOwns this car',\n",
       "   'Still own the 2012 Honda Accord LX-P. Bought new in 2012 and currently has 187k miles (mostly highway) and still runs smooth. Great for commuting. Great mileage. You are welcome to contact me via text at 203-645-9642 for any further details.',\n",
       "   'February 28, 2022\\nBy Mutaher Ali from Pa\\nUsed to own this car',\n",
       "   'Mostly junk yards, accident, rebuilt cars with very costly prices in market. Damages, dents seen openly without any proper painting done to look cosmetic. Neither body damage fixed properly. Dealers, mechanics join together selling such cars. Not even a single honest mechanics who resort to cheat customers stating lots of work need to be done.',\n",
       "   'February 17, 2021\\nBy Randolph from Forked River,NJ\\nOwns this car',\n",
       "   'Excellent vehicle overall. Great gas mileage. At 192,000 miles and i still have the original clutch. Excellent car for commuting and excellent on the highway']},\n",
       " {'Car Name': '2014 Jeep Patriot Sport',\n",
       "  'Rating': '4.4',\n",
       "  'Reviews': ['April 16, 2022\\nBy Kalamity from Weed,Ca\\nOwns this car',\n",
       "   \"People out there from my experience please please please do not buy a 2014 Jeep Patriot..... They sold me a lemon from day one I've spent more than $30,000 on this $21,000 Patriot sport 2.4 l there's so much wrong with it it's pathetic it's not reliable it's cheap it falls apart it's got one coat of paint on it it's just junk that's all so please read everything before you buy a vehicle..\",\n",
       "   'March 27, 2022\\nBy JOHNJR  Landgraver  from Angola , Indiana \\nOwns this car',\n",
       "   'The Jeep , yes . The Darrow Shirkety Foed Dealership NOPE !!  We bought this at Darrow Shirkey Ford in Montpelier , Ohio . Purchased on May 22 . 2021 . We are still sadly Victimized by the Dealership . The extent of falsehoods and misrepresentations continue to be revealed . The DELIBERATE DAMAGE and Costly Manipulation are appalling to me . I worked for 5 Car Dealerships .   We bought what we could afford . Squeaking by on SS Retirement Fixed income we did not have plies of Buying Power . We are old so guess what Darrow Shirkey Ford did to us . Want pics or documentation  Just ask . JOHNJR Lanjdgraver',\n",
       "   'May 11, 2021\\nBy Mellisa T. from E. Haddam,CT\\nOwns this car',\n",
       "   \"It's a Jeep, American made, love the color inside and out. The leg room is spacious both front and back row seating. I love the amount of space I have throughout my vehicle.\"]},\n",
       " {'Car Name': '2008 BMW 528 4dr Sdn 528i RWD',\n",
       "  'Rating': '4.7',\n",
       "  'Reviews': ['May 26, 2021\\nBy Sam1truck from Clearwater, FL\\nOwns this car',\n",
       "   'Never thought I’d get approved. This car is sweet, only 98k miles and I’m in love. xDrive on the beach is fun! No snow in Florida to try all wheel drive system so I thought it was the next best thing. Inline-6 has power!! Love my turbo... fact! Love my dealer... more fact!',\n",
       "   'January  6, 2021\\nBy Dragan S from Haskell\\nOwns this car',\n",
       "   'I love this car! I want the same model just more power and manual transmission! German engendered cars are the best!!!! My dream car is M5!!!!',\n",
       "   'July  4, 2020\\nBy Jmcneal1 from Cataula, Ga\\nOwns this car',\n",
       "   'Car handles great and is very comfortable.  We have owned BMWs before so we are glad to be back in one.  The steering is sporty and the turn radius is tight on the 5 series.  The cooling fan is a little loud at idling but this is probably cuz the car is so hottttttt(lol).  We live our BMW and especially the carfax history behind this little beauty.']},\n",
       " {'Car Name': '2013 Dodge Durango SXT',\n",
       "  'Rating': '1.9',\n",
       "  'Reviews': ['April  3, 2023\\nBy Gabriel brewer from Richardson tx\\nOwns this car',\n",
       "   'Great experience everyone was very helpful and got me the car I wanted great place to buy a car made it simple and easy for me to get n the car I wanted',\n",
       "   'September 18, 2020\\nBy Lucho from Sarasota, FL\\nOwns this car',\n",
       "   'Full loaded, excellent power and towing capacity, 97000k miles and runs like a champ, One of the best cars I ever owned. I a good family SUV.',\n",
       "   'July  6, 2020\\nBy Craig T from Carolina, RI\\nOwns this car',\n",
       "   'I put 100,000 miles on this car (117K total). This 6 seater car has given me very little problems. Besides replacing tires and brakes a few times and keeping up on my daily oil changes, the only other problems I’ve had with this car was the replacement of the transmission radiator and radiator. There were also a few recalls on their fuel pump relay switch. Other than that, no engine problems or interior/exterior cosmetics. I highly recommend this vehicle. Especially people with children.']},\n",
       " {'Car Name': '2015 Dodge Journey SE',\n",
       "  'Rating': '4.6',\n",
       "  'Reviews': ['April 27, 2022\\nBy Brock from Fort Wayne, Indiana \\nOwns this car',\n",
       "   \"I've had my 2015 Dodge Journey AVP for 4 and a half years now and I've Never had any mechanical issues what so ever. Just normal wear and tear, like tires, an alignment, wiper blades and oil changes is all I've had to do. I gets pretty good gas mileage and handles snow like a champ, being front wheel drive.\\r\\nI'd recommend this vehicle to anyone wanting a good reliable SUV. It's not like my Denali that I lost in a rear-ended crash, but it's a solid vehicle!!!\",\n",
       "   'March 18, 2022\\nBy Dawn F  from Fremont MI \\nOwns this car',\n",
       "   'I absolutely love my Journey!! I live in Michigan and the roads can be very slippery and have a lot of snow at times.  This vehicle handles so well in the winter !!',\n",
       "   'May 21, 2021\\nBy HelenTheGreat from CAPE CORAL\\nOwns this car',\n",
       "   'We loved this car as my wife ordered it for herself for a Retirement Gift to herself! Had a \"FEW\" problems, but all got fixed! Not sure WHY Dodge quit making this model. They NEEDED to UPGRADE IT and it would have SOLD BETTER!']},\n",
       " {'Car Name': '2014 BMW i3 Base',\n",
       "  'Rating': '2.0',\n",
       "  'Reviews': ['April  7, 2021\\nBy Gabriel FK from San Antonio\\nOwns this car',\n",
       "   \"I bought this 15K miles base model (Electric engine only) for 10K. A steal. \\nPros: \\n3 Driving modes for different conditions.\\nFree public ev charging stations, usually charges 26 miles per hour or more, and that means free rides.\\nEasy connectivity\\nStylish look (people actually have that what heck is that look)\\nNice cargo space once back seats are down. \\n\\nCons:\\nInconsistent mile range readings.\\nRange anxiety.\\nOriginal Charger is a joke. 40 miles highway travel takes 12+ to recharge. 2-3 miles per hour recovery. Bmw either thinks people will bleed 50k (originally) for a substitute car, or people will always have 12-16 hours time to move between errands.\\nDoors design is unusual. Still not as ridiculous as a coupe door design. \\nCargo space is so tiny with backseats up. \\nCarseats for infants are difficult to place without sacrificing significant space for either the driver or the front passenger. \\n\\nMy final verdict. \\nIf you purchase a 24amp or a more capable charger than you can manage. \\nIf you're soccer mom, or switch your hats often, this base model may not be for you. Still, if you really really a planner it may work out beautifully.\\nIf you're purchasing this as second car for the family, then you can save tons in cost. \\nIf you spot a free ev charging station you can literally run your range to close to empty then leave it at the charging station and picked it up after couple of hours.\",\n",
       "   'December  5, 2020\\nBy Bill M from San Diego, California\\nOwns this car',\n",
       "   \"It was everything I expected.  We love the styling and comfort.  It's our everyday car now  for around town. No gas usage. The car has entered of zip when needed. No maintenance needed. I bought a 6 year, 100k miles extended warranty with this car.\",\n",
       "   'October 13, 2020\\nBy Matt F from NY, NY\\nOwns this car',\n",
       "   'Great car.  Handles like nothing I have ever driven.  A lot of space inside..quiet and comfortable...quick...and no more paying for gas\\ntinted windows are a plus']},\n",
       " {'Car Name': '2008 Ford Ranger XL',\n",
       "  'Rating': '3.9',\n",
       "  'Reviews': ['November 22, 2022\\nBy Mike from Ottawa Ontario\\nOwns this car',\n",
       "   'I purchased my 2.3L 5 Speed Manual new in 2008.\\r\\n\\r\\nI hit a deer, a guard rail on black ice and been rammed from behind at a red light...  i can still let go of the steering wheel today with zero alignments done and she drives straight as a ruler.\\r\\n\\r\\nThe engine has been abused and poor maintenance has over 230000km (143000 Miles) and is rock solid.\\r\\n\\r\\nThe body is starting to fall apart due to all the salt we put on the roads in the winter up here, but if i had the chance to redo my life, i would still buy this awesome truck.\\r\\n\\r\\nGoing to miss it eventually, but will try to push it another 10 years...     A+ in my books',\n",
       "   'May 29, 2021\\nBy Bill A. from Highland Lakes\\nOwns this car',\n",
       "   \"I picked this truck, a 2008 white XL with 2.3 and automatic, what most would call a fleet model 3 years ago with 122 K miles.\\nSince then I have put on 50K more miles with no real serious repair issues. Brakes and shocks along with routine maintenance are all I've had to do. She burns no oil between changes and I think that I can get at least another 50K out of her.\\nMileage in mixed suburban driving is about 24-25mpg. \\nWith only RWD, it's not a truck for bad weather or going off road, but as a commuter truck it serves me fine and is real handy for picking up lumber or bulky items.\\nBilstein gas shocks helped the ride and handling a lot. \\nWith a fairly high axel and transmission ratios, 65 to 70 is as fast as like to drive it comfortably.\",\n",
       "   'April 14, 2021\\nBy Klingonnumber1 from PENNSYLVANIA\\nOwns this car',\n",
       "   'THIS TRUCK MEETS ALL OF MY NEEDS WITH 7 FT BED 5 SPD MANUAL TRANS GREAT ON GAS FUN TO DRIVE. EASY TO WORK ON A GREAT PLUS 3.0 ENGINE CHANGE OIL REGULARLY RUNS FOREVER']}]"
      ]
     },
     "execution_count": 61,
     "metadata": {},
     "output_type": "execute_result"
    }
   ],
   "source": [
    "car_reviews_data"
   ]
  },
  {
   "cell_type": "markdown",
   "metadata": {},
   "source": [
    "# Ok now it does, lets scrape ALL pages"
   ]
  },
  {
   "cell_type": "code",
   "execution_count": null,
   "metadata": {},
   "outputs": [],
   "source": []
  },
  {
   "cell_type": "code",
   "execution_count": null,
   "metadata": {},
   "outputs": [],
   "source": []
  },
  {
   "cell_type": "code",
   "execution_count": 81,
   "metadata": {},
   "outputs": [],
   "source": [
    "def get_car_data(car_url):\n",
    "    response = requests.get(car_url)\n",
    "    soup = BeautifulSoup(response.content, 'html.parser')\n",
    "    review_section = soup.find('div', {'class': 'vehicle-reviews'})\n",
    "    if review_section:\n",
    "        reviews = review_section.find_all('div', {'class': 'review-section'})\n",
    "        review_texts = [review.get_text().strip() for review in reviews]\n",
    "    else:\n",
    "        review_texts = []\n",
    "\n",
    "    rating_element = soup.find('span', {'class': 'sds-rating__count'})\n",
    "    car_rating = rating_element.get_text() if rating_element else 'No rating available'\n",
    "\n",
    "    return review_texts, car_rating\n",
    "\n",
    "car_reviews_data = []"
   ]
  },
  {
   "cell_type": "code",
   "execution_count": 82,
   "metadata": {
    "scrolled": true
   },
   "outputs": [
    {
     "ename": "KeyboardInterrupt",
     "evalue": "",
     "output_type": "error",
     "traceback": [
      "\u001b[0;31m---------------------------------------------------------------------------\u001b[0m",
      "\u001b[0;31mKeyboardInterrupt\u001b[0m                         Traceback (most recent call last)",
      "\u001b[0;32m<ipython-input-82-0540e256ab13>\u001b[0m in \u001b[0;36m<module>\u001b[0;34m\u001b[0m\n\u001b[1;32m      9\u001b[0m         \u001b[0mcar_url\u001b[0m \u001b[0;34m=\u001b[0m \u001b[0murljoin\u001b[0m\u001b[0;34m(\u001b[0m\u001b[0murl\u001b[0m\u001b[0;34m,\u001b[0m \u001b[0mcar_link\u001b[0m\u001b[0;34m.\u001b[0m\u001b[0mget\u001b[0m\u001b[0;34m(\u001b[0m\u001b[0;34m'href'\u001b[0m\u001b[0;34m)\u001b[0m\u001b[0;34m)\u001b[0m  \u001b[0;31m# finds the full URL automatically\u001b[0m\u001b[0;34m\u001b[0m\u001b[0;34m\u001b[0m\u001b[0m\n\u001b[1;32m     10\u001b[0m         \u001b[0mcar_name\u001b[0m \u001b[0;34m=\u001b[0m \u001b[0mcar_link\u001b[0m\u001b[0;34m.\u001b[0m\u001b[0mfind\u001b[0m\u001b[0;34m(\u001b[0m\u001b[0;34m'h2'\u001b[0m\u001b[0;34m,\u001b[0m \u001b[0;34m{\u001b[0m\u001b[0;34m'class'\u001b[0m\u001b[0;34m:\u001b[0m \u001b[0;34m'title'\u001b[0m\u001b[0;34m}\u001b[0m\u001b[0;34m)\u001b[0m\u001b[0;34m.\u001b[0m\u001b[0mget_text\u001b[0m\u001b[0;34m(\u001b[0m\u001b[0;34m)\u001b[0m\u001b[0;34m.\u001b[0m\u001b[0mstrip\u001b[0m\u001b[0;34m(\u001b[0m\u001b[0;34m)\u001b[0m\u001b[0;34m\u001b[0m\u001b[0;34m\u001b[0m\u001b[0m\n\u001b[0;32m---> 11\u001b[0;31m         \u001b[0mcar_reviews\u001b[0m\u001b[0;34m,\u001b[0m \u001b[0mcar_rating\u001b[0m \u001b[0;34m=\u001b[0m \u001b[0mget_car_data\u001b[0m\u001b[0;34m(\u001b[0m\u001b[0mcar_url\u001b[0m\u001b[0;34m)\u001b[0m\u001b[0;34m\u001b[0m\u001b[0;34m\u001b[0m\u001b[0m\n\u001b[0m\u001b[1;32m     12\u001b[0m \u001b[0;34m\u001b[0m\u001b[0m\n\u001b[1;32m     13\u001b[0m         \u001b[0mcar_reviews_data\u001b[0m\u001b[0;34m.\u001b[0m\u001b[0mappend\u001b[0m\u001b[0;34m(\u001b[0m\u001b[0;34m{\u001b[0m\u001b[0;34m'Car Name'\u001b[0m\u001b[0;34m:\u001b[0m \u001b[0mcar_name\u001b[0m\u001b[0;34m,\u001b[0m \u001b[0;34m'Rating'\u001b[0m\u001b[0;34m:\u001b[0m \u001b[0mcar_rating\u001b[0m\u001b[0;34m,\u001b[0m \u001b[0;34m'Reviews'\u001b[0m\u001b[0;34m:\u001b[0m \u001b[0mcar_reviews\u001b[0m\u001b[0;34m}\u001b[0m\u001b[0;34m)\u001b[0m\u001b[0;34m\u001b[0m\u001b[0;34m\u001b[0m\u001b[0m\n",
      "\u001b[0;32m<ipython-input-81-a1ff8c8cccc5>\u001b[0m in \u001b[0;36mget_car_data\u001b[0;34m(car_url)\u001b[0m\n\u001b[1;32m      1\u001b[0m \u001b[0;32mdef\u001b[0m \u001b[0mget_car_data\u001b[0m\u001b[0;34m(\u001b[0m\u001b[0mcar_url\u001b[0m\u001b[0;34m)\u001b[0m\u001b[0;34m:\u001b[0m\u001b[0;34m\u001b[0m\u001b[0;34m\u001b[0m\u001b[0m\n\u001b[0;32m----> 2\u001b[0;31m     \u001b[0mresponse\u001b[0m \u001b[0;34m=\u001b[0m \u001b[0mrequests\u001b[0m\u001b[0;34m.\u001b[0m\u001b[0mget\u001b[0m\u001b[0;34m(\u001b[0m\u001b[0mcar_url\u001b[0m\u001b[0;34m)\u001b[0m\u001b[0;34m\u001b[0m\u001b[0;34m\u001b[0m\u001b[0m\n\u001b[0m\u001b[1;32m      3\u001b[0m     \u001b[0msoup\u001b[0m \u001b[0;34m=\u001b[0m \u001b[0mBeautifulSoup\u001b[0m\u001b[0;34m(\u001b[0m\u001b[0mresponse\u001b[0m\u001b[0;34m.\u001b[0m\u001b[0mcontent\u001b[0m\u001b[0;34m,\u001b[0m \u001b[0;34m'html.parser'\u001b[0m\u001b[0;34m)\u001b[0m\u001b[0;34m\u001b[0m\u001b[0;34m\u001b[0m\u001b[0m\n\u001b[1;32m      4\u001b[0m     \u001b[0mreview_section\u001b[0m \u001b[0;34m=\u001b[0m \u001b[0msoup\u001b[0m\u001b[0;34m.\u001b[0m\u001b[0mfind\u001b[0m\u001b[0;34m(\u001b[0m\u001b[0;34m'div'\u001b[0m\u001b[0;34m,\u001b[0m \u001b[0;34m{\u001b[0m\u001b[0;34m'class'\u001b[0m\u001b[0;34m:\u001b[0m \u001b[0;34m'vehicle-reviews'\u001b[0m\u001b[0;34m}\u001b[0m\u001b[0;34m)\u001b[0m\u001b[0;34m\u001b[0m\u001b[0;34m\u001b[0m\u001b[0m\n\u001b[1;32m      5\u001b[0m     \u001b[0;32mif\u001b[0m \u001b[0mreview_section\u001b[0m\u001b[0;34m:\u001b[0m\u001b[0;34m\u001b[0m\u001b[0;34m\u001b[0m\u001b[0m\n",
      "\u001b[0;32m~/anaconda3/envs/learn-env/lib/python3.8/site-packages/requests/api.py\u001b[0m in \u001b[0;36mget\u001b[0;34m(url, params, **kwargs)\u001b[0m\n\u001b[1;32m     74\u001b[0m \u001b[0;34m\u001b[0m\u001b[0m\n\u001b[1;32m     75\u001b[0m     \u001b[0mkwargs\u001b[0m\u001b[0;34m.\u001b[0m\u001b[0msetdefault\u001b[0m\u001b[0;34m(\u001b[0m\u001b[0;34m'allow_redirects'\u001b[0m\u001b[0;34m,\u001b[0m \u001b[0;32mTrue\u001b[0m\u001b[0;34m)\u001b[0m\u001b[0;34m\u001b[0m\u001b[0;34m\u001b[0m\u001b[0m\n\u001b[0;32m---> 76\u001b[0;31m     \u001b[0;32mreturn\u001b[0m \u001b[0mrequest\u001b[0m\u001b[0;34m(\u001b[0m\u001b[0;34m'get'\u001b[0m\u001b[0;34m,\u001b[0m \u001b[0murl\u001b[0m\u001b[0;34m,\u001b[0m \u001b[0mparams\u001b[0m\u001b[0;34m=\u001b[0m\u001b[0mparams\u001b[0m\u001b[0;34m,\u001b[0m \u001b[0;34m**\u001b[0m\u001b[0mkwargs\u001b[0m\u001b[0;34m)\u001b[0m\u001b[0;34m\u001b[0m\u001b[0;34m\u001b[0m\u001b[0m\n\u001b[0m\u001b[1;32m     77\u001b[0m \u001b[0;34m\u001b[0m\u001b[0m\n\u001b[1;32m     78\u001b[0m \u001b[0;34m\u001b[0m\u001b[0m\n",
      "\u001b[0;32m~/anaconda3/envs/learn-env/lib/python3.8/site-packages/requests/api.py\u001b[0m in \u001b[0;36mrequest\u001b[0;34m(method, url, **kwargs)\u001b[0m\n\u001b[1;32m     59\u001b[0m     \u001b[0;31m# cases, and look like a memory leak in others.\u001b[0m\u001b[0;34m\u001b[0m\u001b[0;34m\u001b[0m\u001b[0;34m\u001b[0m\u001b[0m\n\u001b[1;32m     60\u001b[0m     \u001b[0;32mwith\u001b[0m \u001b[0msessions\u001b[0m\u001b[0;34m.\u001b[0m\u001b[0mSession\u001b[0m\u001b[0;34m(\u001b[0m\u001b[0;34m)\u001b[0m \u001b[0;32mas\u001b[0m \u001b[0msession\u001b[0m\u001b[0;34m:\u001b[0m\u001b[0;34m\u001b[0m\u001b[0;34m\u001b[0m\u001b[0m\n\u001b[0;32m---> 61\u001b[0;31m         \u001b[0;32mreturn\u001b[0m \u001b[0msession\u001b[0m\u001b[0;34m.\u001b[0m\u001b[0mrequest\u001b[0m\u001b[0;34m(\u001b[0m\u001b[0mmethod\u001b[0m\u001b[0;34m=\u001b[0m\u001b[0mmethod\u001b[0m\u001b[0;34m,\u001b[0m \u001b[0murl\u001b[0m\u001b[0;34m=\u001b[0m\u001b[0murl\u001b[0m\u001b[0;34m,\u001b[0m \u001b[0;34m**\u001b[0m\u001b[0mkwargs\u001b[0m\u001b[0;34m)\u001b[0m\u001b[0;34m\u001b[0m\u001b[0;34m\u001b[0m\u001b[0m\n\u001b[0m\u001b[1;32m     62\u001b[0m \u001b[0;34m\u001b[0m\u001b[0m\n\u001b[1;32m     63\u001b[0m \u001b[0;34m\u001b[0m\u001b[0m\n",
      "\u001b[0;32m~/anaconda3/envs/learn-env/lib/python3.8/site-packages/requests/sessions.py\u001b[0m in \u001b[0;36mrequest\u001b[0;34m(self, method, url, params, data, headers, cookies, files, auth, timeout, allow_redirects, proxies, hooks, stream, verify, cert, json)\u001b[0m\n\u001b[1;32m    528\u001b[0m         }\n\u001b[1;32m    529\u001b[0m         \u001b[0msend_kwargs\u001b[0m\u001b[0;34m.\u001b[0m\u001b[0mupdate\u001b[0m\u001b[0;34m(\u001b[0m\u001b[0msettings\u001b[0m\u001b[0;34m)\u001b[0m\u001b[0;34m\u001b[0m\u001b[0;34m\u001b[0m\u001b[0m\n\u001b[0;32m--> 530\u001b[0;31m         \u001b[0mresp\u001b[0m \u001b[0;34m=\u001b[0m \u001b[0mself\u001b[0m\u001b[0;34m.\u001b[0m\u001b[0msend\u001b[0m\u001b[0;34m(\u001b[0m\u001b[0mprep\u001b[0m\u001b[0;34m,\u001b[0m \u001b[0;34m**\u001b[0m\u001b[0msend_kwargs\u001b[0m\u001b[0;34m)\u001b[0m\u001b[0;34m\u001b[0m\u001b[0;34m\u001b[0m\u001b[0m\n\u001b[0m\u001b[1;32m    531\u001b[0m \u001b[0;34m\u001b[0m\u001b[0m\n\u001b[1;32m    532\u001b[0m         \u001b[0;32mreturn\u001b[0m \u001b[0mresp\u001b[0m\u001b[0;34m\u001b[0m\u001b[0;34m\u001b[0m\u001b[0m\n",
      "\u001b[0;32m~/anaconda3/envs/learn-env/lib/python3.8/site-packages/requests/sessions.py\u001b[0m in \u001b[0;36msend\u001b[0;34m(self, request, **kwargs)\u001b[0m\n\u001b[1;32m    641\u001b[0m \u001b[0;34m\u001b[0m\u001b[0m\n\u001b[1;32m    642\u001b[0m         \u001b[0;31m# Send the request\u001b[0m\u001b[0;34m\u001b[0m\u001b[0;34m\u001b[0m\u001b[0;34m\u001b[0m\u001b[0m\n\u001b[0;32m--> 643\u001b[0;31m         \u001b[0mr\u001b[0m \u001b[0;34m=\u001b[0m \u001b[0madapter\u001b[0m\u001b[0;34m.\u001b[0m\u001b[0msend\u001b[0m\u001b[0;34m(\u001b[0m\u001b[0mrequest\u001b[0m\u001b[0;34m,\u001b[0m \u001b[0;34m**\u001b[0m\u001b[0mkwargs\u001b[0m\u001b[0;34m)\u001b[0m\u001b[0;34m\u001b[0m\u001b[0;34m\u001b[0m\u001b[0m\n\u001b[0m\u001b[1;32m    644\u001b[0m \u001b[0;34m\u001b[0m\u001b[0m\n\u001b[1;32m    645\u001b[0m         \u001b[0;31m# Total elapsed time of the request (approximately)\u001b[0m\u001b[0;34m\u001b[0m\u001b[0;34m\u001b[0m\u001b[0;34m\u001b[0m\u001b[0m\n",
      "\u001b[0;32m~/anaconda3/envs/learn-env/lib/python3.8/site-packages/requests/adapters.py\u001b[0m in \u001b[0;36msend\u001b[0;34m(self, request, stream, timeout, verify, cert, proxies)\u001b[0m\n\u001b[1;32m    437\u001b[0m         \u001b[0;32mtry\u001b[0m\u001b[0;34m:\u001b[0m\u001b[0;34m\u001b[0m\u001b[0;34m\u001b[0m\u001b[0m\n\u001b[1;32m    438\u001b[0m             \u001b[0;32mif\u001b[0m \u001b[0;32mnot\u001b[0m \u001b[0mchunked\u001b[0m\u001b[0;34m:\u001b[0m\u001b[0;34m\u001b[0m\u001b[0;34m\u001b[0m\u001b[0m\n\u001b[0;32m--> 439\u001b[0;31m                 resp = conn.urlopen(\n\u001b[0m\u001b[1;32m    440\u001b[0m                     \u001b[0mmethod\u001b[0m\u001b[0;34m=\u001b[0m\u001b[0mrequest\u001b[0m\u001b[0;34m.\u001b[0m\u001b[0mmethod\u001b[0m\u001b[0;34m,\u001b[0m\u001b[0;34m\u001b[0m\u001b[0;34m\u001b[0m\u001b[0m\n\u001b[1;32m    441\u001b[0m                     \u001b[0murl\u001b[0m\u001b[0;34m=\u001b[0m\u001b[0murl\u001b[0m\u001b[0;34m,\u001b[0m\u001b[0;34m\u001b[0m\u001b[0;34m\u001b[0m\u001b[0m\n",
      "\u001b[0;32m~/anaconda3/envs/learn-env/lib/python3.8/site-packages/urllib3/connectionpool.py\u001b[0m in \u001b[0;36murlopen\u001b[0;34m(self, method, url, body, headers, retries, redirect, assert_same_host, timeout, pool_timeout, release_conn, chunked, body_pos, **response_kw)\u001b[0m\n\u001b[1;32m    668\u001b[0m             \u001b[0mconsistent\u001b[0m \u001b[0;32melse\u001b[0m \u001b[0mwill\u001b[0m \u001b[0;32mraise\u001b[0m \u001b[0mHostChangedError\u001b[0m\u001b[0;34m.\u001b[0m \u001b[0mWhen\u001b[0m\u001b[0;31m \u001b[0m\u001b[0;31m`\u001b[0m\u001b[0;31m`\u001b[0m\u001b[0;32mFalse\u001b[0m\u001b[0;31m`\u001b[0m\u001b[0;31m`\u001b[0m\u001b[0;34m,\u001b[0m \u001b[0myou\u001b[0m \u001b[0mcan\u001b[0m\u001b[0;34m\u001b[0m\u001b[0;34m\u001b[0m\u001b[0m\n\u001b[1;32m    669\u001b[0m             \u001b[0muse\u001b[0m \u001b[0mthe\u001b[0m \u001b[0mpool\u001b[0m \u001b[0mon\u001b[0m \u001b[0man\u001b[0m \u001b[0mHTTP\u001b[0m \u001b[0mproxy\u001b[0m \u001b[0;32mand\u001b[0m \u001b[0mrequest\u001b[0m \u001b[0mforeign\u001b[0m \u001b[0mhosts\u001b[0m\u001b[0;34m.\u001b[0m\u001b[0;34m\u001b[0m\u001b[0;34m\u001b[0m\u001b[0m\n\u001b[0;32m--> 670\u001b[0;31m \u001b[0;34m\u001b[0m\u001b[0m\n\u001b[0m\u001b[1;32m    671\u001b[0m         \u001b[0;34m:\u001b[0m\u001b[0mparam\u001b[0m \u001b[0mtimeout\u001b[0m\u001b[0;34m:\u001b[0m\u001b[0;34m\u001b[0m\u001b[0;34m\u001b[0m\u001b[0m\n\u001b[1;32m    672\u001b[0m             \u001b[0mIf\u001b[0m \u001b[0mspecified\u001b[0m\u001b[0;34m,\u001b[0m \u001b[0moverrides\u001b[0m \u001b[0mthe\u001b[0m \u001b[0mdefault\u001b[0m \u001b[0mtimeout\u001b[0m \u001b[0;32mfor\u001b[0m \u001b[0mthis\u001b[0m \u001b[0mone\u001b[0m\u001b[0;34m\u001b[0m\u001b[0;34m\u001b[0m\u001b[0m\n",
      "\u001b[0;32m~/anaconda3/envs/learn-env/lib/python3.8/site-packages/urllib3/connectionpool.py\u001b[0m in \u001b[0;36m_make_request\u001b[0;34m(self, conn, method, url, timeout, chunked, **httplib_request_kw)\u001b[0m\n\u001b[1;32m    424\u001b[0m             \u001b[0mPass\u001b[0m \u001b[0man\u001b[0m \u001b[0minteger\u001b[0m \u001b[0mnumber\u001b[0m \u001b[0mto\u001b[0m \u001b[0mretry\u001b[0m \u001b[0mconnection\u001b[0m \u001b[0merrors\u001b[0m \u001b[0mthat\u001b[0m \u001b[0mmany\u001b[0m \u001b[0mtimes\u001b[0m\u001b[0;34m,\u001b[0m\u001b[0;34m\u001b[0m\u001b[0;34m\u001b[0m\u001b[0m\n\u001b[1;32m    425\u001b[0m             \u001b[0mbut\u001b[0m \u001b[0mno\u001b[0m \u001b[0mother\u001b[0m \u001b[0mtypes\u001b[0m \u001b[0mof\u001b[0m \u001b[0merrors\u001b[0m\u001b[0;34m.\u001b[0m \u001b[0mPass\u001b[0m \u001b[0mzero\u001b[0m \u001b[0mto\u001b[0m \u001b[0mnever\u001b[0m \u001b[0mretry\u001b[0m\u001b[0;34m.\u001b[0m\u001b[0;34m\u001b[0m\u001b[0;34m\u001b[0m\u001b[0m\n\u001b[0;32m--> 426\u001b[0;31m \u001b[0;34m\u001b[0m\u001b[0m\n\u001b[0m\u001b[1;32m    427\u001b[0m             \u001b[0mIf\u001b[0m\u001b[0;31m \u001b[0m\u001b[0;31m`\u001b[0m\u001b[0;31m`\u001b[0m\u001b[0;32mFalse\u001b[0m\u001b[0;31m`\u001b[0m\u001b[0;31m`\u001b[0m\u001b[0;34m,\u001b[0m \u001b[0mthen\u001b[0m \u001b[0mretries\u001b[0m \u001b[0mare\u001b[0m \u001b[0mdisabled\u001b[0m \u001b[0;32mand\u001b[0m \u001b[0many\u001b[0m \u001b[0mexception\u001b[0m \u001b[0;32mis\u001b[0m \u001b[0mraised\u001b[0m\u001b[0;34m\u001b[0m\u001b[0;34m\u001b[0m\u001b[0m\n\u001b[1;32m    428\u001b[0m             \u001b[0mimmediately\u001b[0m\u001b[0;34m.\u001b[0m \u001b[0mAlso\u001b[0m\u001b[0;34m,\u001b[0m \u001b[0minstead\u001b[0m \u001b[0mof\u001b[0m \u001b[0mraising\u001b[0m \u001b[0ma\u001b[0m \u001b[0mMaxRetryError\u001b[0m \u001b[0mon\u001b[0m \u001b[0mredirects\u001b[0m\u001b[0;34m,\u001b[0m\u001b[0;34m\u001b[0m\u001b[0;34m\u001b[0m\u001b[0m\n",
      "\u001b[0;32m~/anaconda3/envs/learn-env/lib/python3.8/site-packages/urllib3/packages/six.py\u001b[0m in \u001b[0;36mraise_from\u001b[0;34m(value, from_value)\u001b[0m\n",
      "\u001b[0;32m~/anaconda3/envs/learn-env/lib/python3.8/site-packages/urllib3/connectionpool.py\u001b[0m in \u001b[0;36m_make_request\u001b[0;34m(self, conn, method, url, timeout, chunked, **httplib_request_kw)\u001b[0m\n\u001b[1;32m    419\u001b[0m             \u001b[0;34m:\u001b[0m\u001b[0;32mclass\u001b[0m\u001b[0;34m:\u001b[0m\u001b[0;31m`\u001b[0m\u001b[0;34m~\u001b[0m\u001b[0murllib3\u001b[0m\u001b[0;34m.\u001b[0m\u001b[0mexceptions\u001b[0m\u001b[0;34m.\u001b[0m\u001b[0mMaxRetryError\u001b[0m\u001b[0;31m`\u001b[0m \u001b[0mexception\u001b[0m\u001b[0;34m.\u001b[0m\u001b[0;34m\u001b[0m\u001b[0;34m\u001b[0m\u001b[0m\n\u001b[1;32m    420\u001b[0m \u001b[0;34m\u001b[0m\u001b[0m\n\u001b[0;32m--> 421\u001b[0;31m             \u001b[0mPass\u001b[0m\u001b[0;31m \u001b[0m\u001b[0;31m`\u001b[0m\u001b[0;31m`\u001b[0m\u001b[0;32mNone\u001b[0m\u001b[0;31m`\u001b[0m\u001b[0;31m`\u001b[0m \u001b[0mto\u001b[0m \u001b[0mretry\u001b[0m \u001b[0muntil\u001b[0m \u001b[0myou\u001b[0m \u001b[0mreceive\u001b[0m \u001b[0ma\u001b[0m \u001b[0mresponse\u001b[0m\u001b[0;34m.\u001b[0m \u001b[0mPass\u001b[0m \u001b[0ma\u001b[0m\u001b[0;34m\u001b[0m\u001b[0;34m\u001b[0m\u001b[0m\n\u001b[0m\u001b[1;32m    422\u001b[0m             \u001b[0;34m:\u001b[0m\u001b[0;32mclass\u001b[0m\u001b[0;34m:\u001b[0m\u001b[0;31m`\u001b[0m\u001b[0;34m~\u001b[0m\u001b[0murllib3\u001b[0m\u001b[0;34m.\u001b[0m\u001b[0mutil\u001b[0m\u001b[0;34m.\u001b[0m\u001b[0mretry\u001b[0m\u001b[0;34m.\u001b[0m\u001b[0mRetry\u001b[0m\u001b[0;31m`\u001b[0m \u001b[0mobject\u001b[0m \u001b[0;32mfor\u001b[0m \u001b[0mfine\u001b[0m\u001b[0;34m-\u001b[0m\u001b[0mgrained\u001b[0m \u001b[0mcontrol\u001b[0m\u001b[0;34m\u001b[0m\u001b[0;34m\u001b[0m\u001b[0m\n\u001b[1;32m    423\u001b[0m             \u001b[0mover\u001b[0m \u001b[0mdifferent\u001b[0m \u001b[0mtypes\u001b[0m \u001b[0mof\u001b[0m \u001b[0mretries\u001b[0m\u001b[0;34m.\u001b[0m\u001b[0;34m\u001b[0m\u001b[0;34m\u001b[0m\u001b[0m\n",
      "\u001b[0;32m~/anaconda3/envs/learn-env/lib/python3.8/http/client.py\u001b[0m in \u001b[0;36mgetresponse\u001b[0;34m(self)\u001b[0m\n\u001b[1;32m   1345\u001b[0m         \u001b[0;32mtry\u001b[0m\u001b[0;34m:\u001b[0m\u001b[0;34m\u001b[0m\u001b[0;34m\u001b[0m\u001b[0m\n\u001b[1;32m   1346\u001b[0m             \u001b[0;32mtry\u001b[0m\u001b[0;34m:\u001b[0m\u001b[0;34m\u001b[0m\u001b[0;34m\u001b[0m\u001b[0m\n\u001b[0;32m-> 1347\u001b[0;31m                 \u001b[0mresponse\u001b[0m\u001b[0;34m.\u001b[0m\u001b[0mbegin\u001b[0m\u001b[0;34m(\u001b[0m\u001b[0;34m)\u001b[0m\u001b[0;34m\u001b[0m\u001b[0;34m\u001b[0m\u001b[0m\n\u001b[0m\u001b[1;32m   1348\u001b[0m             \u001b[0;32mexcept\u001b[0m \u001b[0mConnectionError\u001b[0m\u001b[0;34m:\u001b[0m\u001b[0;34m\u001b[0m\u001b[0;34m\u001b[0m\u001b[0m\n\u001b[1;32m   1349\u001b[0m                 \u001b[0mself\u001b[0m\u001b[0;34m.\u001b[0m\u001b[0mclose\u001b[0m\u001b[0;34m(\u001b[0m\u001b[0;34m)\u001b[0m\u001b[0;34m\u001b[0m\u001b[0;34m\u001b[0m\u001b[0m\n",
      "\u001b[0;32m~/anaconda3/envs/learn-env/lib/python3.8/http/client.py\u001b[0m in \u001b[0;36mbegin\u001b[0;34m(self)\u001b[0m\n\u001b[1;32m    305\u001b[0m         \u001b[0;31m# read until we get a non-100 response\u001b[0m\u001b[0;34m\u001b[0m\u001b[0;34m\u001b[0m\u001b[0;34m\u001b[0m\u001b[0m\n\u001b[1;32m    306\u001b[0m         \u001b[0;32mwhile\u001b[0m \u001b[0;32mTrue\u001b[0m\u001b[0;34m:\u001b[0m\u001b[0;34m\u001b[0m\u001b[0;34m\u001b[0m\u001b[0m\n\u001b[0;32m--> 307\u001b[0;31m             \u001b[0mversion\u001b[0m\u001b[0;34m,\u001b[0m \u001b[0mstatus\u001b[0m\u001b[0;34m,\u001b[0m \u001b[0mreason\u001b[0m \u001b[0;34m=\u001b[0m \u001b[0mself\u001b[0m\u001b[0;34m.\u001b[0m\u001b[0m_read_status\u001b[0m\u001b[0;34m(\u001b[0m\u001b[0;34m)\u001b[0m\u001b[0;34m\u001b[0m\u001b[0;34m\u001b[0m\u001b[0m\n\u001b[0m\u001b[1;32m    308\u001b[0m             \u001b[0;32mif\u001b[0m \u001b[0mstatus\u001b[0m \u001b[0;34m!=\u001b[0m \u001b[0mCONTINUE\u001b[0m\u001b[0;34m:\u001b[0m\u001b[0;34m\u001b[0m\u001b[0;34m\u001b[0m\u001b[0m\n\u001b[1;32m    309\u001b[0m                 \u001b[0;32mbreak\u001b[0m\u001b[0;34m\u001b[0m\u001b[0;34m\u001b[0m\u001b[0m\n",
      "\u001b[0;32m~/anaconda3/envs/learn-env/lib/python3.8/http/client.py\u001b[0m in \u001b[0;36m_read_status\u001b[0;34m(self)\u001b[0m\n\u001b[1;32m    266\u001b[0m \u001b[0;34m\u001b[0m\u001b[0m\n\u001b[1;32m    267\u001b[0m     \u001b[0;32mdef\u001b[0m \u001b[0m_read_status\u001b[0m\u001b[0;34m(\u001b[0m\u001b[0mself\u001b[0m\u001b[0;34m)\u001b[0m\u001b[0;34m:\u001b[0m\u001b[0;34m\u001b[0m\u001b[0;34m\u001b[0m\u001b[0m\n\u001b[0;32m--> 268\u001b[0;31m         \u001b[0mline\u001b[0m \u001b[0;34m=\u001b[0m \u001b[0mstr\u001b[0m\u001b[0;34m(\u001b[0m\u001b[0mself\u001b[0m\u001b[0;34m.\u001b[0m\u001b[0mfp\u001b[0m\u001b[0;34m.\u001b[0m\u001b[0mreadline\u001b[0m\u001b[0;34m(\u001b[0m\u001b[0m_MAXLINE\u001b[0m \u001b[0;34m+\u001b[0m \u001b[0;36m1\u001b[0m\u001b[0;34m)\u001b[0m\u001b[0;34m,\u001b[0m \u001b[0;34m\"iso-8859-1\"\u001b[0m\u001b[0;34m)\u001b[0m\u001b[0;34m\u001b[0m\u001b[0;34m\u001b[0m\u001b[0m\n\u001b[0m\u001b[1;32m    269\u001b[0m         \u001b[0;32mif\u001b[0m \u001b[0mlen\u001b[0m\u001b[0;34m(\u001b[0m\u001b[0mline\u001b[0m\u001b[0;34m)\u001b[0m \u001b[0;34m>\u001b[0m \u001b[0m_MAXLINE\u001b[0m\u001b[0;34m:\u001b[0m\u001b[0;34m\u001b[0m\u001b[0;34m\u001b[0m\u001b[0m\n\u001b[1;32m    270\u001b[0m             \u001b[0;32mraise\u001b[0m \u001b[0mLineTooLong\u001b[0m\u001b[0;34m(\u001b[0m\u001b[0;34m\"status line\"\u001b[0m\u001b[0;34m)\u001b[0m\u001b[0;34m\u001b[0m\u001b[0;34m\u001b[0m\u001b[0m\n",
      "\u001b[0;32m~/anaconda3/envs/learn-env/lib/python3.8/socket.py\u001b[0m in \u001b[0;36mreadinto\u001b[0;34m(self, b)\u001b[0m\n\u001b[1;32m    667\u001b[0m         \u001b[0;32mwhile\u001b[0m \u001b[0;32mTrue\u001b[0m\u001b[0;34m:\u001b[0m\u001b[0;34m\u001b[0m\u001b[0;34m\u001b[0m\u001b[0m\n\u001b[1;32m    668\u001b[0m             \u001b[0;32mtry\u001b[0m\u001b[0;34m:\u001b[0m\u001b[0;34m\u001b[0m\u001b[0;34m\u001b[0m\u001b[0m\n\u001b[0;32m--> 669\u001b[0;31m                 \u001b[0;32mreturn\u001b[0m \u001b[0mself\u001b[0m\u001b[0;34m.\u001b[0m\u001b[0m_sock\u001b[0m\u001b[0;34m.\u001b[0m\u001b[0mrecv_into\u001b[0m\u001b[0;34m(\u001b[0m\u001b[0mb\u001b[0m\u001b[0;34m)\u001b[0m\u001b[0;34m\u001b[0m\u001b[0;34m\u001b[0m\u001b[0m\n\u001b[0m\u001b[1;32m    670\u001b[0m             \u001b[0;32mexcept\u001b[0m \u001b[0mtimeout\u001b[0m\u001b[0;34m:\u001b[0m\u001b[0;34m\u001b[0m\u001b[0;34m\u001b[0m\u001b[0m\n\u001b[1;32m    671\u001b[0m                 \u001b[0mself\u001b[0m\u001b[0;34m.\u001b[0m\u001b[0m_timeout_occurred\u001b[0m \u001b[0;34m=\u001b[0m \u001b[0;32mTrue\u001b[0m\u001b[0;34m\u001b[0m\u001b[0;34m\u001b[0m\u001b[0m\n",
      "\u001b[0;32m~/anaconda3/envs/learn-env/lib/python3.8/ssl.py\u001b[0m in \u001b[0;36mrecv_into\u001b[0;34m(self, buffer, nbytes, flags)\u001b[0m\n\u001b[1;32m   1239\u001b[0m                   \u001b[0;34m\"non-zero flags not allowed in calls to recv_into() on %s\"\u001b[0m \u001b[0;34m%\u001b[0m\u001b[0;34m\u001b[0m\u001b[0;34m\u001b[0m\u001b[0m\n\u001b[1;32m   1240\u001b[0m                   self.__class__)\n\u001b[0;32m-> 1241\u001b[0;31m             \u001b[0;32mreturn\u001b[0m \u001b[0mself\u001b[0m\u001b[0;34m.\u001b[0m\u001b[0mread\u001b[0m\u001b[0;34m(\u001b[0m\u001b[0mnbytes\u001b[0m\u001b[0;34m,\u001b[0m \u001b[0mbuffer\u001b[0m\u001b[0;34m)\u001b[0m\u001b[0;34m\u001b[0m\u001b[0;34m\u001b[0m\u001b[0m\n\u001b[0m\u001b[1;32m   1242\u001b[0m         \u001b[0;32melse\u001b[0m\u001b[0;34m:\u001b[0m\u001b[0;34m\u001b[0m\u001b[0;34m\u001b[0m\u001b[0m\n\u001b[1;32m   1243\u001b[0m             \u001b[0;32mreturn\u001b[0m \u001b[0msuper\u001b[0m\u001b[0;34m(\u001b[0m\u001b[0;34m)\u001b[0m\u001b[0;34m.\u001b[0m\u001b[0mrecv_into\u001b[0m\u001b[0;34m(\u001b[0m\u001b[0mbuffer\u001b[0m\u001b[0;34m,\u001b[0m \u001b[0mnbytes\u001b[0m\u001b[0;34m,\u001b[0m \u001b[0mflags\u001b[0m\u001b[0;34m)\u001b[0m\u001b[0;34m\u001b[0m\u001b[0;34m\u001b[0m\u001b[0m\n",
      "\u001b[0;32m~/anaconda3/envs/learn-env/lib/python3.8/ssl.py\u001b[0m in \u001b[0;36mread\u001b[0;34m(self, len, buffer)\u001b[0m\n\u001b[1;32m   1097\u001b[0m         \u001b[0;32mtry\u001b[0m\u001b[0;34m:\u001b[0m\u001b[0;34m\u001b[0m\u001b[0;34m\u001b[0m\u001b[0m\n\u001b[1;32m   1098\u001b[0m             \u001b[0;32mif\u001b[0m \u001b[0mbuffer\u001b[0m \u001b[0;32mis\u001b[0m \u001b[0;32mnot\u001b[0m \u001b[0;32mNone\u001b[0m\u001b[0;34m:\u001b[0m\u001b[0;34m\u001b[0m\u001b[0;34m\u001b[0m\u001b[0m\n\u001b[0;32m-> 1099\u001b[0;31m                 \u001b[0;32mreturn\u001b[0m \u001b[0mself\u001b[0m\u001b[0;34m.\u001b[0m\u001b[0m_sslobj\u001b[0m\u001b[0;34m.\u001b[0m\u001b[0mread\u001b[0m\u001b[0;34m(\u001b[0m\u001b[0mlen\u001b[0m\u001b[0;34m,\u001b[0m \u001b[0mbuffer\u001b[0m\u001b[0;34m)\u001b[0m\u001b[0;34m\u001b[0m\u001b[0;34m\u001b[0m\u001b[0m\n\u001b[0m\u001b[1;32m   1100\u001b[0m             \u001b[0;32melse\u001b[0m\u001b[0;34m:\u001b[0m\u001b[0;34m\u001b[0m\u001b[0;34m\u001b[0m\u001b[0m\n\u001b[1;32m   1101\u001b[0m                 \u001b[0;32mreturn\u001b[0m \u001b[0mself\u001b[0m\u001b[0;34m.\u001b[0m\u001b[0m_sslobj\u001b[0m\u001b[0;34m.\u001b[0m\u001b[0mread\u001b[0m\u001b[0;34m(\u001b[0m\u001b[0mlen\u001b[0m\u001b[0;34m)\u001b[0m\u001b[0;34m\u001b[0m\u001b[0;34m\u001b[0m\u001b[0m\n",
      "\u001b[0;31mKeyboardInterrupt\u001b[0m: "
     ]
    }
   ],
   "source": [
    "for i in range(1, 501):\n",
    "    url = f'https://www.cars.com/shopping/results/?dealer_id=&keyword=&list_price_max=15000&list_price_min=&makes[]=&maximum_distance=20&mileage_max=&monthly_payment=256&page='+str(i)+'&page_size=20&sort=best_match_desc&stock_type=all&year_max=&year_min=&zip='\n",
    "\n",
    "    response = requests.get(url)\n",
    "    soup = BeautifulSoup(response.content, 'html.parser')\n",
    "    car_links_depth = soup.find_all(\"a\", {\"class\": \"vehicle-card-link js-gallery-click-link\"})\n",
    "\n",
    "    for car_link in car_links_depth:\n",
    "        car_url = urljoin(url, car_link.get('href'))  # finds the full URL automatically\n",
    "        car_name = car_link.find('h2', {'class': 'title'}).get_text().strip()\n",
    "        car_reviews, car_rating = get_car_data(car_url)\n",
    "\n",
    "        car_reviews_data.append({'Car Name': car_name, 'Rating': car_rating, 'Reviews': car_reviews})"
   ]
  },
  {
   "cell_type": "code",
   "execution_count": null,
   "metadata": {},
   "outputs": [],
   "source": [
    "all_reviews_df = pd.DataFrame(car_reviews_data)\n",
    "all_reviews_df.head()"
   ]
  },
  {
   "cell_type": "code",
   "execution_count": null,
   "metadata": {},
   "outputs": [],
   "source": [
    "all_reviews_df"
   ]
  },
  {
   "cell_type": "code",
   "execution_count": null,
   "metadata": {},
   "outputs": [],
   "source": []
  },
  {
   "cell_type": "code",
   "execution_count": 71,
   "metadata": {},
   "outputs": [
    {
     "data": {
      "text/plain": [
       "2513"
      ]
     },
     "execution_count": 71,
     "metadata": {},
     "output_type": "execute_result"
    }
   ],
   "source": [
    "len(car_reviews_data)"
   ]
  },
  {
   "cell_type": "code",
   "execution_count": 75,
   "metadata": {},
   "outputs": [
    {
     "data": {
      "text/plain": [
       "2762"
      ]
     },
     "execution_count": 75,
     "metadata": {},
     "output_type": "execute_result"
    }
   ],
   "source": [
    "len(car_reviews_data)"
   ]
  },
  {
   "cell_type": "markdown",
   "metadata": {},
   "source": [
    "- clearly running, just need a LOT of time"
   ]
  },
  {
   "cell_type": "code",
   "execution_count": 78,
   "metadata": {},
   "outputs": [
    {
     "data": {
      "text/plain": [
       "7002"
      ]
     },
     "execution_count": 78,
     "metadata": {},
     "output_type": "execute_result"
    }
   ],
   "source": [
    "len(car_reviews_data)"
   ]
  },
  {
   "cell_type": "markdown",
   "metadata": {},
   "source": [
    "- after 28 hours of running, above is how many we got"
   ]
  },
  {
   "cell_type": "code",
   "execution_count": 83,
   "metadata": {},
   "outputs": [
    {
     "data": {
      "text/plain": [
       "54"
      ]
     },
     "execution_count": 83,
     "metadata": {},
     "output_type": "execute_result"
    }
   ],
   "source": [
    "len(car_reviews_data)"
   ]
  },
  {
   "cell_type": "markdown",
   "metadata": {},
   "source": [
    "# Not working so I will do 100 pages at a time"
   ]
  },
  {
   "cell_type": "code",
   "execution_count": null,
   "metadata": {},
   "outputs": [],
   "source": []
  },
  {
   "cell_type": "code",
   "execution_count": null,
   "metadata": {},
   "outputs": [],
   "source": []
  }
 ],
 "metadata": {
  "kernelspec": {
   "display_name": "Python 3",
   "language": "python",
   "name": "python3"
  }
 },
 "nbformat": 4,
 "nbformat_minor": 4
}
