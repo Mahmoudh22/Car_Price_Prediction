{
 "cells": [
  {
   "cell_type": "code",
   "execution_count": 1,
   "id": "b37a18db",
   "metadata": {},
   "outputs": [],
   "source": [
    "import pandas as pd\n",
    "import numpy as np\n",
    "import nltk\n",
    "from nltk.tokenize import word_tokenize\n",
    "from nltk.corpus import stopwords\n",
    "from nltk import WordNetLemmatizer\n",
    "from nltk.corpus import wordnet\n",
    "from nltk import pos_tag\n",
    "#from xgboost import XGBRegressor\n",
    "from sklearn.feature_selection import SelectKBest, f_regression\n",
    "from sklearn.preprocessing import LabelEncoder\n",
    "from sklearn.base import BaseEstimator, TransformerMixin\n",
    "from sklearn.preprocessing import PolynomialFeatures\n",
    "from imblearn.pipeline import Pipeline\n",
    "from imblearn.over_sampling import SMOTE\n",
    "from sklearn import set_config\n",
    "set_config(display=\"diagram\")\n",
    "from sklearn.naive_bayes import ComplementNB\n",
    "from sklearn.compose import ColumnTransformer\n",
    "from sklearn.metrics import classification_report\n",
    "from sklearn.metrics import roc_curve, roc_auc_score,confusion_matrix\n",
    "from sklearn.model_selection import train_test_split\n",
    "from sklearn.feature_extraction.text import TfidfVectorizer, CountVectorizer\n",
    "from nltk.sentiment.vader import SentimentIntensityAnalyzer\n",
    "from sklearn.model_selection import GridSearchCV\n",
    "from sklearn.preprocessing import StandardScaler\n",
    "from sklearn.metrics import mean_squared_error, r2_score\n",
    "from sklearn.metrics import confusion_matrix, ConfusionMatrixDisplay\n",
    "from sklearn.metrics import accuracy_score, classification_report\n",
    "#from sklearn.metrics import roc_curve, auc,roc_curve,roc_auc_score\n",
    "from sklearn.naive_bayes import MultinomialNB\n",
    "from sklearn.svm import SVC\n",
    "from sklearn.ensemble import RandomForestRegressor\n",
    "from sklearn.ensemble import GradientBoostingRegressor\n",
    "from sklearn.svm import SVR\n",
    "#import xgboost as xgb\n",
    "from sklearn.impute import SimpleImputer"
   ]
  },
  {
   "cell_type": "code",
   "execution_count": null,
   "id": "cd161b08",
   "metadata": {},
   "outputs": [],
   "source": []
  },
  {
   "cell_type": "code",
   "execution_count": null,
   "id": "fa98dc51",
   "metadata": {},
   "outputs": [],
   "source": []
  },
  {
   "cell_type": "code",
   "execution_count": 2,
   "id": "9e2a166c",
   "metadata": {},
   "outputs": [],
   "source": [
    "df = pd.read_csv('/Users/mahmoud/Car_Price_Prediction/V3/working_dataset.csv')"
   ]
  },
  {
   "cell_type": "code",
   "execution_count": 3,
   "id": "50cf8ba3",
   "metadata": {
    "scrolled": true
   },
   "outputs": [
    {
     "data": {
      "text/html": [
       "<div>\n",
       "<style scoped>\n",
       "    .dataframe tbody tr th:only-of-type {\n",
       "        vertical-align: middle;\n",
       "    }\n",
       "\n",
       "    .dataframe tbody tr th {\n",
       "        vertical-align: top;\n",
       "    }\n",
       "\n",
       "    .dataframe thead th {\n",
       "        text-align: right;\n",
       "    }\n",
       "</style>\n",
       "<table border=\"1\" class=\"dataframe\">\n",
       "  <thead>\n",
       "    <tr style=\"text-align: right;\">\n",
       "      <th></th>\n",
       "      <th>Car Name</th>\n",
       "      <th>Mileage</th>\n",
       "      <th>Dealer Name</th>\n",
       "      <th>Dealer Rating</th>\n",
       "      <th>Review Count</th>\n",
       "      <th>Price</th>\n",
       "      <th>Badge Label</th>\n",
       "      <th>Car Rating</th>\n",
       "      <th>Car Reviews</th>\n",
       "      <th>Accidents or damage</th>\n",
       "      <th>...</th>\n",
       "      <th>Drivetrain</th>\n",
       "      <th>MPG</th>\n",
       "      <th>Fuel type</th>\n",
       "      <th>Transmission</th>\n",
       "      <th>Engine</th>\n",
       "      <th>VIN</th>\n",
       "      <th>Year</th>\n",
       "      <th>Make</th>\n",
       "      <th>Model</th>\n",
       "      <th>Type</th>\n",
       "    </tr>\n",
       "  </thead>\n",
       "  <tbody>\n",
       "    <tr>\n",
       "      <th>0</th>\n",
       "      <td>2016 Audi A4 2.0T Premium</td>\n",
       "      <td>92124.0</td>\n",
       "      <td>NJ State Auto Used Cars</td>\n",
       "      <td>4.200000</td>\n",
       "      <td>672.0</td>\n",
       "      <td>14359.0</td>\n",
       "      <td>Good Deal</td>\n",
       "      <td>4.2</td>\n",
       "      <td>['April 22, 2021\\nBy Tommy from San Antonio tx...</td>\n",
       "      <td>None reported</td>\n",
       "      <td>...</td>\n",
       "      <td>All-wheel Drive</td>\n",
       "      <td>21.0</td>\n",
       "      <td>E85 Flex Fuel</td>\n",
       "      <td>8-Speed Automatic</td>\n",
       "      <td>2.0L I4 16V GDI DOHC Turbo Flexible Fuel</td>\n",
       "      <td>WAUBFAFLXGN009815</td>\n",
       "      <td>2016</td>\n",
       "      <td>Audi</td>\n",
       "      <td>A4</td>\n",
       "      <td>2.0T Premium</td>\n",
       "    </tr>\n",
       "    <tr>\n",
       "      <th>1</th>\n",
       "      <td>2015 Buick Enclave Leather</td>\n",
       "      <td>111488.0</td>\n",
       "      <td>NJ State Auto Used Cars</td>\n",
       "      <td>4.200000</td>\n",
       "      <td>672.0</td>\n",
       "      <td>13517.0</td>\n",
       "      <td>Fair Deal</td>\n",
       "      <td>4.2</td>\n",
       "      <td>['March 26, 2021\\nBy Leo Appreciates a great r...</td>\n",
       "      <td>At least 1 accident or damage reported</td>\n",
       "      <td>...</td>\n",
       "      <td>Front-wheel Drive</td>\n",
       "      <td>17.0</td>\n",
       "      <td>Gasoline</td>\n",
       "      <td>6-Speed Automatic</td>\n",
       "      <td>3.6L V6 24V GDI DOHC</td>\n",
       "      <td>5GAKRBKD6FJ125566</td>\n",
       "      <td>2015</td>\n",
       "      <td>Buick</td>\n",
       "      <td>Enclave</td>\n",
       "      <td>Leather</td>\n",
       "    </tr>\n",
       "    <tr>\n",
       "      <th>2</th>\n",
       "      <td>2012 Jeep Grand Cherokee Laredo</td>\n",
       "      <td>133821.0</td>\n",
       "      <td>Road Masters II Inc.</td>\n",
       "      <td>3.849628</td>\n",
       "      <td>77.0</td>\n",
       "      <td>9995.0</td>\n",
       "      <td>Great Deal</td>\n",
       "      <td>4.5</td>\n",
       "      <td>['June 28, 2023\\nBy CatTayl from Chatsworth, I...</td>\n",
       "      <td>None reported</td>\n",
       "      <td>...</td>\n",
       "      <td>Four-wheel Drive</td>\n",
       "      <td>16.0</td>\n",
       "      <td>E85 Flex Fuel</td>\n",
       "      <td>Automatic</td>\n",
       "      <td>3.6L V-6 DOHC, variable valve control, engine ...</td>\n",
       "      <td>1C4RJFAGXCC127988</td>\n",
       "      <td>2012</td>\n",
       "      <td>Jeep</td>\n",
       "      <td>Grand</td>\n",
       "      <td>Cherokee Laredo</td>\n",
       "    </tr>\n",
       "    <tr>\n",
       "      <th>3</th>\n",
       "      <td>2010 Toyota Camry LE</td>\n",
       "      <td>116643.0</td>\n",
       "      <td>Arrow Motors</td>\n",
       "      <td>4.800000</td>\n",
       "      <td>220.0</td>\n",
       "      <td>9999.0</td>\n",
       "      <td>Good Deal</td>\n",
       "      <td>5.0</td>\n",
       "      <td>['January 24, 2023\\nBy Pauline from St bernard...</td>\n",
       "      <td>At least 1 accident or damage reported</td>\n",
       "      <td>...</td>\n",
       "      <td>Front-wheel Drive</td>\n",
       "      <td>22.0</td>\n",
       "      <td>Gasoline</td>\n",
       "      <td>6-Speed Automatic</td>\n",
       "      <td>2.5L I4 16V MPFI DOHC</td>\n",
       "      <td>4T1BF3EK9AU561578</td>\n",
       "      <td>2010</td>\n",
       "      <td>Toyota</td>\n",
       "      <td>Camry</td>\n",
       "      <td>LE</td>\n",
       "    </tr>\n",
       "    <tr>\n",
       "      <th>4</th>\n",
       "      <td>2016 Mazda Mazda6 i Touring</td>\n",
       "      <td>111588.0</td>\n",
       "      <td>Arrow Motors</td>\n",
       "      <td>4.800000</td>\n",
       "      <td>220.0</td>\n",
       "      <td>13499.0</td>\n",
       "      <td>Good Deal</td>\n",
       "      <td>5.0</td>\n",
       "      <td>['October 30, 2022\\nBy RChico456 from Las Vega...</td>\n",
       "      <td>At least 1 accident or damage reported</td>\n",
       "      <td>...</td>\n",
       "      <td>Front-wheel Drive</td>\n",
       "      <td>25.0</td>\n",
       "      <td>Gasoline</td>\n",
       "      <td>6-Speed Manual</td>\n",
       "      <td>2.5L I4 16V GDI DOHC</td>\n",
       "      <td>JM1GJ1V52G1488572</td>\n",
       "      <td>2016</td>\n",
       "      <td>Mazda</td>\n",
       "      <td>Mazda6</td>\n",
       "      <td>i Touring</td>\n",
       "    </tr>\n",
       "    <tr>\n",
       "      <th>...</th>\n",
       "      <td>...</td>\n",
       "      <td>...</td>\n",
       "      <td>...</td>\n",
       "      <td>...</td>\n",
       "      <td>...</td>\n",
       "      <td>...</td>\n",
       "      <td>...</td>\n",
       "      <td>...</td>\n",
       "      <td>...</td>\n",
       "      <td>...</td>\n",
       "      <td>...</td>\n",
       "      <td>...</td>\n",
       "      <td>...</td>\n",
       "      <td>...</td>\n",
       "      <td>...</td>\n",
       "      <td>...</td>\n",
       "      <td>...</td>\n",
       "      <td>...</td>\n",
       "      <td>...</td>\n",
       "      <td>...</td>\n",
       "      <td>...</td>\n",
       "    </tr>\n",
       "    <tr>\n",
       "      <th>9797</th>\n",
       "      <td>2021 Mitsubishi Mirage ES</td>\n",
       "      <td>15035.0</td>\n",
       "      <td>CarVision of Maple Shade</td>\n",
       "      <td>3.849628</td>\n",
       "      <td>0.0</td>\n",
       "      <td>13999.0</td>\n",
       "      <td>Fair Deal</td>\n",
       "      <td>4.9</td>\n",
       "      <td>['April 18, 2021\\nBy LackeyMO from Neosho, Mis...</td>\n",
       "      <td>At least 1 accident or damage reported</td>\n",
       "      <td>...</td>\n",
       "      <td>Front-wheel Drive</td>\n",
       "      <td>33.0</td>\n",
       "      <td>Gasoline</td>\n",
       "      <td>5-Speed Manual</td>\n",
       "      <td>1.2L I3 12V MPFI DOHC</td>\n",
       "      <td>ML32AUHJ7MH010688</td>\n",
       "      <td>2021</td>\n",
       "      <td>Mitsubishi</td>\n",
       "      <td>Mirage</td>\n",
       "      <td>ES</td>\n",
       "    </tr>\n",
       "    <tr>\n",
       "      <th>9798</th>\n",
       "      <td>2006 Toyota Corolla S</td>\n",
       "      <td>154352.0</td>\n",
       "      <td>Bethlehem Ford</td>\n",
       "      <td>3.849628</td>\n",
       "      <td>0.0</td>\n",
       "      <td>6524.0</td>\n",
       "      <td>Great Deal</td>\n",
       "      <td>5.0</td>\n",
       "      <td>['April 27, 2023\\nBy Kc from Whittier, MA\\nUse...</td>\n",
       "      <td>At least 1 accident or damage reported</td>\n",
       "      <td>...</td>\n",
       "      <td>Front-wheel Drive</td>\n",
       "      <td>30.0</td>\n",
       "      <td>Gasoline</td>\n",
       "      <td>4-Speed Automatic</td>\n",
       "      <td>1.8L I4 16V MPFI DOHC</td>\n",
       "      <td>2T1BR32E16C696228</td>\n",
       "      <td>2006</td>\n",
       "      <td>Toyota</td>\n",
       "      <td>Corolla</td>\n",
       "      <td>S</td>\n",
       "    </tr>\n",
       "    <tr>\n",
       "      <th>9799</th>\n",
       "      <td>2008 Suzuki SX4 Base (A4)</td>\n",
       "      <td>46460.0</td>\n",
       "      <td>Napoli Kia</td>\n",
       "      <td>3.849628</td>\n",
       "      <td>0.0</td>\n",
       "      <td>8924.0</td>\n",
       "      <td>Great Deal</td>\n",
       "      <td>4.9</td>\n",
       "      <td>['July  2, 2023\\nBy Lee from Dayton ohio \\nOwn...</td>\n",
       "      <td>None reported</td>\n",
       "      <td>...</td>\n",
       "      <td>All-wheel Drive</td>\n",
       "      <td>21.0</td>\n",
       "      <td>Gasoline</td>\n",
       "      <td>4-Speed Automatic</td>\n",
       "      <td>2.0L I4 16V MPFI DOHC</td>\n",
       "      <td>JS2YB413385100353</td>\n",
       "      <td>2008</td>\n",
       "      <td>Suzuki</td>\n",
       "      <td>SX4</td>\n",
       "      <td>Base (A4)</td>\n",
       "    </tr>\n",
       "    <tr>\n",
       "      <th>9800</th>\n",
       "      <td>2014 Hyundai Santa Fe Sport 2.0L Turbo</td>\n",
       "      <td>152296.0</td>\n",
       "      <td>Pine Belt Chevy of Lakewood</td>\n",
       "      <td>3.849628</td>\n",
       "      <td>0.0</td>\n",
       "      <td>8643.0</td>\n",
       "      <td>Good Deal</td>\n",
       "      <td>5.0</td>\n",
       "      <td>['June 10, 2021\\nBy Adelaide from NC\\nOwns thi...</td>\n",
       "      <td>At least 1 accident or damage reported</td>\n",
       "      <td>...</td>\n",
       "      <td>Front-wheel Drive</td>\n",
       "      <td>19.0</td>\n",
       "      <td>Gasoline</td>\n",
       "      <td>6-Speed Automatic</td>\n",
       "      <td>2.0L I4 16V GDI DOHC Turbo</td>\n",
       "      <td>5XYZU3LA5EG187545</td>\n",
       "      <td>2014</td>\n",
       "      <td>Hyundai</td>\n",
       "      <td>Santa</td>\n",
       "      <td>Fe Sport 2.0L Turbo</td>\n",
       "    </tr>\n",
       "    <tr>\n",
       "      <th>9801</th>\n",
       "      <td>2014 Honda Odyssey EX-L</td>\n",
       "      <td>124233.0</td>\n",
       "      <td>Sloane Toyota of Glenside</td>\n",
       "      <td>3.849628</td>\n",
       "      <td>0.0</td>\n",
       "      <td>14994.0</td>\n",
       "      <td>Fair Deal</td>\n",
       "      <td>5.0</td>\n",
       "      <td>['December 20, 2022\\nBy Mark Lotz from Shawnee...</td>\n",
       "      <td>At least 1 accident or damage reported</td>\n",
       "      <td>...</td>\n",
       "      <td>Front-wheel Drive</td>\n",
       "      <td>19.0</td>\n",
       "      <td>Gasoline</td>\n",
       "      <td>6-Speed Automatic</td>\n",
       "      <td>3.5L V6 24V MPFI SOHC</td>\n",
       "      <td>5FNRL5H63EB026489</td>\n",
       "      <td>2014</td>\n",
       "      <td>Honda</td>\n",
       "      <td>Odyssey</td>\n",
       "      <td>EX-L</td>\n",
       "    </tr>\n",
       "  </tbody>\n",
       "</table>\n",
       "<p>9802 rows × 25 columns</p>\n",
       "</div>"
      ],
      "text/plain": [
       "                                    Car Name   Mileage  \\\n",
       "0                  2016 Audi A4 2.0T Premium   92124.0   \n",
       "1                 2015 Buick Enclave Leather  111488.0   \n",
       "2            2012 Jeep Grand Cherokee Laredo  133821.0   \n",
       "3                       2010 Toyota Camry LE  116643.0   \n",
       "4                2016 Mazda Mazda6 i Touring  111588.0   \n",
       "...                                      ...       ...   \n",
       "9797               2021 Mitsubishi Mirage ES   15035.0   \n",
       "9798                   2006 Toyota Corolla S  154352.0   \n",
       "9799               2008 Suzuki SX4 Base (A4)   46460.0   \n",
       "9800  2014 Hyundai Santa Fe Sport 2.0L Turbo  152296.0   \n",
       "9801                 2014 Honda Odyssey EX-L  124233.0   \n",
       "\n",
       "                      Dealer Name  Dealer Rating  Review Count    Price  \\\n",
       "0         NJ State Auto Used Cars       4.200000         672.0  14359.0   \n",
       "1         NJ State Auto Used Cars       4.200000         672.0  13517.0   \n",
       "2            Road Masters II Inc.       3.849628          77.0   9995.0   \n",
       "3                    Arrow Motors       4.800000         220.0   9999.0   \n",
       "4                    Arrow Motors       4.800000         220.0  13499.0   \n",
       "...                           ...            ...           ...      ...   \n",
       "9797     CarVision of Maple Shade       3.849628           0.0  13999.0   \n",
       "9798               Bethlehem Ford       3.849628           0.0   6524.0   \n",
       "9799                   Napoli Kia       3.849628           0.0   8924.0   \n",
       "9800  Pine Belt Chevy of Lakewood       3.849628           0.0   8643.0   \n",
       "9801    Sloane Toyota of Glenside       3.849628           0.0  14994.0   \n",
       "\n",
       "     Badge Label  Car Rating  \\\n",
       "0      Good Deal         4.2   \n",
       "1      Fair Deal         4.2   \n",
       "2     Great Deal         4.5   \n",
       "3      Good Deal         5.0   \n",
       "4      Good Deal         5.0   \n",
       "...          ...         ...   \n",
       "9797   Fair Deal         4.9   \n",
       "9798  Great Deal         5.0   \n",
       "9799  Great Deal         4.9   \n",
       "9800   Good Deal         5.0   \n",
       "9801   Fair Deal         5.0   \n",
       "\n",
       "                                            Car Reviews  \\\n",
       "0     ['April 22, 2021\\nBy Tommy from San Antonio tx...   \n",
       "1     ['March 26, 2021\\nBy Leo Appreciates a great r...   \n",
       "2     ['June 28, 2023\\nBy CatTayl from Chatsworth, I...   \n",
       "3     ['January 24, 2023\\nBy Pauline from St bernard...   \n",
       "4     ['October 30, 2022\\nBy RChico456 from Las Vega...   \n",
       "...                                                 ...   \n",
       "9797  ['April 18, 2021\\nBy LackeyMO from Neosho, Mis...   \n",
       "9798  ['April 27, 2023\\nBy Kc from Whittier, MA\\nUse...   \n",
       "9799  ['July  2, 2023\\nBy Lee from Dayton ohio \\nOwn...   \n",
       "9800  ['June 10, 2021\\nBy Adelaide from NC\\nOwns thi...   \n",
       "9801  ['December 20, 2022\\nBy Mark Lotz from Shawnee...   \n",
       "\n",
       "                         Accidents or damage  ...         Drivetrain   MPG  \\\n",
       "0                              None reported  ...    All-wheel Drive  21.0   \n",
       "1     At least 1 accident or damage reported  ...  Front-wheel Drive  17.0   \n",
       "2                              None reported  ...   Four-wheel Drive  16.0   \n",
       "3     At least 1 accident or damage reported  ...  Front-wheel Drive  22.0   \n",
       "4     At least 1 accident or damage reported  ...  Front-wheel Drive  25.0   \n",
       "...                                      ...  ...                ...   ...   \n",
       "9797  At least 1 accident or damage reported  ...  Front-wheel Drive  33.0   \n",
       "9798  At least 1 accident or damage reported  ...  Front-wheel Drive  30.0   \n",
       "9799                           None reported  ...    All-wheel Drive  21.0   \n",
       "9800  At least 1 accident or damage reported  ...  Front-wheel Drive  19.0   \n",
       "9801  At least 1 accident or damage reported  ...  Front-wheel Drive  19.0   \n",
       "\n",
       "          Fuel type       Transmission  \\\n",
       "0     E85 Flex Fuel  8-Speed Automatic   \n",
       "1          Gasoline  6-Speed Automatic   \n",
       "2     E85 Flex Fuel          Automatic   \n",
       "3          Gasoline  6-Speed Automatic   \n",
       "4          Gasoline     6-Speed Manual   \n",
       "...             ...                ...   \n",
       "9797       Gasoline     5-Speed Manual   \n",
       "9798       Gasoline  4-Speed Automatic   \n",
       "9799       Gasoline  4-Speed Automatic   \n",
       "9800       Gasoline  6-Speed Automatic   \n",
       "9801       Gasoline  6-Speed Automatic   \n",
       "\n",
       "                                                 Engine                VIN  \\\n",
       "0              2.0L I4 16V GDI DOHC Turbo Flexible Fuel  WAUBFAFLXGN009815   \n",
       "1                                  3.6L V6 24V GDI DOHC  5GAKRBKD6FJ125566   \n",
       "2     3.6L V-6 DOHC, variable valve control, engine ...  1C4RJFAGXCC127988   \n",
       "3                                 2.5L I4 16V MPFI DOHC  4T1BF3EK9AU561578   \n",
       "4                                  2.5L I4 16V GDI DOHC  JM1GJ1V52G1488572   \n",
       "...                                                 ...                ...   \n",
       "9797                              1.2L I3 12V MPFI DOHC  ML32AUHJ7MH010688   \n",
       "9798                              1.8L I4 16V MPFI DOHC  2T1BR32E16C696228   \n",
       "9799                              2.0L I4 16V MPFI DOHC  JS2YB413385100353   \n",
       "9800                         2.0L I4 16V GDI DOHC Turbo  5XYZU3LA5EG187545   \n",
       "9801                              3.5L V6 24V MPFI SOHC  5FNRL5H63EB026489   \n",
       "\n",
       "      Year        Make    Model                 Type  \n",
       "0     2016        Audi       A4         2.0T Premium  \n",
       "1     2015       Buick  Enclave              Leather  \n",
       "2     2012        Jeep    Grand      Cherokee Laredo  \n",
       "3     2010      Toyota    Camry                   LE  \n",
       "4     2016       Mazda   Mazda6            i Touring  \n",
       "...    ...         ...      ...                  ...  \n",
       "9797  2021  Mitsubishi   Mirage                   ES  \n",
       "9798  2006      Toyota  Corolla                    S  \n",
       "9799  2008      Suzuki      SX4            Base (A4)  \n",
       "9800  2014     Hyundai    Santa  Fe Sport 2.0L Turbo  \n",
       "9801  2014       Honda  Odyssey                 EX-L  \n",
       "\n",
       "[9802 rows x 25 columns]"
      ]
     },
     "execution_count": 3,
     "metadata": {},
     "output_type": "execute_result"
    }
   ],
   "source": [
    "df = df.drop(columns=['Unnamed: 0'])\n",
    "df"
   ]
  },
  {
   "cell_type": "code",
   "execution_count": 7,
   "id": "0ea2e82e",
   "metadata": {},
   "outputs": [
    {
     "data": {
      "application/vnd.plotly.v1+json": {
       "config": {
        "plotlyServerURL": "https://plot.ly"
       },
       "data": [
        {
         "text": [
          7941.76,
          12544.14,
          10896.33,
          10504.96,
          9213.75
         ],
         "textposition": "auto",
         "type": "bar",
         "x": [
          "Bad Deal",
          "Fair Deal",
          "Good Deal",
          "Great Deal",
          "Hot Car"
         ],
         "y": [
          7941.76,
          12544.14,
          10896.33,
          10504.96,
          9213.75
         ]
        }
       ],
       "layout": {
        "template": {
         "data": {
          "bar": [
           {
            "error_x": {
             "color": "#2a3f5f"
            },
            "error_y": {
             "color": "#2a3f5f"
            },
            "marker": {
             "line": {
              "color": "#E5ECF6",
              "width": 0.5
             }
            },
            "type": "bar"
           }
          ],
          "barpolar": [
           {
            "marker": {
             "line": {
              "color": "#E5ECF6",
              "width": 0.5
             }
            },
            "type": "barpolar"
           }
          ],
          "carpet": [
           {
            "aaxis": {
             "endlinecolor": "#2a3f5f",
             "gridcolor": "white",
             "linecolor": "white",
             "minorgridcolor": "white",
             "startlinecolor": "#2a3f5f"
            },
            "baxis": {
             "endlinecolor": "#2a3f5f",
             "gridcolor": "white",
             "linecolor": "white",
             "minorgridcolor": "white",
             "startlinecolor": "#2a3f5f"
            },
            "type": "carpet"
           }
          ],
          "choropleth": [
           {
            "colorbar": {
             "outlinewidth": 0,
             "ticks": ""
            },
            "type": "choropleth"
           }
          ],
          "contour": [
           {
            "colorbar": {
             "outlinewidth": 0,
             "ticks": ""
            },
            "colorscale": [
             [
              0,
              "#0d0887"
             ],
             [
              0.1111111111111111,
              "#46039f"
             ],
             [
              0.2222222222222222,
              "#7201a8"
             ],
             [
              0.3333333333333333,
              "#9c179e"
             ],
             [
              0.4444444444444444,
              "#bd3786"
             ],
             [
              0.5555555555555556,
              "#d8576b"
             ],
             [
              0.6666666666666666,
              "#ed7953"
             ],
             [
              0.7777777777777778,
              "#fb9f3a"
             ],
             [
              0.8888888888888888,
              "#fdca26"
             ],
             [
              1,
              "#f0f921"
             ]
            ],
            "type": "contour"
           }
          ],
          "contourcarpet": [
           {
            "colorbar": {
             "outlinewidth": 0,
             "ticks": ""
            },
            "type": "contourcarpet"
           }
          ],
          "heatmap": [
           {
            "colorbar": {
             "outlinewidth": 0,
             "ticks": ""
            },
            "colorscale": [
             [
              0,
              "#0d0887"
             ],
             [
              0.1111111111111111,
              "#46039f"
             ],
             [
              0.2222222222222222,
              "#7201a8"
             ],
             [
              0.3333333333333333,
              "#9c179e"
             ],
             [
              0.4444444444444444,
              "#bd3786"
             ],
             [
              0.5555555555555556,
              "#d8576b"
             ],
             [
              0.6666666666666666,
              "#ed7953"
             ],
             [
              0.7777777777777778,
              "#fb9f3a"
             ],
             [
              0.8888888888888888,
              "#fdca26"
             ],
             [
              1,
              "#f0f921"
             ]
            ],
            "type": "heatmap"
           }
          ],
          "heatmapgl": [
           {
            "colorbar": {
             "outlinewidth": 0,
             "ticks": ""
            },
            "colorscale": [
             [
              0,
              "#0d0887"
             ],
             [
              0.1111111111111111,
              "#46039f"
             ],
             [
              0.2222222222222222,
              "#7201a8"
             ],
             [
              0.3333333333333333,
              "#9c179e"
             ],
             [
              0.4444444444444444,
              "#bd3786"
             ],
             [
              0.5555555555555556,
              "#d8576b"
             ],
             [
              0.6666666666666666,
              "#ed7953"
             ],
             [
              0.7777777777777778,
              "#fb9f3a"
             ],
             [
              0.8888888888888888,
              "#fdca26"
             ],
             [
              1,
              "#f0f921"
             ]
            ],
            "type": "heatmapgl"
           }
          ],
          "histogram": [
           {
            "marker": {
             "colorbar": {
              "outlinewidth": 0,
              "ticks": ""
             }
            },
            "type": "histogram"
           }
          ],
          "histogram2d": [
           {
            "colorbar": {
             "outlinewidth": 0,
             "ticks": ""
            },
            "colorscale": [
             [
              0,
              "#0d0887"
             ],
             [
              0.1111111111111111,
              "#46039f"
             ],
             [
              0.2222222222222222,
              "#7201a8"
             ],
             [
              0.3333333333333333,
              "#9c179e"
             ],
             [
              0.4444444444444444,
              "#bd3786"
             ],
             [
              0.5555555555555556,
              "#d8576b"
             ],
             [
              0.6666666666666666,
              "#ed7953"
             ],
             [
              0.7777777777777778,
              "#fb9f3a"
             ],
             [
              0.8888888888888888,
              "#fdca26"
             ],
             [
              1,
              "#f0f921"
             ]
            ],
            "type": "histogram2d"
           }
          ],
          "histogram2dcontour": [
           {
            "colorbar": {
             "outlinewidth": 0,
             "ticks": ""
            },
            "colorscale": [
             [
              0,
              "#0d0887"
             ],
             [
              0.1111111111111111,
              "#46039f"
             ],
             [
              0.2222222222222222,
              "#7201a8"
             ],
             [
              0.3333333333333333,
              "#9c179e"
             ],
             [
              0.4444444444444444,
              "#bd3786"
             ],
             [
              0.5555555555555556,
              "#d8576b"
             ],
             [
              0.6666666666666666,
              "#ed7953"
             ],
             [
              0.7777777777777778,
              "#fb9f3a"
             ],
             [
              0.8888888888888888,
              "#fdca26"
             ],
             [
              1,
              "#f0f921"
             ]
            ],
            "type": "histogram2dcontour"
           }
          ],
          "mesh3d": [
           {
            "colorbar": {
             "outlinewidth": 0,
             "ticks": ""
            },
            "type": "mesh3d"
           }
          ],
          "parcoords": [
           {
            "line": {
             "colorbar": {
              "outlinewidth": 0,
              "ticks": ""
             }
            },
            "type": "parcoords"
           }
          ],
          "pie": [
           {
            "automargin": true,
            "type": "pie"
           }
          ],
          "scatter": [
           {
            "marker": {
             "colorbar": {
              "outlinewidth": 0,
              "ticks": ""
             }
            },
            "type": "scatter"
           }
          ],
          "scatter3d": [
           {
            "line": {
             "colorbar": {
              "outlinewidth": 0,
              "ticks": ""
             }
            },
            "marker": {
             "colorbar": {
              "outlinewidth": 0,
              "ticks": ""
             }
            },
            "type": "scatter3d"
           }
          ],
          "scattercarpet": [
           {
            "marker": {
             "colorbar": {
              "outlinewidth": 0,
              "ticks": ""
             }
            },
            "type": "scattercarpet"
           }
          ],
          "scattergeo": [
           {
            "marker": {
             "colorbar": {
              "outlinewidth": 0,
              "ticks": ""
             }
            },
            "type": "scattergeo"
           }
          ],
          "scattergl": [
           {
            "marker": {
             "colorbar": {
              "outlinewidth": 0,
              "ticks": ""
             }
            },
            "type": "scattergl"
           }
          ],
          "scattermapbox": [
           {
            "marker": {
             "colorbar": {
              "outlinewidth": 0,
              "ticks": ""
             }
            },
            "type": "scattermapbox"
           }
          ],
          "scatterpolar": [
           {
            "marker": {
             "colorbar": {
              "outlinewidth": 0,
              "ticks": ""
             }
            },
            "type": "scatterpolar"
           }
          ],
          "scatterpolargl": [
           {
            "marker": {
             "colorbar": {
              "outlinewidth": 0,
              "ticks": ""
             }
            },
            "type": "scatterpolargl"
           }
          ],
          "scatterternary": [
           {
            "marker": {
             "colorbar": {
              "outlinewidth": 0,
              "ticks": ""
             }
            },
            "type": "scatterternary"
           }
          ],
          "surface": [
           {
            "colorbar": {
             "outlinewidth": 0,
             "ticks": ""
            },
            "colorscale": [
             [
              0,
              "#0d0887"
             ],
             [
              0.1111111111111111,
              "#46039f"
             ],
             [
              0.2222222222222222,
              "#7201a8"
             ],
             [
              0.3333333333333333,
              "#9c179e"
             ],
             [
              0.4444444444444444,
              "#bd3786"
             ],
             [
              0.5555555555555556,
              "#d8576b"
             ],
             [
              0.6666666666666666,
              "#ed7953"
             ],
             [
              0.7777777777777778,
              "#fb9f3a"
             ],
             [
              0.8888888888888888,
              "#fdca26"
             ],
             [
              1,
              "#f0f921"
             ]
            ],
            "type": "surface"
           }
          ],
          "table": [
           {
            "cells": {
             "fill": {
              "color": "#EBF0F8"
             },
             "line": {
              "color": "white"
             }
            },
            "header": {
             "fill": {
              "color": "#C8D4E3"
             },
             "line": {
              "color": "white"
             }
            },
            "type": "table"
           }
          ]
         },
         "layout": {
          "annotationdefaults": {
           "arrowcolor": "#2a3f5f",
           "arrowhead": 0,
           "arrowwidth": 1
          },
          "coloraxis": {
           "colorbar": {
            "outlinewidth": 0,
            "ticks": ""
           }
          },
          "colorscale": {
           "diverging": [
            [
             0,
             "#8e0152"
            ],
            [
             0.1,
             "#c51b7d"
            ],
            [
             0.2,
             "#de77ae"
            ],
            [
             0.3,
             "#f1b6da"
            ],
            [
             0.4,
             "#fde0ef"
            ],
            [
             0.5,
             "#f7f7f7"
            ],
            [
             0.6,
             "#e6f5d0"
            ],
            [
             0.7,
             "#b8e186"
            ],
            [
             0.8,
             "#7fbc41"
            ],
            [
             0.9,
             "#4d9221"
            ],
            [
             1,
             "#276419"
            ]
           ],
           "sequential": [
            [
             0,
             "#0d0887"
            ],
            [
             0.1111111111111111,
             "#46039f"
            ],
            [
             0.2222222222222222,
             "#7201a8"
            ],
            [
             0.3333333333333333,
             "#9c179e"
            ],
            [
             0.4444444444444444,
             "#bd3786"
            ],
            [
             0.5555555555555556,
             "#d8576b"
            ],
            [
             0.6666666666666666,
             "#ed7953"
            ],
            [
             0.7777777777777778,
             "#fb9f3a"
            ],
            [
             0.8888888888888888,
             "#fdca26"
            ],
            [
             1,
             "#f0f921"
            ]
           ],
           "sequentialminus": [
            [
             0,
             "#0d0887"
            ],
            [
             0.1111111111111111,
             "#46039f"
            ],
            [
             0.2222222222222222,
             "#7201a8"
            ],
            [
             0.3333333333333333,
             "#9c179e"
            ],
            [
             0.4444444444444444,
             "#bd3786"
            ],
            [
             0.5555555555555556,
             "#d8576b"
            ],
            [
             0.6666666666666666,
             "#ed7953"
            ],
            [
             0.7777777777777778,
             "#fb9f3a"
            ],
            [
             0.8888888888888888,
             "#fdca26"
            ],
            [
             1,
             "#f0f921"
            ]
           ]
          },
          "colorway": [
           "#636efa",
           "#EF553B",
           "#00cc96",
           "#ab63fa",
           "#FFA15A",
           "#19d3f3",
           "#FF6692",
           "#B6E880",
           "#FF97FF",
           "#FECB52"
          ],
          "font": {
           "color": "#2a3f5f"
          },
          "geo": {
           "bgcolor": "white",
           "lakecolor": "white",
           "landcolor": "#E5ECF6",
           "showlakes": true,
           "showland": true,
           "subunitcolor": "white"
          },
          "hoverlabel": {
           "align": "left"
          },
          "hovermode": "closest",
          "mapbox": {
           "style": "light"
          },
          "paper_bgcolor": "white",
          "plot_bgcolor": "#E5ECF6",
          "polar": {
           "angularaxis": {
            "gridcolor": "white",
            "linecolor": "white",
            "ticks": ""
           },
           "bgcolor": "#E5ECF6",
           "radialaxis": {
            "gridcolor": "white",
            "linecolor": "white",
            "ticks": ""
           }
          },
          "scene": {
           "xaxis": {
            "backgroundcolor": "#E5ECF6",
            "gridcolor": "white",
            "gridwidth": 2,
            "linecolor": "white",
            "showbackground": true,
            "ticks": "",
            "zerolinecolor": "white"
           },
           "yaxis": {
            "backgroundcolor": "#E5ECF6",
            "gridcolor": "white",
            "gridwidth": 2,
            "linecolor": "white",
            "showbackground": true,
            "ticks": "",
            "zerolinecolor": "white"
           },
           "zaxis": {
            "backgroundcolor": "#E5ECF6",
            "gridcolor": "white",
            "gridwidth": 2,
            "linecolor": "white",
            "showbackground": true,
            "ticks": "",
            "zerolinecolor": "white"
           }
          },
          "shapedefaults": {
           "line": {
            "color": "#2a3f5f"
           }
          },
          "ternary": {
           "aaxis": {
            "gridcolor": "white",
            "linecolor": "white",
            "ticks": ""
           },
           "baxis": {
            "gridcolor": "white",
            "linecolor": "white",
            "ticks": ""
           },
           "bgcolor": "#E5ECF6",
           "caxis": {
            "gridcolor": "white",
            "linecolor": "white",
            "ticks": ""
           }
          },
          "title": {
           "x": 0.05
          },
          "xaxis": {
           "automargin": true,
           "gridcolor": "white",
           "linecolor": "white",
           "ticks": "",
           "title": {
            "standoff": 15
           },
           "zerolinecolor": "white",
           "zerolinewidth": 2
          },
          "yaxis": {
           "automargin": true,
           "gridcolor": "white",
           "linecolor": "white",
           "ticks": "",
           "title": {
            "standoff": 15
           },
           "zerolinecolor": "white",
           "zerolinewidth": 2
          }
         }
        },
        "title": {
         "text": "Average Price by Deal"
        },
        "xaxis": {
         "title": {
          "text": "Type of Deal"
         }
        },
        "yaxis": {
         "title": {
          "text": "Average Price"
         }
        }
       }
      },
      "text/html": [
       "<div>                            <div id=\"7490d146-7509-4242-ab01-f1f9a548f7f1\" class=\"plotly-graph-div\" style=\"height:525px; width:100%;\"></div>            <script type=\"text/javascript\">                require([\"plotly\"], function(Plotly) {                    window.PLOTLYENV=window.PLOTLYENV || {};                                    if (document.getElementById(\"7490d146-7509-4242-ab01-f1f9a548f7f1\")) {                    Plotly.newPlot(                        \"7490d146-7509-4242-ab01-f1f9a548f7f1\",                        [{\"text\": [7941.76, 12544.14, 10896.33, 10504.96, 9213.75], \"textposition\": \"auto\", \"type\": \"bar\", \"x\": [\"Bad Deal\", \"Fair Deal\", \"Good Deal\", \"Great Deal\", \"Hot Car\"], \"y\": [7941.76, 12544.14, 10896.33, 10504.96, 9213.75]}],                        {\"template\": {\"data\": {\"bar\": [{\"error_x\": {\"color\": \"#2a3f5f\"}, \"error_y\": {\"color\": \"#2a3f5f\"}, \"marker\": {\"line\": {\"color\": \"#E5ECF6\", \"width\": 0.5}}, \"type\": \"bar\"}], \"barpolar\": [{\"marker\": {\"line\": {\"color\": \"#E5ECF6\", \"width\": 0.5}}, \"type\": \"barpolar\"}], \"carpet\": [{\"aaxis\": {\"endlinecolor\": \"#2a3f5f\", \"gridcolor\": \"white\", \"linecolor\": \"white\", \"minorgridcolor\": \"white\", \"startlinecolor\": \"#2a3f5f\"}, \"baxis\": {\"endlinecolor\": \"#2a3f5f\", \"gridcolor\": \"white\", \"linecolor\": \"white\", \"minorgridcolor\": \"white\", \"startlinecolor\": \"#2a3f5f\"}, \"type\": \"carpet\"}], \"choropleth\": [{\"colorbar\": {\"outlinewidth\": 0, \"ticks\": \"\"}, \"type\": \"choropleth\"}], \"contour\": [{\"colorbar\": {\"outlinewidth\": 0, \"ticks\": \"\"}, \"colorscale\": [[0.0, \"#0d0887\"], [0.1111111111111111, \"#46039f\"], [0.2222222222222222, \"#7201a8\"], [0.3333333333333333, \"#9c179e\"], [0.4444444444444444, \"#bd3786\"], [0.5555555555555556, \"#d8576b\"], [0.6666666666666666, \"#ed7953\"], [0.7777777777777778, \"#fb9f3a\"], [0.8888888888888888, \"#fdca26\"], [1.0, \"#f0f921\"]], \"type\": \"contour\"}], \"contourcarpet\": [{\"colorbar\": {\"outlinewidth\": 0, \"ticks\": \"\"}, \"type\": \"contourcarpet\"}], \"heatmap\": [{\"colorbar\": {\"outlinewidth\": 0, \"ticks\": \"\"}, \"colorscale\": [[0.0, \"#0d0887\"], [0.1111111111111111, \"#46039f\"], [0.2222222222222222, \"#7201a8\"], [0.3333333333333333, \"#9c179e\"], [0.4444444444444444, \"#bd3786\"], [0.5555555555555556, \"#d8576b\"], [0.6666666666666666, \"#ed7953\"], [0.7777777777777778, \"#fb9f3a\"], [0.8888888888888888, \"#fdca26\"], [1.0, \"#f0f921\"]], \"type\": \"heatmap\"}], \"heatmapgl\": [{\"colorbar\": {\"outlinewidth\": 0, \"ticks\": \"\"}, \"colorscale\": [[0.0, \"#0d0887\"], [0.1111111111111111, \"#46039f\"], [0.2222222222222222, \"#7201a8\"], [0.3333333333333333, \"#9c179e\"], [0.4444444444444444, \"#bd3786\"], [0.5555555555555556, \"#d8576b\"], [0.6666666666666666, \"#ed7953\"], [0.7777777777777778, \"#fb9f3a\"], [0.8888888888888888, \"#fdca26\"], [1.0, \"#f0f921\"]], \"type\": \"heatmapgl\"}], \"histogram\": [{\"marker\": {\"colorbar\": {\"outlinewidth\": 0, \"ticks\": \"\"}}, \"type\": \"histogram\"}], \"histogram2d\": [{\"colorbar\": {\"outlinewidth\": 0, \"ticks\": \"\"}, \"colorscale\": [[0.0, \"#0d0887\"], [0.1111111111111111, \"#46039f\"], [0.2222222222222222, \"#7201a8\"], [0.3333333333333333, \"#9c179e\"], [0.4444444444444444, \"#bd3786\"], [0.5555555555555556, \"#d8576b\"], [0.6666666666666666, \"#ed7953\"], [0.7777777777777778, \"#fb9f3a\"], [0.8888888888888888, \"#fdca26\"], [1.0, \"#f0f921\"]], \"type\": \"histogram2d\"}], \"histogram2dcontour\": [{\"colorbar\": {\"outlinewidth\": 0, \"ticks\": \"\"}, \"colorscale\": [[0.0, \"#0d0887\"], [0.1111111111111111, \"#46039f\"], [0.2222222222222222, \"#7201a8\"], [0.3333333333333333, \"#9c179e\"], [0.4444444444444444, \"#bd3786\"], [0.5555555555555556, \"#d8576b\"], [0.6666666666666666, \"#ed7953\"], [0.7777777777777778, \"#fb9f3a\"], [0.8888888888888888, \"#fdca26\"], [1.0, \"#f0f921\"]], \"type\": \"histogram2dcontour\"}], \"mesh3d\": [{\"colorbar\": {\"outlinewidth\": 0, \"ticks\": \"\"}, \"type\": \"mesh3d\"}], \"parcoords\": [{\"line\": {\"colorbar\": {\"outlinewidth\": 0, \"ticks\": \"\"}}, \"type\": \"parcoords\"}], \"pie\": [{\"automargin\": true, \"type\": \"pie\"}], \"scatter\": [{\"marker\": {\"colorbar\": {\"outlinewidth\": 0, \"ticks\": \"\"}}, \"type\": \"scatter\"}], \"scatter3d\": [{\"line\": {\"colorbar\": {\"outlinewidth\": 0, \"ticks\": \"\"}}, \"marker\": {\"colorbar\": {\"outlinewidth\": 0, \"ticks\": \"\"}}, \"type\": \"scatter3d\"}], \"scattercarpet\": [{\"marker\": {\"colorbar\": {\"outlinewidth\": 0, \"ticks\": \"\"}}, \"type\": \"scattercarpet\"}], \"scattergeo\": [{\"marker\": {\"colorbar\": {\"outlinewidth\": 0, \"ticks\": \"\"}}, \"type\": \"scattergeo\"}], \"scattergl\": [{\"marker\": {\"colorbar\": {\"outlinewidth\": 0, \"ticks\": \"\"}}, \"type\": \"scattergl\"}], \"scattermapbox\": [{\"marker\": {\"colorbar\": {\"outlinewidth\": 0, \"ticks\": \"\"}}, \"type\": \"scattermapbox\"}], \"scatterpolar\": [{\"marker\": {\"colorbar\": {\"outlinewidth\": 0, \"ticks\": \"\"}}, \"type\": \"scatterpolar\"}], \"scatterpolargl\": [{\"marker\": {\"colorbar\": {\"outlinewidth\": 0, \"ticks\": \"\"}}, \"type\": \"scatterpolargl\"}], \"scatterternary\": [{\"marker\": {\"colorbar\": {\"outlinewidth\": 0, \"ticks\": \"\"}}, \"type\": \"scatterternary\"}], \"surface\": [{\"colorbar\": {\"outlinewidth\": 0, \"ticks\": \"\"}, \"colorscale\": [[0.0, \"#0d0887\"], [0.1111111111111111, \"#46039f\"], [0.2222222222222222, \"#7201a8\"], [0.3333333333333333, \"#9c179e\"], [0.4444444444444444, \"#bd3786\"], [0.5555555555555556, \"#d8576b\"], [0.6666666666666666, \"#ed7953\"], [0.7777777777777778, \"#fb9f3a\"], [0.8888888888888888, \"#fdca26\"], [1.0, \"#f0f921\"]], \"type\": \"surface\"}], \"table\": [{\"cells\": {\"fill\": {\"color\": \"#EBF0F8\"}, \"line\": {\"color\": \"white\"}}, \"header\": {\"fill\": {\"color\": \"#C8D4E3\"}, \"line\": {\"color\": \"white\"}}, \"type\": \"table\"}]}, \"layout\": {\"annotationdefaults\": {\"arrowcolor\": \"#2a3f5f\", \"arrowhead\": 0, \"arrowwidth\": 1}, \"coloraxis\": {\"colorbar\": {\"outlinewidth\": 0, \"ticks\": \"\"}}, \"colorscale\": {\"diverging\": [[0, \"#8e0152\"], [0.1, \"#c51b7d\"], [0.2, \"#de77ae\"], [0.3, \"#f1b6da\"], [0.4, \"#fde0ef\"], [0.5, \"#f7f7f7\"], [0.6, \"#e6f5d0\"], [0.7, \"#b8e186\"], [0.8, \"#7fbc41\"], [0.9, \"#4d9221\"], [1, \"#276419\"]], \"sequential\": [[0.0, \"#0d0887\"], [0.1111111111111111, \"#46039f\"], [0.2222222222222222, \"#7201a8\"], [0.3333333333333333, \"#9c179e\"], [0.4444444444444444, \"#bd3786\"], [0.5555555555555556, \"#d8576b\"], [0.6666666666666666, \"#ed7953\"], [0.7777777777777778, \"#fb9f3a\"], [0.8888888888888888, \"#fdca26\"], [1.0, \"#f0f921\"]], \"sequentialminus\": [[0.0, \"#0d0887\"], [0.1111111111111111, \"#46039f\"], [0.2222222222222222, \"#7201a8\"], [0.3333333333333333, \"#9c179e\"], [0.4444444444444444, \"#bd3786\"], [0.5555555555555556, \"#d8576b\"], [0.6666666666666666, \"#ed7953\"], [0.7777777777777778, \"#fb9f3a\"], [0.8888888888888888, \"#fdca26\"], [1.0, \"#f0f921\"]]}, \"colorway\": [\"#636efa\", \"#EF553B\", \"#00cc96\", \"#ab63fa\", \"#FFA15A\", \"#19d3f3\", \"#FF6692\", \"#B6E880\", \"#FF97FF\", \"#FECB52\"], \"font\": {\"color\": \"#2a3f5f\"}, \"geo\": {\"bgcolor\": \"white\", \"lakecolor\": \"white\", \"landcolor\": \"#E5ECF6\", \"showlakes\": true, \"showland\": true, \"subunitcolor\": \"white\"}, \"hoverlabel\": {\"align\": \"left\"}, \"hovermode\": \"closest\", \"mapbox\": {\"style\": \"light\"}, \"paper_bgcolor\": \"white\", \"plot_bgcolor\": \"#E5ECF6\", \"polar\": {\"angularaxis\": {\"gridcolor\": \"white\", \"linecolor\": \"white\", \"ticks\": \"\"}, \"bgcolor\": \"#E5ECF6\", \"radialaxis\": {\"gridcolor\": \"white\", \"linecolor\": \"white\", \"ticks\": \"\"}}, \"scene\": {\"xaxis\": {\"backgroundcolor\": \"#E5ECF6\", \"gridcolor\": \"white\", \"gridwidth\": 2, \"linecolor\": \"white\", \"showbackground\": true, \"ticks\": \"\", \"zerolinecolor\": \"white\"}, \"yaxis\": {\"backgroundcolor\": \"#E5ECF6\", \"gridcolor\": \"white\", \"gridwidth\": 2, \"linecolor\": \"white\", \"showbackground\": true, \"ticks\": \"\", \"zerolinecolor\": \"white\"}, \"zaxis\": {\"backgroundcolor\": \"#E5ECF6\", \"gridcolor\": \"white\", \"gridwidth\": 2, \"linecolor\": \"white\", \"showbackground\": true, \"ticks\": \"\", \"zerolinecolor\": \"white\"}}, \"shapedefaults\": {\"line\": {\"color\": \"#2a3f5f\"}}, \"ternary\": {\"aaxis\": {\"gridcolor\": \"white\", \"linecolor\": \"white\", \"ticks\": \"\"}, \"baxis\": {\"gridcolor\": \"white\", \"linecolor\": \"white\", \"ticks\": \"\"}, \"bgcolor\": \"#E5ECF6\", \"caxis\": {\"gridcolor\": \"white\", \"linecolor\": \"white\", \"ticks\": \"\"}}, \"title\": {\"x\": 0.05}, \"xaxis\": {\"automargin\": true, \"gridcolor\": \"white\", \"linecolor\": \"white\", \"ticks\": \"\", \"title\": {\"standoff\": 15}, \"zerolinecolor\": \"white\", \"zerolinewidth\": 2}, \"yaxis\": {\"automargin\": true, \"gridcolor\": \"white\", \"linecolor\": \"white\", \"ticks\": \"\", \"title\": {\"standoff\": 15}, \"zerolinecolor\": \"white\", \"zerolinewidth\": 2}}}, \"title\": {\"text\": \"Average Price by Deal\"}, \"xaxis\": {\"title\": {\"text\": \"Type of Deal\"}}, \"yaxis\": {\"title\": {\"text\": \"Average Price\"}}},                        {\"responsive\": true}                    ).then(function(){\n",
       "                            \n",
       "var gd = document.getElementById('7490d146-7509-4242-ab01-f1f9a548f7f1');\n",
       "var x = new MutationObserver(function (mutations, observer) {{\n",
       "        var display = window.getComputedStyle(gd).display;\n",
       "        if (!display || display === 'none') {{\n",
       "            console.log([gd, 'removed!']);\n",
       "            Plotly.purge(gd);\n",
       "            observer.disconnect();\n",
       "        }}\n",
       "}});\n",
       "\n",
       "// Listen for the removal of the full notebook cells\n",
       "var notebookContainer = gd.closest('#notebook-container');\n",
       "if (notebookContainer) {{\n",
       "    x.observe(notebookContainer, {childList: true});\n",
       "}}\n",
       "\n",
       "// Listen for the clearing of the current output cell\n",
       "var outputEl = gd.closest('.output');\n",
       "if (outputEl) {{\n",
       "    x.observe(outputEl, {childList: true});\n",
       "}}\n",
       "\n",
       "                        })                };                });            </script>        </div>"
      ]
     },
     "metadata": {},
     "output_type": "display_data"
    }
   ],
   "source": [
    "mean_prices = df.groupby('Badge Label')['Price'].mean().reset_index()\n",
    "\n",
    "mean_prices['Price'] = mean_prices['Price'].apply(lambda x: round(x, 2))\n",
    "\n",
    "bar_chart = go.Figure()\n",
    "\n",
    "bar_chart.add_trace(\n",
    "    go.Bar(\n",
    "        x=mean_prices['Badge Label'],\n",
    "        y=mean_prices['Price'],\n",
    "        text=mean_prices['Price'],\n",
    "        textposition='auto',  \n",
    "    )\n",
    ")\n",
    "\n",
    "bar_chart.update_layout(\n",
    "    title='Average Price by Deal',\n",
    "    xaxis_title='Type of Deal',\n",
    "    yaxis_title='Average Price',\n",
    ")\n",
    "\n",
    "bar_chart.show()\n"
   ]
  },
  {
   "cell_type": "code",
   "execution_count": 13,
   "id": "fd510328",
   "metadata": {},
   "outputs": [
    {
     "data": {
      "text/plain": [
       "Index(['Car Name', 'Mileage', 'Dealer Name', 'Dealer Rating', 'Review Count',\n",
       "       'Price', 'Badge Label', 'Car Rating', 'Car Reviews',\n",
       "       'Accidents or damage', '1-owner vehicle', 'Personal use only',\n",
       "       'Open recall', 'Exterior color', 'Interior color', 'Drivetrain', 'MPG',\n",
       "       'Fuel type', 'Transmission', 'Engine', 'VIN', 'Year', 'Make', 'Model',\n",
       "       'Type'],\n",
       "      dtype='object')"
      ]
     },
     "execution_count": 13,
     "metadata": {},
     "output_type": "execute_result"
    }
   ],
   "source": [
    "df.columns"
   ]
  },
  {
   "cell_type": "code",
   "execution_count": null,
   "id": "22903cd7",
   "metadata": {},
   "outputs": [],
   "source": []
  }
 ],
 "metadata": {
  "kernelspec": {
   "display_name": "Python (learn-env)",
   "language": "python",
   "name": "learn-env"
  },
  "language_info": {
   "codemirror_mode": {
    "name": "ipython",
    "version": 3
   },
   "file_extension": ".py",
   "mimetype": "text/x-python",
   "name": "python",
   "nbconvert_exporter": "python",
   "pygments_lexer": "ipython3",
   "version": "3.8.5"
  }
 },
 "nbformat": 4,
 "nbformat_minor": 5
}
