{
 "cells": [
  {
   "cell_type": "code",
   "execution_count": 64,
   "metadata": {},
   "outputs": [],
   "source": [
    "import pandas as pd\n",
    "from sklearn.model_selection import train_test_split, GridSearchCV\n",
    "from sklearn.pipeline import Pipeline\n",
    "from sklearn.preprocessing import StandardScaler\n",
    "from sklearn.ensemble import GradientBoostingRegressor\n",
    "from sklearn.linear_model import LinearRegression\n",
    "from sklearn.metrics import mean_squared_error, r2_score\n",
    "from sklearn.ensemble import RandomForestRegressor\n",
    "from sklearn.linear_model import LogisticRegression\n",
    "from sklearn.model_selection import RandomizedSearchCV\n",
    "from math import sqrt\n",
    "import xgboost as xgb"
   ]
  },
  {
   "cell_type": "code",
   "execution_count": 2,
   "metadata": {},
   "outputs": [],
   "source": [
    "df = pd.read_csv('/Users/mahmoud/Car_Price_Prediction/car_data_cleaned_updated.csv')"
   ]
  },
  {
   "cell_type": "code",
   "execution_count": 3,
   "metadata": {},
   "outputs": [],
   "source": [
    "df = df.drop(columns=['Unnamed: 0'])"
   ]
  },
  {
   "cell_type": "code",
   "execution_count": 4,
   "metadata": {},
   "outputs": [
    {
     "data": {
      "text/html": [
       "<div>\n",
       "<style scoped>\n",
       "    .dataframe tbody tr th:only-of-type {\n",
       "        vertical-align: middle;\n",
       "    }\n",
       "\n",
       "    .dataframe tbody tr th {\n",
       "        vertical-align: top;\n",
       "    }\n",
       "\n",
       "    .dataframe thead th {\n",
       "        text-align: right;\n",
       "    }\n",
       "</style>\n",
       "<table border=\"1\" class=\"dataframe\">\n",
       "  <thead>\n",
       "    <tr style=\"text-align: right;\">\n",
       "      <th></th>\n",
       "      <th>Name</th>\n",
       "      <th>Mileage</th>\n",
       "      <th>Dealer Name</th>\n",
       "      <th>Rating</th>\n",
       "      <th>Review Count</th>\n",
       "      <th>Price</th>\n",
       "      <th>Year</th>\n",
       "      <th>Make</th>\n",
       "      <th>Model</th>\n",
       "      <th>Type</th>\n",
       "    </tr>\n",
       "  </thead>\n",
       "  <tbody>\n",
       "    <tr>\n",
       "      <th>0</th>\n",
       "      <td>2015 Ford C-Max Hybrid SEL</td>\n",
       "      <td>88,380 mi.</td>\n",
       "      <td>Capitol Kia</td>\n",
       "      <td>3.800000</td>\n",
       "      <td>(180 reviews)</td>\n",
       "      <td>10998.0</td>\n",
       "      <td>2015</td>\n",
       "      <td>Ford</td>\n",
       "      <td>C-Max</td>\n",
       "      <td>Hybrid SEL</td>\n",
       "    </tr>\n",
       "    <tr>\n",
       "      <th>1</th>\n",
       "      <td>2016 Kia Sorento LX</td>\n",
       "      <td>100,837 mi.</td>\n",
       "      <td>Napleton Mazda of Naperville</td>\n",
       "      <td>3.900000</td>\n",
       "      <td>(115 reviews)</td>\n",
       "      <td>12577.0</td>\n",
       "      <td>2016</td>\n",
       "      <td>Kia</td>\n",
       "      <td>Sorento</td>\n",
       "      <td>LX</td>\n",
       "    </tr>\n",
       "    <tr>\n",
       "      <th>2</th>\n",
       "      <td>2016 Mitsubishi Lancer ES</td>\n",
       "      <td>133,750 mi.</td>\n",
       "      <td>AVA Auto Sales</td>\n",
       "      <td>4.140821</td>\n",
       "      <td>(8 reviews)</td>\n",
       "      <td>8495.0</td>\n",
       "      <td>2016</td>\n",
       "      <td>Mitsubishi</td>\n",
       "      <td>Lancer</td>\n",
       "      <td>ES</td>\n",
       "    </tr>\n",
       "    <tr>\n",
       "      <th>3</th>\n",
       "      <td>2011 Ford Escape XLT</td>\n",
       "      <td>110,862 mi.</td>\n",
       "      <td>94 Nissan Of South Holland</td>\n",
       "      <td>4.700000</td>\n",
       "      <td>(2,682 reviews)</td>\n",
       "      <td>7869.0</td>\n",
       "      <td>2011</td>\n",
       "      <td>Ford</td>\n",
       "      <td>Escape</td>\n",
       "      <td>XLT</td>\n",
       "    </tr>\n",
       "    <tr>\n",
       "      <th>4</th>\n",
       "      <td>2017 Dodge Journey SXT</td>\n",
       "      <td>58,595 mi.</td>\n",
       "      <td>Lithia Chrysler Jeep Dodge Ram of Wasilla</td>\n",
       "      <td>4.600000</td>\n",
       "      <td>(543 reviews)</td>\n",
       "      <td>14888.0</td>\n",
       "      <td>2017</td>\n",
       "      <td>Dodge</td>\n",
       "      <td>Journey</td>\n",
       "      <td>SXT</td>\n",
       "    </tr>\n",
       "  </tbody>\n",
       "</table>\n",
       "</div>"
      ],
      "text/plain": [
       "                         Name      Mileage  \\\n",
       "0  2015 Ford C-Max Hybrid SEL   88,380 mi.   \n",
       "1         2016 Kia Sorento LX  100,837 mi.   \n",
       "2   2016 Mitsubishi Lancer ES  133,750 mi.   \n",
       "3        2011 Ford Escape XLT  110,862 mi.   \n",
       "4      2017 Dodge Journey SXT   58,595 mi.   \n",
       "\n",
       "                                 Dealer Name    Rating     Review Count  \\\n",
       "0                                Capitol Kia  3.800000    (180 reviews)   \n",
       "1               Napleton Mazda of Naperville  3.900000    (115 reviews)   \n",
       "2                             AVA Auto Sales  4.140821      (8 reviews)   \n",
       "3                 94 Nissan Of South Holland  4.700000  (2,682 reviews)   \n",
       "4  Lithia Chrysler Jeep Dodge Ram of Wasilla  4.600000    (543 reviews)   \n",
       "\n",
       "     Price  Year        Make    Model        Type  \n",
       "0  10998.0  2015        Ford    C-Max  Hybrid SEL  \n",
       "1  12577.0  2016         Kia  Sorento          LX  \n",
       "2   8495.0  2016  Mitsubishi   Lancer          ES  \n",
       "3   7869.0  2011        Ford   Escape         XLT  \n",
       "4  14888.0  2017       Dodge  Journey         SXT  "
      ]
     },
     "execution_count": 4,
     "metadata": {},
     "output_type": "execute_result"
    }
   ],
   "source": [
    "df.head()"
   ]
  },
  {
   "cell_type": "code",
   "execution_count": 5,
   "metadata": {},
   "outputs": [
    {
     "name": "stdout",
     "output_type": "stream",
     "text": [
      "0         88380\n",
      "1        100837\n",
      "2        133750\n",
      "3        110862\n",
      "4         58595\n",
      "          ...  \n",
      "10033    158598\n",
      "10034    113581\n",
      "10035    197496\n",
      "10036     85384\n",
      "10037    133800\n",
      "Name: Mileage, Length: 10038, dtype: int64\n"
     ]
    }
   ],
   "source": [
    "# Having the mileage column in float rather than string\n",
    "\n",
    "df['Mileage'] = df['Mileage'].str.replace(' mi.', '').str.replace(',', '')\n",
    "df['Mileage'] = pd.to_numeric(df['Mileage'], errors='coerce')\n",
    "print(df['Mileage'])"
   ]
  },
  {
   "cell_type": "code",
   "execution_count": 6,
   "metadata": {},
   "outputs": [
    {
     "name": "stdout",
     "output_type": "stream",
     "text": [
      "0         180.0\n",
      "1         115.0\n",
      "2           8.0\n",
      "3        2682.0\n",
      "4         543.0\n",
      "          ...  \n",
      "10033       1.0\n",
      "10034    1074.0\n",
      "10035      29.0\n",
      "10036       7.0\n",
      "10037      25.0\n",
      "Name: Review Count, Length: 10038, dtype: float64\n"
     ]
    }
   ],
   "source": [
    "# Having Review count to float\n",
    "df['Review Count'] = df['Review Count'].str.replace(r'\\D', '', regex=True).astype(float)\n",
    "print(df['Review Count'])"
   ]
  },
  {
   "cell_type": "code",
   "execution_count": null,
   "metadata": {},
   "outputs": [],
   "source": []
  },
  {
   "cell_type": "code",
   "execution_count": null,
   "metadata": {},
   "outputs": [],
   "source": []
  },
  {
   "cell_type": "code",
   "execution_count": null,
   "metadata": {},
   "outputs": [],
   "source": []
  },
  {
   "cell_type": "code",
   "execution_count": 7,
   "metadata": {},
   "outputs": [],
   "source": [
    "X = df[['Mileage', 'Rating', 'Review Count', 'Year']]\n",
    "y = df['Price']\n",
    "\n",
    "X_train, X_test, y_train, y_test = train_test_split(X, y, test_size=0.2, random_state=42)"
   ]
  },
  {
   "cell_type": "code",
   "execution_count": 10,
   "metadata": {},
   "outputs": [
    {
     "data": {
      "text/plain": [
       "Pipeline(steps=[('scaler', StandardScaler()),\n",
       "                ('model', RandomForestRegressor())])"
      ]
     },
     "execution_count": 10,
     "metadata": {},
     "output_type": "execute_result"
    }
   ],
   "source": [
    "rf_reg_pipeline = Pipeline(steps=[('scaler', StandardScaler()), ('model', RandomForestRegressor())])\n",
    "rf_reg_pipeline.fit(X_train, y_train)"
   ]
  },
  {
   "cell_type": "code",
   "execution_count": 11,
   "metadata": {},
   "outputs": [],
   "source": [
    "y_pred_rf = rf_reg_pipeline.predict(X_test)"
   ]
  },
  {
   "cell_type": "code",
   "execution_count": 12,
   "metadata": {},
   "outputs": [
    {
     "name": "stdout",
     "output_type": "stream",
     "text": [
      "2545.087730698955\n",
      "0.22724433007707556\n"
     ]
    }
   ],
   "source": [
    "rmse_rf = mean_squared_error(y_test, y_pred_rf, squared=False)\n",
    "r2_rf = r2_score(y_test, y_pred_rf)\n",
    "print(rmse_rf)\n",
    "print(r2_rf)"
   ]
  },
  {
   "cell_type": "markdown",
   "metadata": {},
   "source": [
    "- Very similar to the one without the updated cleaned data"
   ]
  },
  {
   "cell_type": "code",
   "execution_count": null,
   "metadata": {},
   "outputs": [],
   "source": []
  },
  {
   "cell_type": "code",
   "execution_count": null,
   "metadata": {},
   "outputs": [],
   "source": []
  },
  {
   "cell_type": "code",
   "execution_count": null,
   "metadata": {},
   "outputs": [],
   "source": []
  },
  {
   "cell_type": "markdown",
   "metadata": {},
   "source": [
    "# Tuned"
   ]
  },
  {
   "cell_type": "code",
   "execution_count": 13,
   "metadata": {},
   "outputs": [],
   "source": [
    "X = df[['Mileage', 'Rating', 'Review Count', 'Year']]\n",
    "y = df['Price']\n",
    "\n",
    "X_train, X_test, y_train, y_test = train_test_split(X, y, test_size=0.2, random_state=42)"
   ]
  },
  {
   "cell_type": "code",
   "execution_count": 14,
   "metadata": {},
   "outputs": [],
   "source": [
    "rf_reg_pipeline = Pipeline(steps=[('scaler', StandardScaler()), ('model', RandomForestRegressor())])\n",
    "\n",
    "param_dist = {\n",
    "    'model__n_estimators': [100, 200, 300, 400, 500],  # Number of trees in the forest\n",
    "    'model__max_features': ['auto', 'sqrt'],  # Number of features to consider at each split\n",
    "    'model__max_depth': [None, 10, 20, 30, 40, 50],  # Maximum depth of the tree\n",
    "    'model__min_samples_split': [2, 5, 10],  # Minimum number of samples required to split an internal node\n",
    "    'model__min_samples_leaf': [1, 2, 4]  # Minimum number of samples required to be at a leaf node\n",
    "}"
   ]
  },
  {
   "cell_type": "code",
   "execution_count": 17,
   "metadata": {},
   "outputs": [
    {
     "data": {
      "text/plain": [
       "RandomizedSearchCV(cv=5,\n",
       "                   estimator=Pipeline(steps=[('scaler', StandardScaler()),\n",
       "                                             ('model',\n",
       "                                              RandomForestRegressor())]),\n",
       "                   param_distributions={'model__max_depth': [None, 10, 20, 30,\n",
       "                                                             40, 50],\n",
       "                                        'model__max_features': ['auto', 'sqrt'],\n",
       "                                        'model__min_samples_leaf': [1, 2, 4],\n",
       "                                        'model__min_samples_split': [2, 5, 10],\n",
       "                                        'model__n_estimators': [100, 200, 300,\n",
       "                                                                400, 500]},\n",
       "                   random_state=42)"
      ]
     },
     "execution_count": 17,
     "metadata": {},
     "output_type": "execute_result"
    }
   ],
   "source": [
    "# Perform Randomized Search Cross-Validation\n",
    "random_search = RandomizedSearchCV(rf_reg_pipeline, param_distributions=param_dist, n_iter=10, cv=5, random_state=42)\n",
    "random_search.fit(X_train, y_train)"
   ]
  },
  {
   "cell_type": "code",
   "execution_count": 18,
   "metadata": {},
   "outputs": [
    {
     "name": "stdout",
     "output_type": "stream",
     "text": [
      "Best Hyperparameters: {'model__n_estimators': 200, 'model__min_samples_split': 10, 'model__min_samples_leaf': 4, 'model__max_features': 'sqrt', 'model__max_depth': None}\n"
     ]
    }
   ],
   "source": [
    "best_params = random_search.best_params_\n",
    "print(\"Best Hyperparameters:\", best_params)"
   ]
  },
  {
   "cell_type": "code",
   "execution_count": 19,
   "metadata": {},
   "outputs": [],
   "source": [
    "best_model = random_search.best_estimator_\n",
    "y_pred_rf = best_model.predict(X_test)"
   ]
  },
  {
   "cell_type": "code",
   "execution_count": 20,
   "metadata": {},
   "outputs": [
    {
     "name": "stdout",
     "output_type": "stream",
     "text": [
      "RMSE: 2463.3452599088214\n",
      "R-squared: 0.27608552875511805\n"
     ]
    }
   ],
   "source": [
    "rmse_rf = mean_squared_error(y_test, y_pred_rf, squared=False)\n",
    "r2_rf = r2_score(y_test, y_pred_rf)\n",
    "print(\"RMSE:\", rmse_rf)\n",
    "print(\"R-squared:\", r2_rf)"
   ]
  },
  {
   "cell_type": "code",
   "execution_count": null,
   "metadata": {},
   "outputs": [],
   "source": []
  },
  {
   "cell_type": "code",
   "execution_count": null,
   "metadata": {},
   "outputs": [],
   "source": []
  },
  {
   "cell_type": "code",
   "execution_count": null,
   "metadata": {},
   "outputs": [],
   "source": []
  },
  {
   "cell_type": "code",
   "execution_count": null,
   "metadata": {},
   "outputs": [],
   "source": []
  },
  {
   "cell_type": "code",
   "execution_count": null,
   "metadata": {},
   "outputs": [],
   "source": []
  },
  {
   "cell_type": "code",
   "execution_count": 21,
   "metadata": {},
   "outputs": [],
   "source": [
    "X = df[['Mileage', 'Rating', 'Review Count', 'Year']]\n",
    "y = df['Price']\n",
    "\n",
    "X_train, X_test, y_train, y_test = train_test_split(X, y, test_size=0.2, random_state=42)"
   ]
  },
  {
   "cell_type": "code",
   "execution_count": 22,
   "metadata": {},
   "outputs": [],
   "source": [
    "gb_reg_pipeline = Pipeline(steps=[('scaler', StandardScaler()), ('model', GradientBoostingRegressor())])\n",
    "param_grid = {\n",
    "    'model__n_estimators': [100, 200, 300, 400, 500],  \n",
    "    'model__learning_rate': [0.01, 0.05, 0.1, 0.2], \n",
    "    'model__max_depth': [3, 4, 5, 6],  \n",
    "}"
   ]
  },
  {
   "cell_type": "code",
   "execution_count": 23,
   "metadata": {},
   "outputs": [
    {
     "data": {
      "text/plain": [
       "GridSearchCV(cv=5,\n",
       "             estimator=Pipeline(steps=[('scaler', StandardScaler()),\n",
       "                                       ('model', GradientBoostingRegressor())]),\n",
       "             param_grid={'model__learning_rate': [0.01, 0.05, 0.1, 0.2],\n",
       "                         'model__max_depth': [3, 4, 5, 6],\n",
       "                         'model__n_estimators': [100, 200, 300, 400, 500]})"
      ]
     },
     "execution_count": 23,
     "metadata": {},
     "output_type": "execute_result"
    }
   ],
   "source": [
    "grid_search = GridSearchCV(gb_reg_pipeline, param_grid=param_grid, cv=5)\n",
    "grid_search.fit(X_train, y_train)"
   ]
  },
  {
   "cell_type": "code",
   "execution_count": 24,
   "metadata": {},
   "outputs": [
    {
     "name": "stdout",
     "output_type": "stream",
     "text": [
      "Best Hyperparameters (Gradient Boosting): {'model__learning_rate': 0.05, 'model__max_depth': 3, 'model__n_estimators': 100}\n"
     ]
    }
   ],
   "source": [
    "best_params_gb = grid_search.best_params_\n",
    "print(\"Best Hyperparameters (Gradient Boosting):\", best_params_gb)"
   ]
  },
  {
   "cell_type": "code",
   "execution_count": 25,
   "metadata": {},
   "outputs": [],
   "source": [
    "best_model_gb = grid_search.best_estimator_\n",
    "y_pred_gb = best_model_gb.predict(X_test)"
   ]
  },
  {
   "cell_type": "code",
   "execution_count": 26,
   "metadata": {},
   "outputs": [
    {
     "name": "stdout",
     "output_type": "stream",
     "text": [
      "Root Mean Squared Error: 2444.200368748819\n",
      "R-squared: 0.2872941948960699\n"
     ]
    }
   ],
   "source": [
    "rmse_gb = mean_squared_error(y_test, y_pred_gb, squared=False)\n",
    "r2_gb = r2_score(y_test, y_pred_gb)\n",
    "\n",
    "print(\"Root Mean Squared Error:\", rmse_gb)\n",
    "print(\"R-squared:\", r2_gb)"
   ]
  },
  {
   "cell_type": "code",
   "execution_count": null,
   "metadata": {},
   "outputs": [],
   "source": []
  },
  {
   "cell_type": "code",
   "execution_count": null,
   "metadata": {},
   "outputs": [],
   "source": []
  },
  {
   "cell_type": "code",
   "execution_count": null,
   "metadata": {},
   "outputs": [],
   "source": []
  },
  {
   "cell_type": "code",
   "execution_count": null,
   "metadata": {},
   "outputs": [],
   "source": []
  },
  {
   "cell_type": "code",
   "execution_count": 27,
   "metadata": {},
   "outputs": [],
   "source": [
    "# Age column\n",
    "current_year = 2023\n",
    "df['Age'] = current_year - df['Year']"
   ]
  },
  {
   "cell_type": "code",
   "execution_count": 28,
   "metadata": {},
   "outputs": [
    {
     "data": {
      "text/html": [
       "<div>\n",
       "<style scoped>\n",
       "    .dataframe tbody tr th:only-of-type {\n",
       "        vertical-align: middle;\n",
       "    }\n",
       "\n",
       "    .dataframe tbody tr th {\n",
       "        vertical-align: top;\n",
       "    }\n",
       "\n",
       "    .dataframe thead th {\n",
       "        text-align: right;\n",
       "    }\n",
       "</style>\n",
       "<table border=\"1\" class=\"dataframe\">\n",
       "  <thead>\n",
       "    <tr style=\"text-align: right;\">\n",
       "      <th></th>\n",
       "      <th>Name</th>\n",
       "      <th>Mileage</th>\n",
       "      <th>Dealer Name</th>\n",
       "      <th>Rating</th>\n",
       "      <th>Review Count</th>\n",
       "      <th>Price</th>\n",
       "      <th>Year</th>\n",
       "      <th>Make</th>\n",
       "      <th>Model</th>\n",
       "      <th>Type</th>\n",
       "      <th>Age</th>\n",
       "    </tr>\n",
       "  </thead>\n",
       "  <tbody>\n",
       "    <tr>\n",
       "      <th>0</th>\n",
       "      <td>2015 Ford C-Max Hybrid SEL</td>\n",
       "      <td>88380</td>\n",
       "      <td>Capitol Kia</td>\n",
       "      <td>3.800000</td>\n",
       "      <td>180.0</td>\n",
       "      <td>10998.0</td>\n",
       "      <td>2015</td>\n",
       "      <td>Ford</td>\n",
       "      <td>C-Max</td>\n",
       "      <td>Hybrid SEL</td>\n",
       "      <td>8</td>\n",
       "    </tr>\n",
       "    <tr>\n",
       "      <th>1</th>\n",
       "      <td>2016 Kia Sorento LX</td>\n",
       "      <td>100837</td>\n",
       "      <td>Napleton Mazda of Naperville</td>\n",
       "      <td>3.900000</td>\n",
       "      <td>115.0</td>\n",
       "      <td>12577.0</td>\n",
       "      <td>2016</td>\n",
       "      <td>Kia</td>\n",
       "      <td>Sorento</td>\n",
       "      <td>LX</td>\n",
       "      <td>7</td>\n",
       "    </tr>\n",
       "    <tr>\n",
       "      <th>2</th>\n",
       "      <td>2016 Mitsubishi Lancer ES</td>\n",
       "      <td>133750</td>\n",
       "      <td>AVA Auto Sales</td>\n",
       "      <td>4.140821</td>\n",
       "      <td>8.0</td>\n",
       "      <td>8495.0</td>\n",
       "      <td>2016</td>\n",
       "      <td>Mitsubishi</td>\n",
       "      <td>Lancer</td>\n",
       "      <td>ES</td>\n",
       "      <td>7</td>\n",
       "    </tr>\n",
       "    <tr>\n",
       "      <th>3</th>\n",
       "      <td>2011 Ford Escape XLT</td>\n",
       "      <td>110862</td>\n",
       "      <td>94 Nissan Of South Holland</td>\n",
       "      <td>4.700000</td>\n",
       "      <td>2682.0</td>\n",
       "      <td>7869.0</td>\n",
       "      <td>2011</td>\n",
       "      <td>Ford</td>\n",
       "      <td>Escape</td>\n",
       "      <td>XLT</td>\n",
       "      <td>12</td>\n",
       "    </tr>\n",
       "    <tr>\n",
       "      <th>4</th>\n",
       "      <td>2017 Dodge Journey SXT</td>\n",
       "      <td>58595</td>\n",
       "      <td>Lithia Chrysler Jeep Dodge Ram of Wasilla</td>\n",
       "      <td>4.600000</td>\n",
       "      <td>543.0</td>\n",
       "      <td>14888.0</td>\n",
       "      <td>2017</td>\n",
       "      <td>Dodge</td>\n",
       "      <td>Journey</td>\n",
       "      <td>SXT</td>\n",
       "      <td>6</td>\n",
       "    </tr>\n",
       "  </tbody>\n",
       "</table>\n",
       "</div>"
      ],
      "text/plain": [
       "                         Name  Mileage  \\\n",
       "0  2015 Ford C-Max Hybrid SEL    88380   \n",
       "1         2016 Kia Sorento LX   100837   \n",
       "2   2016 Mitsubishi Lancer ES   133750   \n",
       "3        2011 Ford Escape XLT   110862   \n",
       "4      2017 Dodge Journey SXT    58595   \n",
       "\n",
       "                                 Dealer Name    Rating  Review Count    Price  \\\n",
       "0                                Capitol Kia  3.800000         180.0  10998.0   \n",
       "1               Napleton Mazda of Naperville  3.900000         115.0  12577.0   \n",
       "2                             AVA Auto Sales  4.140821           8.0   8495.0   \n",
       "3                 94 Nissan Of South Holland  4.700000        2682.0   7869.0   \n",
       "4  Lithia Chrysler Jeep Dodge Ram of Wasilla  4.600000         543.0  14888.0   \n",
       "\n",
       "   Year        Make    Model        Type  Age  \n",
       "0  2015        Ford    C-Max  Hybrid SEL    8  \n",
       "1  2016         Kia  Sorento          LX    7  \n",
       "2  2016  Mitsubishi   Lancer          ES    7  \n",
       "3  2011        Ford   Escape         XLT   12  \n",
       "4  2017       Dodge  Journey         SXT    6  "
      ]
     },
     "execution_count": 28,
     "metadata": {},
     "output_type": "execute_result"
    }
   ],
   "source": [
    "df.head()"
   ]
  },
  {
   "cell_type": "markdown",
   "metadata": {},
   "source": [
    "# Grid search after adding 'Age column'"
   ]
  },
  {
   "cell_type": "code",
   "execution_count": 34,
   "metadata": {},
   "outputs": [],
   "source": [
    "X = df[['Mileage', 'Rating', 'Review Count', 'Year', 'Age']]\n",
    "y = df['Price']\n",
    "\n",
    "X_train, X_test, y_train, y_test = train_test_split(X, y, test_size=0.2, random_state=42)"
   ]
  },
  {
   "cell_type": "code",
   "execution_count": 35,
   "metadata": {},
   "outputs": [],
   "source": [
    "rf = RandomForestRegressor()\n",
    "param_grid = {\n",
    "    'n_estimators': [100, 200, 300],\n",
    "    'max_depth': [None, 10, 20],\n",
    "    'min_samples_split': [2, 5, 10],\n",
    "    'min_samples_leaf': [1, 2, 4],\n",
    "    'max_features': ['auto', 'sqrt', 'log2']\n",
    "}"
   ]
  },
  {
   "cell_type": "code",
   "execution_count": 45,
   "metadata": {},
   "outputs": [
    {
     "data": {
      "text/plain": [
       "GridSearchCV(cv=5, estimator=RandomForestRegressor(), n_jobs=-1,\n",
       "             param_grid={'max_depth': [None, 10, 20],\n",
       "                         'max_features': ['auto', 'sqrt', 'log2'],\n",
       "                         'min_samples_leaf': [1, 2, 4],\n",
       "                         'min_samples_split': [2, 5, 10],\n",
       "                         'n_estimators': [100, 200, 300]})"
      ]
     },
     "execution_count": 45,
     "metadata": {},
     "output_type": "execute_result"
    }
   ],
   "source": [
    "grid_search = GridSearchCV(estimator=rf, param_grid=param_grid, cv=5, n_jobs=-1)\n",
    "grid_search.fit(X_train, y_train)"
   ]
  },
  {
   "cell_type": "code",
   "execution_count": 46,
   "metadata": {},
   "outputs": [],
   "source": [
    "best_params = grid_search.best_params_\n",
    "gb_reg = grid_search.best_estimator_\n",
    "y_pred = gb_reg.predict(X_test)"
   ]
  },
  {
   "cell_type": "code",
   "execution_count": 47,
   "metadata": {},
   "outputs": [
    {
     "name": "stdout",
     "output_type": "stream",
     "text": [
      "Best Hyperparameters: {'max_depth': 10, 'max_features': 'log2', 'min_samples_leaf': 1, 'min_samples_split': 5, 'n_estimators': 200}\n",
      "Root Mean Squared Error: 2427.3575929656877\n",
      "R-squared: 0.2970827418183767\n"
     ]
    }
   ],
   "source": [
    "rmse = sqrt(mean_squared_error(y_test, y_pred))\n",
    "r_squared = gb_reg.score(X_test, y_test)\n",
    "\n",
    "print(\"Best Hyperparameters:\", best_params)\n",
    "print(\"Root Mean Squared Error:\", rmse)\n",
    "print(\"R-squared:\", r_squared)"
   ]
  },
  {
   "cell_type": "markdown",
   "metadata": {},
   "source": [
    "# Best one yet"
   ]
  },
  {
   "cell_type": "code",
   "execution_count": null,
   "metadata": {},
   "outputs": [],
   "source": []
  },
  {
   "cell_type": "code",
   "execution_count": null,
   "metadata": {},
   "outputs": [],
   "source": []
  },
  {
   "cell_type": "code",
   "execution_count": null,
   "metadata": {},
   "outputs": [],
   "source": []
  },
  {
   "cell_type": "code",
   "execution_count": null,
   "metadata": {},
   "outputs": [],
   "source": []
  },
  {
   "cell_type": "code",
   "execution_count": null,
   "metadata": {},
   "outputs": [],
   "source": []
  },
  {
   "cell_type": "code",
   "execution_count": null,
   "metadata": {},
   "outputs": [],
   "source": []
  },
  {
   "cell_type": "code",
   "execution_count": null,
   "metadata": {},
   "outputs": [],
   "source": []
  },
  {
   "cell_type": "code",
   "execution_count": 49,
   "metadata": {},
   "outputs": [
    {
     "name": "stdout",
     "output_type": "stream",
     "text": [
      "Best XGBoost Regressor (with Hyperparameter Tuning):\n",
      "Root Mean Squared Error: 2445.077051842308\n",
      "R-squared: 0.28678283814126715\n"
     ]
    }
   ],
   "source": [
    "\n",
    "X = df[['Mileage', 'Rating', 'Review Count', 'Year', 'Age']]\n",
    "y = df['Price']\n",
    "X_train, X_test, y_train, y_test = train_test_split(X, y, test_size=0.2, random_state=42)\n",
    "\n",
    "xgb_reg = XGBRegressor()\n",
    "param_grid = {\n",
    "    'learning_rate': [0.01, 0.05, 0.1],\n",
    "    'max_depth': [3, 5, 7],\n",
    "    'n_estimators': [100, 200, 300],\n",
    "    'reg_alpha': [0, 0.01, 0.1],\n",
    "    'reg_lambda': [0, 0.01, 0.1],\n",
    "}\n",
    "\n",
    "grid_search = GridSearchCV(estimator=xgb_reg, param_grid=param_grid, cv=5, scoring='neg_mean_squared_error')\n",
    "grid_search.fit(X_train, y_train)\n",
    "\n",
    "best_xgb_reg = grid_search.best_estimator_\n",
    "y_pred_xgb = best_xgb_reg.predict(X_test)\n",
    "\n",
    "rmse_xgb = sqrt(mean_squared_error(y_test, y_pred_xgb))\n",
    "r_squared_xgb = r2_score(y_test, y_pred_xgb)\n",
    "\n",
    "print(\"RMSE:\", rmse_xgb)\n",
    "print(\"R-squared:\", r_squared_xgb)\n"
   ]
  },
  {
   "cell_type": "code",
   "execution_count": null,
   "metadata": {},
   "outputs": [],
   "source": []
  },
  {
   "cell_type": "code",
   "execution_count": null,
   "metadata": {},
   "outputs": [],
   "source": []
  },
  {
   "cell_type": "code",
   "execution_count": null,
   "metadata": {},
   "outputs": [],
   "source": []
  },
  {
   "cell_type": "code",
   "execution_count": null,
   "metadata": {},
   "outputs": [],
   "source": []
  },
  {
   "cell_type": "code",
   "execution_count": null,
   "metadata": {},
   "outputs": [],
   "source": []
  },
  {
   "cell_type": "code",
   "execution_count": null,
   "metadata": {},
   "outputs": [],
   "source": []
  },
  {
   "cell_type": "code",
   "execution_count": 50,
   "metadata": {},
   "outputs": [
    {
     "data": {
      "text/html": [
       "<div>\n",
       "<style scoped>\n",
       "    .dataframe tbody tr th:only-of-type {\n",
       "        vertical-align: middle;\n",
       "    }\n",
       "\n",
       "    .dataframe tbody tr th {\n",
       "        vertical-align: top;\n",
       "    }\n",
       "\n",
       "    .dataframe thead th {\n",
       "        text-align: right;\n",
       "    }\n",
       "</style>\n",
       "<table border=\"1\" class=\"dataframe\">\n",
       "  <thead>\n",
       "    <tr style=\"text-align: right;\">\n",
       "      <th></th>\n",
       "      <th>Name</th>\n",
       "      <th>Mileage</th>\n",
       "      <th>Dealer Name</th>\n",
       "      <th>Rating</th>\n",
       "      <th>Review Count</th>\n",
       "      <th>Price</th>\n",
       "      <th>Year</th>\n",
       "      <th>Make</th>\n",
       "      <th>Model</th>\n",
       "      <th>Type</th>\n",
       "      <th>Age</th>\n",
       "    </tr>\n",
       "  </thead>\n",
       "  <tbody>\n",
       "    <tr>\n",
       "      <th>0</th>\n",
       "      <td>2015 Ford C-Max Hybrid SEL</td>\n",
       "      <td>88380</td>\n",
       "      <td>Capitol Kia</td>\n",
       "      <td>3.800000</td>\n",
       "      <td>180.0</td>\n",
       "      <td>10998.0</td>\n",
       "      <td>2015</td>\n",
       "      <td>Ford</td>\n",
       "      <td>C-Max</td>\n",
       "      <td>Hybrid SEL</td>\n",
       "      <td>8</td>\n",
       "    </tr>\n",
       "    <tr>\n",
       "      <th>1</th>\n",
       "      <td>2016 Kia Sorento LX</td>\n",
       "      <td>100837</td>\n",
       "      <td>Napleton Mazda of Naperville</td>\n",
       "      <td>3.900000</td>\n",
       "      <td>115.0</td>\n",
       "      <td>12577.0</td>\n",
       "      <td>2016</td>\n",
       "      <td>Kia</td>\n",
       "      <td>Sorento</td>\n",
       "      <td>LX</td>\n",
       "      <td>7</td>\n",
       "    </tr>\n",
       "    <tr>\n",
       "      <th>2</th>\n",
       "      <td>2016 Mitsubishi Lancer ES</td>\n",
       "      <td>133750</td>\n",
       "      <td>AVA Auto Sales</td>\n",
       "      <td>4.140821</td>\n",
       "      <td>8.0</td>\n",
       "      <td>8495.0</td>\n",
       "      <td>2016</td>\n",
       "      <td>Mitsubishi</td>\n",
       "      <td>Lancer</td>\n",
       "      <td>ES</td>\n",
       "      <td>7</td>\n",
       "    </tr>\n",
       "    <tr>\n",
       "      <th>3</th>\n",
       "      <td>2011 Ford Escape XLT</td>\n",
       "      <td>110862</td>\n",
       "      <td>94 Nissan Of South Holland</td>\n",
       "      <td>4.700000</td>\n",
       "      <td>2682.0</td>\n",
       "      <td>7869.0</td>\n",
       "      <td>2011</td>\n",
       "      <td>Ford</td>\n",
       "      <td>Escape</td>\n",
       "      <td>XLT</td>\n",
       "      <td>12</td>\n",
       "    </tr>\n",
       "    <tr>\n",
       "      <th>4</th>\n",
       "      <td>2017 Dodge Journey SXT</td>\n",
       "      <td>58595</td>\n",
       "      <td>Lithia Chrysler Jeep Dodge Ram of Wasilla</td>\n",
       "      <td>4.600000</td>\n",
       "      <td>543.0</td>\n",
       "      <td>14888.0</td>\n",
       "      <td>2017</td>\n",
       "      <td>Dodge</td>\n",
       "      <td>Journey</td>\n",
       "      <td>SXT</td>\n",
       "      <td>6</td>\n",
       "    </tr>\n",
       "  </tbody>\n",
       "</table>\n",
       "</div>"
      ],
      "text/plain": [
       "                         Name  Mileage  \\\n",
       "0  2015 Ford C-Max Hybrid SEL    88380   \n",
       "1         2016 Kia Sorento LX   100837   \n",
       "2   2016 Mitsubishi Lancer ES   133750   \n",
       "3        2011 Ford Escape XLT   110862   \n",
       "4      2017 Dodge Journey SXT    58595   \n",
       "\n",
       "                                 Dealer Name    Rating  Review Count    Price  \\\n",
       "0                                Capitol Kia  3.800000         180.0  10998.0   \n",
       "1               Napleton Mazda of Naperville  3.900000         115.0  12577.0   \n",
       "2                             AVA Auto Sales  4.140821           8.0   8495.0   \n",
       "3                 94 Nissan Of South Holland  4.700000        2682.0   7869.0   \n",
       "4  Lithia Chrysler Jeep Dodge Ram of Wasilla  4.600000         543.0  14888.0   \n",
       "\n",
       "   Year        Make    Model        Type  Age  \n",
       "0  2015        Ford    C-Max  Hybrid SEL    8  \n",
       "1  2016         Kia  Sorento          LX    7  \n",
       "2  2016  Mitsubishi   Lancer          ES    7  \n",
       "3  2011        Ford   Escape         XLT   12  \n",
       "4  2017       Dodge  Journey         SXT    6  "
      ]
     },
     "execution_count": 50,
     "metadata": {},
     "output_type": "execute_result"
    }
   ],
   "source": [
    "df.head()"
   ]
  },
  {
   "cell_type": "code",
   "execution_count": 51,
   "metadata": {},
   "outputs": [
    {
     "data": {
      "text/html": [
       "<div>\n",
       "<style scoped>\n",
       "    .dataframe tbody tr th:only-of-type {\n",
       "        vertical-align: middle;\n",
       "    }\n",
       "\n",
       "    .dataframe tbody tr th {\n",
       "        vertical-align: top;\n",
       "    }\n",
       "\n",
       "    .dataframe thead th {\n",
       "        text-align: right;\n",
       "    }\n",
       "</style>\n",
       "<table border=\"1\" class=\"dataframe\">\n",
       "  <thead>\n",
       "    <tr style=\"text-align: right;\">\n",
       "      <th></th>\n",
       "      <th>Name</th>\n",
       "      <th>Mileage</th>\n",
       "      <th>Dealer Name</th>\n",
       "      <th>Rating</th>\n",
       "      <th>Review Count</th>\n",
       "      <th>Price</th>\n",
       "      <th>Year</th>\n",
       "      <th>Type</th>\n",
       "      <th>Age</th>\n",
       "      <th>Make_Acura</th>\n",
       "      <th>...</th>\n",
       "      <th>Model_Zephyr</th>\n",
       "      <th>Model_allroad</th>\n",
       "      <th>Model_e-Golf</th>\n",
       "      <th>Model_i3</th>\n",
       "      <th>Model_iM</th>\n",
       "      <th>Model_iQ</th>\n",
       "      <th>Model_tC</th>\n",
       "      <th>Model_xA</th>\n",
       "      <th>Model_xB</th>\n",
       "      <th>Model_xD</th>\n",
       "    </tr>\n",
       "  </thead>\n",
       "  <tbody>\n",
       "    <tr>\n",
       "      <th>0</th>\n",
       "      <td>2015 Ford C-Max Hybrid SEL</td>\n",
       "      <td>88380</td>\n",
       "      <td>Capitol Kia</td>\n",
       "      <td>3.800000</td>\n",
       "      <td>180.0</td>\n",
       "      <td>10998.0</td>\n",
       "      <td>2015</td>\n",
       "      <td>Hybrid SEL</td>\n",
       "      <td>8</td>\n",
       "      <td>0</td>\n",
       "      <td>...</td>\n",
       "      <td>0</td>\n",
       "      <td>0</td>\n",
       "      <td>0</td>\n",
       "      <td>0</td>\n",
       "      <td>0</td>\n",
       "      <td>0</td>\n",
       "      <td>0</td>\n",
       "      <td>0</td>\n",
       "      <td>0</td>\n",
       "      <td>0</td>\n",
       "    </tr>\n",
       "    <tr>\n",
       "      <th>1</th>\n",
       "      <td>2016 Kia Sorento LX</td>\n",
       "      <td>100837</td>\n",
       "      <td>Napleton Mazda of Naperville</td>\n",
       "      <td>3.900000</td>\n",
       "      <td>115.0</td>\n",
       "      <td>12577.0</td>\n",
       "      <td>2016</td>\n",
       "      <td>LX</td>\n",
       "      <td>7</td>\n",
       "      <td>0</td>\n",
       "      <td>...</td>\n",
       "      <td>0</td>\n",
       "      <td>0</td>\n",
       "      <td>0</td>\n",
       "      <td>0</td>\n",
       "      <td>0</td>\n",
       "      <td>0</td>\n",
       "      <td>0</td>\n",
       "      <td>0</td>\n",
       "      <td>0</td>\n",
       "      <td>0</td>\n",
       "    </tr>\n",
       "    <tr>\n",
       "      <th>2</th>\n",
       "      <td>2016 Mitsubishi Lancer ES</td>\n",
       "      <td>133750</td>\n",
       "      <td>AVA Auto Sales</td>\n",
       "      <td>4.140821</td>\n",
       "      <td>8.0</td>\n",
       "      <td>8495.0</td>\n",
       "      <td>2016</td>\n",
       "      <td>ES</td>\n",
       "      <td>7</td>\n",
       "      <td>0</td>\n",
       "      <td>...</td>\n",
       "      <td>0</td>\n",
       "      <td>0</td>\n",
       "      <td>0</td>\n",
       "      <td>0</td>\n",
       "      <td>0</td>\n",
       "      <td>0</td>\n",
       "      <td>0</td>\n",
       "      <td>0</td>\n",
       "      <td>0</td>\n",
       "      <td>0</td>\n",
       "    </tr>\n",
       "    <tr>\n",
       "      <th>3</th>\n",
       "      <td>2011 Ford Escape XLT</td>\n",
       "      <td>110862</td>\n",
       "      <td>94 Nissan Of South Holland</td>\n",
       "      <td>4.700000</td>\n",
       "      <td>2682.0</td>\n",
       "      <td>7869.0</td>\n",
       "      <td>2011</td>\n",
       "      <td>XLT</td>\n",
       "      <td>12</td>\n",
       "      <td>0</td>\n",
       "      <td>...</td>\n",
       "      <td>0</td>\n",
       "      <td>0</td>\n",
       "      <td>0</td>\n",
       "      <td>0</td>\n",
       "      <td>0</td>\n",
       "      <td>0</td>\n",
       "      <td>0</td>\n",
       "      <td>0</td>\n",
       "      <td>0</td>\n",
       "      <td>0</td>\n",
       "    </tr>\n",
       "    <tr>\n",
       "      <th>4</th>\n",
       "      <td>2017 Dodge Journey SXT</td>\n",
       "      <td>58595</td>\n",
       "      <td>Lithia Chrysler Jeep Dodge Ram of Wasilla</td>\n",
       "      <td>4.600000</td>\n",
       "      <td>543.0</td>\n",
       "      <td>14888.0</td>\n",
       "      <td>2017</td>\n",
       "      <td>SXT</td>\n",
       "      <td>6</td>\n",
       "      <td>0</td>\n",
       "      <td>...</td>\n",
       "      <td>0</td>\n",
       "      <td>0</td>\n",
       "      <td>0</td>\n",
       "      <td>0</td>\n",
       "      <td>0</td>\n",
       "      <td>0</td>\n",
       "      <td>0</td>\n",
       "      <td>0</td>\n",
       "      <td>0</td>\n",
       "      <td>0</td>\n",
       "    </tr>\n",
       "    <tr>\n",
       "      <th>...</th>\n",
       "      <td>...</td>\n",
       "      <td>...</td>\n",
       "      <td>...</td>\n",
       "      <td>...</td>\n",
       "      <td>...</td>\n",
       "      <td>...</td>\n",
       "      <td>...</td>\n",
       "      <td>...</td>\n",
       "      <td>...</td>\n",
       "      <td>...</td>\n",
       "      <td>...</td>\n",
       "      <td>...</td>\n",
       "      <td>...</td>\n",
       "      <td>...</td>\n",
       "      <td>...</td>\n",
       "      <td>...</td>\n",
       "      <td>...</td>\n",
       "      <td>...</td>\n",
       "      <td>...</td>\n",
       "      <td>...</td>\n",
       "      <td>...</td>\n",
       "    </tr>\n",
       "    <tr>\n",
       "      <th>10033</th>\n",
       "      <td>2014 Chevrolet Silverado 1500 LT</td>\n",
       "      <td>158598</td>\n",
       "      <td>City Auto Sales Corp</td>\n",
       "      <td>4.140821</td>\n",
       "      <td>1.0</td>\n",
       "      <td>13995.0</td>\n",
       "      <td>2014</td>\n",
       "      <td>1500 LT</td>\n",
       "      <td>9</td>\n",
       "      <td>0</td>\n",
       "      <td>...</td>\n",
       "      <td>0</td>\n",
       "      <td>0</td>\n",
       "      <td>0</td>\n",
       "      <td>0</td>\n",
       "      <td>0</td>\n",
       "      <td>0</td>\n",
       "      <td>0</td>\n",
       "      <td>0</td>\n",
       "      <td>0</td>\n",
       "      <td>0</td>\n",
       "    </tr>\n",
       "    <tr>\n",
       "      <th>10034</th>\n",
       "      <td>2019 Hyundai Sonata SE</td>\n",
       "      <td>113581</td>\n",
       "      <td>Auto Boutique</td>\n",
       "      <td>4.800000</td>\n",
       "      <td>1074.0</td>\n",
       "      <td>13500.0</td>\n",
       "      <td>2019</td>\n",
       "      <td>SE</td>\n",
       "      <td>4</td>\n",
       "      <td>0</td>\n",
       "      <td>...</td>\n",
       "      <td>0</td>\n",
       "      <td>0</td>\n",
       "      <td>0</td>\n",
       "      <td>0</td>\n",
       "      <td>0</td>\n",
       "      <td>0</td>\n",
       "      <td>0</td>\n",
       "      <td>0</td>\n",
       "      <td>0</td>\n",
       "      <td>0</td>\n",
       "    </tr>\n",
       "    <tr>\n",
       "      <th>10035</th>\n",
       "      <td>2013 Dodge Journey SXT</td>\n",
       "      <td>197496</td>\n",
       "      <td>Ryan Auto Mall Chrysler Dodge Jeep Ram Of Mont...</td>\n",
       "      <td>4.140821</td>\n",
       "      <td>29.0</td>\n",
       "      <td>7425.0</td>\n",
       "      <td>2013</td>\n",
       "      <td>SXT</td>\n",
       "      <td>10</td>\n",
       "      <td>0</td>\n",
       "      <td>...</td>\n",
       "      <td>0</td>\n",
       "      <td>0</td>\n",
       "      <td>0</td>\n",
       "      <td>0</td>\n",
       "      <td>0</td>\n",
       "      <td>0</td>\n",
       "      <td>0</td>\n",
       "      <td>0</td>\n",
       "      <td>0</td>\n",
       "      <td>0</td>\n",
       "    </tr>\n",
       "    <tr>\n",
       "      <th>10036</th>\n",
       "      <td>2007 Lexus ES 350</td>\n",
       "      <td>85384</td>\n",
       "      <td>Mountain Motors, Inc</td>\n",
       "      <td>4.140821</td>\n",
       "      <td>7.0</td>\n",
       "      <td>11995.0</td>\n",
       "      <td>2007</td>\n",
       "      <td>350</td>\n",
       "      <td>16</td>\n",
       "      <td>0</td>\n",
       "      <td>...</td>\n",
       "      <td>0</td>\n",
       "      <td>0</td>\n",
       "      <td>0</td>\n",
       "      <td>0</td>\n",
       "      <td>0</td>\n",
       "      <td>0</td>\n",
       "      <td>0</td>\n",
       "      <td>0</td>\n",
       "      <td>0</td>\n",
       "      <td>0</td>\n",
       "    </tr>\n",
       "    <tr>\n",
       "      <th>10037</th>\n",
       "      <td>2013 Jeep Patriot Latitude</td>\n",
       "      <td>133800</td>\n",
       "      <td>A Plus Auto Sales GB LLC</td>\n",
       "      <td>4.700000</td>\n",
       "      <td>25.0</td>\n",
       "      <td>8995.0</td>\n",
       "      <td>2013</td>\n",
       "      <td>Latitude</td>\n",
       "      <td>10</td>\n",
       "      <td>0</td>\n",
       "      <td>...</td>\n",
       "      <td>0</td>\n",
       "      <td>0</td>\n",
       "      <td>0</td>\n",
       "      <td>0</td>\n",
       "      <td>0</td>\n",
       "      <td>0</td>\n",
       "      <td>0</td>\n",
       "      <td>0</td>\n",
       "      <td>0</td>\n",
       "      <td>0</td>\n",
       "    </tr>\n",
       "  </tbody>\n",
       "</table>\n",
       "<p>10038 rows × 556 columns</p>\n",
       "</div>"
      ],
      "text/plain": [
       "                                   Name  Mileage  \\\n",
       "0            2015 Ford C-Max Hybrid SEL    88380   \n",
       "1                   2016 Kia Sorento LX   100837   \n",
       "2             2016 Mitsubishi Lancer ES   133750   \n",
       "3                  2011 Ford Escape XLT   110862   \n",
       "4                2017 Dodge Journey SXT    58595   \n",
       "...                                 ...      ...   \n",
       "10033  2014 Chevrolet Silverado 1500 LT   158598   \n",
       "10034            2019 Hyundai Sonata SE   113581   \n",
       "10035            2013 Dodge Journey SXT   197496   \n",
       "10036                2007 Lexus ES 350     85384   \n",
       "10037        2013 Jeep Patriot Latitude   133800   \n",
       "\n",
       "                                             Dealer Name    Rating  \\\n",
       "0                                            Capitol Kia  3.800000   \n",
       "1                           Napleton Mazda of Naperville  3.900000   \n",
       "2                                         AVA Auto Sales  4.140821   \n",
       "3                             94 Nissan Of South Holland  4.700000   \n",
       "4              Lithia Chrysler Jeep Dodge Ram of Wasilla  4.600000   \n",
       "...                                                  ...       ...   \n",
       "10033                               City Auto Sales Corp  4.140821   \n",
       "10034                                      Auto Boutique  4.800000   \n",
       "10035  Ryan Auto Mall Chrysler Dodge Jeep Ram Of Mont...  4.140821   \n",
       "10036                               Mountain Motors, Inc  4.140821   \n",
       "10037                           A Plus Auto Sales GB LLC  4.700000   \n",
       "\n",
       "       Review Count    Price  Year        Type  Age  Make_Acura  ...  \\\n",
       "0             180.0  10998.0  2015  Hybrid SEL    8           0  ...   \n",
       "1             115.0  12577.0  2016          LX    7           0  ...   \n",
       "2               8.0   8495.0  2016          ES    7           0  ...   \n",
       "3            2682.0   7869.0  2011         XLT   12           0  ...   \n",
       "4             543.0  14888.0  2017         SXT    6           0  ...   \n",
       "...             ...      ...   ...         ...  ...         ...  ...   \n",
       "10033           1.0  13995.0  2014     1500 LT    9           0  ...   \n",
       "10034        1074.0  13500.0  2019          SE    4           0  ...   \n",
       "10035          29.0   7425.0  2013         SXT   10           0  ...   \n",
       "10036           7.0  11995.0  2007        350    16           0  ...   \n",
       "10037          25.0   8995.0  2013    Latitude   10           0  ...   \n",
       "\n",
       "       Model_Zephyr  Model_allroad  Model_e-Golf  Model_i3  Model_iM  \\\n",
       "0                 0              0             0         0         0   \n",
       "1                 0              0             0         0         0   \n",
       "2                 0              0             0         0         0   \n",
       "3                 0              0             0         0         0   \n",
       "4                 0              0             0         0         0   \n",
       "...             ...            ...           ...       ...       ...   \n",
       "10033             0              0             0         0         0   \n",
       "10034             0              0             0         0         0   \n",
       "10035             0              0             0         0         0   \n",
       "10036             0              0             0         0         0   \n",
       "10037             0              0             0         0         0   \n",
       "\n",
       "       Model_iQ  Model_tC  Model_xA  Model_xB  Model_xD  \n",
       "0             0         0         0         0         0  \n",
       "1             0         0         0         0         0  \n",
       "2             0         0         0         0         0  \n",
       "3             0         0         0         0         0  \n",
       "4             0         0         0         0         0  \n",
       "...         ...       ...       ...       ...       ...  \n",
       "10033         0         0         0         0         0  \n",
       "10034         0         0         0         0         0  \n",
       "10035         0         0         0         0         0  \n",
       "10036         0         0         0         0         0  \n",
       "10037         0         0         0         0         0  \n",
       "\n",
       "[10038 rows x 556 columns]"
      ]
     },
     "execution_count": 51,
     "metadata": {},
     "output_type": "execute_result"
    }
   ],
   "source": [
    "pd.get_dummies(df, columns=['Make', 'Model'])"
   ]
  },
  {
   "cell_type": "code",
   "execution_count": 54,
   "metadata": {},
   "outputs": [
    {
     "name": "stdout",
     "output_type": "stream",
     "text": [
      "Index(['Name', 'Dealer Name', 'Make', 'Model', 'Type'], dtype='object')\n"
     ]
    }
   ],
   "source": [
    "# Check for columns with non-numeric data types\n",
    "non_numeric_columns = df.select_dtypes(exclude=['int64', 'float64', 'uint8']).columns\n",
    "print(non_numeric_columns)"
   ]
  },
  {
   "cell_type": "code",
   "execution_count": 57,
   "metadata": {},
   "outputs": [],
   "source": [
    "# Drop the non-numeric columns 'Name', 'Dealer Name', and 'Type'\n",
    "df_encoded = df_encoded.drop(['Name', 'Dealer Name'], axis=1)\n",
    "\n",
    "# Now df_encoded contains only numeric features and the target variable 'Price'"
   ]
  },
  {
   "cell_type": "code",
   "execution_count": 61,
   "metadata": {},
   "outputs": [
    {
     "name": "stdout",
     "output_type": "stream",
     "text": [
      "Index([], dtype='object')\n"
     ]
    }
   ],
   "source": [
    "# Check for columns with non-numeric data types\n",
    "non_numeric_columns = df_encoded.select_dtypes(exclude=['int64', 'float64', 'uint8']).columns\n",
    "print(non_numeric_columns)"
   ]
  },
  {
   "cell_type": "code",
   "execution_count": 60,
   "metadata": {},
   "outputs": [],
   "source": [
    "df_encoded = df_encoded.drop(['Make', 'Model'], axis=1)"
   ]
  },
  {
   "cell_type": "code",
   "execution_count": 62,
   "metadata": {},
   "outputs": [
    {
     "name": "stdout",
     "output_type": "stream",
     "text": [
      "Fitting 5 folds for each of 162 candidates, totalling 810 fits\n"
     ]
    },
    {
     "name": "stderr",
     "output_type": "stream",
     "text": [
      "[Parallel(n_jobs=-1)]: Using backend LokyBackend with 8 concurrent workers.\n",
      "[Parallel(n_jobs=-1)]: Done  25 tasks      | elapsed:   37.7s\n",
      "[Parallel(n_jobs=-1)]: Done 146 tasks      | elapsed:  3.2min\n",
      "[Parallel(n_jobs=-1)]: Done 349 tasks      | elapsed:  6.0min\n",
      "[Parallel(n_jobs=-1)]: Done 632 tasks      | elapsed: 11.8min\n",
      "[Parallel(n_jobs=-1)]: Done 810 out of 810 | elapsed: 14.0min finished\n"
     ]
    },
    {
     "name": "stdout",
     "output_type": "stream",
     "text": [
      "Best Hyperparameters: {'max_depth': 15, 'max_features': 'auto', 'min_samples_leaf': 1, 'min_samples_split': 2, 'n_estimators': 300}\n",
      "Root Mean Squared Error: 2344.3445967532234\n",
      "R-squared: 0.3443386490919993\n"
     ]
    }
   ],
   "source": [
    "X = df_encoded.drop('Price', axis=1)\n",
    "y = df_encoded['Price']\n",
    "X_train, X_test, y_train, y_test = train_test_split(X, y, test_size=0.2, random_state=42)\n",
    "\n",
    "param_grid = {\n",
    "    'n_estimators': [100, 200, 300],\n",
    "    'max_depth': [5, 10, 15],\n",
    "    'min_samples_split': [2, 5, 10],\n",
    "    'min_samples_leaf': [1, 2, 4],\n",
    "    'max_features': ['auto', 'sqrt']\n",
    "}\n",
    "\n",
    "rf_reg = RandomForestRegressor(random_state=42)\n",
    "\n",
    "grid_search = GridSearchCV(estimator=rf_reg, param_grid=param_grid, cv=5, n_jobs=-1, verbose=2)\n",
    "\n",
    "grid_search.fit(X_train, y_train)\n",
    "\n",
    "best_rf_model = grid_search.best_estimator_\n",
    "\n",
    "y_pred = best_rf_model.predict(X_test)\n",
    "\n",
    "rmse = np.sqrt(mean_squared_error(y_test, y_pred))\n",
    "r2 = r2_score(y_test, y_pred)\n",
    "\n",
    "print(\"RMSE:\", rmse)\n",
    "print(\"R-squared:\", r2)\n"
   ]
  },
  {
   "cell_type": "markdown",
   "metadata": {},
   "source": [
    "# The other model without Age and with 0's in the Review column is better"
   ]
  },
  {
   "cell_type": "code",
   "execution_count": 67,
   "metadata": {},
   "outputs": [
    {
     "name": "stdout",
     "output_type": "stream",
     "text": [
      "           Feature  Importance\n",
      "0          Mileage    0.270502\n",
      "3             Year    0.169866\n",
      "4              Age    0.161194\n",
      "2     Review Count    0.072865\n",
      "1           Rating    0.049735\n",
      "1019       Type_SE    0.019680\n",
      "1000        Type_S    0.007378\n",
      "456      Type_Base    0.006860\n",
      "824        Type_LS    0.006659\n",
      "726       Type_GLS    0.006181\n"
     ]
    }
   ],
   "source": [
    "importances_rf = best_rf_model.feature_importances_\n",
    "feature_importance_df_rf = pd.DataFrame({'Feature': X_train.columns, 'Importance': importances_rf})\n",
    "feature_importance_df_rf = feature_importance_df_rf.sort_values(by='Importance', ascending=False)\n",
    "print(feature_importance_df_rf.head(10))"
   ]
  },
  {
   "cell_type": "code",
   "execution_count": null,
   "metadata": {},
   "outputs": [],
   "source": []
  },
  {
   "cell_type": "code",
   "execution_count": null,
   "metadata": {},
   "outputs": [],
   "source": []
  },
  {
   "cell_type": "code",
   "execution_count": null,
   "metadata": {},
   "outputs": [],
   "source": []
  },
  {
   "cell_type": "code",
   "execution_count": null,
   "metadata": {},
   "outputs": [],
   "source": []
  },
  {
   "cell_type": "code",
   "execution_count": null,
   "metadata": {},
   "outputs": [],
   "source": []
  },
  {
   "cell_type": "code",
   "execution_count": null,
   "metadata": {},
   "outputs": [],
   "source": []
  },
  {
   "cell_type": "code",
   "execution_count": null,
   "metadata": {},
   "outputs": [],
   "source": []
  },
  {
   "cell_type": "code",
   "execution_count": 65,
   "metadata": {},
   "outputs": [
    {
     "name": "stdout",
     "output_type": "stream",
     "text": [
      "Fitting 5 folds for each of 27 candidates, totalling 135 fits\n"
     ]
    },
    {
     "name": "stderr",
     "output_type": "stream",
     "text": [
      "[Parallel(n_jobs=-1)]: Using backend LokyBackend with 8 concurrent workers.\n",
      "[Parallel(n_jobs=-1)]: Done  25 tasks      | elapsed:  5.3min\n",
      "[Parallel(n_jobs=-1)]: Done 135 out of 135 | elapsed: 39.8min finished\n"
     ]
    },
    {
     "name": "stdout",
     "output_type": "stream",
     "text": [
      "Best Hyperparameters for XGBoost: {'learning_rate': 0.2, 'max_depth': 10, 'n_estimators': 300}\n",
      "Root Mean Squared Error for XGBoost: 2201.0672569148483\n",
      "R-squared for XGBoost: 0.422032640889507\n"
     ]
    }
   ],
   "source": [
    "X = df_encoded.drop('Price', axis=1)\n",
    "y = df_encoded['Price']\n",
    "X_train, X_test, y_train, y_test = train_test_split(X, y, test_size=0.2, random_state=42)\n",
    "\n",
    "xgb_reg = xgb.XGBRegressor(random_state=42)\n",
    "param_grid_xgb = {\n",
    "    'n_estimators': [100, 200, 300],\n",
    "    'max_depth': [5, 10, 15],\n",
    "    'learning_rate': [0.01, 0.1, 0.2]\n",
    "}\n",
    "\n",
    "grid_search_xgb = GridSearchCV(estimator=xgb_reg, param_grid=param_grid_xgb, cv=5, n_jobs=-1, verbose=2)\n",
    "\n",
    "grid_search_xgb.fit(X_train, y_train)\n",
    "\n",
    "best_xgb_model = grid_search_xgb.best_estimator_\n",
    "\n",
    "y_pred_xgb = best_xgb_model.predict(X_test)\n",
    "\n",
    "rmse_xgb = np.sqrt(mean_squared_error(y_test, y_pred_xgb))\n",
    "r2_xgb = r2_score(y_test, y_pred_xgb)\n",
    "\n",
    "print(\"RMSE:\", rmse_xgb)\n",
    "print(\"R-squared for XGBoost:\", r2_xgb)\n"
   ]
  },
  {
   "cell_type": "code",
   "execution_count": 66,
   "metadata": {},
   "outputs": [
    {
     "name": "stdout",
     "output_type": "stream",
     "text": [
      "                   Feature  Importance\n",
      "3                     Year    0.007695\n",
      "608   Type_Cruiser Touring    0.006932\n",
      "1019               Type_SE    0.006632\n",
      "56            Type_1500 LT    0.006041\n",
      "1047              Type_SLT    0.005252\n",
      "463         Type_Base (M5)    0.005059\n",
      "726               Type_GLS    0.005023\n",
      "1000                Type_S    0.005020\n",
      "824                Type_LS    0.004969\n",
      "153             Type_2.5 S    0.004883\n"
     ]
    }
   ],
   "source": [
    "# Feature Importance for XGBoost\n",
    "importances_xgb = best_xgb_model.feature_importances_\n",
    "feature_importance_df_xgb = pd.DataFrame({'Feature': X_train.columns, 'Importance': importances_xgb})\n",
    "feature_importance_df_xgb = feature_importance_df_xgb.sort_values(by='Importance', ascending=False)\n",
    "print(feature_importance_df_xgb.head(10))"
   ]
  },
  {
   "cell_type": "code",
   "execution_count": null,
   "metadata": {},
   "outputs": [],
   "source": []
  },
  {
   "cell_type": "code",
   "execution_count": null,
   "metadata": {},
   "outputs": [],
   "source": []
  },
  {
   "cell_type": "code",
   "execution_count": null,
   "metadata": {},
   "outputs": [],
   "source": []
  }
 ],
 "metadata": {
  "kernelspec": {
   "display_name": "Python (learn-env)",
   "language": "python",
   "name": "learn-env"
  },
  "language_info": {
   "codemirror_mode": {
    "name": "ipython",
    "version": 3
   },
   "file_extension": ".py",
   "mimetype": "text/x-python",
   "name": "python",
   "nbconvert_exporter": "python",
   "pygments_lexer": "ipython3",
   "version": "3.8.5"
  }
 },
 "nbformat": 4,
 "nbformat_minor": 4
}
